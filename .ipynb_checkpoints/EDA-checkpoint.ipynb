{
 "cells": [
  {
   "cell_type": "code",
   "execution_count": 1,
   "metadata": {},
   "outputs": [],
   "source": [
    "import pandas as pd\n",
    "import plotly.express as px"
   ]
  },
  {
   "cell_type": "code",
   "execution_count": 2,
   "metadata": {},
   "outputs": [],
   "source": [
    "athlete_data = pd.read_csv(\"./dataset/athlete_events.csv\")\n",
    "noc_data = pd.read_csv(\"./dataset/noc_regions.csv\")\n",
    "country_continent_df = pd.read_csv(\"./dataset/country_continent.csv\")"
   ]
  },
  {
   "cell_type": "code",
   "execution_count": 3,
   "metadata": {},
   "outputs": [
    {
     "data": {
      "text/html": [
       "<div>\n",
       "<style scoped>\n",
       "    .dataframe tbody tr th:only-of-type {\n",
       "        vertical-align: middle;\n",
       "    }\n",
       "\n",
       "    .dataframe tbody tr th {\n",
       "        vertical-align: top;\n",
       "    }\n",
       "\n",
       "    .dataframe thead th {\n",
       "        text-align: right;\n",
       "    }\n",
       "</style>\n",
       "<table border=\"1\" class=\"dataframe\">\n",
       "  <thead>\n",
       "    <tr style=\"text-align: right;\">\n",
       "      <th></th>\n",
       "      <th>ID</th>\n",
       "      <th>Name</th>\n",
       "      <th>Sex</th>\n",
       "      <th>Age</th>\n",
       "      <th>Height</th>\n",
       "      <th>Weight</th>\n",
       "      <th>Team</th>\n",
       "      <th>NOC</th>\n",
       "      <th>Games</th>\n",
       "      <th>Year</th>\n",
       "      <th>Season</th>\n",
       "      <th>City</th>\n",
       "      <th>Sport</th>\n",
       "      <th>Event</th>\n",
       "      <th>Medal</th>\n",
       "    </tr>\n",
       "  </thead>\n",
       "  <tbody>\n",
       "    <tr>\n",
       "      <td>0</td>\n",
       "      <td>1</td>\n",
       "      <td>A Dijiang</td>\n",
       "      <td>M</td>\n",
       "      <td>24.0</td>\n",
       "      <td>180.0</td>\n",
       "      <td>80.0</td>\n",
       "      <td>China</td>\n",
       "      <td>CHN</td>\n",
       "      <td>1992 Summer</td>\n",
       "      <td>1992</td>\n",
       "      <td>Summer</td>\n",
       "      <td>Barcelona</td>\n",
       "      <td>Basketball</td>\n",
       "      <td>Basketball Men's Basketball</td>\n",
       "      <td>NaN</td>\n",
       "    </tr>\n",
       "    <tr>\n",
       "      <td>1</td>\n",
       "      <td>2</td>\n",
       "      <td>A Lamusi</td>\n",
       "      <td>M</td>\n",
       "      <td>23.0</td>\n",
       "      <td>170.0</td>\n",
       "      <td>60.0</td>\n",
       "      <td>China</td>\n",
       "      <td>CHN</td>\n",
       "      <td>2012 Summer</td>\n",
       "      <td>2012</td>\n",
       "      <td>Summer</td>\n",
       "      <td>London</td>\n",
       "      <td>Judo</td>\n",
       "      <td>Judo Men's Extra-Lightweight</td>\n",
       "      <td>NaN</td>\n",
       "    </tr>\n",
       "    <tr>\n",
       "      <td>2</td>\n",
       "      <td>3</td>\n",
       "      <td>Gunnar Nielsen Aaby</td>\n",
       "      <td>M</td>\n",
       "      <td>24.0</td>\n",
       "      <td>NaN</td>\n",
       "      <td>NaN</td>\n",
       "      <td>Denmark</td>\n",
       "      <td>DEN</td>\n",
       "      <td>1920 Summer</td>\n",
       "      <td>1920</td>\n",
       "      <td>Summer</td>\n",
       "      <td>Antwerpen</td>\n",
       "      <td>Football</td>\n",
       "      <td>Football Men's Football</td>\n",
       "      <td>NaN</td>\n",
       "    </tr>\n",
       "    <tr>\n",
       "      <td>3</td>\n",
       "      <td>4</td>\n",
       "      <td>Edgar Lindenau Aabye</td>\n",
       "      <td>M</td>\n",
       "      <td>34.0</td>\n",
       "      <td>NaN</td>\n",
       "      <td>NaN</td>\n",
       "      <td>Denmark/Sweden</td>\n",
       "      <td>DEN</td>\n",
       "      <td>1900 Summer</td>\n",
       "      <td>1900</td>\n",
       "      <td>Summer</td>\n",
       "      <td>Paris</td>\n",
       "      <td>Tug-Of-War</td>\n",
       "      <td>Tug-Of-War Men's Tug-Of-War</td>\n",
       "      <td>Gold</td>\n",
       "    </tr>\n",
       "    <tr>\n",
       "      <td>4</td>\n",
       "      <td>5</td>\n",
       "      <td>Christine Jacoba Aaftink</td>\n",
       "      <td>F</td>\n",
       "      <td>21.0</td>\n",
       "      <td>185.0</td>\n",
       "      <td>82.0</td>\n",
       "      <td>Netherlands</td>\n",
       "      <td>NED</td>\n",
       "      <td>1988 Winter</td>\n",
       "      <td>1988</td>\n",
       "      <td>Winter</td>\n",
       "      <td>Calgary</td>\n",
       "      <td>Speed Skating</td>\n",
       "      <td>Speed Skating Women's 500 metres</td>\n",
       "      <td>NaN</td>\n",
       "    </tr>\n",
       "  </tbody>\n",
       "</table>\n",
       "</div>"
      ],
      "text/plain": [
       "   ID                      Name Sex   Age  Height  Weight            Team  \\\n",
       "0   1                 A Dijiang   M  24.0   180.0    80.0           China   \n",
       "1   2                  A Lamusi   M  23.0   170.0    60.0           China   \n",
       "2   3       Gunnar Nielsen Aaby   M  24.0     NaN     NaN         Denmark   \n",
       "3   4      Edgar Lindenau Aabye   M  34.0     NaN     NaN  Denmark/Sweden   \n",
       "4   5  Christine Jacoba Aaftink   F  21.0   185.0    82.0     Netherlands   \n",
       "\n",
       "   NOC        Games  Year  Season       City          Sport  \\\n",
       "0  CHN  1992 Summer  1992  Summer  Barcelona     Basketball   \n",
       "1  CHN  2012 Summer  2012  Summer     London           Judo   \n",
       "2  DEN  1920 Summer  1920  Summer  Antwerpen       Football   \n",
       "3  DEN  1900 Summer  1900  Summer      Paris     Tug-Of-War   \n",
       "4  NED  1988 Winter  1988  Winter    Calgary  Speed Skating   \n",
       "\n",
       "                              Event Medal  \n",
       "0       Basketball Men's Basketball   NaN  \n",
       "1      Judo Men's Extra-Lightweight   NaN  \n",
       "2           Football Men's Football   NaN  \n",
       "3       Tug-Of-War Men's Tug-Of-War  Gold  \n",
       "4  Speed Skating Women's 500 metres   NaN  "
      ]
     },
     "execution_count": 3,
     "metadata": {},
     "output_type": "execute_result"
    }
   ],
   "source": [
    "athlete_data.head()"
   ]
  },
  {
   "cell_type": "code",
   "execution_count": 4,
   "metadata": {},
   "outputs": [
    {
     "data": {
      "text/html": [
       "<div>\n",
       "<style scoped>\n",
       "    .dataframe tbody tr th:only-of-type {\n",
       "        vertical-align: middle;\n",
       "    }\n",
       "\n",
       "    .dataframe tbody tr th {\n",
       "        vertical-align: top;\n",
       "    }\n",
       "\n",
       "    .dataframe thead th {\n",
       "        text-align: right;\n",
       "    }\n",
       "</style>\n",
       "<table border=\"1\" class=\"dataframe\">\n",
       "  <thead>\n",
       "    <tr style=\"text-align: right;\">\n",
       "      <th></th>\n",
       "      <th>NOC</th>\n",
       "      <th>region</th>\n",
       "      <th>notes</th>\n",
       "    </tr>\n",
       "  </thead>\n",
       "  <tbody>\n",
       "    <tr>\n",
       "      <td>0</td>\n",
       "      <td>AFG</td>\n",
       "      <td>Afghanistan</td>\n",
       "      <td>NaN</td>\n",
       "    </tr>\n",
       "    <tr>\n",
       "      <td>1</td>\n",
       "      <td>AHO</td>\n",
       "      <td>Curacao</td>\n",
       "      <td>Netherlands Antilles</td>\n",
       "    </tr>\n",
       "    <tr>\n",
       "      <td>2</td>\n",
       "      <td>ALB</td>\n",
       "      <td>Albania</td>\n",
       "      <td>NaN</td>\n",
       "    </tr>\n",
       "    <tr>\n",
       "      <td>3</td>\n",
       "      <td>ALG</td>\n",
       "      <td>Algeria</td>\n",
       "      <td>NaN</td>\n",
       "    </tr>\n",
       "    <tr>\n",
       "      <td>4</td>\n",
       "      <td>AND</td>\n",
       "      <td>Andorra</td>\n",
       "      <td>NaN</td>\n",
       "    </tr>\n",
       "  </tbody>\n",
       "</table>\n",
       "</div>"
      ],
      "text/plain": [
       "   NOC       region                 notes\n",
       "0  AFG  Afghanistan                   NaN\n",
       "1  AHO      Curacao  Netherlands Antilles\n",
       "2  ALB      Albania                   NaN\n",
       "3  ALG      Algeria                   NaN\n",
       "4  AND      Andorra                   NaN"
      ]
     },
     "execution_count": 4,
     "metadata": {},
     "output_type": "execute_result"
    }
   ],
   "source": [
    " noc_data.head()"
   ]
  },
  {
   "cell_type": "code",
   "execution_count": 5,
   "metadata": {},
   "outputs": [
    {
     "data": {
      "text/html": [
       "<div>\n",
       "<style scoped>\n",
       "    .dataframe tbody tr th:only-of-type {\n",
       "        vertical-align: middle;\n",
       "    }\n",
       "\n",
       "    .dataframe tbody tr th {\n",
       "        vertical-align: top;\n",
       "    }\n",
       "\n",
       "    .dataframe thead th {\n",
       "        text-align: right;\n",
       "    }\n",
       "</style>\n",
       "<table border=\"1\" class=\"dataframe\">\n",
       "  <thead>\n",
       "    <tr style=\"text-align: right;\">\n",
       "      <th></th>\n",
       "      <th>name</th>\n",
       "      <th>alpha-2</th>\n",
       "      <th>alpha-3</th>\n",
       "      <th>country-code</th>\n",
       "      <th>iso_3166-2</th>\n",
       "      <th>region</th>\n",
       "      <th>sub-region</th>\n",
       "      <th>intermediate-region</th>\n",
       "      <th>region-code</th>\n",
       "      <th>sub-region-code</th>\n",
       "      <th>intermediate-region-code</th>\n",
       "    </tr>\n",
       "  </thead>\n",
       "  <tbody>\n",
       "    <tr>\n",
       "      <td>0</td>\n",
       "      <td>Afghanistan</td>\n",
       "      <td>AF</td>\n",
       "      <td>AFG</td>\n",
       "      <td>4</td>\n",
       "      <td>ISO 3166-2:AF</td>\n",
       "      <td>Asia</td>\n",
       "      <td>Southern Asia</td>\n",
       "      <td>NaN</td>\n",
       "      <td>142.0</td>\n",
       "      <td>34.0</td>\n",
       "      <td>NaN</td>\n",
       "    </tr>\n",
       "    <tr>\n",
       "      <td>1</td>\n",
       "      <td>Åland Islands</td>\n",
       "      <td>AX</td>\n",
       "      <td>ALA</td>\n",
       "      <td>248</td>\n",
       "      <td>ISO 3166-2:AX</td>\n",
       "      <td>Europe</td>\n",
       "      <td>Northern Europe</td>\n",
       "      <td>NaN</td>\n",
       "      <td>150.0</td>\n",
       "      <td>154.0</td>\n",
       "      <td>NaN</td>\n",
       "    </tr>\n",
       "    <tr>\n",
       "      <td>2</td>\n",
       "      <td>Albania</td>\n",
       "      <td>AL</td>\n",
       "      <td>ALB</td>\n",
       "      <td>8</td>\n",
       "      <td>ISO 3166-2:AL</td>\n",
       "      <td>Europe</td>\n",
       "      <td>Southern Europe</td>\n",
       "      <td>NaN</td>\n",
       "      <td>150.0</td>\n",
       "      <td>39.0</td>\n",
       "      <td>NaN</td>\n",
       "    </tr>\n",
       "    <tr>\n",
       "      <td>3</td>\n",
       "      <td>Algeria</td>\n",
       "      <td>DZ</td>\n",
       "      <td>DZA</td>\n",
       "      <td>12</td>\n",
       "      <td>ISO 3166-2:DZ</td>\n",
       "      <td>Africa</td>\n",
       "      <td>Northern Africa</td>\n",
       "      <td>NaN</td>\n",
       "      <td>2.0</td>\n",
       "      <td>15.0</td>\n",
       "      <td>NaN</td>\n",
       "    </tr>\n",
       "    <tr>\n",
       "      <td>4</td>\n",
       "      <td>American Samoa</td>\n",
       "      <td>AS</td>\n",
       "      <td>ASM</td>\n",
       "      <td>16</td>\n",
       "      <td>ISO 3166-2:AS</td>\n",
       "      <td>Oceania</td>\n",
       "      <td>Polynesia</td>\n",
       "      <td>NaN</td>\n",
       "      <td>9.0</td>\n",
       "      <td>61.0</td>\n",
       "      <td>NaN</td>\n",
       "    </tr>\n",
       "  </tbody>\n",
       "</table>\n",
       "</div>"
      ],
      "text/plain": [
       "             name alpha-2 alpha-3  country-code     iso_3166-2   region  \\\n",
       "0     Afghanistan      AF     AFG             4  ISO 3166-2:AF     Asia   \n",
       "1   Åland Islands      AX     ALA           248  ISO 3166-2:AX   Europe   \n",
       "2         Albania      AL     ALB             8  ISO 3166-2:AL   Europe   \n",
       "3         Algeria      DZ     DZA            12  ISO 3166-2:DZ   Africa   \n",
       "4  American Samoa      AS     ASM            16  ISO 3166-2:AS  Oceania   \n",
       "\n",
       "        sub-region intermediate-region  region-code  sub-region-code  \\\n",
       "0    Southern Asia                 NaN        142.0             34.0   \n",
       "1  Northern Europe                 NaN        150.0            154.0   \n",
       "2  Southern Europe                 NaN        150.0             39.0   \n",
       "3  Northern Africa                 NaN          2.0             15.0   \n",
       "4        Polynesia                 NaN          9.0             61.0   \n",
       "\n",
       "   intermediate-region-code  \n",
       "0                       NaN  \n",
       "1                       NaN  \n",
       "2                       NaN  \n",
       "3                       NaN  \n",
       "4                       NaN  "
      ]
     },
     "execution_count": 5,
     "metadata": {},
     "output_type": "execute_result"
    }
   ],
   "source": [
    "country_continent_df.head()"
   ]
  },
  {
   "cell_type": "code",
   "execution_count": 6,
   "metadata": {},
   "outputs": [
    {
     "data": {
      "text/html": [
       "<div>\n",
       "<style scoped>\n",
       "    .dataframe tbody tr th:only-of-type {\n",
       "        vertical-align: middle;\n",
       "    }\n",
       "\n",
       "    .dataframe tbody tr th {\n",
       "        vertical-align: top;\n",
       "    }\n",
       "\n",
       "    .dataframe thead th {\n",
       "        text-align: right;\n",
       "    }\n",
       "</style>\n",
       "<table border=\"1\" class=\"dataframe\">\n",
       "  <thead>\n",
       "    <tr style=\"text-align: right;\">\n",
       "      <th></th>\n",
       "      <th>NOC</th>\n",
       "      <th>continent</th>\n",
       "      <th>country_iso</th>\n",
       "      <th>notes</th>\n",
       "      <th>region</th>\n",
       "    </tr>\n",
       "  </thead>\n",
       "  <tbody>\n",
       "    <tr>\n",
       "      <td>0</td>\n",
       "      <td>AFG</td>\n",
       "      <td>Asia</td>\n",
       "      <td>AFG</td>\n",
       "      <td>NaN</td>\n",
       "      <td>Afghanistan</td>\n",
       "    </tr>\n",
       "    <tr>\n",
       "      <td>1</td>\n",
       "      <td>AHO</td>\n",
       "      <td>NaN</td>\n",
       "      <td>NaN</td>\n",
       "      <td>Netherlands Antilles</td>\n",
       "      <td>Curacao</td>\n",
       "    </tr>\n",
       "    <tr>\n",
       "      <td>2</td>\n",
       "      <td>ALB</td>\n",
       "      <td>Europe</td>\n",
       "      <td>ALB</td>\n",
       "      <td>NaN</td>\n",
       "      <td>Albania</td>\n",
       "    </tr>\n",
       "    <tr>\n",
       "      <td>3</td>\n",
       "      <td>ALG</td>\n",
       "      <td>Africa</td>\n",
       "      <td>DZA</td>\n",
       "      <td>NaN</td>\n",
       "      <td>Algeria</td>\n",
       "    </tr>\n",
       "    <tr>\n",
       "      <td>4</td>\n",
       "      <td>AND</td>\n",
       "      <td>Europe</td>\n",
       "      <td>AND</td>\n",
       "      <td>NaN</td>\n",
       "      <td>Andorra</td>\n",
       "    </tr>\n",
       "  </tbody>\n",
       "</table>\n",
       "</div>"
      ],
      "text/plain": [
       "   NOC continent country_iso                 notes       region\n",
       "0  AFG      Asia         AFG                   NaN  Afghanistan\n",
       "1  AHO       NaN         NaN  Netherlands Antilles      Curacao\n",
       "2  ALB    Europe         ALB                   NaN      Albania\n",
       "3  ALG    Africa         DZA                   NaN      Algeria\n",
       "4  AND    Europe         AND                   NaN      Andorra"
      ]
     },
     "execution_count": 6,
     "metadata": {},
     "output_type": "execute_result"
    }
   ],
   "source": [
    "def set_country_data(row):\n",
    "    find_map = country_continent_df.loc[\n",
    "        (country_continent_df['name'] == row['region']) |\n",
    "        (country_continent_df['alpha-3'] == row['NOC'])\n",
    "    ]\n",
    "    \n",
    "    if not find_map.empty:\n",
    "        row['continent'] = find_map.iloc[0]['region']\n",
    "        row['country_iso'] = find_map.iloc[0]['alpha-3']\n",
    "        \n",
    "    return row\n",
    "\n",
    "noc_data = noc_data.apply(lambda row: set_country_data(row), axis=1)\n",
    "noc_data.head()"
   ]
  },
  {
   "cell_type": "code",
   "execution_count": 7,
   "metadata": {},
   "outputs": [
    {
     "name": "stderr",
     "output_type": "stream",
     "text": [
      "C:\\Users\\rohan\\Anaconda3\\lib\\site-packages\\pandas\\core\\frame.py:7123: FutureWarning:\n",
      "\n",
      "Sorting because non-concatenation axis is not aligned. A future version\n",
      "of pandas will change to not sort by default.\n",
      "\n",
      "To accept the future behavior, pass 'sort=False'.\n",
      "\n",
      "To retain the current behavior and silence the warning, pass 'sort=True'.\n",
      "\n",
      "\n"
     ]
    },
    {
     "name": "stdout",
     "output_type": "stream",
     "text": [
      "DONE!\n"
     ]
    }
   ],
   "source": [
    "country_medal_count_df = pd.DataFrame(columns=['NOC', 'Year', 'Medal count', 'country_iso', 'region', 'continent'])\n",
    "\n",
    "for index, noc_row in noc_data.iterrows():\n",
    "    country_data = athlete_data[(athlete_data['NOC'] == noc_row['NOC']) & athlete_data['Medal'].notnull()]\n",
    "    agg_count = country_data.groupby(['Year']).agg(['count'])\n",
    "    agg_count.reset_index()\n",
    "    for index, row in agg_count.iterrows():\n",
    "        new_row = pd.DataFrame({\n",
    "            'Year': index,\n",
    "            'NOC': noc_row['NOC'],\n",
    "            'country_iso': noc_row['country_iso'],\n",
    "            'region': noc_row['region'],\n",
    "            'Medal count': row['Medal'],\n",
    "            'continent': noc_row['continent']\n",
    "        })\n",
    "        \n",
    "        country_medal_count_df = country_medal_count_df.append(new_row, ignore_index=True)\n",
    "        \n",
    "print(\"DONE!\")"
   ]
  },
  {
   "cell_type": "code",
   "execution_count": 11,
   "metadata": {},
   "outputs": [
    {
     "data": {
      "text/plain": [
       "array(['Europe', 'Americas', 'Oceania', nan, 'Asia', 'Africa'],\n",
       "      dtype=object)"
      ]
     },
     "execution_count": 11,
     "metadata": {},
     "output_type": "execute_result"
    }
   ],
   "source": [
    "country_medal_count_df = country_medal_count_df.astype({'Medal count': 'int32', 'Year': 'int32'}).sort_values(by='Year')\n",
    "country_medal_count_df.head()"
   ]
  },
  {
   "cell_type": "code",
   "execution_count": 30,
   "metadata": {},
   "outputs": [
    {
     "data": {
      "application/vnd.plotly.v1+json": {
       "config": {
        "plotlyServerURL": "https://plot.ly"
       },
       "data": [
        {
         "geo": "geo",
         "hoverlabel": {
          "namelength": 0
         },
         "hovertemplate": "<b>%{hovertext}</b><br><br>continent=Europe<br>Year=1896<br>Medal count=%{marker.size}<br>country_iso=%{location}",
         "hovertext": [
          "Germany",
          "Greece",
          "Austria",
          "UK",
          "Switzerland",
          "Hungary",
          "Denmark",
          "France"
         ],
         "legendgroup": "Europe",
         "locationmode": "ISO-3",
         "locations": [
          "DEU",
          "GRC",
          "AUT",
          "GBR",
          "CHE",
          "HUN",
          "DNK",
          "FRA"
         ],
         "marker": {
          "color": "#636efa",
          "size": [
           32,
           48,
           5,
           9,
           3,
           6,
           6,
           11
          ],
          "sizemode": "area",
          "sizeref": 0.985
         },
         "name": "Europe",
         "showlegend": true,
         "type": "scattergeo"
        },
        {
         "geo": "geo",
         "hoverlabel": {
          "namelength": 0
         },
         "hovertemplate": "<b>%{hovertext}</b><br><br>continent=Americas<br>Year=1896<br>Medal count=%{marker.size}<br>country_iso=%{location}",
         "hovertext": [
          "USA"
         ],
         "legendgroup": "Americas",
         "locationmode": "ISO-3",
         "locations": [
          "USA"
         ],
         "marker": {
          "color": "#EF553B",
          "size": [
           20
          ],
          "sizemode": "area",
          "sizeref": 0.985
         },
         "name": "Americas",
         "showlegend": true,
         "type": "scattergeo"
        },
        {
         "geo": "geo",
         "hoverlabel": {
          "namelength": 0
         },
         "hovertemplate": "<b>%{hovertext}</b><br><br>continent=Oceania<br>Year=1896<br>Medal count=%{marker.size}<br>country_iso=%{location}",
         "hovertext": [
          "Australia"
         ],
         "legendgroup": "Oceania",
         "locationmode": "ISO-3",
         "locations": [
          "AUS"
         ],
         "marker": {
          "color": "#00cc96",
          "size": [
           3
          ],
          "sizemode": "area",
          "sizeref": 0.985
         },
         "name": "Oceania",
         "showlegend": true,
         "type": "scattergeo"
        }
       ],
       "frames": [
        {
         "data": [
          {
           "geo": "geo",
           "hoverlabel": {
            "namelength": 0
           },
           "hovertemplate": "<b>%{hovertext}</b><br><br>continent=Europe<br>Year=1896<br>Medal count=%{marker.size}<br>country_iso=%{location}",
           "hovertext": [
            "Germany",
            "Greece",
            "Austria",
            "UK",
            "Switzerland",
            "Hungary",
            "Denmark",
            "France"
           ],
           "legendgroup": "Europe",
           "locationmode": "ISO-3",
           "locations": [
            "DEU",
            "GRC",
            "AUT",
            "GBR",
            "CHE",
            "HUN",
            "DNK",
            "FRA"
           ],
           "marker": {
            "color": "#636efa",
            "size": [
             32,
             48,
             5,
             9,
             3,
             6,
             6,
             11
            ],
            "sizemode": "area",
            "sizeref": 0.985
           },
           "name": "Europe",
           "showlegend": true,
           "type": "scattergeo"
          },
          {
           "geo": "geo",
           "hoverlabel": {
            "namelength": 0
           },
           "hovertemplate": "<b>%{hovertext}</b><br><br>continent=Americas<br>Year=1896<br>Medal count=%{marker.size}<br>country_iso=%{location}",
           "hovertext": [
            "USA"
           ],
           "legendgroup": "Americas",
           "locationmode": "ISO-3",
           "locations": [
            "USA"
           ],
           "marker": {
            "color": "#EF553B",
            "size": [
             20
            ],
            "sizemode": "area",
            "sizeref": 0.985
           },
           "name": "Americas",
           "showlegend": true,
           "type": "scattergeo"
          },
          {
           "geo": "geo",
           "hoverlabel": {
            "namelength": 0
           },
           "hovertemplate": "<b>%{hovertext}</b><br><br>continent=Oceania<br>Year=1896<br>Medal count=%{marker.size}<br>country_iso=%{location}",
           "hovertext": [
            "Australia"
           ],
           "legendgroup": "Oceania",
           "locationmode": "ISO-3",
           "locations": [
            "AUS"
           ],
           "marker": {
            "color": "#00cc96",
            "size": [
             3
            ],
            "sizemode": "area",
            "sizeref": 0.985
           },
           "name": "Oceania",
           "showlegend": true,
           "type": "scattergeo"
          }
         ],
         "name": "1896"
        },
        {
         "data": [
          {
           "geo": "geo",
           "hoverlabel": {
            "namelength": 0
           },
           "hovertemplate": "<b>%{hovertext}</b><br><br>continent=Europe<br>Year=1900<br>Medal count=%{marker.size}<br>country_iso=%{location}",
           "hovertext": [
            "Hungary",
            "Austria",
            "Switzerland",
            "Spain",
            "UK",
            "Sweden",
            "Norway",
            "Denmark",
            "Luxembourg",
            "Italy",
            "Belgium",
            "France",
            "Netherlands",
            "Germany"
           ],
           "legendgroup": "Europe",
           "locationmode": "ISO-3",
           "locations": [
            "HUN",
            "AUT",
            "CHE",
            "ESP",
            "GBR",
            "SWE",
            "NOR",
            "DNK",
            "LUX",
            "ITA",
            "BEL",
            "FRA",
            "NLD",
            "DEU"
           ],
           "marker": {
            "color": "#636efa",
            "size": [
             5,
             6,
             21,
             2,
             108,
             4,
             9,
             9,
             1,
             5,
             43,
             235,
             27,
             45
            ],
            "sizemode": "area",
            "sizeref": 0.985
           },
           "name": "Europe",
           "showlegend": true,
           "type": "scattergeo"
          },
          {
           "geo": "geo",
           "hoverlabel": {
            "namelength": 0
           },
           "hovertemplate": "<b>%{hovertext}</b><br><br>continent=Americas<br>Year=1900<br>Medal count=%{marker.size}<br>country_iso=%{location}",
           "hovertext": [
            "Haiti",
            "Mexico",
            "USA",
            "Colombia",
            "Canada",
            "Cuba"
           ],
           "legendgroup": "Americas",
           "locationmode": "ISO-3",
           "locations": [
            "HTI",
            "MEX",
            "USA",
            "COL",
            "CAN",
            "CUB"
           ],
           "marker": {
            "color": "#EF553B",
            "size": [
             1,
             3,
             63,
             1,
             2,
             2
            ],
            "sizemode": "area",
            "sizeref": 0.985
           },
           "name": "Americas",
           "showlegend": true,
           "type": "scattergeo"
          },
          {
           "geo": "geo",
           "hoverlabel": {
            "namelength": 0
           },
           "hovertemplate": "<b>%{hovertext}</b><br><br>continent=Oceania<br>Year=1900<br>Medal count=%{marker.size}<br>country_iso=%{location}",
           "hovertext": [
            "New Zealand",
            "Australia"
           ],
           "legendgroup": "Oceania",
           "locationmode": "ISO-3",
           "locations": [
            "NZL",
            "AUS"
           ],
           "marker": {
            "color": "#00cc96",
            "size": [
             1,
             6
            ],
            "sizemode": "area",
            "sizeref": 0.985
           },
           "name": "Oceania",
           "showlegend": true,
           "type": "scattergeo"
          },
          {
           "geo": "geo",
           "hoverlabel": {
            "namelength": 0
           },
           "hovertemplate": "<b>%{hovertext}</b><br><br>continent=Asia<br>Year=1900<br>Medal count=%{marker.size}<br>country_iso=%{location}",
           "hovertext": [
            "India"
           ],
           "legendgroup": "Asia",
           "locationmode": "ISO-3",
           "locations": [
            "IND"
           ],
           "marker": {
            "color": "#ab63fa",
            "size": [
             2
            ],
            "sizemode": "area",
            "sizeref": 0.985
           },
           "name": "Asia",
           "showlegend": true,
           "type": "scattergeo"
          }
         ],
         "name": "1900"
        },
        {
         "data": [
          {
           "geo": "geo",
           "hoverlabel": {
            "namelength": 0
           },
           "hovertemplate": "<b>%{hovertext}</b><br><br>continent=Europe<br>Year=1904<br>Medal count=%{marker.size}<br>country_iso=%{location}",
           "hovertext": [
            "France",
            "Germany",
            "Austria",
            "Greece",
            "Norway",
            "Switzerland",
            "Hungary",
            "UK"
           ],
           "legendgroup": "Europe",
           "locationmode": "ISO-3",
           "locations": [
            "FRA",
            "DEU",
            "AUT",
            "GRC",
            "NOR",
            "CHE",
            "HUN",
            "GBR"
           ],
           "marker": {
            "color": "#636efa",
            "size": [
             2,
             16,
             4,
             2,
             2,
             3,
             4,
             2
            ],
            "sizemode": "area",
            "sizeref": 0.985
           },
           "name": "Europe",
           "showlegend": true,
           "type": "scattergeo"
          },
          {
           "geo": "geo",
           "hoverlabel": {
            "namelength": 0
           },
           "hovertemplate": "<b>%{hovertext}</b><br><br>continent=Americas<br>Year=1904<br>Medal count=%{marker.size}<br>country_iso=%{location}",
           "hovertext": [
            "Canada",
            "Cuba",
            "USA"
           ],
           "legendgroup": "Americas",
           "locationmode": "ISO-3",
           "locations": [
            "CAN",
            "CUB",
            "USA"
           ],
           "marker": {
            "color": "#EF553B",
            "size": [
             48,
             5,
             394
            ],
            "sizemode": "area",
            "sizeref": 0.985
           },
           "name": "Americas",
           "showlegend": true,
           "type": "scattergeo"
          },
          {
           "geo": "geo",
           "hoverlabel": {
            "namelength": 0
           },
           "hovertemplate": "<b>%{hovertext}</b><br><br>continent=Oceania<br>Year=1904<br>Medal count=%{marker.size}<br>country_iso=%{location}",
           "hovertext": [
            "Australia"
           ],
           "legendgroup": "Oceania",
           "locationmode": "ISO-3",
           "locations": [
            "AUS"
           ],
           "marker": {
            "color": "#00cc96",
            "size": [
             4
            ],
            "sizemode": "area",
            "sizeref": 0.985
           },
           "name": "Oceania",
           "showlegend": true,
           "type": "scattergeo"
          }
         ],
         "name": "1904"
        },
        {
         "data": [
          {
           "geo": "geo",
           "hoverlabel": {
            "namelength": 0
           },
           "hovertemplate": "<b>%{hovertext}</b><br><br>continent=Europe<br>Year=1906<br>Medal count=%{marker.size}<br>country_iso=%{location}",
           "hovertext": [
            "Austria",
            "Greece",
            "Hungary",
            "Belgium",
            "UK",
            "Italy",
            "Germany",
            "France",
            "Denmark",
            "Finland",
            "Norway",
            "Netherlands",
            "Sweden",
            "Switzerland"
           ],
           "legendgroup": "Europe",
           "locationmode": "ISO-3",
           "locations": [
            "AUT",
            "GRC",
            "HUN",
            "BEL",
            "GBR",
            "ITA",
            "DEU",
            "FRA",
            "DNK",
            "FIN",
            "NOR",
            "NLD",
            "SWE",
            "CHE"
           ],
           "marker": {
            "color": "#636efa",
            "size": [
             9,
             102,
             13,
             11,
             39,
             56,
             30,
             64,
             34,
             4,
             25,
             6,
             21,
             12
            ],
            "sizemode": "area",
            "sizeref": 0.985
           },
           "name": "Europe",
           "showlegend": true,
           "type": "scattergeo"
          },
          {
           "geo": "geo",
           "hoverlabel": {
            "namelength": 0
           },
           "hovertemplate": "<b>%{hovertext}</b><br><br>continent=Americas<br>Year=1906<br>Medal count=%{marker.size}<br>country_iso=%{location}",
           "hovertext": [
            "USA",
            "Canada"
           ],
           "legendgroup": "Americas",
           "locationmode": "ISO-3",
           "locations": [
            "USA",
            "CAN"
           ],
           "marker": {
            "color": "#EF553B",
            "size": [
             24,
             2
            ],
            "sizemode": "area",
            "sizeref": 0.985
           },
           "name": "Americas",
           "showlegend": true,
           "type": "scattergeo"
          },
          {
           "geo": "geo",
           "hoverlabel": {
            "namelength": 0
           },
           "hovertemplate": "<b>%{hovertext}</b><br><br>continent=Oceania<br>Year=1906<br>Medal count=%{marker.size}<br>country_iso=%{location}",
           "hovertext": [
            "Australia"
           ],
           "legendgroup": "Oceania",
           "locationmode": "ISO-3",
           "locations": [
            "AUS"
           ],
           "marker": {
            "color": "#00cc96",
            "size": [
             3
            ],
            "sizemode": "area",
            "sizeref": 0.985
           },
           "name": "Oceania",
           "showlegend": true,
           "type": "scattergeo"
          }
         ],
         "name": "1906"
        },
        {
         "data": [
          {
           "geo": "geo",
           "hoverlabel": {
            "namelength": 0
           },
           "hovertemplate": "<b>%{hovertext}</b><br><br>continent=Europe<br>Year=1908<br>Medal count=%{marker.size}<br>country_iso=%{location}",
           "hovertext": [
            "Greece",
            "Belgium",
            "Hungary",
            "Norway",
            "Netherlands",
            "Italy",
            "Austria",
            "UK",
            "Russia",
            "France",
            "Sweden",
            "Finland",
            "Germany",
            "Denmark"
           ],
           "legendgroup": "Europe",
           "locationmode": "ISO-3",
           "locations": [
            "GRC",
            "BEL",
            "HUN",
            "NOR",
            "NLD",
            "ITA",
            "AUT",
            "GBR",
            "RUS",
            "FRA",
            "SWE",
            "FIN",
            "DEU",
            "DNK"
           ],
           "marker": {
            "color": "#636efa",
            "size": [
             4,
             33,
             20,
             42,
             16,
             8,
             1,
             368,
             3,
             40,
             84,
             30,
             21,
             17
            ],
            "sizemode": "area",
            "sizeref": 0.985
           },
           "name": "Europe",
           "showlegend": true,
           "type": "scattergeo"
          },
          {
           "geo": "geo",
           "hoverlabel": {
            "namelength": 0
           },
           "hovertemplate": "<b>%{hovertext}</b><br><br>continent=Americas<br>Year=1908<br>Medal count=%{marker.size}<br>country_iso=%{location}",
           "hovertext": [
            "USA",
            "Canada"
           ],
           "legendgroup": "Americas",
           "locationmode": "ISO-3",
           "locations": [
            "USA",
            "CAN"
           ],
           "marker": {
            "color": "#EF553B",
            "size": [
             65,
             52
            ],
            "sizemode": "area",
            "sizeref": 0.985
           },
           "name": "Americas",
           "showlegend": true,
           "type": "scattergeo"
          },
          {
           "geo": "geo",
           "hoverlabel": {
            "namelength": 0
           },
           "hovertemplate": "<b>%{hovertext}</b><br><br>continent=Oceania<br>Year=1908<br>Medal count=%{marker.size}<br>country_iso=%{location}",
           "hovertext": [
            "Australia"
           ],
           "legendgroup": "Oceania",
           "locationmode": "ISO-3",
           "locations": [
            "AUS"
           ],
           "marker": {
            "color": "#00cc96",
            "size": [
             19
            ],
            "sizemode": "area",
            "sizeref": 0.985
           },
           "name": "Oceania",
           "showlegend": true,
           "type": "scattergeo"
          },
          {
           "geo": "geo",
           "hoverlabel": {
            "namelength": 0
           },
           "hovertemplate": "<b>%{hovertext}</b><br><br>continent=Africa<br>Year=1908<br>Medal count=%{marker.size}<br>country_iso=%{location}",
           "hovertext": [
            "South Africa"
           ],
           "legendgroup": "Africa",
           "locationmode": "ISO-3",
           "locations": [
            "ZAF"
           ],
           "marker": {
            "color": "#FFA15A",
            "size": [
             2
            ],
            "sizemode": "area",
            "sizeref": 0.985
           },
           "name": "Africa",
           "showlegend": true,
           "type": "scattergeo"
          }
         ],
         "name": "1908"
        },
        {
         "data": [
          {
           "geo": "geo",
           "hoverlabel": {
            "namelength": 0
           },
           "hovertemplate": "<b>%{hovertext}</b><br><br>continent=Europe<br>Year=1912<br>Medal count=%{marker.size}<br>country_iso=%{location}",
           "hovertext": [
            "UK",
            "Switzerland",
            "Italy",
            "France",
            "Belgium",
            "Finland",
            "Germany",
            "Greece",
            "Denmark",
            "Hungary",
            "Austria",
            "Netherlands",
            "Norway",
            "Sweden",
            "Russia"
           ],
           "legendgroup": "Europe",
           "locationmode": "ISO-3",
           "locations": [
            "GBR",
            "CHE",
            "ITA",
            "FRA",
            "BEL",
            "FIN",
            "DEU",
            "GRC",
            "DNK",
            "HUN",
            "AUT",
            "NLD",
            "NOR",
            "SWE",
            "RUS"
           ],
           "marker": {
            "color": "#636efa",
            "size": [
             170,
             2,
             25,
             26,
             19,
             71,
             53,
             2,
             87,
             30,
             14,
             26,
             80,
             190,
             14
            ],
            "sizemode": "area",
            "sizeref": 0.985
           },
           "name": "Europe",
           "showlegend": true,
           "type": "scattergeo"
          },
          {
           "geo": "geo",
           "hoverlabel": {
            "namelength": 0
           },
           "hovertemplate": "<b>%{hovertext}</b><br><br>continent=Americas<br>Year=1912<br>Medal count=%{marker.size}<br>country_iso=%{location}",
           "hovertext": [
            "Canada",
            "USA"
           ],
           "legendgroup": "Americas",
           "locationmode": "ISO-3",
           "locations": [
            "CAN",
            "USA"
           ],
           "marker": {
            "color": "#EF553B",
            "size": [
             8,
             107
            ],
            "sizemode": "area",
            "sizeref": 0.985
           },
           "name": "Americas",
           "showlegend": true,
           "type": "scattergeo"
          },
          {
           "geo": "geo",
           "hoverlabel": {
            "namelength": 0
           },
           "hovertemplate": "<b>%{hovertext}</b><br><br>continent=Oceania<br>Year=1912<br>Medal count=%{marker.size}<br>country_iso=%{location}",
           "hovertext": [
            "Australia"
           ],
           "legendgroup": "Oceania",
           "locationmode": "ISO-3",
           "locations": [
            "AUS"
           ],
           "marker": {
            "color": "#00cc96",
            "size": [
             10
            ],
            "sizemode": "area",
            "sizeref": 0.985
           },
           "name": "Oceania",
           "showlegend": true,
           "type": "scattergeo"
          },
          {
           "geo": "geo",
           "hoverlabel": {
            "namelength": 0
           },
           "hovertemplate": "<b>%{hovertext}</b><br><br>continent=Africa<br>Year=1912<br>Medal count=%{marker.size}<br>country_iso=%{location}",
           "hovertext": [
            "South Africa"
           ],
           "legendgroup": "Africa",
           "locationmode": "ISO-3",
           "locations": [
            "ZAF"
           ],
           "marker": {
            "color": "#FFA15A",
            "size": [
             7
            ],
            "sizemode": "area",
            "sizeref": 0.985
           },
           "name": "Africa",
           "showlegend": true,
           "type": "scattergeo"
          }
         ],
         "name": "1912"
        },
        {
         "data": [
          {
           "geo": "geo",
           "hoverlabel": {
            "namelength": 0
           },
           "hovertemplate": "<b>%{hovertext}</b><br><br>continent=Europe<br>Year=1920<br>Medal count=%{marker.size}<br>country_iso=%{location}",
           "hovertext": [
            "Italy",
            "Belgium",
            "Norway",
            "France",
            "Luxembourg",
            "UK",
            "Greece",
            "Finland",
            "Netherlands",
            "Estonia",
            "Switzerland",
            "Spain",
            "Sweden",
            "Denmark"
           ],
           "legendgroup": "Europe",
           "locationmode": "ISO-3",
           "locations": [
            "ITA",
            "BEL",
            "NOR",
            "FRA",
            "LUX",
            "GBR",
            "GRC",
            "FIN",
            "NLD",
            "EST",
            "CHE",
            "ESP",
            "SWE",
            "DNK"
           ],
           "marker": {
            "color": "#636efa",
            "size": [
             84,
             188,
             137,
             141,
             1,
             111,
             5,
             52,
             50,
             3,
             29,
             23,
             154,
             71
            ],
            "sizemode": "area",
            "sizeref": 0.985
           },
           "name": "Europe",
           "showlegend": true,
           "type": "scattergeo"
          },
          {
           "geo": "geo",
           "hoverlabel": {
            "namelength": 0
           },
           "hovertemplate": "<b>%{hovertext}</b><br><br>continent=Americas<br>Year=1920<br>Medal count=%{marker.size}<br>country_iso=%{location}",
           "hovertext": [
            "Brazil",
            "USA",
            "Canada"
           ],
           "legendgroup": "Americas",
           "locationmode": "ISO-3",
           "locations": [
            "BRA",
            "USA",
            "CAN"
           ],
           "marker": {
            "color": "#EF553B",
            "size": [
             7,
             194,
             16
            ],
            "sizemode": "area",
            "sizeref": 0.985
           },
           "name": "Americas",
           "showlegend": true,
           "type": "scattergeo"
          },
          {
           "geo": "geo",
           "hoverlabel": {
            "namelength": 0
           },
           "hovertemplate": "<b>%{hovertext}</b><br><br>continent=Oceania<br>Year=1920<br>Medal count=%{marker.size}<br>country_iso=%{location}",
           "hovertext": [
            "Australia",
            "New Zealand"
           ],
           "legendgroup": "Oceania",
           "locationmode": "ISO-3",
           "locations": [
            "AUS",
            "NZL"
           ],
           "marker": {
            "color": "#00cc96",
            "size": [
             7,
             1
            ],
            "sizemode": "area",
            "sizeref": 0.985
           },
           "name": "Oceania",
           "showlegend": true,
           "type": "scattergeo"
          },
          {
           "geo": "geo",
           "hoverlabel": {
            "namelength": 0
           },
           "hovertemplate": "<b>%{hovertext}</b><br><br>continent=Asia<br>Year=1920<br>Medal count=%{marker.size}<br>country_iso=%{location}",
           "hovertext": [
            "Japan"
           ],
           "legendgroup": "Asia",
           "locationmode": "ISO-3",
           "locations": [
            "JPN"
           ],
           "marker": {
            "color": "#ab63fa",
            "size": [
             3
            ],
            "sizemode": "area",
            "sizeref": 0.985
           },
           "name": "Asia",
           "showlegend": true,
           "type": "scattergeo"
          },
          {
           "geo": "geo",
           "hoverlabel": {
            "namelength": 0
           },
           "hovertemplate": "<b>%{hovertext}</b><br><br>continent=Africa<br>Year=1920<br>Medal count=%{marker.size}<br>country_iso=%{location}",
           "hovertext": [
            "South Africa"
           ],
           "legendgroup": "Africa",
           "locationmode": "ISO-3",
           "locations": [
            "ZAF"
           ],
           "marker": {
            "color": "#FFA15A",
            "size": [
             21
            ],
            "sizemode": "area",
            "sizeref": 0.985
           },
           "name": "Africa",
           "showlegend": true,
           "type": "scattergeo"
          }
         ],
         "name": "1920"
        },
        {
         "data": [
          {
           "geo": "geo",
           "hoverlabel": {
            "namelength": 0
           },
           "hovertemplate": "<b>%{hovertext}</b><br><br>continent=Europe<br>Year=1924<br>Medal count=%{marker.size}<br>country_iso=%{location}",
           "hovertext": [
            "Netherlands",
            "Switzerland",
            "Poland",
            "UK",
            "Estonia",
            "Sweden",
            "France",
            "Luxembourg",
            "Norway",
            "Portugal",
            "Romania",
            "Austria",
            "Finland",
            "Monaco",
            "Denmark",
            "Greece",
            "Italy",
            "Ireland",
            "Hungary",
            "Serbia",
            "Belgium"
           ],
           "legendgroup": "Europe",
           "locationmode": "ISO-3",
           "locations": [
            "NLD",
            "CHE",
            "POL",
            "GBR",
            "EST",
            "SWE",
            "FRA",
            "LUX",
            "NOR",
            "PRT",
            "ROU",
            "AUT",
            "FIN",
            "MCO",
            "DNK",
            "GRC",
            "ITA",
            "IRL",
            "HUN",
            "SRB",
            "BEL"
           ],
           "marker": {
            "color": "#636efa",
            "size": [
             27,
             69,
             5,
             95,
             6,
             81,
             120,
             2,
             39,
             4,
             16,
             8,
             67,
             1,
             14,
             1,
             51,
             2,
             22,
             2,
             44
            ],
            "sizemode": "area",
            "sizeref": 0.985
           },
           "name": "Europe",
           "showlegend": true,
           "type": "scattergeo"
          },
          {
           "geo": "geo",
           "hoverlabel": {
            "namelength": 0
           },
           "hovertemplate": "<b>%{hovertext}</b><br><br>continent=Americas<br>Year=1924<br>Medal count=%{marker.size}<br>country_iso=%{location}",
           "hovertext": [
            "USA",
            "Argentina",
            "Uruguay",
            "Canada",
            "Haiti"
           ],
           "legendgroup": "Americas",
           "locationmode": "ISO-3",
           "locations": [
            "USA",
            "ARG",
            "URY",
            "CAN",
            "HTI"
           ],
           "marker": {
            "color": "#EF553B",
            "size": [
             194,
             10,
             14,
             29,
             5
            ],
            "sizemode": "area",
            "sizeref": 0.985
           },
           "name": "Americas",
           "showlegend": true,
           "type": "scattergeo"
          },
          {
           "geo": "geo",
           "hoverlabel": {
            "namelength": 0
           },
           "hovertemplate": "<b>%{hovertext}</b><br><br>continent=Oceania<br>Year=1924<br>Medal count=%{marker.size}<br>country_iso=%{location}",
           "hovertext": [
            "Australia",
            "New Zealand"
           ],
           "legendgroup": "Oceania",
           "locationmode": "ISO-3",
           "locations": [
            "AUS",
            "NZL"
           ],
           "marker": {
            "color": "#00cc96",
            "size": [
             11,
             1
            ],
            "sizemode": "area",
            "sizeref": 0.985
           },
           "name": "Oceania",
           "showlegend": true,
           "type": "scattergeo"
          },
          {
           "geo": "geo",
           "hoverlabel": {
            "namelength": 0
           },
           "hovertemplate": "<b>%{hovertext}</b><br><br>continent=Asia<br>Year=1924<br>Medal count=%{marker.size}<br>country_iso=%{location}",
           "hovertext": [
            "Nepal",
            "Japan",
            "India"
           ],
           "legendgroup": "Asia",
           "locationmode": "ISO-3",
           "locations": [
            "NPL",
            "JPN",
            "IND"
           ],
           "marker": {
            "color": "#ab63fa",
            "size": [
             1,
             1,
             7
            ],
            "sizemode": "area",
            "sizeref": 0.985
           },
           "name": "Asia",
           "showlegend": true,
           "type": "scattergeo"
          },
          {
           "geo": "geo",
           "hoverlabel": {
            "namelength": 0
           },
           "hovertemplate": "<b>%{hovertext}</b><br><br>continent=Africa<br>Year=1924<br>Medal count=%{marker.size}<br>country_iso=%{location}",
           "hovertext": [
            "South Africa"
           ],
           "legendgroup": "Africa",
           "locationmode": "ISO-3",
           "locations": [
            "ZAF"
           ],
           "marker": {
            "color": "#FFA15A",
            "size": [
             3
            ],
            "sizemode": "area",
            "sizeref": 0.985
           },
           "name": "Africa",
           "showlegend": true,
           "type": "scattergeo"
          }
         ],
         "name": "1924"
        },
        {
         "data": [
          {
           "geo": "geo",
           "hoverlabel": {
            "namelength": 0
           },
           "hovertemplate": "<b>%{hovertext}</b><br><br>continent=Europe<br>Year=1928<br>Medal count=%{marker.size}<br>country_iso=%{location}",
           "hovertext": [
            "Poland",
            "Hungary",
            "Norway",
            "France",
            "Spain",
            "Portugal",
            "Luxembourg",
            "Belgium",
            "Estonia",
            "Sweden",
            "Finland",
            "UK",
            "Italy",
            "Serbia",
            "Netherlands",
            "Germany",
            "Ireland",
            "Switzerland",
            "Austria",
            "Denmark"
           ],
           "legendgroup": "Europe",
           "locationmode": "ISO-3",
           "locations": [
            "POL",
            "HUN",
            "NOR",
            "FRA",
            "ESP",
            "PRT",
            "LUX",
            "BEL",
            "EST",
            "SWE",
            "FIN",
            "GBR",
            "ITA",
            "SRB",
            "NLD",
            "DEU",
            "IRL",
            "CHE",
            "AUT",
            "DNK"
           ],
           "marker": {
            "color": "#636efa",
            "size": [
             20,
             21,
             24,
             52,
             3,
             6,
             1,
             6,
             9,
             53,
             29,
             59,
             72,
             12,
             57,
             82,
             1,
             42,
             11,
             15
            ],
            "sizemode": "area",
            "sizeref": 0.985
           },
           "name": "Europe",
           "showlegend": true,
           "type": "scattergeo"
          },
          {
           "geo": "geo",
           "hoverlabel": {
            "namelength": 0
           },
           "hovertemplate": "<b>%{hovertext}</b><br><br>continent=Americas<br>Year=1928<br>Medal count=%{marker.size}<br>country_iso=%{location}",
           "hovertext": [
            "Chile",
            "Canada",
            "Argentina",
            "Haiti",
            "Uruguay",
            "USA"
           ],
           "legendgroup": "Americas",
           "locationmode": "ISO-3",
           "locations": [
            "CHL",
            "CAN",
            "ARG",
            "HTI",
            "URY",
            "USA"
           ],
           "marker": {
            "color": "#EF553B",
            "size": [
             1,
             45,
             26,
             1,
             17,
             102
            ],
            "sizemode": "area",
            "sizeref": 0.985
           },
           "name": "Americas",
           "showlegend": true,
           "type": "scattergeo"
          },
          {
           "geo": "geo",
           "hoverlabel": {
            "namelength": 0
           },
           "hovertemplate": "<b>%{hovertext}</b><br><br>continent=Oceania<br>Year=1928<br>Medal count=%{marker.size}<br>country_iso=%{location}",
           "hovertext": [
            "New Zealand",
            "Australia"
           ],
           "legendgroup": "Oceania",
           "locationmode": "ISO-3",
           "locations": [
            "NZL",
            "AUS"
           ],
           "marker": {
            "color": "#00cc96",
            "size": [
             1,
             4
            ],
            "sizemode": "area",
            "sizeref": 0.985
           },
           "name": "Oceania",
           "showlegend": true,
           "type": "scattergeo"
          },
          {
           "geo": "geo",
           "hoverlabel": {
            "namelength": 0
           },
           "hovertemplate": "<b>%{hovertext}</b><br><br>continent=Asia<br>Year=1928<br>Medal count=%{marker.size}<br>country_iso=%{location}",
           "hovertext": [
            "India",
            "Japan",
            "Philippines"
           ],
           "legendgroup": "Asia",
           "locationmode": "ISO-3",
           "locations": [
            "IND",
            "JPN",
            "PHL"
           ],
           "marker": {
            "color": "#ab63fa",
            "size": [
             14,
             9,
             1
            ],
            "sizemode": "area",
            "sizeref": 0.985
           },
           "name": "Asia",
           "showlegend": true,
           "type": "scattergeo"
          },
          {
           "geo": "geo",
           "hoverlabel": {
            "namelength": 0
           },
           "hovertemplate": "<b>%{hovertext}</b><br><br>continent=Africa<br>Year=1928<br>Medal count=%{marker.size}<br>country_iso=%{location}",
           "hovertext": [
            "Egypt",
            "South Africa"
           ],
           "legendgroup": "Africa",
           "locationmode": "ISO-3",
           "locations": [
            "EGY",
            "ZAF"
           ],
           "marker": {
            "color": "#FFA15A",
            "size": [
             4,
             6
            ],
            "sizemode": "area",
            "sizeref": 0.985
           },
           "name": "Africa",
           "showlegend": true,
           "type": "scattergeo"
          }
         ],
         "name": "1928"
        },
        {
         "data": [
          {
           "geo": "geo",
           "hoverlabel": {
            "namelength": 0
           },
           "hovertemplate": "<b>%{hovertext}</b><br><br>continent=Europe<br>Year=1932<br>Medal count=%{marker.size}<br>country_iso=%{location}",
           "hovertext": [
            "Sweden",
            "Netherlands",
            "Hungary",
            "Denmark",
            "Spain",
            "Ireland",
            "Switzerland",
            "Italy",
            "Austria",
            "UK",
            "Poland",
            "Finland",
            "Norway",
            "Germany",
            "Belgium",
            "France",
            "Latvia"
           ],
           "legendgroup": "Europe",
           "locationmode": "ISO-3",
           "locations": [
            "SWE",
            "NLD",
            "HUN",
            "DNK",
            "ESP",
            "IRL",
            "CHE",
            "ITA",
            "AUT",
            "GBR",
            "POL",
            "FIN",
            "NOR",
            "DEU",
            "BEL",
            "FRA",
            "LVA"
           ],
           "marker": {
            "color": "#636efa",
            "size": [
             35,
             13,
             35,
             11,
             1,
             2,
             3,
             77,
             7,
             35,
             21,
             32,
             10,
             57,
             1,
             42,
             1
            ],
            "sizemode": "area",
            "sizeref": 0.985
           },
           "name": "Europe",
           "showlegend": true,
           "type": "scattergeo"
          },
          {
           "geo": "geo",
           "hoverlabel": {
            "namelength": 0
           },
           "hovertemplate": "<b>%{hovertext}</b><br><br>continent=Americas<br>Year=1932<br>Medal count=%{marker.size}<br>country_iso=%{location}",
           "hovertext": [
            "Canada",
            "Argentina",
            "USA",
            "Uruguay",
            "Mexico"
           ],
           "legendgroup": "Americas",
           "locationmode": "ISO-3",
           "locations": [
            "CAN",
            "ARG",
            "USA",
            "URY",
            "MEX"
           ],
           "marker": {
            "color": "#EF553B",
            "size": [
             59,
             4,
             223,
             1,
             2
            ],
            "sizemode": "area",
            "sizeref": 0.985
           },
           "name": "Americas",
           "showlegend": true,
           "type": "scattergeo"
          },
          {
           "geo": "geo",
           "hoverlabel": {
            "namelength": 0
           },
           "hovertemplate": "<b>%{hovertext}</b><br><br>continent=Oceania<br>Year=1932<br>Medal count=%{marker.size}<br>country_iso=%{location}",
           "hovertext": [
            "New Zealand",
            "Australia"
           ],
           "legendgroup": "Oceania",
           "locationmode": "ISO-3",
           "locations": [
            "NZL",
            "AUS"
           ],
           "marker": {
            "color": "#00cc96",
            "size": [
             2,
             5
            ],
            "sizemode": "area",
            "sizeref": 0.985
           },
           "name": "Oceania",
           "showlegend": true,
           "type": "scattergeo"
          },
          {
           "geo": "geo",
           "hoverlabel": {
            "namelength": 0
           },
           "hovertemplate": "<b>%{hovertext}</b><br><br>continent=Asia<br>Year=1932<br>Medal count=%{marker.size}<br>country_iso=%{location}",
           "hovertext": [
            "India",
            "Japan",
            "Philippines"
           ],
           "legendgroup": "Asia",
           "locationmode": "ISO-3",
           "locations": [
            "IND",
            "JPN",
            "PHL"
           ],
           "marker": {
            "color": "#ab63fa",
            "size": [
             15,
             31,
             3
            ],
            "sizemode": "area",
            "sizeref": 0.985
           },
           "name": "Asia",
           "showlegend": true,
           "type": "scattergeo"
          },
          {
           "geo": "geo",
           "hoverlabel": {
            "namelength": 0
           },
           "hovertemplate": "<b>%{hovertext}</b><br><br>continent=Africa<br>Year=1932<br>Medal count=%{marker.size}<br>country_iso=%{location}",
           "hovertext": [
            "South Africa"
           ],
           "legendgroup": "Africa",
           "locationmode": "ISO-3",
           "locations": [
            "ZAF"
           ],
           "marker": {
            "color": "#FFA15A",
            "size": [
             5
            ],
            "sizemode": "area",
            "sizeref": 0.985
           },
           "name": "Africa",
           "showlegend": true,
           "type": "scattergeo"
          }
         ],
         "name": "1932"
        },
        {
         "data": [
          {
           "geo": "geo",
           "hoverlabel": {
            "namelength": 0
           },
           "hovertemplate": "<b>%{hovertext}</b><br><br>continent=Europe<br>Year=1936<br>Medal count=%{marker.size}<br>country_iso=%{location}",
           "hovertext": [
            "Latvia",
            "Norway",
            "UK",
            "Germany",
            "Netherlands",
            "Serbia",
            "Denmark",
            "Estonia",
            "Sweden",
            "Austria",
            "Finland",
            "Romania",
            "Hungary",
            "Italy",
            "Poland",
            "Portugal",
            "Belgium",
            "France",
            "Switzerland"
           ],
           "legendgroup": "Europe",
           "locationmode": "ISO-3",
           "locations": [
            "LVA",
            "NOR",
            "GBR",
            "DEU",
            "NLD",
            "SRB",
            "DNK",
            "EST",
            "SWE",
            "AUT",
            "FIN",
            "ROU",
            "HUN",
            "ITA",
            "POL",
            "PRT",
            "BEL",
            "FRA",
            "CHE"
           ],
           "marker": {
            "color": "#636efa",
            "size": [
             2,
             46,
             53,
             231,
             37,
             1,
             6,
             7,
             45,
             60,
             36,
             1,
             43,
             76,
             12,
             3,
             14,
             45,
             62
            ],
            "sizemode": "area",
            "sizeref": 0.985
           },
           "name": "Europe",
           "showlegend": true,
           "type": "scattergeo"
          },
          {
           "geo": "geo",
           "hoverlabel": {
            "namelength": 0
           },
           "hovertemplate": "<b>%{hovertext}</b><br><br>continent=Americas<br>Year=1936<br>Medal count=%{marker.size}<br>country_iso=%{location}",
           "hovertext": [
            "Argentina",
            "USA",
            "Mexico",
            "Canada"
           ],
           "legendgroup": "Americas",
           "locationmode": "ISO-3",
           "locations": [
            "ARG",
            "USA",
            "MEX",
            "CAN"
           ],
           "marker": {
            "color": "#EF553B",
            "size": [
             11,
             112,
             16,
             35
            ],
            "sizemode": "area",
            "sizeref": 0.985
           },
           "name": "Americas",
           "showlegend": true,
           "type": "scattergeo"
          },
          {
           "geo": "geo",
           "hoverlabel": {
            "namelength": 0
           },
           "hovertemplate": "<b>%{hovertext}</b><br><br>continent=Oceania<br>Year=1936<br>Medal count=%{marker.size}<br>country_iso=%{location}",
           "hovertext": [
            "New Zealand",
            "Australia"
           ],
           "legendgroup": "Oceania",
           "locationmode": "ISO-3",
           "locations": [
            "NZL",
            "AUS"
           ],
           "marker": {
            "color": "#00cc96",
            "size": [
             1,
             1
            ],
            "sizemode": "area",
            "sizeref": 0.985
           },
           "name": "Oceania",
           "showlegend": true,
           "type": "scattergeo"
          },
          {
           "geo": "geo",
           "hoverlabel": {
            "namelength": 0
           },
           "hovertemplate": "<b>%{hovertext}</b><br><br>continent=Asia<br>Year=1936<br>Medal count=%{marker.size}<br>country_iso=%{location}",
           "hovertext": [
            "India",
            "Turkey",
            "Philippines",
            "Japan"
           ],
           "legendgroup": "Asia",
           "locationmode": "ISO-3",
           "locations": [
            "IND",
            "TUR",
            "PHL",
            "JPN"
           ],
           "marker": {
            "color": "#ab63fa",
            "size": [
             19,
             2,
             1,
             23
            ],
            "sizemode": "area",
            "sizeref": 0.985
           },
           "name": "Asia",
           "showlegend": true,
           "type": "scattergeo"
          },
          {
           "geo": "geo",
           "hoverlabel": {
            "namelength": 0
           },
           "hovertemplate": "<b>%{hovertext}</b><br><br>continent=Africa<br>Year=1936<br>Medal count=%{marker.size}<br>country_iso=%{location}",
           "hovertext": [
            "Egypt",
            "South Africa"
           ],
           "legendgroup": "Africa",
           "locationmode": "ISO-3",
           "locations": [
            "EGY",
            "ZAF"
           ],
           "marker": {
            "color": "#FFA15A",
            "size": [
             5,
             1
            ],
            "sizemode": "area",
            "sizeref": 0.985
           },
           "name": "Africa",
           "showlegend": true,
           "type": "scattergeo"
          }
         ],
         "name": "1936"
        },
        {
         "data": [
          {
           "geo": "geo",
           "hoverlabel": {
            "namelength": 0
           },
           "hovertemplate": "<b>%{hovertext}</b><br><br>continent=Europe<br>Year=1948<br>Medal count=%{marker.size}<br>country_iso=%{location}",
           "hovertext": [
            "Netherlands",
            "Italy",
            "Norway",
            "Denmark",
            "Ireland",
            "France",
            "Spain",
            "Portugal",
            "Sweden",
            "Hungary",
            "Switzerland",
            "UK",
            "Finland",
            "Poland",
            "Serbia",
            "Austria",
            "Belgium"
           ],
           "legendgroup": "Europe",
           "locationmode": "ISO-3",
           "locations": [
            "NLD",
            "ITA",
            "NOR",
            "DNK",
            "IRL",
            "FRA",
            "ESP",
            "PRT",
            "SWE",
            "HUN",
            "CHE",
            "GBR",
            "FIN",
            "POL",
            "SRB",
            "AUT",
            "BEL"
           ],
           "marker": {
            "color": "#636efa",
            "size": [
             42,
             68,
             31,
             51,
             1,
             77,
             3,
             5,
             88,
             64,
             64,
             63,
             42,
             2,
             16,
             16,
             21
            ],
            "sizemode": "area",
            "sizeref": 0.985
           },
           "name": "Europe",
           "showlegend": true,
           "type": "scattergeo"
          },
          {
           "geo": "geo",
           "hoverlabel": {
            "namelength": 0
           },
           "hovertemplate": "<b>%{hovertext}</b><br><br>continent=Americas<br>Year=1948<br>Medal count=%{marker.size}<br>country_iso=%{location}",
           "hovertext": [
            "Peru",
            "Jamaica",
            "Panama",
            "Trinidad",
            "Cuba",
            "Uruguay",
            "Mexico",
            "Puerto Rico",
            "USA",
            "Argentina",
            "Brazil",
            "Canada"
           ],
           "legendgroup": "Americas",
           "locationmode": "ISO-3",
           "locations": [
            "PER",
            "JAM",
            "PAN",
            "TTO",
            "CUB",
            "URY",
            "MEX",
            "PRI",
            "USA",
            "ARG",
            "BRA",
            "CAN"
           ],
           "marker": {
            "color": "#EF553B",
            "size": [
             1,
             3,
             2,
             1,
             2,
             3,
             9,
             1,
             168,
             11,
             10,
             22
            ],
            "sizemode": "area",
            "sizeref": 0.985
           },
           "name": "Americas",
           "showlegend": true,
           "type": "scattergeo"
          },
          {
           "geo": "geo",
           "hoverlabel": {
            "namelength": 0
           },
           "hovertemplate": "<b>%{hovertext}</b><br><br>continent=Oceania<br>Year=1948<br>Medal count=%{marker.size}<br>country_iso=%{location}",
           "hovertext": [
            "Australia"
           ],
           "legendgroup": "Oceania",
           "locationmode": "ISO-3",
           "locations": [
            "AUS"
           ],
           "marker": {
            "color": "#00cc96",
            "size": [
             16
            ],
            "sizemode": "area",
            "sizeref": 0.985
           },
           "name": "Oceania",
           "showlegend": true,
           "type": "scattergeo"
          },
          {
           "geo": "geo",
           "hoverlabel": {
            "namelength": 0
           },
           "hovertemplate": "<b>%{hovertext}</b><br><br>continent=Asia<br>Year=1948<br>Medal count=%{marker.size}<br>country_iso=%{location}",
           "hovertext": [
            "India",
            "South Korea",
            "Turkey",
            "Sri Lanka"
           ],
           "legendgroup": "Asia",
           "locationmode": "ISO-3",
           "locations": [
            "IND",
            "KOR",
            "TUR",
            "LKA"
           ],
           "marker": {
            "color": "#ab63fa",
            "size": [
             20,
             2,
             12,
             1
            ],
            "sizemode": "area",
            "sizeref": 0.985
           },
           "name": "Asia",
           "showlegend": true,
           "type": "scattergeo"
          },
          {
           "geo": "geo",
           "hoverlabel": {
            "namelength": 0
           },
           "hovertemplate": "<b>%{hovertext}</b><br><br>continent=Africa<br>Year=1948<br>Medal count=%{marker.size}<br>country_iso=%{location}",
           "hovertext": [
            "Egypt",
            "South Africa"
           ],
           "legendgroup": "Africa",
           "locationmode": "ISO-3",
           "locations": [
            "EGY",
            "ZAF"
           ],
           "marker": {
            "color": "#FFA15A",
            "size": [
             5,
             6
            ],
            "sizemode": "area",
            "sizeref": 0.985
           },
           "name": "Africa",
           "showlegend": true,
           "type": "scattergeo"
          }
         ],
         "name": "1948"
        },
        {
         "data": [
          {
           "geo": "geo",
           "hoverlabel": {
            "namelength": 0
           },
           "hovertemplate": "<b>%{hovertext}</b><br><br>continent=Europe<br>Year=1952<br>Medal count=%{marker.size}<br>country_iso=%{location}",
           "hovertext": [
            "Sweden",
            "Finland",
            "Portugal",
            "Denmark",
            "Romania",
            "Serbia",
            "Poland",
            "Switzerland",
            "Austria",
            "Bulgaria",
            "Hungary",
            "Netherlands",
            "Belgium",
            "Norway",
            "Ireland",
            "Germany",
            "Luxembourg",
            "Italy",
            "France",
            "Spain",
            "UK"
           ],
           "legendgroup": "Europe",
           "locationmode": "ISO-3",
           "locations": [
            "SWE",
            "FIN",
            "PRT",
            "DNK",
            "ROU",
            "SRB",
            "POL",
            "CHE",
            "AUT",
            "BGR",
            "HUN",
            "NLD",
            "BEL",
            "NOR",
            "IRL",
            "DEU",
            "LUX",
            "ITA",
            "FRA",
            "ESP",
            "GBR"
           ],
           "marker": {
            "color": "#636efa",
            "size": [
             93,
             52,
             2,
             9,
             4,
             24,
             4,
             39,
             11,
             1,
             104,
             21,
             8,
             32,
             1,
             52,
             1,
             56,
             41,
             1,
             32
            ],
            "sizemode": "area",
            "sizeref": 0.985
           },
           "name": "Europe",
           "showlegend": true,
           "type": "scattergeo"
          },
          {
           "geo": "geo",
           "hoverlabel": {
            "namelength": 0
           },
           "hovertemplate": "<b>%{hovertext}</b><br><br>continent=Americas<br>Year=1952<br>Medal count=%{marker.size}<br>country_iso=%{location}",
           "hovertext": [
            "Canada",
            "Trinidad",
            "Venezuela",
            "Chile",
            "Mexico",
            "Jamaica",
            "Brazil",
            "Argentina",
            "Uruguay",
            "USA"
           ],
           "legendgroup": "Americas",
           "locationmode": "ISO-3",
           "locations": [
            "CAN",
            "TTO",
            "VEN",
            "CHL",
            "MEX",
            "JAM",
            "BRA",
            "ARG",
            "URY",
            "USA"
           ],
           "marker": {
            "color": "#EF553B",
            "size": [
             21,
             2,
             1,
             4,
             1,
             8,
             3,
             6,
             14,
             164
            ],
            "sizemode": "area",
            "sizeref": 0.985
           },
           "name": "Americas",
           "showlegend": true,
           "type": "scattergeo"
          },
          {
           "geo": "geo",
           "hoverlabel": {
            "namelength": 0
           },
           "hovertemplate": "<b>%{hovertext}</b><br><br>continent=Oceania<br>Year=1952<br>Medal count=%{marker.size}<br>country_iso=%{location}",
           "hovertext": [
            "Australia",
            "New Zealand"
           ],
           "legendgroup": "Oceania",
           "locationmode": "ISO-3",
           "locations": [
            "AUS",
            "NZL"
           ],
           "marker": {
            "color": "#00cc96",
            "size": [
             20,
             3
            ],
            "sizemode": "area",
            "sizeref": 0.985
           },
           "name": "Oceania",
           "showlegend": true,
           "type": "scattergeo"
          },
          {
           "geo": "geo",
           "hoverlabel": {
            "namelength": 0
           },
           "hovertemplate": "<b>%{hovertext}</b><br><br>continent=Asia<br>Year=1952<br>Medal count=%{marker.size}<br>country_iso=%{location}",
           "hovertext": [
            "Japan",
            "South Korea",
            "India",
            "Turkey",
            "Lebanon"
           ],
           "legendgroup": "Asia",
           "locationmode": "ISO-3",
           "locations": [
            "JPN",
            "KOR",
            "IND",
            "TUR",
            "LBN"
           ],
           "marker": {
            "color": "#ab63fa",
            "size": [
             12,
             2,
             15,
             3,
             2
            ],
            "sizemode": "area",
            "sizeref": 0.985
           },
           "name": "Asia",
           "showlegend": true,
           "type": "scattergeo"
          },
          {
           "geo": "geo",
           "hoverlabel": {
            "namelength": 0
           },
           "hovertemplate": "<b>%{hovertext}</b><br><br>continent=Africa<br>Year=1952<br>Medal count=%{marker.size}<br>country_iso=%{location}",
           "hovertext": [
            "South Africa",
            "Egypt"
           ],
           "legendgroup": "Africa",
           "locationmode": "ISO-3",
           "locations": [
            "ZAF",
            "EGY"
           ],
           "marker": {
            "color": "#FFA15A",
            "size": [
             14,
             1
            ],
            "sizemode": "area",
            "sizeref": 0.985
           },
           "name": "Africa",
           "showlegend": true,
           "type": "scattergeo"
          }
         ],
         "name": "1952"
        },
        {
         "data": [
          {
           "geo": "geo",
           "hoverlabel": {
            "namelength": 0
           },
           "hovertemplate": "<b>%{hovertext}</b><br><br>continent=Europe<br>Year=1956<br>Medal count=%{marker.size}<br>country_iso=%{location}",
           "hovertext": [
            "Germany",
            "Switzerland",
            "Sweden",
            "Norway",
            "Ireland",
            "Iceland",
            "Hungary",
            "Belgium",
            "Austria",
            "France",
            "Bulgaria",
            "UK",
            "Finland",
            "Romania",
            "Serbia",
            "Poland",
            "Denmark",
            "Italy",
            "Greece"
           ],
           "legendgroup": "Europe",
           "locationmode": "ISO-3",
           "locations": [
            "DEU",
            "CHE",
            "SWE",
            "NOR",
            "IRL",
            "ISL",
            "HUN",
            "BEL",
            "AUT",
            "FRA",
            "BGR",
            "GBR",
            "FIN",
            "ROU",
            "SRB",
            "POL",
            "DNK",
            "ITA",
            "GRC"
           ],
           "marker": {
            "color": "#636efa",
            "size": [
             54,
             13,
             49,
             7,
             5,
             1,
             66,
             2,
             16,
             33,
             18,
             46,
             38,
             19,
             23,
             20,
             6,
             55,
             1
            ],
            "sizemode": "area",
            "sizeref": 0.985
           },
           "name": "Europe",
           "showlegend": true,
           "type": "scattergeo"
          },
          {
           "geo": "geo",
           "hoverlabel": {
            "namelength": 0
           },
           "hovertemplate": "<b>%{hovertext}</b><br><br>continent=Americas<br>Year=1956<br>Medal count=%{marker.size}<br>country_iso=%{location}",
           "hovertext": [
            "Canada",
            "Brazil",
            "Argentina",
            "Uruguay",
            "USA",
            "Bahamas",
            "Mexico",
            "Chile"
           ],
           "legendgroup": "Americas",
           "locationmode": "ISO-3",
           "locations": [
            "CAN",
            "BRA",
            "ARG",
            "URY",
            "USA",
            "BHS",
            "MEX",
            "CHL"
           ],
           "marker": {
            "color": "#EF553B",
            "size": [
             39,
             1,
             2,
             12,
             149,
             2,
             2,
             4
            ],
            "sizemode": "area",
            "sizeref": 0.985
           },
           "name": "Americas",
           "showlegend": true,
           "type": "scattergeo"
          },
          {
           "geo": "geo",
           "hoverlabel": {
            "namelength": 0
           },
           "hovertemplate": "<b>%{hovertext}</b><br><br>continent=Oceania<br>Year=1956<br>Medal count=%{marker.size}<br>country_iso=%{location}",
           "hovertext": [
            "Australia",
            "New Zealand"
           ],
           "legendgroup": "Oceania",
           "locationmode": "ISO-3",
           "locations": [
            "AUS",
            "NZL"
           ],
           "marker": {
            "color": "#00cc96",
            "size": [
             67,
             3
            ],
            "sizemode": "area",
            "sizeref": 0.985
           },
           "name": "Oceania",
           "showlegend": true,
           "type": "scattergeo"
          },
          {
           "geo": "geo",
           "hoverlabel": {
            "namelength": 0
           },
           "hovertemplate": "<b>%{hovertext}</b><br><br>continent=Asia<br>Year=1956<br>Medal count=%{marker.size}<br>country_iso=%{location}",
           "hovertext": [
            "South Korea",
            "Turkey",
            "Japan",
            "Pakistan",
            "India"
           ],
           "legendgroup": "Asia",
           "locationmode": "ISO-3",
           "locations": [
            "KOR",
            "TUR",
            "JPN",
            "PAK",
            "IND"
           ],
           "marker": {
            "color": "#ab63fa",
            "size": [
             2,
             7,
             25,
             14,
             17
            ],
            "sizemode": "area",
            "sizeref": 0.985
           },
           "name": "Asia",
           "showlegend": true,
           "type": "scattergeo"
          },
          {
           "geo": "geo",
           "hoverlabel": {
            "namelength": 0
           },
           "hovertemplate": "<b>%{hovertext}</b><br><br>continent=Africa<br>Year=1956<br>Medal count=%{marker.size}<br>country_iso=%{location}",
           "hovertext": [
            "South Africa"
           ],
           "legendgroup": "Africa",
           "locationmode": "ISO-3",
           "locations": [
            "ZAF"
           ],
           "marker": {
            "color": "#FFA15A",
            "size": [
             7
            ],
            "sizemode": "area",
            "sizeref": 0.985
           },
           "name": "Africa",
           "showlegend": true,
           "type": "scattergeo"
          }
         ],
         "name": "1956"
        },
        {
         "data": [
          {
           "geo": "geo",
           "hoverlabel": {
            "namelength": 0
           },
           "hovertemplate": "<b>%{hovertext}</b><br><br>continent=Europe<br>Year=1960<br>Medal count=%{marker.size}<br>country_iso=%{location}",
           "hovertext": [
            "Finland",
            "Austria",
            "Serbia",
            "Romania",
            "France",
            "Switzerland",
            "Bulgaria",
            "Poland",
            "Italy",
            "UK",
            "Germany",
            "Portugal",
            "Greece",
            "Norway",
            "Denmark",
            "Netherlands",
            "Belgium",
            "Hungary",
            "Sweden",
            "Spain"
           ],
           "legendgroup": "Europe",
           "locationmode": "ISO-3",
           "locations": [
            "FIN",
            "AUT",
            "SRB",
            "ROU",
            "FRA",
            "CHE",
            "BGR",
            "POL",
            "ITA",
            "GBR",
            "DEU",
            "PRT",
            "GRC",
            "NOR",
            "DNK",
            "NLD",
            "BEL",
            "HUN",
            "SWE",
            "ESP"
           ],
           "marker": {
            "color": "#636efa",
            "size": [
             19,
             9,
             17,
             15,
             15,
             14,
             7,
             32,
             89,
             28,
             98,
             2,
             3,
             11,
             23,
             5,
             4,
             66,
             16,
             14
            ],
            "sizemode": "area",
            "sizeref": 0.985
           },
           "name": "Europe",
           "showlegend": true,
           "type": "scattergeo"
          },
          {
           "geo": "geo",
           "hoverlabel": {
            "namelength": 0
           },
           "hovertemplate": "<b>%{hovertext}</b><br><br>continent=Americas<br>Year=1960<br>Medal count=%{marker.size}<br>country_iso=%{location}",
           "hovertext": [
            "Canada",
            "Brazil",
            "Mexico",
            "USA",
            "Argentina",
            "Venezuela"
           ],
           "legendgroup": "Americas",
           "locationmode": "ISO-3",
           "locations": [
            "CAN",
            "BRA",
            "MEX",
            "USA",
            "ARG",
            "VEN"
           ],
           "marker": {
            "color": "#EF553B",
            "size": [
             30,
             13,
             1,
             152,
             4,
             1
            ],
            "sizemode": "area",
            "sizeref": 0.985
           },
           "name": "Americas",
           "showlegend": true,
           "type": "scattergeo"
          },
          {
           "geo": "geo",
           "hoverlabel": {
            "namelength": 0
           },
           "hovertemplate": "<b>%{hovertext}</b><br><br>continent=Oceania<br>Year=1960<br>Medal count=%{marker.size}<br>country_iso=%{location}",
           "hovertext": [
            "New Zealand",
            "Australia"
           ],
           "legendgroup": "Oceania",
           "locationmode": "ISO-3",
           "locations": [
            "NZL",
            "AUS"
           ],
           "marker": {
            "color": "#00cc96",
            "size": [
             3,
             46
            ],
            "sizemode": "area",
            "sizeref": 0.985
           },
           "name": "Oceania",
           "showlegend": true,
           "type": "scattergeo"
          },
          {
           "geo": "geo",
           "hoverlabel": {
            "namelength": 0
           },
           "hovertemplate": "<b>%{hovertext}</b><br><br>continent=Asia<br>Year=1960<br>Medal count=%{marker.size}<br>country_iso=%{location}",
           "hovertext": [
            "Turkey",
            "Japan",
            "Iraq",
            "India",
            "Pakistan"
           ],
           "legendgroup": "Asia",
           "locationmode": "ISO-3",
           "locations": [
            "TUR",
            "JPN",
            "IRQ",
            "IND",
            "PAK"
           ],
           "marker": {
            "color": "#ab63fa",
            "size": [
             9,
             31,
             1,
             13,
             14
            ],
            "sizemode": "area",
            "sizeref": 0.985
           },
           "name": "Asia",
           "showlegend": true,
           "type": "scattergeo"
          },
          {
           "geo": "geo",
           "hoverlabel": {
            "namelength": 0
           },
           "hovertemplate": "<b>%{hovertext}</b><br><br>continent=Africa<br>Year=1960<br>Medal count=%{marker.size}<br>country_iso=%{location}",
           "hovertext": [
            "Ethiopia",
            "Ghana",
            "Morocco",
            "South Africa"
           ],
           "legendgroup": "Africa",
           "locationmode": "ISO-3",
           "locations": [
            "ETH",
            "GHA",
            "MAR",
            "ZAF"
           ],
           "marker": {
            "color": "#FFA15A",
            "size": [
             1,
             1,
             1,
             3
            ],
            "sizemode": "area",
            "sizeref": 0.985
           },
           "name": "Africa",
           "showlegend": true,
           "type": "scattergeo"
          }
         ],
         "name": "1960"
        },
        {
         "data": [
          {
           "geo": "geo",
           "hoverlabel": {
            "namelength": 0
           },
           "hovertemplate": "<b>%{hovertext}</b><br><br>continent=Europe<br>Year=1964<br>Medal count=%{marker.size}<br>country_iso=%{location}",
           "hovertext": [
            "Poland",
            "Germany",
            "Hungary",
            "Sweden",
            "Ireland",
            "Bulgaria",
            "Norway",
            "Belgium",
            "UK",
            "Switzerland",
            "Austria",
            "Serbia",
            "Finland",
            "France",
            "Denmark",
            "Netherlands",
            "Italy",
            "Romania"
           ],
           "legendgroup": "Europe",
           "locationmode": "ISO-3",
           "locations": [
            "POL",
            "DEU",
            "HUN",
            "SWE",
            "IRL",
            "BGR",
            "NOR",
            "BEL",
            "GBR",
            "CHE",
            "AUT",
            "SRB",
            "FIN",
            "FRA",
            "DNK",
            "NLD",
            "ITA",
            "ROU"
           ],
           "marker": {
            "color": "#636efa",
            "size": [
             46,
             126,
             56,
             43,
             1,
             10,
             15,
             3,
             30,
             6,
             17,
             15,
             20,
             38,
             12,
             33,
             61,
             16
            ],
            "sizemode": "area",
            "sizeref": 0.985
           },
           "name": "Europe",
           "showlegend": true,
           "type": "scattergeo"
          },
          {
           "geo": "geo",
           "hoverlabel": {
            "namelength": 0
           },
           "hovertemplate": "<b>%{hovertext}</b><br><br>continent=Americas<br>Year=1964<br>Medal count=%{marker.size}<br>country_iso=%{location}",
           "hovertext": [
            "USA",
            "Mexico",
            "Trinidad",
            "Argentina",
            "Bahamas",
            "Uruguay",
            "Cuba",
            "Brazil",
            "Canada"
           ],
           "legendgroup": "Americas",
           "locationmode": "ISO-3",
           "locations": [
            "USA",
            "MEX",
            "TTO",
            "ARG",
            "BHS",
            "URY",
            "CUB",
            "BRA",
            "CAN"
           ],
           "marker": {
            "color": "#EF553B",
            "size": [
             177,
             1,
             6,
             1,
             2,
             1,
             1,
             12,
             12
            ],
            "sizemode": "area",
            "sizeref": 0.985
           },
           "name": "Americas",
           "showlegend": true,
           "type": "scattergeo"
          },
          {
           "geo": "geo",
           "hoverlabel": {
            "namelength": 0
           },
           "hovertemplate": "<b>%{hovertext}</b><br><br>continent=Oceania<br>Year=1964<br>Medal count=%{marker.size}<br>country_iso=%{location}",
           "hovertext": [
            "Australia",
            "New Zealand"
           ],
           "legendgroup": "Oceania",
           "locationmode": "ISO-3",
           "locations": [
            "AUS",
            "NZL"
           ],
           "marker": {
            "color": "#00cc96",
            "size": [
             44,
             6
            ],
            "sizemode": "area",
            "sizeref": 0.985
           },
           "name": "Oceania",
           "showlegend": true,
           "type": "scattergeo"
          },
          {
           "geo": "geo",
           "hoverlabel": {
            "namelength": 0
           },
           "hovertemplate": "<b>%{hovertext}</b><br><br>continent=Asia<br>Year=1964<br>Medal count=%{marker.size}<br>country_iso=%{location}",
           "hovertext": [
            "Philippines",
            "Turkey",
            "North Korea",
            "Pakistan",
            "Japan",
            "South Korea",
            "India"
           ],
           "legendgroup": "Asia",
           "locationmode": "ISO-3",
           "locations": [
            "PHL",
            "TUR",
            "PRK",
            "PAK",
            "JPN",
            "KOR",
            "IND"
           ],
           "marker": {
            "color": "#ab63fa",
            "size": [
             1,
             6,
             1,
             16,
             62,
             3,
             15
            ],
            "sizemode": "area",
            "sizeref": 0.985
           },
           "name": "Asia",
           "showlegend": true,
           "type": "scattergeo"
          },
          {
           "geo": "geo",
           "hoverlabel": {
            "namelength": 0
           },
           "hovertemplate": "<b>%{hovertext}</b><br><br>continent=Africa<br>Year=1964<br>Medal count=%{marker.size}<br>country_iso=%{location}",
           "hovertext": [
            "Tunisia",
            "Ethiopia",
            "Nigeria",
            "Kenya",
            "Ghana"
           ],
           "legendgroup": "Africa",
           "locationmode": "ISO-3",
           "locations": [
            "TUN",
            "ETH",
            "NGA",
            "KEN",
            "GHA"
           ],
           "marker": {
            "color": "#FFA15A",
            "size": [
             2,
             1,
             1,
             1,
             1
            ],
            "sizemode": "area",
            "sizeref": 0.985
           },
           "name": "Africa",
           "showlegend": true,
           "type": "scattergeo"
          }
         ],
         "name": "1964"
        },
        {
         "data": [
          {
           "geo": "geo",
           "hoverlabel": {
            "namelength": 0
           },
           "hovertemplate": "<b>%{hovertext}</b><br><br>continent=Europe<br>Year=1968<br>Medal count=%{marker.size}<br>country_iso=%{location}",
           "hovertext": [
            "Italy",
            "Romania",
            "UK",
            "Greece",
            "Switzerland",
            "Germany",
            "Germany",
            "Belgium",
            "Hungary",
            "Serbia",
            "Poland",
            "Finland",
            "Denmark",
            "Sweden",
            "Bulgaria",
            "France",
            "Austria",
            "Norway",
            "Netherlands"
           ],
           "legendgroup": "Europe",
           "locationmode": "ISO-3",
           "locations": [
            "ITA",
            "ROU",
            "GBR",
            "GRC",
            "CHE",
            "DEU",
            "DEU",
            "BEL",
            "HUN",
            "SRB",
            "POL",
            "FIN",
            "DNK",
            "SWE",
            "BGR",
            "FRA",
            "AUT",
            "NOR",
            "NLD"
           ],
           "marker": {
            "color": "#636efa",
            "size": [
             41,
             25,
             19,
             1,
             22,
             58,
             61,
             3,
             81,
             29,
             37,
             12,
             17,
             25,
             26,
             36,
             20,
             28,
             23
            ],
            "sizemode": "area",
            "sizeref": 0.985
           },
           "name": "Europe",
           "showlegend": true,
           "type": "scattergeo"
          },
          {
           "geo": "geo",
           "hoverlabel": {
            "namelength": 0
           },
           "hovertemplate": "<b>%{hovertext}</b><br><br>continent=Americas<br>Year=1968<br>Medal count=%{marker.size}<br>country_iso=%{location}",
           "hovertext": [
            "Venezuela",
            "Brazil",
            "USA",
            "Mexico",
            "Jamaica",
            "Argentina",
            "Cuba",
            "Canada"
           ],
           "legendgroup": "Americas",
           "locationmode": "ISO-3",
           "locations": [
            "VEN",
            "BRA",
            "USA",
            "MEX",
            "JAM",
            "ARG",
            "CUB",
            "CAN"
           ],
           "marker": {
            "color": "#EF553B",
            "size": [
             1,
             4,
             173,
             9,
             1,
             2,
             10,
             30
            ],
            "sizemode": "area",
            "sizeref": 0.985
           },
           "name": "Americas",
           "showlegend": true,
           "type": "scattergeo"
          },
          {
           "geo": "geo",
           "hoverlabel": {
            "namelength": 0
           },
           "hovertemplate": "<b>%{hovertext}</b><br><br>continent=Oceania<br>Year=1968<br>Medal count=%{marker.size}<br>country_iso=%{location}",
           "hovertext": [
            "New Zealand",
            "Australia"
           ],
           "legendgroup": "Oceania",
           "locationmode": "ISO-3",
           "locations": [
            "NZL",
            "AUS"
           ],
           "marker": {
            "color": "#00cc96",
            "size": [
             7,
             51
            ],
            "sizemode": "area",
            "sizeref": 0.985
           },
           "name": "Oceania",
           "showlegend": true,
           "type": "scattergeo"
          },
          {
           "geo": "geo",
           "hoverlabel": {
            "namelength": 0
           },
           "hovertemplate": "<b>%{hovertext}</b><br><br>continent=Asia<br>Year=1968<br>Medal count=%{marker.size}<br>country_iso=%{location}",
           "hovertext": [
            "Pakistan",
            "India",
            "Turkey",
            "Mongolia",
            "Japan",
            "South Korea"
           ],
           "legendgroup": "Asia",
           "locationmode": "ISO-3",
           "locations": [
            "PAK",
            "IND",
            "TUR",
            "MNG",
            "JPN",
            "KOR"
           ],
           "marker": {
            "color": "#ab63fa",
            "size": [
             13,
             16,
             2,
             4,
             63,
             2
            ],
            "sizemode": "area",
            "sizeref": 0.985
           },
           "name": "Asia",
           "showlegend": true,
           "type": "scattergeo"
          },
          {
           "geo": "geo",
           "hoverlabel": {
            "namelength": 0
           },
           "hovertemplate": "<b>%{hovertext}</b><br><br>continent=Africa<br>Year=1968<br>Medal count=%{marker.size}<br>country_iso=%{location}",
           "hovertext": [
            "Tunisia",
            "Kenya",
            "Uganda",
            "Cameroon",
            "Ethiopia"
           ],
           "legendgroup": "Africa",
           "locationmode": "ISO-3",
           "locations": [
            "TUN",
            "KEN",
            "UGA",
            "CMR",
            "ETH"
           ],
           "marker": {
            "color": "#FFA15A",
            "size": [
             2,
             12,
             2,
             1,
             2
            ],
            "sizemode": "area",
            "sizeref": 0.985
           },
           "name": "Africa",
           "showlegend": true,
           "type": "scattergeo"
          }
         ],
         "name": "1968"
        },
        {
         "data": [
          {
           "geo": "geo",
           "hoverlabel": {
            "namelength": 0
           },
           "hovertemplate": "<b>%{hovertext}</b><br><br>continent=Europe<br>Year=1972<br>Medal count=%{marker.size}<br>country_iso=%{location}",
           "hovertext": [
            "Spain",
            "Sweden",
            "Serbia",
            "Netherlands",
            "Belgium",
            "Greece",
            "Denmark",
            "Switzerland",
            "Norway",
            "Finland",
            "Poland",
            "Hungary",
            "Bulgaria",
            "Italy",
            "Romania",
            "France",
            "Austria",
            "UK",
            "Germany",
            "Germany"
           ],
           "legendgroup": "Europe",
           "locationmode": "ISO-3",
           "locations": [
            "ESP",
            "SWE",
            "SRB",
            "NLD",
            "BEL",
            "GRC",
            "DNK",
            "CHE",
            "NOR",
            "FIN",
            "POL",
            "HUN",
            "BGR",
            "ITA",
            "ROU",
            "FRA",
            "AUT",
            "GBR",
            "DEU",
            "DEU"
           ],
           "marker": {
            "color": "#636efa",
            "size": [
             2,
             26,
             18,
             15,
             2,
             2,
             1,
             25,
             25,
             20,
             47,
             81,
             22,
             34,
             40,
             25,
             8,
             29,
             112,
             171
            ],
            "sizemode": "area",
            "sizeref": 0.985
           },
           "name": "Europe",
           "showlegend": true,
           "type": "scattergeo"
          },
          {
           "geo": "geo",
           "hoverlabel": {
            "namelength": 0
           },
           "hovertemplate": "<b>%{hovertext}</b><br><br>continent=Americas<br>Year=1972<br>Medal count=%{marker.size}<br>country_iso=%{location}",
           "hovertext": [
            "USA",
            "Canada",
            "Colombia",
            "Cuba",
            "Argentina",
            "Mexico",
            "Brazil",
            "Jamaica"
           ],
           "legendgroup": "Americas",
           "locationmode": "ISO-3",
           "locations": [
            "USA",
            "CAN",
            "COL",
            "CUB",
            "ARG",
            "MEX",
            "BRA",
            "JAM"
           ],
           "marker": {
            "color": "#EF553B",
            "size": [
             195,
             12,
             3,
             22,
             1,
             1,
             2,
             1
            ],
            "sizemode": "area",
            "sizeref": 0.985
           },
           "name": "Americas",
           "showlegend": true,
           "type": "scattergeo"
          },
          {
           "geo": "geo",
           "hoverlabel": {
            "namelength": 0
           },
           "hovertemplate": "<b>%{hovertext}</b><br><br>continent=Oceania<br>Year=1972<br>Medal count=%{marker.size}<br>country_iso=%{location}",
           "hovertext": [
            "New Zealand",
            "Australia"
           ],
           "legendgroup": "Oceania",
           "locationmode": "ISO-3",
           "locations": [
            "NZL",
            "AUS"
           ],
           "marker": {
            "color": "#00cc96",
            "size": [
             14,
             20
            ],
            "sizemode": "area",
            "sizeref": 0.985
           },
           "name": "Oceania",
           "showlegend": true,
           "type": "scattergeo"
          },
          {
           "geo": "geo",
           "hoverlabel": {
            "namelength": 0
           },
           "hovertemplate": "<b>%{hovertext}</b><br><br>continent=Asia<br>Year=1972<br>Medal count=%{marker.size}<br>country_iso=%{location}",
           "hovertext": [
            "Turkey",
            "Pakistan",
            "North Korea",
            "India",
            "Mongolia",
            "Lebanon",
            "Japan",
            "South Korea"
           ],
           "legendgroup": "Asia",
           "locationmode": "ISO-3",
           "locations": [
            "TUR",
            "PAK",
            "PRK",
            "IND",
            "MNG",
            "LBN",
            "JPN",
            "KOR"
           ],
           "marker": {
            "color": "#ab63fa",
            "size": [
             1,
             15,
             15,
             14,
             1,
             1,
             59,
             1
            ],
            "sizemode": "area",
            "sizeref": 0.985
           },
           "name": "Asia",
           "showlegend": true,
           "type": "scattergeo"
          },
          {
           "geo": "geo",
           "hoverlabel": {
            "namelength": 0
           },
           "hovertemplate": "<b>%{hovertext}</b><br><br>continent=Africa<br>Year=1972<br>Medal count=%{marker.size}<br>country_iso=%{location}",
           "hovertext": [
            "Nigeria",
            "Ghana",
            "Niger",
            "Tunisia",
            "Uganda",
            "Ethiopia",
            "Kenya"
           ],
           "legendgroup": "Africa",
           "locationmode": "ISO-3",
           "locations": [
            "NGA",
            "GHA",
            "NER",
            "TUN",
            "UGA",
            "ETH",
            "KEN"
           ],
           "marker": {
            "color": "#FFA15A",
            "size": [
             1,
             1,
             1,
             1,
             2,
             2,
             12
            ],
            "sizemode": "area",
            "sizeref": 0.985
           },
           "name": "Africa",
           "showlegend": true,
           "type": "scattergeo"
          }
         ],
         "name": "1972"
        },
        {
         "data": [
          {
           "geo": "geo",
           "hoverlabel": {
            "namelength": 0
           },
           "hovertemplate": "<b>%{hovertext}</b><br><br>continent=Europe<br>Year=1976<br>Medal count=%{marker.size}<br>country_iso=%{location}",
           "hovertext": [
            "Bulgaria",
            "Netherlands",
            "Belgium",
            "Norway",
            "Romania",
            "Germany",
            "France",
            "Austria",
            "Denmark",
            "Hungary",
            "UK",
            "Sweden",
            "Liechtenstein",
            "Finland",
            "Germany",
            "Switzerland",
            "Spain",
            "Portugal",
            "Poland",
            "Italy",
            "Serbia"
           ],
           "legendgroup": "Europe",
           "locationmode": "ISO-3",
           "locations": [
            "BGR",
            "NLD",
            "BEL",
            "NOR",
            "ROU",
            "DEU",
            "FRA",
            "AUT",
            "DNK",
            "HUN",
            "GBR",
            "SWE",
            "LIE",
            "FIN",
            "DEU",
            "CHE",
            "ESP",
            "PRT",
            "POL",
            "ITA",
            "SRB"
           ],
           "marker": {
            "color": "#636efa",
            "size": [
             39,
             20,
             9,
             16,
             55,
             110,
             21,
             8,
             8,
             55,
             33,
             12,
             2,
             22,
             227,
             19,
             6,
             2,
             73,
             35,
             19
            ],
            "sizemode": "area",
            "sizeref": 0.985
           },
           "name": "Europe",
           "showlegend": true,
           "type": "scattergeo"
          },
          {
           "geo": "geo",
           "hoverlabel": {
            "namelength": 0
           },
           "hovertemplate": "<b>%{hovertext}</b><br><br>continent=Americas<br>Year=1976<br>Medal count=%{marker.size}<br>country_iso=%{location}",
           "hovertext": [
            "Brazil",
            "Mexico",
            "Jamaica",
            "Trinidad",
            "Puerto Rico",
            "Cuba",
            "Venezuela",
            "USA",
            "Canada",
            "Bermuda"
           ],
           "legendgroup": "Americas",
           "locationmode": "ISO-3",
           "locations": [
            "BRA",
            "MEX",
            "JAM",
            "TTO",
            "PRI",
            "CUB",
            "VEN",
            "USA",
            "CAN",
            "BMU"
           ],
           "marker": {
            "color": "#EF553B",
            "size": [
             3,
             2,
             2,
             1,
             1,
             24,
             1,
             175,
             26,
             1
            ],
            "sizemode": "area",
            "sizeref": 0.985
           },
           "name": "Americas",
           "showlegend": true,
           "type": "scattergeo"
          },
          {
           "geo": "geo",
           "hoverlabel": {
            "namelength": 0
           },
           "hovertemplate": "<b>%{hovertext}</b><br><br>continent=Oceania<br>Year=1976<br>Medal count=%{marker.size}<br>country_iso=%{location}",
           "hovertext": [
            "Australia",
            "New Zealand"
           ],
           "legendgroup": "Oceania",
           "locationmode": "ISO-3",
           "locations": [
            "AUS",
            "NZL"
           ],
           "marker": {
            "color": "#00cc96",
            "size": [
             23,
             25
            ],
            "sizemode": "area",
            "sizeref": 0.985
           },
           "name": "Oceania",
           "showlegend": true,
           "type": "scattergeo"
          },
          {
           "geo": "geo",
           "hoverlabel": {
            "namelength": 0
           },
           "hovertemplate": "<b>%{hovertext}</b><br><br>continent=Asia<br>Year=1976<br>Medal count=%{marker.size}<br>country_iso=%{location}",
           "hovertext": [
            "North Korea",
            "Mongolia",
            "Pakistan",
            "Thailand",
            "Japan",
            "South Korea"
           ],
           "legendgroup": "Asia",
           "locationmode": "ISO-3",
           "locations": [
            "PRK",
            "MNG",
            "PAK",
            "THA",
            "JPN",
            "KOR"
           ],
           "marker": {
            "color": "#ab63fa",
            "size": [
             2,
             1,
             16,
             1,
             41,
             17
            ],
            "sizemode": "area",
            "sizeref": 0.985
           },
           "name": "Asia",
           "showlegend": true,
           "type": "scattergeo"
          }
         ],
         "name": "1976"
        },
        {
         "data": [
          {
           "geo": "geo",
           "hoverlabel": {
            "namelength": 0
           },
           "hovertemplate": "<b>%{hovertext}</b><br><br>continent=Europe<br>Year=1980<br>Medal count=%{marker.size}<br>country_iso=%{location}",
           "hovertext": [
            "Ireland",
            "Sweden",
            "Netherlands",
            "Hungary",
            "Liechtenstein",
            "Switzerland",
            "Austria",
            "Italy",
            "Serbia",
            "Norway",
            "Greece",
            "Germany",
            "France",
            "Bulgaria",
            "Denmark",
            "Poland",
            "Romania",
            "UK",
            "Spain",
            "Belgium",
            "Germany",
            "Finland"
           ],
           "legendgroup": "Europe",
           "locationmode": "ISO-3",
           "locations": [
            "IRL",
            "SWE",
            "NLD",
            "HUN",
            "LIE",
            "CHE",
            "AUT",
            "ITA",
            "SRB",
            "NOR",
            "GRC",
            "DEU",
            "FRA",
            "BGR",
            "DNK",
            "POL",
            "ROU",
            "GBR",
            "ESP",
            "BEL",
            "DEU",
            "FIN"
           ],
           "marker": {
            "color": "#636efa",
            "size": [
             3,
             43,
             10,
             63,
             4,
             11,
             13,
             40,
             57,
             15,
             5,
             8,
             30,
             91,
             8,
             50,
             68,
             48,
             24,
             1,
             303,
             21
            ],
            "sizemode": "area",
            "sizeref": 0.985
           },
           "name": "Europe",
           "showlegend": true,
           "type": "scattergeo"
          },
          {
           "geo": "geo",
           "hoverlabel": {
            "namelength": 0
           },
           "hovertemplate": "<b>%{hovertext}</b><br><br>continent=Americas<br>Year=1980<br>Medal count=%{marker.size}<br>country_iso=%{location}",
           "hovertext": [
            "Jamaica",
            "Mexico",
            "Canada",
            "Cuba",
            "Guyana",
            "Brazil",
            "USA",
            "Venezuela"
           ],
           "legendgroup": "Americas",
           "locationmode": "ISO-3",
           "locations": [
            "JAM",
            "MEX",
            "CAN",
            "CUB",
            "GUY",
            "BRA",
            "USA",
            "VEN"
           ],
           "marker": {
            "color": "#EF553B",
            "size": [
             3,
             10,
             2,
             20,
             1,
             9,
             30,
             1
            ],
            "sizemode": "area",
            "sizeref": 0.985
           },
           "name": "Americas",
           "showlegend": true,
           "type": "scattergeo"
          },
          {
           "geo": "geo",
           "hoverlabel": {
            "namelength": 0
           },
           "hovertemplate": "<b>%{hovertext}</b><br><br>continent=Oceania<br>Year=1980<br>Medal count=%{marker.size}<br>country_iso=%{location}",
           "hovertext": [
            "Australia"
           ],
           "legendgroup": "Oceania",
           "locationmode": "ISO-3",
           "locations": [
            "AUS"
           ],
           "marker": {
            "color": "#00cc96",
            "size": [
             13
            ],
            "sizemode": "area",
            "sizeref": 0.985
           },
           "name": "Oceania",
           "showlegend": true,
           "type": "scattergeo"
          },
          {
           "geo": "geo",
           "hoverlabel": {
            "namelength": 0
           },
           "hovertemplate": "<b>%{hovertext}</b><br><br>continent=Asia<br>Year=1980<br>Medal count=%{marker.size}<br>country_iso=%{location}",
           "hovertext": [
            "Lebanon",
            "Mongolia",
            "Japan",
            "India",
            "North Korea"
           ],
           "legendgroup": "Asia",
           "locationmode": "ISO-3",
           "locations": [
            "LBN",
            "MNG",
            "JPN",
            "IND",
            "PRK"
           ],
           "marker": {
            "color": "#ab63fa",
            "size": [
             1,
             4,
             1,
             16,
             5
            ],
            "sizemode": "area",
            "sizeref": 0.985
           },
           "name": "Asia",
           "showlegend": true,
           "type": "scattergeo"
          },
          {
           "geo": "geo",
           "hoverlabel": {
            "namelength": 0
           },
           "hovertemplate": "<b>%{hovertext}</b><br><br>continent=Africa<br>Year=1980<br>Medal count=%{marker.size}<br>country_iso=%{location}",
           "hovertext": [
            "Zimbabwe",
            "Ethiopia",
            "Uganda"
           ],
           "legendgroup": "Africa",
           "locationmode": "ISO-3",
           "locations": [
            "ZWE",
            "ETH",
            "UGA"
           ],
           "marker": {
            "color": "#FFA15A",
            "size": [
             15,
             4,
             1
            ],
            "sizemode": "area",
            "sizeref": 0.985
           },
           "name": "Africa",
           "showlegend": true,
           "type": "scattergeo"
          }
         ],
         "name": "1980"
        },
        {
         "data": [
          {
           "geo": "geo",
           "hoverlabel": {
            "namelength": 0
           },
           "hovertemplate": "<b>%{hovertext}</b><br><br>continent=Europe<br>Year=1984<br>Medal count=%{marker.size}<br>country_iso=%{location}",
           "hovertext": [
            "Germany",
            "Serbia",
            "Spain",
            "Ireland",
            "Austria",
            "Germany",
            "Romania",
            "Iceland",
            "Portugal",
            "UK",
            "Italy",
            "Denmark",
            "Liechtenstein",
            "Belgium",
            "Norway",
            "Greece",
            "Finland",
            "Netherlands",
            "Switzerland",
            "France",
            "Sweden"
           ],
           "legendgroup": "Europe",
           "locationmode": "ISO-3",
           "locations": [
            "DEU",
            "SRB",
            "ESP",
            "IRL",
            "AUT",
            "DEU",
            "ROU",
            "ISL",
            "PRT",
            "GBR",
            "ITA",
            "DNK",
            "LIE",
            "BEL",
            "NOR",
            "GRC",
            "FIN",
            "NLD",
            "CHE",
            "FRA",
            "SWE"
           ],
           "marker": {
            "color": "#636efa",
            "size": [
             166,
             88,
             19,
             1,
             4,
             33,
             106,
             1,
             3,
             73,
             65,
             13,
             2,
             5,
             19,
             2,
             31,
             41,
             21,
             70,
             64
            ],
            "sizemode": "area",
            "sizeref": 0.985
           },
           "name": "Europe",
           "showlegend": true,
           "type": "scattergeo"
          },
          {
           "geo": "geo",
           "hoverlabel": {
            "namelength": 0
           },
           "hovertemplate": "<b>%{hovertext}</b><br><br>continent=Americas<br>Year=1984<br>Medal count=%{marker.size}<br>country_iso=%{location}",
           "hovertext": [
            "Jamaica",
            "USA",
            "Mexico",
            "Brazil",
            "Dominican Republic",
            "Colombia",
            "Canada",
            "Peru",
            "Puerto Rico",
            "Venezuela"
           ],
           "legendgroup": "Americas",
           "locationmode": "ISO-3",
           "locations": [
            "JAM",
            "USA",
            "MEX",
            "BRA",
            "DOM",
            "COL",
            "CAN",
            "PER",
            "PRI",
            "VEN"
           ],
           "marker": {
            "color": "#EF553B",
            "size": [
             7,
             361,
             6,
             36,
             1,
             1,
             91,
             1,
             2,
             3
            ],
            "sizemode": "area",
            "sizeref": 0.985
           },
           "name": "Americas",
           "showlegend": true,
           "type": "scattergeo"
          },
          {
           "geo": "geo",
           "hoverlabel": {
            "namelength": 0
           },
           "hovertemplate": "<b>%{hovertext}</b><br><br>continent=Oceania<br>Year=1984<br>Medal count=%{marker.size}<br>country_iso=%{location}",
           "hovertext": [
            "New Zealand",
            "Australia"
           ],
           "legendgroup": "Oceania",
           "locationmode": "ISO-3",
           "locations": [
            "NZL",
            "AUS"
           ],
           "marker": {
            "color": "#00cc96",
            "size": [
             23,
             52
            ],
            "sizemode": "area",
            "sizeref": 0.985
           },
           "name": "Oceania",
           "showlegend": true,
           "type": "scattergeo"
          },
          {
           "geo": "geo",
           "hoverlabel": {
            "namelength": 0
           },
           "hovertemplate": "<b>%{hovertext}</b><br><br>continent=Asia<br>Year=1984<br>Medal count=%{marker.size}<br>country_iso=%{location}",
           "hovertext": [
            "China",
            "Turkey",
            "Thailand",
            "Japan",
            "South Korea",
            "Pakistan",
            "Syria"
           ],
           "legendgroup": "Asia",
           "locationmode": "ISO-3",
           "locations": [
            "CHN",
            "TUR",
            "THA",
            "JPN",
            "KOR",
            "PAK",
            "SYR"
           ],
           "marker": {
            "color": "#ab63fa",
            "size": [
             74,
             3,
             1,
             50,
             41,
             16,
             1
            ],
            "sizemode": "area",
            "sizeref": 0.985
           },
           "name": "Asia",
           "showlegend": true,
           "type": "scattergeo"
          },
          {
           "geo": "geo",
           "hoverlabel": {
            "namelength": 0
           },
           "hovertemplate": "<b>%{hovertext}</b><br><br>continent=Africa<br>Year=1984<br>Medal count=%{marker.size}<br>country_iso=%{location}",
           "hovertext": [
            "Egypt",
            "Morocco",
            "Algeria",
            "Zambia",
            "Kenya",
            "Cameroon",
            "Nigeria",
            "Ivory Coast"
           ],
           "legendgroup": "Africa",
           "locationmode": "ISO-3",
           "locations": [
            "EGY",
            "MAR",
            "DZA",
            "ZMB",
            "KEN",
            "CMR",
            "NGA",
            "CIV"
           ],
           "marker": {
            "color": "#FFA15A",
            "size": [
             1,
             2,
             2,
             1,
             3,
             1,
             5,
             1
            ],
            "sizemode": "area",
            "sizeref": 0.985
           },
           "name": "Africa",
           "showlegend": true,
           "type": "scattergeo"
          }
         ],
         "name": "1984"
        },
        {
         "data": [
          {
           "geo": "geo",
           "hoverlabel": {
            "namelength": 0
           },
           "hovertemplate": "<b>%{hovertext}</b><br><br>continent=Europe<br>Year=1988<br>Medal count=%{marker.size}<br>country_iso=%{location}",
           "hovertext": [
            "UK",
            "Italy",
            "Spain",
            "Norway",
            "Poland",
            "Germany",
            "Bulgaria",
            "France",
            "Sweden",
            "Finland",
            "Hungary",
            "Switzerland",
            "Belgium",
            "Liechtenstein",
            "Greece",
            "Portugal",
            "Serbia",
            "Denmark",
            "Austria",
            "Germany",
            "Romania",
            "Netherlands"
           ],
           "legendgroup": "Europe",
           "locationmode": "ISO-3",
           "locations": [
            "GBR",
            "ITA",
            "ESP",
            "NOR",
            "POL",
            "DEU",
            "BGR",
            "FRA",
            "SWE",
            "FIN",
            "HUN",
            "CHE",
            "BEL",
            "LIE",
            "GRC",
            "PRT",
            "SRB",
            "DNK",
            "AUT",
            "DEU",
            "ROU",
            "NLD"
           ],
           "marker": {
            "color": "#636efa",
            "size": [
             54,
             37,
             5,
             33,
             21,
             129,
             41,
             31,
             46,
             38,
             44,
             28,
             2,
             1,
             1,
             1,
             69,
             7,
             13,
             213,
             58,
             52
            ],
            "sizemode": "area",
            "sizeref": 0.985
           },
           "name": "Europe",
           "showlegend": true,
           "type": "scattergeo"
          },
          {
           "geo": "geo",
           "hoverlabel": {
            "namelength": 0
           },
           "hovertemplate": "<b>%{hovertext}</b><br><br>continent=Americas<br>Year=1988<br>Medal count=%{marker.size}<br>country_iso=%{location}",
           "hovertext": [
            "USA",
            "Costa Rica",
            "Jamaica",
            "Brazil",
            "Canada",
            "Colombia",
            "Mexico",
            "Argentina",
            "Peru",
            "Chile",
            "Suriname"
           ],
           "legendgroup": "Americas",
           "locationmode": "ISO-3",
           "locations": [
            "USA",
            "CRI",
            "JAM",
            "BRA",
            "CAN",
            "COL",
            "MEX",
            "ARG",
            "PER",
            "CHL",
            "SUR"
           ],
           "marker": {
            "color": "#EF553B",
            "size": [
             214,
             1,
             7,
             23,
             29,
             1,
             2,
             13,
             12,
             1,
             1
            ],
            "sizemode": "area",
            "sizeref": 0.985
           },
           "name": "Americas",
           "showlegend": true,
           "type": "scattergeo"
          },
          {
           "geo": "geo",
           "hoverlabel": {
            "namelength": 0
           },
           "hovertemplate": "<b>%{hovertext}</b><br><br>continent=Oceania<br>Year=1988<br>Medal count=%{marker.size}<br>country_iso=%{location}",
           "hovertext": [
            "Australia",
            "New Zealand"
           ],
           "legendgroup": "Oceania",
           "locationmode": "ISO-3",
           "locations": [
            "AUS",
            "NZL"
           ],
           "marker": {
            "color": "#00cc96",
            "size": [
             35,
             24
            ],
            "sizemode": "area",
            "sizeref": 0.985
           },
           "name": "Oceania",
           "showlegend": true,
           "type": "scattergeo"
          },
          {
           "geo": "geo",
           "hoverlabel": {
            "namelength": 0
           },
           "hovertemplate": "<b>%{hovertext}</b><br><br>continent=Asia<br>Year=1988<br>Medal count=%{marker.size}<br>country_iso=%{location}",
           "hovertext": [
            "Japan",
            "South Korea",
            "Turkey",
            "China",
            "Mongolia",
            "Pakistan",
            "Thailand",
            "Philippines",
            "Indonesia"
           ],
           "legendgroup": "Asia",
           "locationmode": "ISO-3",
           "locations": [
            "JPN",
            "KOR",
            "TUR",
            "CHN",
            "MNG",
            "PAK",
            "THA",
            "PHL",
            "IDN"
           ],
           "marker": {
            "color": "#ab63fa",
            "size": [
             21,
             77,
             2,
             52,
             1,
             1,
             1,
             1,
             3
            ],
            "sizemode": "area",
            "sizeref": 0.985
           },
           "name": "Asia",
           "showlegend": true,
           "type": "scattergeo"
          },
          {
           "geo": "geo",
           "hoverlabel": {
            "namelength": 0
           },
           "hovertemplate": "<b>%{hovertext}</b><br><br>continent=Africa<br>Year=1988<br>Medal count=%{marker.size}<br>country_iso=%{location}",
           "hovertext": [
            "Kenya",
            "Senegal",
            "Djibouti",
            "Morocco"
           ],
           "legendgroup": "Africa",
           "locationmode": "ISO-3",
           "locations": [
            "KEN",
            "SEN",
            "DJI",
            "MAR"
           ],
           "marker": {
            "color": "#FFA15A",
            "size": [
             9,
             1,
             1,
             3
            ],
            "sizemode": "area",
            "sizeref": 0.985
           },
           "name": "Africa",
           "showlegend": true,
           "type": "scattergeo"
          }
         ],
         "name": "1988"
        },
        {
         "data": [
          {
           "geo": "geo",
           "hoverlabel": {
            "namelength": 0
           },
           "hovertemplate": "<b>%{hovertext}</b><br><br>continent=Europe<br>Year=1992<br>Medal count=%{marker.size}<br>country_iso=%{location}",
           "hovertext": [
            "Poland",
            "Croatia",
            "Norway",
            "Netherlands",
            "Lithuania",
            "Luxembourg",
            "Switzerland",
            "Spain",
            "Denmark",
            "Slovenia",
            "Latvia",
            "Estonia",
            "Sweden",
            "Ireland",
            "Germany",
            "Greece",
            "UK",
            "France",
            "Bulgaria",
            "Belgium",
            "Austria",
            "Finland",
            "Italy",
            "Hungary",
            "Romania"
           ],
           "legendgroup": "Europe",
           "locationmode": "ISO-3",
           "locations": [
            "POL",
            "HRV",
            "NOR",
            "NLD",
            "LTU",
            "LUX",
            "CHE",
            "ESP",
            "DNK",
            "SVN",
            "LVA",
            "EST",
            "SWE",
            "IRL",
            "DEU",
            "GRC",
            "GBR",
            "FRA",
            "BGR",
            "BEL",
            "AUT",
            "FIN",
            "ITA",
            "HUN",
            "ROU"
           ],
           "marker": {
            "color": "#636efa",
            "size": [
             46,
             15,
             47,
             37,
             13,
             2,
             8,
             70,
             14,
             6,
             3,
             3,
             42,
             2,
             236,
             2,
             50,
             69,
             17,
             3,
             35,
             20,
             66,
             45,
             53
            ],
            "sizemode": "area",
            "sizeref": 0.985
           },
           "name": "Europe",
           "showlegend": true,
           "type": "scattergeo"
          },
          {
           "geo": "geo",
           "hoverlabel": {
            "namelength": 0
           },
           "hovertemplate": "<b>%{hovertext}</b><br><br>continent=Americas<br>Year=1992<br>Medal count=%{marker.size}<br>country_iso=%{location}",
           "hovertext": [
            "Colombia",
            "Suriname",
            "Canada",
            "Argentina",
            "Puerto Rico",
            "Mexico",
            "Cuba",
            "USA",
            "Bahamas",
            "Peru",
            "Jamaica",
            "Brazil"
           ],
           "legendgroup": "Americas",
           "locationmode": "ISO-3",
           "locations": [
            "COL",
            "SUR",
            "CAN",
            "ARG",
            "PRI",
            "MEX",
            "CUB",
            "USA",
            "BHS",
            "PER",
            "JAM",
            "BRA"
           ],
           "marker": {
            "color": "#EF553B",
            "size": [
             1,
             1,
             80,
             2,
             1,
             1,
             69,
             238,
             1,
             1,
             4,
             14
            ],
            "sizemode": "area",
            "sizeref": 0.985
           },
           "name": "Americas",
           "showlegend": true,
           "type": "scattergeo"
          },
          {
           "geo": "geo",
           "hoverlabel": {
            "namelength": 0
           },
           "hovertemplate": "<b>%{hovertext}</b><br><br>continent=Oceania<br>Year=1992<br>Medal count=%{marker.size}<br>country_iso=%{location}",
           "hovertext": [
            "Australia",
            "New Zealand"
           ],
           "legendgroup": "Oceania",
           "locationmode": "ISO-3",
           "locations": [
            "AUS",
            "NZL"
           ],
           "marker": {
            "color": "#00cc96",
            "size": [
             57,
             16
            ],
            "sizemode": "area",
            "sizeref": 0.985
           },
           "name": "Oceania",
           "showlegend": true,
           "type": "scattergeo"
          },
          {
           "geo": "geo",
           "hoverlabel": {
            "namelength": 0
           },
           "hovertemplate": "<b>%{hovertext}</b><br><br>continent=Asia<br>Year=1992<br>Medal count=%{marker.size}<br>country_iso=%{location}",
           "hovertext": [
            "North Korea",
            "Qatar",
            "Malaysia",
            "China",
            "South Korea",
            "Mongolia",
            "Pakistan",
            "Israel",
            "Philippines",
            "Japan",
            "Indonesia",
            "Turkey",
            "Thailand"
           ],
           "legendgroup": "Asia",
           "locationmode": "ISO-3",
           "locations": [
            "PRK",
            "QAT",
            "MYS",
            "CHN",
            "KOR",
            "MNG",
            "PAK",
            "ISR",
            "PHL",
            "JPN",
            "IDN",
            "TUR",
            "THA"
           ],
           "marker": {
            "color": "#ab63fa",
            "size": [
             11,
             1,
             2,
             85,
             56,
             2,
             16,
             2,
             1,
             59,
             6,
             6,
             1
            ],
            "sizemode": "area",
            "sizeref": 0.985
           },
           "name": "Asia",
           "showlegend": true,
           "type": "scattergeo"
          },
          {
           "geo": "geo",
           "hoverlabel": {
            "namelength": 0
           },
           "hovertemplate": "<b>%{hovertext}</b><br><br>continent=Africa<br>Year=1992<br>Medal count=%{marker.size}<br>country_iso=%{location}",
           "hovertext": [
            "Nigeria",
            "Algeria",
            "Kenya",
            "Ethiopia",
            "Morocco",
            "Namibia",
            "South Africa",
            "Ghana"
           ],
           "legendgroup": "Africa",
           "locationmode": "ISO-3",
           "locations": [
            "NGA",
            "DZA",
            "KEN",
            "ETH",
            "MAR",
            "NAM",
            "ZAF",
            "GHA"
           ],
           "marker": {
            "color": "#FFA15A",
            "size": [
             11,
             2,
             8,
             3,
             3,
             2,
             3,
             20
            ],
            "sizemode": "area",
            "sizeref": 0.985
           },
           "name": "Africa",
           "showlegend": true,
           "type": "scattergeo"
          }
         ],
         "name": "1992"
        },
        {
         "data": [
          {
           "geo": "geo",
           "hoverlabel": {
            "namelength": 0
           },
           "hovertemplate": "<b>%{hovertext}</b><br><br>continent=Europe<br>Year=1994<br>Medal count=%{marker.size}<br>country_iso=%{location}",
           "hovertext": [
            "France",
            "Sweden",
            "Italy",
            "Austria",
            "Belarus",
            "Netherlands",
            "Switzerland",
            "Russia",
            "Slovenia",
            "UK",
            "Norway",
            "Finland",
            "Ukraine",
            "Germany"
           ],
           "legendgroup": "Europe",
           "locationmode": "ISO-3",
           "locations": [
            "FRA",
            "SWE",
            "ITA",
            "AUT",
            "BLR",
            "NLD",
            "CHE",
            "RUS",
            "SVN",
            "GBR",
            "NOR",
            "FIN",
            "UKR",
            "DEU"
           ],
           "marker": {
            "color": "#636efa",
            "size": [
             11,
             24,
             32,
             12,
             2,
             4,
             16,
             36,
             3,
             3,
             30,
             30,
             2,
             40
            ],
            "sizemode": "area",
            "sizeref": 0.985
           },
           "name": "Europe",
           "showlegend": true,
           "type": "scattergeo"
          },
          {
           "geo": "geo",
           "hoverlabel": {
            "namelength": 0
           },
           "hovertemplate": "<b>%{hovertext}</b><br><br>continent=Americas<br>Year=1994<br>Medal count=%{marker.size}<br>country_iso=%{location}",
           "hovertext": [
            "Canada",
            "USA"
           ],
           "legendgroup": "Americas",
           "locationmode": "ISO-3",
           "locations": [
            "CAN",
            "USA"
           ],
           "marker": {
            "color": "#EF553B",
            "size": [
             37,
             19
            ],
            "sizemode": "area",
            "sizeref": 0.985
           },
           "name": "Americas",
           "showlegend": true,
           "type": "scattergeo"
          },
          {
           "geo": "geo",
           "hoverlabel": {
            "namelength": 0
           },
           "hovertemplate": "<b>%{hovertext}</b><br><br>continent=Oceania<br>Year=1994<br>Medal count=%{marker.size}<br>country_iso=%{location}",
           "hovertext": [
            "Australia"
           ],
           "legendgroup": "Oceania",
           "locationmode": "ISO-3",
           "locations": [
            "AUS"
           ],
           "marker": {
            "color": "#00cc96",
            "size": [
             4
            ],
            "sizemode": "area",
            "sizeref": 0.985
           },
           "name": "Oceania",
           "showlegend": true,
           "type": "scattergeo"
          },
          {
           "geo": "geo",
           "hoverlabel": {
            "namelength": 0
           },
           "hovertemplate": "<b>%{hovertext}</b><br><br>continent=Asia<br>Year=1994<br>Medal count=%{marker.size}<br>country_iso=%{location}",
           "hovertext": [
            "South Korea",
            "Kazakhstan",
            "Uzbekistan",
            "China",
            "Japan"
           ],
           "legendgroup": "Asia",
           "locationmode": "ISO-3",
           "locations": [
            "KOR",
            "KAZ",
            "UZB",
            "CHN",
            "JPN"
           ],
           "marker": {
            "color": "#ab63fa",
            "size": [
             9,
             3,
             1,
             3,
             10
            ],
            "sizemode": "area",
            "sizeref": 0.985
           },
           "name": "Asia",
           "showlegend": true,
           "type": "scattergeo"
          }
         ],
         "name": "1994"
        },
        {
         "data": [
          {
           "geo": "geo",
           "hoverlabel": {
            "namelength": 0
           },
           "hovertemplate": "<b>%{hovertext}</b><br><br>continent=Europe<br>Year=1996<br>Medal count=%{marker.size}<br>country_iso=%{location}",
           "hovertext": [
            "Germany",
            "Romania",
            "Moldova",
            "Czech Republic",
            "Hungary",
            "Netherlands",
            "Croatia",
            "Greece",
            "Serbia",
            "Belgium",
            "Switzerland",
            "Belarus",
            "Portugal",
            "Slovakia",
            "Italy",
            "Latvia",
            "Slovenia",
            "France",
            "Sweden",
            "Poland",
            "Ukraine",
            "Finland",
            "Norway",
            "Russia",
            "Bulgaria",
            "Spain",
            "Denmark",
            "Ireland",
            "Lithuania",
            "Austria",
            "UK"
           ],
           "legendgroup": "Europe",
           "locationmode": "ISO-3",
           "locations": [
            "DEU",
            "ROU",
            "MDA",
            "CZE",
            "HUN",
            "NLD",
            "HRV",
            "GRC",
            "SRB",
            "BEL",
            "CHE",
            "BLR",
            "PRT",
            "SVK",
            "ITA",
            "LVA",
            "SVN",
            "FRA",
            "SWE",
            "POL",
            "UKR",
            "FIN",
            "NOR",
            "RUS",
            "BGR",
            "ESP",
            "DNK",
            "IRL",
            "LTU",
            "AUT",
            "GBR"
           ],
           "marker": {
            "color": "#636efa",
            "size": [
             124,
             38,
             3,
             13,
             43,
             73,
             28,
             8,
             26,
             6,
             11,
             23,
             3,
             3,
             71,
             1,
             2,
             51,
             31,
             22,
             34,
             4,
             23,
             115,
             21,
             66,
             23,
             4,
             11,
             3,
             26
            ],
            "sizemode": "area",
            "sizeref": 0.985
           },
           "name": "Europe",
           "showlegend": true,
           "type": "scattergeo"
          },
          {
           "geo": "geo",
           "hoverlabel": {
            "namelength": 0
           },
           "hovertemplate": "<b>%{hovertext}</b><br><br>continent=Americas<br>Year=1996<br>Medal count=%{marker.size}<br>country_iso=%{location}",
           "hovertext": [
            "Argentina",
            "Puerto Rico",
            "Mexico",
            "Bahamas",
            "Trinidad",
            "Cuba",
            "Brazil",
            "Jamaica",
            "USA",
            "Canada",
            "Costa Rica",
            "Ecuador"
           ],
           "legendgroup": "Americas",
           "locationmode": "ISO-3",
           "locations": [
            "ARG",
            "PRI",
            "MEX",
            "BHS",
            "TTO",
            "CUB",
            "BRA",
            "JAM",
            "USA",
            "CAN",
            "CRI",
            "ECU"
           ],
           "marker": {
            "color": "#EF553B",
            "size": [
             20,
             1,
             1,
             5,
             2,
             55,
             63,
             16,
             259,
             50,
             1,
             1
            ],
            "sizemode": "area",
            "sizeref": 0.985
           },
           "name": "Americas",
           "showlegend": true,
           "type": "scattergeo"
          },
          {
           "geo": "geo",
           "hoverlabel": {
            "namelength": 0
           },
           "hovertemplate": "<b>%{hovertext}</b><br><br>continent=Oceania<br>Year=1996<br>Medal count=%{marker.size}<br>country_iso=%{location}",
           "hovertext": [
            "New Zealand",
            "Australia",
            "Tonga"
           ],
           "legendgroup": "Oceania",
           "locationmode": "ISO-3",
           "locations": [
            "NZL",
            "AUS",
            "TON"
           ],
           "marker": {
            "color": "#00cc96",
            "size": [
             9,
             132,
             1
            ],
            "sizemode": "area",
            "sizeref": 0.985
           },
           "name": "Oceania",
           "showlegend": true,
           "type": "scattergeo"
          },
          {
           "geo": "geo",
           "hoverlabel": {
            "namelength": 0
           },
           "hovertemplate": "<b>%{hovertext}</b><br><br>continent=Asia<br>Year=1996<br>Medal count=%{marker.size}<br>country_iso=%{location}",
           "hovertext": [
            "Thailand",
            "Uzbekistan",
            "Azerbaijan",
            "China",
            "Kazakhstan",
            "North Korea",
            "Indonesia",
            "China",
            "India",
            "Armenia",
            "Mongolia",
            "Malaysia",
            "South Korea",
            "Turkey",
            "Japan",
            "Syria",
            "Philippines",
            "Georgia",
            "Israel"
           ],
           "legendgroup": "Asia",
           "locationmode": "ISO-3",
           "locations": [
            "THA",
            "UZB",
            "AZE",
            "CHN",
            "KAZ",
            "PRK",
            "IDN",
            "CHN",
            "IND",
            "ARM",
            "MNG",
            "MYS",
            "KOR",
            "TUR",
            "JPN",
            "SYR",
            "PHL",
            "GEO",
            "ISR"
           ],
           "marker": {
            "color": "#ab63fa",
            "size": [
             2,
             2,
             1,
             106,
             11,
             5,
             6,
             1,
             1,
             2,
             1,
             3,
             66,
             6,
             42,
             1,
             1,
             2,
             1
            ],
            "sizemode": "area",
            "sizeref": 0.985
           },
           "name": "Asia",
           "showlegend": true,
           "type": "scattergeo"
          },
          {
           "geo": "geo",
           "hoverlabel": {
            "namelength": 0
           },
           "hovertemplate": "<b>%{hovertext}</b><br><br>continent=Africa<br>Year=1996<br>Medal count=%{marker.size}<br>country_iso=%{location}",
           "hovertext": [
            "Burundi",
            "Nigeria",
            "Algeria",
            "Zambia",
            "Namibia",
            "Mozambique",
            "Morocco",
            "Uganda",
            "Ethiopia",
            "Kenya",
            "Tunisia",
            "South Africa"
           ],
           "legendgroup": "Africa",
           "locationmode": "ISO-3",
           "locations": [
            "BDI",
            "NGA",
            "DZA",
            "ZMB",
            "NAM",
            "MOZ",
            "MAR",
            "UGA",
            "ETH",
            "KEN",
            "TUN",
            "ZAF"
           ],
           "marker": {
            "color": "#FFA15A",
            "size": [
             1,
             24,
             3,
             1,
             2,
             1,
             2,
             1,
             3,
             8,
             1,
             5
            ],
            "sizemode": "area",
            "sizeref": 0.985
           },
           "name": "Africa",
           "showlegend": true,
           "type": "scattergeo"
          }
         ],
         "name": "1996"
        },
        {
         "data": [
          {
           "geo": "geo",
           "hoverlabel": {
            "namelength": 0
           },
           "hovertemplate": "<b>%{hovertext}</b><br><br>continent=Europe<br>Year=1998<br>Medal count=%{marker.size}<br>country_iso=%{location}",
           "hovertext": [
            "Bulgaria",
            "Ukraine",
            "Denmark",
            "Austria",
            "Finland",
            "Sweden",
            "Belgium",
            "Russia",
            "France",
            "Switzerland",
            "UK",
            "Germany",
            "Italy",
            "Belarus",
            "Czech Republic",
            "Netherlands",
            "Norway"
           ],
           "legendgroup": "Europe",
           "locationmode": "ISO-3",
           "locations": [
            "BGR",
            "UKR",
            "DNK",
            "AUT",
            "FIN",
            "SWE",
            "BEL",
            "RUS",
            "FRA",
            "CHE",
            "GBR",
            "DEU",
            "ITA",
            "BLR",
            "CZE",
            "NLD",
            "NOR"
           ],
           "marker": {
            "color": "#636efa",
            "size": [
             1,
             1,
             5,
             20,
             58,
             7,
             1,
             52,
             15,
             14,
             4,
             44,
             17,
             2,
             23,
             11,
             40
            ],
            "sizemode": "area",
            "sizeref": 0.985
           },
           "name": "Europe",
           "showlegend": true,
           "type": "scattergeo"
          },
          {
           "geo": "geo",
           "hoverlabel": {
            "namelength": 0
           },
           "hovertemplate": "<b>%{hovertext}</b><br><br>continent=Americas<br>Year=1998<br>Medal count=%{marker.size}<br>country_iso=%{location}",
           "hovertext": [
            "Canada",
            "USA"
           ],
           "legendgroup": "Americas",
           "locationmode": "ISO-3",
           "locations": [
            "CAN",
            "USA"
           ],
           "marker": {
            "color": "#EF553B",
            "size": [
             49,
             34
            ],
            "sizemode": "area",
            "sizeref": 0.985
           },
           "name": "Americas",
           "showlegend": true,
           "type": "scattergeo"
          },
          {
           "geo": "geo",
           "hoverlabel": {
            "namelength": 0
           },
           "hovertemplate": "<b>%{hovertext}</b><br><br>continent=Oceania<br>Year=1998<br>Medal count=%{marker.size}<br>country_iso=%{location}",
           "hovertext": [
            "Australia"
           ],
           "legendgroup": "Oceania",
           "locationmode": "ISO-3",
           "locations": [
            "AUS"
           ],
           "marker": {
            "color": "#00cc96",
            "size": [
             1
            ],
            "sizemode": "area",
            "sizeref": 0.985
           },
           "name": "Oceania",
           "showlegend": true,
           "type": "scattergeo"
          },
          {
           "geo": "geo",
           "hoverlabel": {
            "namelength": 0
           },
           "hovertemplate": "<b>%{hovertext}</b><br><br>continent=Asia<br>Year=1998<br>Medal count=%{marker.size}<br>country_iso=%{location}",
           "hovertext": [
            "Japan",
            "Kazakhstan",
            "South Korea",
            "China"
           ],
           "legendgroup": "Asia",
           "locationmode": "ISO-3",
           "locations": [
            "JPN",
            "KAZ",
            "KOR",
            "CHN"
           ],
           "marker": {
            "color": "#ab63fa",
            "size": [
             13,
             2,
             12,
             14
            ],
            "sizemode": "area",
            "sizeref": 0.985
           },
           "name": "Asia",
           "showlegend": true,
           "type": "scattergeo"
          }
         ],
         "name": "1998"
        },
        {
         "data": [
          {
           "geo": "geo",
           "hoverlabel": {
            "namelength": 0
           },
           "hovertemplate": "<b>%{hovertext}</b><br><br>continent=Europe<br>Year=2000<br>Medal count=%{marker.size}<br>country_iso=%{location}",
           "hovertext": [
            "Russia",
            "Portugal",
            "Slovenia",
            "Poland",
            "Romania",
            "Norway",
            "Switzerland",
            "Serbia",
            "France",
            "Germany",
            "Hungary",
            "Croatia",
            "Bulgaria",
            "Czech Republic",
            "Italy",
            "Iceland",
            "Ireland",
            "Denmark",
            "Spain",
            "Ukraine",
            "Estonia",
            "Finland",
            "Netherlands",
            "Macedonia",
            "Slovakia",
            "Austria",
            "Greece",
            "Lithuania",
            "Belgium",
            "Belarus",
            "Latvia",
            "Moldova",
            "Sweden",
            "UK"
           ],
           "legendgroup": "Europe",
           "locationmode": "ISO-3",
           "locations": [
            "RUS",
            "PRT",
            "SVN",
            "POL",
            "ROU",
            "NOR",
            "CHE",
            "SRB",
            "FRA",
            "DEU",
            "HUN",
            "HRV",
            "BGR",
            "CZE",
            "ITA",
            "ISL",
            "IRL",
            "DNK",
            "ESP",
            "UKR",
            "EST",
            "FIN",
            "NLD",
            "MKD",
            "SVK",
            "AUT",
            "GRC",
            "LTU",
            "BEL",
            "BLR",
            "LVA",
            "MDA",
            "SWE",
            "GBR"
           ],
           "marker": {
            "color": "#636efa",
            "size": [
             187,
             2,
             3,
             24,
             46,
             43,
             14,
             25,
             66,
             118,
             53,
             10,
             13,
             9,
             65,
             1,
             1,
             25,
             42,
             35,
             3,
             5,
             79,
             1,
             6,
             4,
             18,
             17,
             7,
             22,
             3,
             2,
             32,
             54
            ],
            "sizemode": "area",
            "sizeref": 0.985
           },
           "name": "Europe",
           "showlegend": true,
           "type": "scattergeo"
          },
          {
           "geo": "geo",
           "hoverlabel": {
            "namelength": 0
           },
           "hovertemplate": "<b>%{hovertext}</b><br><br>continent=Americas<br>Year=2000<br>Medal count=%{marker.size}<br>country_iso=%{location}",
           "hovertext": [
            "Canada",
            "Chile",
            "Colombia",
            "Costa Rica",
            "Jamaica",
            "Cuba",
            "Uruguay",
            "USA",
            "Mexico",
            "Argentina",
            "Trinidad",
            "Bahamas",
            "Barbados",
            "Brazil"
           ],
           "legendgroup": "Americas",
           "locationmode": "ISO-3",
           "locations": [
            "CAN",
            "CHL",
            "COL",
            "CRI",
            "JAM",
            "CUB",
            "URY",
            "USA",
            "MEX",
            "ARG",
            "TTO",
            "BHS",
            "BRB",
            "BRA"
           ],
           "marker": {
            "color": "#EF553B",
            "size": [
             31,
             17,
             1,
             2,
             23,
             65,
             1,
             242,
             6,
             20,
             2,
             11,
             1,
             48
            ],
            "sizemode": "area",
            "sizeref": 0.985
           },
           "name": "Americas",
           "showlegend": true,
           "type": "scattergeo"
          },
          {
           "geo": "geo",
           "hoverlabel": {
            "namelength": 0
           },
           "hovertemplate": "<b>%{hovertext}</b><br><br>continent=Oceania<br>Year=2000<br>Medal count=%{marker.size}<br>country_iso=%{location}",
           "hovertext": [
            "New Zealand",
            "Australia"
           ],
           "legendgroup": "Oceania",
           "locationmode": "ISO-3",
           "locations": [
            "NZL",
            "AUS"
           ],
           "marker": {
            "color": "#00cc96",
            "size": [
             4,
             183
            ],
            "sizemode": "area",
            "sizeref": 0.985
           },
           "name": "Oceania",
           "showlegend": true,
           "type": "scattergeo"
          },
          {
           "geo": "geo",
           "hoverlabel": {
            "namelength": 0
           },
           "hovertemplate": "<b>%{hovertext}</b><br><br>continent=Asia<br>Year=2000<br>Medal count=%{marker.size}<br>country_iso=%{location}",
           "hovertext": [
            "North Korea",
            "Qatar",
            "Sri Lanka",
            "China",
            "Turkey",
            "Kazakhstan",
            "Japan",
            "Israel",
            "Thailand",
            "Indonesia",
            "Armenia",
            "Georgia",
            "Azerbaijan",
            "Kyrgyzstan",
            "India",
            "Kuwait",
            "Saudi Arabia",
            "Uzbekistan",
            "South Korea"
           ],
           "legendgroup": "Asia",
           "locationmode": "ISO-3",
           "locations": [
            "PRK",
            "QAT",
            "LKA",
            "CHN",
            "TUR",
            "KAZ",
            "JPN",
            "ISR",
            "THA",
            "IDN",
            "ARM",
            "GEO",
            "AZE",
            "KGZ",
            "IND",
            "KWT",
            "SAU",
            "UZB",
            "KOR"
           ],
           "marker": {
            "color": "#ab63fa",
            "size": [
             4,
             1,
             1,
             79,
             5,
             7,
             44,
             1,
             3,
             8,
             1,
             6,
             3,
             1,
             1,
             1,
             2,
             4,
             73
            ],
            "sizemode": "area",
            "sizeref": 0.985
           },
           "name": "Asia",
           "showlegend": true,
           "type": "scattergeo"
          },
          {
           "geo": "geo",
           "hoverlabel": {
            "namelength": 0
           },
           "hovertemplate": "<b>%{hovertext}</b><br><br>continent=Africa<br>Year=2000<br>Medal count=%{marker.size}<br>country_iso=%{location}",
           "hovertext": [
            "South Africa",
            "Nigeria",
            "Kenya",
            "Cameroon",
            "Ethiopia",
            "Algeria",
            "Mozambique",
            "Morocco"
           ],
           "legendgroup": "Africa",
           "locationmode": "ISO-3",
           "locations": [
            "ZAF",
            "NGA",
            "KEN",
            "CMR",
            "ETH",
            "DZA",
            "MOZ",
            "MAR"
           ],
           "marker": {
            "color": "#FFA15A",
            "size": [
             5,
             8,
             7,
             18,
             8,
             5,
             1,
             5
            ],
            "sizemode": "area",
            "sizeref": 0.985
           },
           "name": "Africa",
           "showlegend": true,
           "type": "scattergeo"
          }
         ],
         "name": "2000"
        },
        {
         "data": [
          {
           "geo": "geo",
           "hoverlabel": {
            "namelength": 0
           },
           "hovertemplate": "<b>%{hovertext}</b><br><br>continent=Europe<br>Year=2002<br>Medal count=%{marker.size}<br>country_iso=%{location}",
           "hovertext": [
            "Finland",
            "UK",
            "France",
            "Switzerland",
            "Estonia",
            "Czech Republic",
            "Croatia",
            "Bulgaria",
            "Belarus",
            "Slovenia",
            "Austria",
            "Russia",
            "Poland",
            "Germany",
            "Italy",
            "Sweden",
            "Netherlands",
            "Norway"
           ],
           "legendgroup": "Europe",
           "locationmode": "ISO-3",
           "locations": [
            "FIN",
            "GBR",
            "FRA",
            "CHE",
            "EST",
            "CZE",
            "HRV",
            "BGR",
            "BLR",
            "SVN",
            "AUT",
            "RUS",
            "POL",
            "DEU",
            "ITA",
            "SWE",
            "NLD",
            "NOR"
           ],
           "marker": {
            "color": "#636efa",
            "size": [
             13,
             6,
             15,
             24,
             3,
             3,
             4,
             3,
             1,
             4,
             20,
             38,
             2,
             61,
             21,
             26,
             8,
             41
            ],
            "sizemode": "area",
            "sizeref": 0.985
           },
           "name": "Europe",
           "showlegend": true,
           "type": "scattergeo"
          },
          {
           "geo": "geo",
           "hoverlabel": {
            "namelength": 0
           },
           "hovertemplate": "<b>%{hovertext}</b><br><br>continent=Americas<br>Year=2002<br>Medal count=%{marker.size}<br>country_iso=%{location}",
           "hovertext": [
            "Canada",
            "USA"
           ],
           "legendgroup": "Americas",
           "locationmode": "ISO-3",
           "locations": [
            "CAN",
            "USA"
           ],
           "marker": {
            "color": "#EF553B",
            "size": [
             74,
             84
            ],
            "sizemode": "area",
            "sizeref": 0.985
           },
           "name": "Americas",
           "showlegend": true,
           "type": "scattergeo"
          },
          {
           "geo": "geo",
           "hoverlabel": {
            "namelength": 0
           },
           "hovertemplate": "<b>%{hovertext}</b><br><br>continent=Oceania<br>Year=2002<br>Medal count=%{marker.size}<br>country_iso=%{location}",
           "hovertext": [
            "Australia"
           ],
           "legendgroup": "Oceania",
           "locationmode": "ISO-3",
           "locations": [
            "AUS"
           ],
           "marker": {
            "color": "#00cc96",
            "size": [
             2
            ],
            "sizemode": "area",
            "sizeref": 0.985
           },
           "name": "Oceania",
           "showlegend": true,
           "type": "scattergeo"
          },
          {
           "geo": "geo",
           "hoverlabel": {
            "namelength": 0
           },
           "hovertemplate": "<b>%{hovertext}</b><br><br>continent=Asia<br>Year=2002<br>Medal count=%{marker.size}<br>country_iso=%{location}",
           "hovertext": [
            "China",
            "Japan",
            "South Korea"
           ],
           "legendgroup": "Asia",
           "locationmode": "ISO-3",
           "locations": [
            "CHN",
            "JPN",
            "KOR"
           ],
           "marker": {
            "color": "#ab63fa",
            "size": [
             16,
             2,
             7
            ],
            "sizemode": "area",
            "sizeref": 0.985
           },
           "name": "Asia",
           "showlegend": true,
           "type": "scattergeo"
          }
         ],
         "name": "2002"
        },
        {
         "data": [
          {
           "geo": "geo",
           "hoverlabel": {
            "namelength": 0
           },
           "hovertemplate": "<b>%{hovertext}</b><br><br>continent=Europe<br>Year=2004<br>Medal count=%{marker.size}<br>country_iso=%{location}",
           "hovertext": [
            "Sweden",
            "Bulgaria",
            "Germany",
            "Norway",
            "Belarus",
            "Serbia",
            "Russia",
            "Netherlands",
            "Slovakia",
            "Austria",
            "Croatia",
            "Slovenia",
            "Lithuania",
            "Belgium",
            "Latvia",
            "Romania",
            "Finland",
            "Hungary",
            "Ukraine",
            "Greece",
            "France",
            "Poland",
            "Estonia",
            "Switzerland",
            "Italy",
            "Spain",
            "Denmark",
            "Portugal",
            "UK",
            "Czech Republic"
           ],
           "legendgroup": "Europe",
           "locationmode": "ISO-3",
           "locations": [
            "SWE",
            "BGR",
            "DEU",
            "NOR",
            "BLR",
            "SRB",
            "RUS",
            "NLD",
            "SVK",
            "AUT",
            "HRV",
            "SVN",
            "LTU",
            "BEL",
            "LVA",
            "ROU",
            "FIN",
            "HUN",
            "UKR",
            "GRC",
            "FRA",
            "POL",
            "EST",
            "CHE",
            "ITA",
            "ESP",
            "DNK",
            "PRT",
            "GBR",
            "CZE"
           ],
           "marker": {
            "color": "#636efa",
            "size": [
             12,
             17,
             149,
             7,
             15,
             13,
             189,
             77,
             10,
             8,
             21,
             5,
             3,
             3,
             4,
             39,
             2,
             40,
             47,
             31,
             53,
             12,
             3,
             7,
             104,
             30,
             29,
             3,
             57,
             13
            ],
            "sizemode": "area",
            "sizeref": 0.985
           },
           "name": "Europe",
           "showlegend": true,
           "type": "scattergeo"
          },
          {
           "geo": "geo",
           "hoverlabel": {
            "namelength": 0
           },
           "hovertemplate": "<b>%{hovertext}</b><br><br>continent=Americas<br>Year=2004<br>Medal count=%{marker.size}<br>country_iso=%{location}",
           "hovertext": [
            "Brazil",
            "USA",
            "Canada",
            "Chile",
            "Colombia",
            "Jamaica",
            "Argentina",
            "Mexico",
            "Venezuela",
            "Bahamas",
            "Cuba",
            "Paraguay",
            "Trinidad",
            "Dominican Republic"
           ],
           "legendgroup": "Americas",
           "locationmode": "ISO-3",
           "locations": [
            "BRA",
            "USA",
            "CAN",
            "CHL",
            "COL",
            "JAM",
            "ARG",
            "MEX",
            "VEN",
            "BHS",
            "CUB",
            "PRY",
            "TTO",
            "DOM"
           ],
           "marker": {
            "color": "#EF553B",
            "size": [
             40,
             263,
             17,
             4,
             2,
             13,
             49,
             4,
             2,
             2,
             62,
             17,
             1,
             1
            ],
            "sizemode": "area",
            "sizeref": 0.985
           },
           "name": "Americas",
           "showlegend": true,
           "type": "scattergeo"
          },
          {
           "geo": "geo",
           "hoverlabel": {
            "namelength": 0
           },
           "hovertemplate": "<b>%{hovertext}</b><br><br>continent=Oceania<br>Year=2004<br>Medal count=%{marker.size}<br>country_iso=%{location}",
           "hovertext": [
            "Australia",
            "New Zealand"
           ],
           "legendgroup": "Oceania",
           "locationmode": "ISO-3",
           "locations": [
            "AUS",
            "NZL"
           ],
           "marker": {
            "color": "#00cc96",
            "size": [
             157,
             6
            ],
            "sizemode": "area",
            "sizeref": 0.985
           },
           "name": "Oceania",
           "showlegend": true,
           "type": "scattergeo"
          },
          {
           "geo": "geo",
           "hoverlabel": {
            "namelength": 0
           },
           "hovertemplate": "<b>%{hovertext}</b><br><br>continent=Asia<br>Year=2004<br>Medal count=%{marker.size}<br>country_iso=%{location}",
           "hovertext": [
            "Syria",
            "China",
            "Kazakhstan",
            "North Korea",
            "Japan",
            "South Korea",
            "Uzbekistan",
            "Mongolia",
            "Azerbaijan",
            "China",
            "Turkey",
            "United Arab Emirates",
            "India",
            "Indonesia",
            "Thailand",
            "Georgia",
            "Israel"
           ],
           "legendgroup": "Asia",
           "locationmode": "ISO-3",
           "locations": [
            "SYR",
            "CHN",
            "KAZ",
            "PRK",
            "JPN",
            "KOR",
            "UZB",
            "MNG",
            "AZE",
            "CHN",
            "TUR",
            "ARE",
            "IND",
            "IDN",
            "THA",
            "GEO",
            "ISR"
           ],
           "marker": {
            "color": "#ab63fa",
            "size": [
             1,
             94,
             8,
             5,
             93,
             52,
             5,
             1,
             5,
             2,
             11,
             1,
             1,
             5,
             8,
             4,
             2
            ],
            "sizemode": "area",
            "sizeref": 0.985
           },
           "name": "Asia",
           "showlegend": true,
           "type": "scattergeo"
          },
          {
           "geo": "geo",
           "hoverlabel": {
            "namelength": 0
           },
           "hovertemplate": "<b>%{hovertext}</b><br><br>continent=Africa<br>Year=2004<br>Medal count=%{marker.size}<br>country_iso=%{location}",
           "hovertext": [
            "Kenya",
            "Cameroon",
            "Nigeria",
            "Morocco",
            "South Africa",
            "Ethiopia",
            "Eritrea",
            "Egypt",
            "Zimbabwe"
           ],
           "legendgroup": "Africa",
           "locationmode": "ISO-3",
           "locations": [
            "KEN",
            "CMR",
            "NGA",
            "MAR",
            "ZAF",
            "ETH",
            "ERI",
            "EGY",
            "ZWE"
           ],
           "marker": {
            "color": "#FFA15A",
            "size": [
             7,
             1,
             8,
             3,
             10,
             7,
             1,
             5,
             3
            ],
            "sizemode": "area",
            "sizeref": 0.985
           },
           "name": "Africa",
           "showlegend": true,
           "type": "scattergeo"
          }
         ],
         "name": "2004"
        },
        {
         "data": [
          {
           "geo": "geo",
           "hoverlabel": {
            "namelength": 0
           },
           "hovertemplate": "<b>%{hovertext}</b><br><br>continent=Europe<br>Year=2006<br>Medal count=%{marker.size}<br>country_iso=%{location}",
           "hovertext": [
            "Latvia",
            "Switzerland",
            "Finland",
            "Russia",
            "Austria",
            "France",
            "Slovakia",
            "UK",
            "Netherlands",
            "Italy",
            "Germany",
            "Sweden",
            "Norway",
            "Poland",
            "Ukraine",
            "Czech Republic",
            "Croatia",
            "Estonia",
            "Belarus",
            "Bulgaria"
           ],
           "legendgroup": "Europe",
           "locationmode": "ISO-3",
           "locations": [
            "LVA",
            "CHE",
            "FIN",
            "RUS",
            "AUT",
            "FRA",
            "SVK",
            "GBR",
            "NLD",
            "ITA",
            "DEU",
            "SWE",
            "NOR",
            "POL",
            "UKR",
            "CZE",
            "HRV",
            "EST",
            "BLR",
            "BGR"
           ],
           "marker": {
            "color": "#636efa",
            "size": [
             1,
             21,
             41,
             41,
             30,
             15,
             1,
             1,
             13,
             25,
             54,
             64,
             23,
             2,
             3,
             27,
             3,
             3,
             1,
             1
            ],
            "sizemode": "area",
            "sizeref": 0.985
           },
           "name": "Europe",
           "showlegend": true,
           "type": "scattergeo"
          },
          {
           "geo": "geo",
           "hoverlabel": {
            "namelength": 0
           },
           "hovertemplate": "<b>%{hovertext}</b><br><br>continent=Americas<br>Year=2006<br>Medal count=%{marker.size}<br>country_iso=%{location}",
           "hovertext": [
            "Canada",
            "USA"
           ],
           "legendgroup": "Americas",
           "locationmode": "ISO-3",
           "locations": [
            "CAN",
            "USA"
           ],
           "marker": {
            "color": "#EF553B",
            "size": [
             69,
             52
            ],
            "sizemode": "area",
            "sizeref": 0.985
           },
           "name": "Americas",
           "showlegend": true,
           "type": "scattergeo"
          },
          {
           "geo": "geo",
           "hoverlabel": {
            "namelength": 0
           },
           "hovertemplate": "<b>%{hovertext}</b><br><br>continent=Oceania<br>Year=2006<br>Medal count=%{marker.size}<br>country_iso=%{location}",
           "hovertext": [
            "Australia"
           ],
           "legendgroup": "Oceania",
           "locationmode": "ISO-3",
           "locations": [
            "AUS"
           ],
           "marker": {
            "color": "#00cc96",
            "size": [
             2
            ],
            "sizemode": "area",
            "sizeref": 0.985
           },
           "name": "Oceania",
           "showlegend": true,
           "type": "scattergeo"
          },
          {
           "geo": "geo",
           "hoverlabel": {
            "namelength": 0
           },
           "hovertemplate": "<b>%{hovertext}</b><br><br>continent=Asia<br>Year=2006<br>Medal count=%{marker.size}<br>country_iso=%{location}",
           "hovertext": [
            "China",
            "Japan",
            "South Korea"
           ],
           "legendgroup": "Asia",
           "locationmode": "ISO-3",
           "locations": [
            "CHN",
            "JPN",
            "KOR"
           ],
           "marker": {
            "color": "#ab63fa",
            "size": [
             13,
             1,
             19
            ],
            "sizemode": "area",
            "sizeref": 0.985
           },
           "name": "Asia",
           "showlegend": true,
           "type": "scattergeo"
          }
         ],
         "name": "2006"
        },
        {
         "data": [
          {
           "geo": "geo",
           "hoverlabel": {
            "namelength": 0
           },
           "hovertemplate": "<b>%{hovertext}</b><br><br>continent=Europe<br>Year=2008<br>Medal count=%{marker.size}<br>country_iso=%{location}",
           "hovertext": [
            "Switzerland",
            "Ukraine",
            "Slovenia",
            "Slovakia",
            "Serbia",
            "Sweden",
            "Latvia",
            "Denmark",
            "Lithuania",
            "Czech Republic",
            "Moldova",
            "Croatia",
            "Netherlands",
            "Greece",
            "Germany",
            "Ireland",
            "Iceland",
            "Italy",
            "UK",
            "France",
            "Finland",
            "Estonia",
            "Spain",
            "Bulgaria",
            "Hungary",
            "Poland",
            "Belarus",
            "Portugal",
            "Belgium",
            "Russia",
            "Austria",
            "Romania",
            "Norway"
           ],
           "legendgroup": "Europe",
           "locationmode": "ISO-3",
           "locations": [
            "CHE",
            "UKR",
            "SVN",
            "SVK",
            "SRB",
            "SWE",
            "LVA",
            "DNK",
            "LTU",
            "CZE",
            "MDA",
            "HRV",
            "NLD",
            "GRC",
            "DEU",
            "IRL",
            "ISL",
            "ITA",
            "GBR",
            "FRA",
            "FIN",
            "EST",
            "ESP",
            "BGR",
            "HUN",
            "POL",
            "BLR",
            "PRT",
            "BEL",
            "RUS",
            "AUT",
            "ROU",
            "NOR"
           ],
           "marker": {
            "color": "#636efa",
            "size": [
             11,
             31,
             5,
             10,
             15,
             7,
             3,
             19,
             5,
             7,
             1,
             5,
             61,
             7,
             99,
             3,
             14,
             42,
             81,
             77,
             5,
             3,
             70,
             5,
             27,
             20,
             29,
             2,
             5,
             142,
             3,
             22,
             22
            ],
            "sizemode": "area",
            "sizeref": 0.985
           },
           "name": "Europe",
           "showlegend": true,
           "type": "scattergeo"
          },
          {
           "geo": "geo",
           "hoverlabel": {
            "namelength": 0
           },
           "hovertemplate": "<b>%{hovertext}</b><br><br>continent=Americas<br>Year=2008<br>Medal count=%{marker.size}<br>country_iso=%{location}",
           "hovertext": [
            "Trinidad",
            "Venezuela",
            "USA",
            "Dominican Republic",
            "Ecuador",
            "Colombia",
            "Chile",
            "Mexico",
            "Jamaica",
            "Canada",
            "Cuba",
            "Argentina",
            "Bahamas",
            "Panama",
            "Brazil"
           ],
           "legendgroup": "Americas",
           "locationmode": "ISO-3",
           "locations": [
            "TTO",
            "VEN",
            "USA",
            "DOM",
            "ECU",
            "COL",
            "CHL",
            "MEX",
            "JAM",
            "CAN",
            "CUB",
            "ARG",
            "BHS",
            "PAN",
            "BRA"
           ],
           "marker": {
            "color": "#EF553B",
            "size": [
             6,
             1,
             317,
             2,
             1,
             2,
             1,
             4,
             14,
             35,
             47,
             51,
             7,
             1,
             78
            ],
            "sizemode": "area",
            "sizeref": 0.985
           },
           "name": "Americas",
           "showlegend": true,
           "type": "scattergeo"
          },
          {
           "geo": "geo",
           "hoverlabel": {
            "namelength": 0
           },
           "hovertemplate": "<b>%{hovertext}</b><br><br>continent=Oceania<br>Year=2008<br>Medal count=%{marker.size}<br>country_iso=%{location}",
           "hovertext": [
            "Australia",
            "New Zealand"
           ],
           "legendgroup": "Oceania",
           "locationmode": "ISO-3",
           "locations": [
            "AUS",
            "NZL"
           ],
           "marker": {
            "color": "#00cc96",
            "size": [
             149,
             15
            ],
            "sizemode": "area",
            "sizeref": 0.985
           },
           "name": "Oceania",
           "showlegend": true,
           "type": "scattergeo"
          },
          {
           "geo": "geo",
           "hoverlabel": {
            "namelength": 0
           },
           "hovertemplate": "<b>%{hovertext}</b><br><br>continent=Asia<br>Year=2008<br>Medal count=%{marker.size}<br>country_iso=%{location}",
           "hovertext": [
            "Uzbekistan",
            "Thailand",
            "Tajikistan",
            "Turkey",
            "Afghanistan",
            "Malaysia",
            "Indonesia",
            "Mongolia",
            "China",
            "South Korea",
            "Kyrgyzstan",
            "India",
            "Georgia",
            "Israel",
            "Japan",
            "Kazakhstan",
            "Azerbaijan",
            "Armenia",
            "North Korea"
           ],
           "legendgroup": "Asia",
           "locationmode": "ISO-3",
           "locations": [
            "UZB",
            "THA",
            "TJK",
            "TUR",
            "AFG",
            "MYS",
            "IDN",
            "MNG",
            "CHN",
            "KOR",
            "KGZ",
            "IND",
            "GEO",
            "ISR",
            "JPN",
            "KAZ",
            "AZE",
            "ARM",
            "PRK"
           ],
           "marker": {
            "color": "#ab63fa",
            "size": [
             6,
             4,
             2,
             7,
             1,
             1,
             7,
             4,
             184,
             78,
             2,
             3,
             6,
             1,
             51,
             13,
             7,
             6,
             6
            ],
            "sizemode": "area",
            "sizeref": 0.985
           },
           "name": "Asia",
           "showlegend": true,
           "type": "scattergeo"
          },
          {
           "geo": "geo",
           "hoverlabel": {
            "namelength": 0
           },
           "hovertemplate": "<b>%{hovertext}</b><br><br>continent=Africa<br>Year=2008<br>Medal count=%{marker.size}<br>country_iso=%{location}",
           "hovertext": [
            "Tunisia",
            "Togo",
            "Sudan",
            "Zimbabwe",
            "Morocco",
            "Cameroon",
            "Mauritius",
            "Egypt",
            "Ethiopia",
            "Kenya",
            "Algeria",
            "South Africa",
            "Nigeria"
           ],
           "legendgroup": "Africa",
           "locationmode": "ISO-3",
           "locations": [
            "TUN",
            "TGO",
            "SDN",
            "ZWE",
            "MAR",
            "CMR",
            "MUS",
            "EGY",
            "ETH",
            "KEN",
            "DZA",
            "ZAF",
            "NGA"
           ],
           "marker": {
            "color": "#FFA15A",
            "size": [
             1,
             1,
             1,
             4,
             2,
             1,
             1,
             1,
             7,
             15,
             2,
             1,
             23
            ],
            "sizemode": "area",
            "sizeref": 0.985
           },
           "name": "Africa",
           "showlegend": true,
           "type": "scattergeo"
          }
         ],
         "name": "2008"
        },
        {
         "data": [
          {
           "geo": "geo",
           "hoverlabel": {
            "namelength": 0
           },
           "hovertemplate": "<b>%{hovertext}</b><br><br>continent=Europe<br>Year=2010<br>Medal count=%{marker.size}<br>country_iso=%{location}",
           "hovertext": [
            "UK",
            "Italy",
            "Sweden",
            "Austria",
            "Croatia",
            "Switzerland",
            "Netherlands",
            "France",
            "Finland",
            "Norway",
            "Estonia",
            "Slovenia",
            "Germany",
            "Russia",
            "Belarus",
            "Slovakia",
            "Czech Republic",
            "Poland",
            "Latvia"
           ],
           "legendgroup": "Europe",
           "locationmode": "ISO-3",
           "locations": [
            "GBR",
            "ITA",
            "SWE",
            "AUT",
            "HRV",
            "CHE",
            "NLD",
            "FRA",
            "FIN",
            "NOR",
            "EST",
            "SVN",
            "DEU",
            "RUS",
            "BLR",
            "SVK",
            "CZE",
            "POL",
            "LVA"
           ],
           "marker": {
            "color": "#636efa",
            "size": [
             1,
             5,
             18,
             26,
             3,
             12,
             11,
             14,
             47,
             39,
             1,
             3,
             54,
             25,
             3,
             3,
             9,
             8,
             3
            ],
            "sizemode": "area",
            "sizeref": 0.985
           },
           "name": "Europe",
           "showlegend": true,
           "type": "scattergeo"
          },
          {
           "geo": "geo",
           "hoverlabel": {
            "namelength": 0
           },
           "hovertemplate": "<b>%{hovertext}</b><br><br>continent=Americas<br>Year=2010<br>Medal count=%{marker.size}<br>country_iso=%{location}",
           "hovertext": [
            "Canada",
            "USA"
           ],
           "legendgroup": "Americas",
           "locationmode": "ISO-3",
           "locations": [
            "CAN",
            "USA"
           ],
           "marker": {
            "color": "#EF553B",
            "size": [
             90,
             97
            ],
            "sizemode": "area",
            "sizeref": 0.985
           },
           "name": "Americas",
           "showlegend": true,
           "type": "scattergeo"
          },
          {
           "geo": "geo",
           "hoverlabel": {
            "namelength": 0
           },
           "hovertemplate": "<b>%{hovertext}</b><br><br>continent=Oceania<br>Year=2010<br>Medal count=%{marker.size}<br>country_iso=%{location}",
           "hovertext": [
            "Australia"
           ],
           "legendgroup": "Oceania",
           "locationmode": "ISO-3",
           "locations": [
            "AUS"
           ],
           "marker": {
            "color": "#00cc96",
            "size": [
             3
            ],
            "sizemode": "area",
            "sizeref": 0.985
           },
           "name": "Oceania",
           "showlegend": true,
           "type": "scattergeo"
          },
          {
           "geo": "geo",
           "hoverlabel": {
            "namelength": 0
           },
           "hovertemplate": "<b>%{hovertext}</b><br><br>continent=Asia<br>Year=2010<br>Medal count=%{marker.size}<br>country_iso=%{location}",
           "hovertext": [
            "South Korea",
            "Kazakhstan",
            "Japan",
            "China"
           ],
           "legendgroup": "Asia",
           "locationmode": "ISO-3",
           "locations": [
            "KOR",
            "KAZ",
            "JPN",
            "CHN"
           ],
           "marker": {
            "color": "#ab63fa",
            "size": [
             18,
             1,
             7,
             19
            ],
            "sizemode": "area",
            "sizeref": 0.985
           },
           "name": "Asia",
           "showlegend": true,
           "type": "scattergeo"
          }
         ],
         "name": "2010"
        },
        {
         "data": [
          {
           "geo": "geo",
           "hoverlabel": {
            "namelength": 0
           },
           "hovertemplate": "<b>%{hovertext}</b><br><br>continent=Europe<br>Year=2012<br>Medal count=%{marker.size}<br>country_iso=%{location}",
           "hovertext": [
            "Germany",
            "France",
            "UK",
            "Greece",
            "Bulgaria",
            "Belarus",
            "Croatia",
            "Czech Republic",
            "Belgium",
            "Denmark",
            "Ukraine",
            "Estonia",
            "Finland",
            "Spain",
            "Portugal",
            "Switzerland",
            "Sweden",
            "Poland",
            "Latvia",
            "Lithuania",
            "Hungary",
            "Moldova",
            "Norway",
            "Slovakia",
            "Montenegro",
            "Italy",
            "Netherlands",
            "Serbia",
            "Ireland",
            "Slovenia",
            "Romania",
            "Russia"
           ],
           "legendgroup": "Europe",
           "locationmode": "ISO-3",
           "locations": [
            "DEU",
            "FRA",
            "GBR",
            "GRC",
            "BGR",
            "BLR",
            "HRV",
            "CZE",
            "BEL",
            "DNK",
            "UKR",
            "EST",
            "FIN",
            "ESP",
            "PRT",
            "CHE",
            "SWE",
            "POL",
            "LVA",
            "LTU",
            "HUN",
            "MDA",
            "NOR",
            "SVK",
            "MNE",
            "ITA",
            "NLD",
            "SRB",
            "IRL",
            "SVN",
            "ROU",
            "RUS"
           ],
           "marker": {
            "color": "#636efa",
            "size": [
             94,
             82,
             126,
             3,
             2,
             23,
             35,
             14,
             3,
             16,
             26,
             2,
             5,
             63,
             2,
             4,
             22,
             12,
             3,
             5,
             26,
             2,
             17,
             5,
             14,
             68,
             69,
             16,
             5,
             5,
             16,
             140
            ],
            "sizemode": "area",
            "sizeref": 0.985
           },
           "name": "Europe",
           "showlegend": true,
           "type": "scattergeo"
          },
          {
           "geo": "geo",
           "hoverlabel": {
            "namelength": 0
           },
           "hovertemplate": "<b>%{hovertext}</b><br><br>continent=Americas<br>Year=2012<br>Medal count=%{marker.size}<br>country_iso=%{location}",
           "hovertext": [
            "Guatemala",
            "Trinidad",
            "Argentina",
            "Canada",
            "Brazil",
            "Colombia",
            "USA",
            "Cuba",
            "Dominican Republic",
            "Bahamas",
            "Venezuela",
            "Grenada",
            "Puerto Rico",
            "Mexico",
            "Jamaica"
           ],
           "legendgroup": "Americas",
           "locationmode": "ISO-3",
           "locations": [
            "GTM",
            "TTO",
            "ARG",
            "CAN",
            "BRA",
            "COL",
            "USA",
            "CUB",
            "DOM",
            "BHS",
            "VEN",
            "GRD",
            "PRI",
            "MEX",
            "JAM"
           ],
           "marker": {
            "color": "#EF553B",
            "size": [
             1,
             10,
             19,
             55,
             59,
             8,
             248,
             14,
             2,
             4,
             1,
             1,
             2,
             24,
             25
            ],
            "sizemode": "area",
            "sizeref": 0.985
           },
           "name": "Americas",
           "showlegend": true,
           "type": "scattergeo"
          },
          {
           "geo": "geo",
           "hoverlabel": {
            "namelength": 0
           },
           "hovertemplate": "<b>%{hovertext}</b><br><br>continent=Oceania<br>Year=2012<br>Medal count=%{marker.size}<br>country_iso=%{location}",
           "hovertext": [
            "Australia",
            "New Zealand"
           ],
           "legendgroup": "Oceania",
           "locationmode": "ISO-3",
           "locations": [
            "AUS",
            "NZL"
           ],
           "marker": {
            "color": "#00cc96",
            "size": [
             114,
             27
            ],
            "sizemode": "area",
            "sizeref": 0.985
           },
           "name": "Oceania",
           "showlegend": true,
           "type": "scattergeo"
          },
          {
           "geo": "geo",
           "hoverlabel": {
            "namelength": 0
           },
           "hovertemplate": "<b>%{hovertext}</b><br><br>continent=Asia<br>Year=2012<br>Medal count=%{marker.size}<br>country_iso=%{location}",
           "hovertext": [
            "Armenia",
            "China",
            "Afghanistan",
            "Georgia",
            "Turkey",
            "Bahrain",
            "China",
            "Cyprus",
            "Uzbekistan",
            "Azerbaijan",
            "Japan",
            "North Korea",
            "Kazakhstan",
            "South Korea",
            "Saudi Arabia",
            "Kuwait",
            "Malaysia",
            "Mongolia",
            "India",
            "Qatar",
            "Thailand",
            "Tajikistan",
            "Indonesia"
           ],
           "legendgroup": "Asia",
           "locationmode": "ISO-3",
           "locations": [
            "ARM",
            "CHN",
            "AFG",
            "GEO",
            "TUR",
            "BHR",
            "CHN",
            "CYP",
            "UZB",
            "AZE",
            "JPN",
            "PRK",
            "KAZ",
            "KOR",
            "SAU",
            "KWT",
            "MYS",
            "MNG",
            "IND",
            "QAT",
            "THA",
            "TJK",
            "IDN"
           ],
           "marker": {
            "color": "#ab63fa",
            "size": [
             3,
             1,
             1,
             7,
             5,
             1,
             125,
             1,
             3,
             10,
             84,
             6,
             13,
             61,
             4,
             1,
             2,
             5,
             6,
             2,
             3,
             1,
             2
            ],
            "sizemode": "area",
            "sizeref": 0.985
           },
           "name": "Asia",
           "showlegend": true,
           "type": "scattergeo"
          },
          {
           "geo": "geo",
           "hoverlabel": {
            "namelength": 0
           },
           "hovertemplate": "<b>%{hovertext}</b><br><br>continent=Africa<br>Year=2012<br>Medal count=%{marker.size}<br>country_iso=%{location}",
           "hovertext": [
            "Tunisia",
            "Gabon",
            "Algeria",
            "Botswana",
            "Egypt",
            "Uganda",
            "Ethiopia",
            "Kenya",
            "Morocco",
            "South Africa"
           ],
           "legendgroup": "Africa",
           "locationmode": "ISO-3",
           "locations": [
            "TUN",
            "GAB",
            "DZA",
            "BWA",
            "EGY",
            "UGA",
            "ETH",
            "KEN",
            "MAR",
            "ZAF"
           ],
           "marker": {
            "color": "#FFA15A",
            "size": [
             3,
             1,
             1,
             1,
             2,
             1,
             7,
             11,
             1,
             9
            ],
            "sizemode": "area",
            "sizeref": 0.985
           },
           "name": "Africa",
           "showlegend": true,
           "type": "scattergeo"
          }
         ],
         "name": "2012"
        },
        {
         "data": [
          {
           "geo": "geo",
           "hoverlabel": {
            "namelength": 0
           },
           "hovertemplate": "<b>%{hovertext}</b><br><br>continent=Europe<br>Year=2014<br>Medal count=%{marker.size}<br>country_iso=%{location}",
           "hovertext": [
            "Norway",
            "Switzerland",
            "Netherlands",
            "Belarus",
            "Slovenia",
            "Latvia",
            "Germany",
            "Ukraine",
            "Slovakia",
            "Croatia",
            "Czech Republic",
            "Italy",
            "Russia",
            "Austria",
            "France",
            "Poland",
            "UK",
            "Sweden",
            "Finland"
           ],
           "legendgroup": "Europe",
           "locationmode": "ISO-3",
           "locations": [
            "NOR",
            "CHE",
            "NLD",
            "BLR",
            "SVN",
            "LVA",
            "DEU",
            "UKR",
            "SVK",
            "HRV",
            "CZE",
            "ITA",
            "RUS",
            "AUT",
            "FRA",
            "POL",
            "GBR",
            "SWE",
            "FIN"
           ],
           "marker": {
            "color": "#636efa",
            "size": [
             36,
             30,
             29,
             6,
             8,
             11,
             36,
             5,
             1,
             1,
             11,
             14,
             68,
             27,
             18,
             11,
             10,
             51,
             33
            ],
            "sizemode": "area",
            "sizeref": 0.985
           },
           "name": "Europe",
           "showlegend": true,
           "type": "scattergeo"
          },
          {
           "geo": "geo",
           "hoverlabel": {
            "namelength": 0
           },
           "hovertemplate": "<b>%{hovertext}</b><br><br>continent=Americas<br>Year=2014<br>Medal count=%{marker.size}<br>country_iso=%{location}",
           "hovertext": [
            "Canada",
            "USA"
           ],
           "legendgroup": "Americas",
           "locationmode": "ISO-3",
           "locations": [
            "CAN",
            "USA"
           ],
           "marker": {
            "color": "#EF553B",
            "size": [
             86,
             64
            ],
            "sizemode": "area",
            "sizeref": 0.985
           },
           "name": "Americas",
           "showlegend": true,
           "type": "scattergeo"
          },
          {
           "geo": "geo",
           "hoverlabel": {
            "namelength": 0
           },
           "hovertemplate": "<b>%{hovertext}</b><br><br>continent=Oceania<br>Year=2014<br>Medal count=%{marker.size}<br>country_iso=%{location}",
           "hovertext": [
            "Australia"
           ],
           "legendgroup": "Oceania",
           "locationmode": "ISO-3",
           "locations": [
            "AUS"
           ],
           "marker": {
            "color": "#00cc96",
            "size": [
             3
            ],
            "sizemode": "area",
            "sizeref": 0.985
           },
           "name": "Oceania",
           "showlegend": true,
           "type": "scattergeo"
          },
          {
           "geo": "geo",
           "hoverlabel": {
            "namelength": 0
           },
           "hovertemplate": "<b>%{hovertext}</b><br><br>continent=Asia<br>Year=2014<br>Medal count=%{marker.size}<br>country_iso=%{location}",
           "hovertext": [
            "South Korea",
            "China",
            "Japan",
            "Kazakhstan"
           ],
           "legendgroup": "Asia",
           "locationmode": "ISO-3",
           "locations": [
            "KOR",
            "CHN",
            "JPN",
            "KAZ"
           ],
           "marker": {
            "color": "#ab63fa",
            "size": [
             14,
             12,
             11,
             1
            ],
            "sizemode": "area",
            "sizeref": 0.985
           },
           "name": "Asia",
           "showlegend": true,
           "type": "scattergeo"
          }
         ],
         "name": "2014"
        },
        {
         "data": [
          {
           "geo": "geo",
           "hoverlabel": {
            "namelength": 0
           },
           "hovertemplate": "<b>%{hovertext}</b><br><br>continent=Europe<br>Year=2016<br>Medal count=%{marker.size}<br>country_iso=%{location}",
           "hovertext": [
            "Belgium",
            "Austria",
            "Netherlands",
            "Belarus",
            "Poland",
            "Serbia",
            "Romania",
            "Portugal",
            "Norway",
            "Slovenia",
            "Hungary",
            "Finland",
            "Italy",
            "France",
            "Ireland",
            "UK",
            "Germany",
            "Greece",
            "Russia",
            "Bulgaria",
            "Switzerland",
            "Slovakia",
            "Croatia",
            "Lithuania",
            "Czech Republic",
            "Denmark",
            "Ukraine",
            "Spain",
            "Sweden",
            "Estonia"
           ],
           "legendgroup": "Europe",
           "locationmode": "ISO-3",
           "locations": [
            "BEL",
            "AUT",
            "NLD",
            "BLR",
            "POL",
            "SRB",
            "ROU",
            "PRT",
            "NOR",
            "SVN",
            "HUN",
            "FIN",
            "ITA",
            "FRA",
            "IRL",
            "GBR",
            "DEU",
            "GRC",
            "RUS",
            "BGR",
            "CHE",
            "SVK",
            "HRV",
            "LTU",
            "CZE",
            "DNK",
            "UKR",
            "ESP",
            "SWE",
            "EST"
           ],
           "marker": {
            "color": "#636efa",
            "size": [
             21,
             2,
             47,
             12,
             16,
             54,
             16,
             1,
             19,
             4,
             22,
             1,
             72,
             96,
             3,
             145,
             159,
             7,
             115,
             7,
             11,
             8,
             24,
             7,
             15,
             41,
             15,
             45,
             28,
             4
            ],
            "sizemode": "area",
            "sizeref": 0.985
           },
           "name": "Europe",
           "showlegend": true,
           "type": "scattergeo"
          },
          {
           "geo": "geo",
           "hoverlabel": {
            "namelength": 0
           },
           "hovertemplate": "<b>%{hovertext}</b><br><br>continent=Americas<br>Year=2016<br>Medal count=%{marker.size}<br>country_iso=%{location}",
           "hovertext": [
            "Venezuela",
            "Puerto Rico",
            "Brazil",
            "USA",
            "Argentina",
            "Bahamas",
            "Canada",
            "Jamaica",
            "Trinidad",
            "Grenada",
            "Mexico",
            "Colombia",
            "Cuba",
            "Dominican Republic"
           ],
           "legendgroup": "Americas",
           "locationmode": "ISO-3",
           "locations": [
            "VEN",
            "PRI",
            "BRA",
            "USA",
            "ARG",
            "BHS",
            "CAN",
            "JAM",
            "TTO",
            "GRD",
            "MEX",
            "COL",
            "CUB",
            "DOM"
           ],
           "marker": {
            "color": "#EF553B",
            "size": [
             3,
             1,
             50,
             264,
             22,
             6,
             69,
             30,
             1,
             1,
             5,
             8,
             11,
             1
            ],
            "sizemode": "area",
            "sizeref": 0.985
           },
           "name": "Americas",
           "showlegend": true,
           "type": "scattergeo"
          },
          {
           "geo": "geo",
           "hoverlabel": {
            "namelength": 0
           },
           "hovertemplate": "<b>%{hovertext}</b><br><br>continent=Oceania<br>Year=2016<br>Medal count=%{marker.size}<br>country_iso=%{location}",
           "hovertext": [
            "Australia",
            "New Zealand",
            "Fiji"
           ],
           "legendgroup": "Oceania",
           "locationmode": "ISO-3",
           "locations": [
            "AUS",
            "NZL",
            "FJI"
           ],
           "marker": {
            "color": "#00cc96",
            "size": [
             82,
             36,
             13
            ],
            "sizemode": "area",
            "sizeref": 0.985
           },
           "name": "Oceania",
           "showlegend": true,
           "type": "scattergeo"
          },
          {
           "geo": "geo",
           "hoverlabel": {
            "namelength": 0
           },
           "hovertemplate": "<b>%{hovertext}</b><br><br>continent=Asia<br>Year=2016<br>Medal count=%{marker.size}<br>country_iso=%{location}",
           "hovertext": [
            "Bahrain",
            "Qatar",
            "Uzbekistan",
            "Armenia",
            "Philippines",
            "Azerbaijan",
            "North Korea",
            "Turkey",
            "Jordan",
            "Israel",
            "Georgia",
            "India",
            "Thailand",
            "Tajikistan",
            "Indonesia",
            "Japan",
            "United Arab Emirates",
            "Mongolia",
            "China",
            "South Korea",
            "Kazakhstan",
            "Malaysia"
           ],
           "legendgroup": "Asia",
           "locationmode": "ISO-3",
           "locations": [
            "BHR",
            "QAT",
            "UZB",
            "ARM",
            "PHL",
            "AZE",
            "PRK",
            "TUR",
            "JOR",
            "ISR",
            "GEO",
            "IND",
            "THA",
            "TJK",
            "IDN",
            "JPN",
            "ARE",
            "MNG",
            "CHN",
            "KOR",
            "KAZ",
            "MYS"
           ],
           "marker": {
            "color": "#ab63fa",
            "size": [
             2,
             1,
             13,
             4,
             1,
             18,
             7,
             8,
             1,
             2,
             7,
             2,
             6,
             1,
             4,
             64,
             1,
             2,
             113,
             26,
             18,
             8
            ],
            "sizemode": "area",
            "sizeref": 0.985
           },
           "name": "Asia",
           "showlegend": true,
           "type": "scattergeo"
          },
          {
           "geo": "geo",
           "hoverlabel": {
            "namelength": 0
           },
           "hovertemplate": "<b>%{hovertext}</b><br><br>continent=Africa<br>Year=2016<br>Medal count=%{marker.size}<br>country_iso=%{location}",
           "hovertext": [
            "South Africa",
            "Niger",
            "Nigeria",
            "Algeria",
            "Burundi",
            "Tunisia",
            "Ethiopia",
            "Ivory Coast",
            "Morocco",
            "Egypt",
            "Kenya"
           ],
           "legendgroup": "Africa",
           "locationmode": "ISO-3",
           "locations": [
            "ZAF",
            "NER",
            "NGA",
            "DZA",
            "BDI",
            "TUN",
            "ETH",
            "CIV",
            "MAR",
            "EGY",
            "KEN"
           ],
           "marker": {
            "color": "#FFA15A",
            "size": [
             23,
             1,
             18,
             2,
             1,
             3,
             8,
             2,
             1,
             3,
             13
            ],
            "sizemode": "area",
            "sizeref": 0.985
           },
           "name": "Africa",
           "showlegend": true,
           "type": "scattergeo"
          }
         ],
         "name": "2016"
        }
       ],
       "layout": {
        "geo": {
         "center": {},
         "domain": {
          "x": [
           0,
           1
          ],
          "y": [
           0,
           1
          ]
         },
         "projection": {
          "type": "natural earth"
         }
        },
        "legend": {
         "itemsizing": "constant",
         "title": {
          "text": "continent"
         },
         "tracegroupgap": 0
        },
        "margin": {
         "t": 60
        },
        "showlegend": true,
        "sliders": [
         {
          "active": 0,
          "currentvalue": {
           "prefix": "Year="
          },
          "len": 0.9,
          "pad": {
           "b": 10,
           "t": 60
          },
          "steps": [
           {
            "args": [
             [
              "1896"
             ],
             {
              "frame": {
               "duration": 0,
               "redraw": true
              },
              "fromcurrent": true,
              "mode": "immediate",
              "transition": {
               "duration": 0,
               "easing": "linear"
              }
             }
            ],
            "label": "1896",
            "method": "animate"
           },
           {
            "args": [
             [
              "1900"
             ],
             {
              "frame": {
               "duration": 0,
               "redraw": true
              },
              "fromcurrent": true,
              "mode": "immediate",
              "transition": {
               "duration": 0,
               "easing": "linear"
              }
             }
            ],
            "label": "1900",
            "method": "animate"
           },
           {
            "args": [
             [
              "1904"
             ],
             {
              "frame": {
               "duration": 0,
               "redraw": true
              },
              "fromcurrent": true,
              "mode": "immediate",
              "transition": {
               "duration": 0,
               "easing": "linear"
              }
             }
            ],
            "label": "1904",
            "method": "animate"
           },
           {
            "args": [
             [
              "1906"
             ],
             {
              "frame": {
               "duration": 0,
               "redraw": true
              },
              "fromcurrent": true,
              "mode": "immediate",
              "transition": {
               "duration": 0,
               "easing": "linear"
              }
             }
            ],
            "label": "1906",
            "method": "animate"
           },
           {
            "args": [
             [
              "1908"
             ],
             {
              "frame": {
               "duration": 0,
               "redraw": true
              },
              "fromcurrent": true,
              "mode": "immediate",
              "transition": {
               "duration": 0,
               "easing": "linear"
              }
             }
            ],
            "label": "1908",
            "method": "animate"
           },
           {
            "args": [
             [
              "1912"
             ],
             {
              "frame": {
               "duration": 0,
               "redraw": true
              },
              "fromcurrent": true,
              "mode": "immediate",
              "transition": {
               "duration": 0,
               "easing": "linear"
              }
             }
            ],
            "label": "1912",
            "method": "animate"
           },
           {
            "args": [
             [
              "1920"
             ],
             {
              "frame": {
               "duration": 0,
               "redraw": true
              },
              "fromcurrent": true,
              "mode": "immediate",
              "transition": {
               "duration": 0,
               "easing": "linear"
              }
             }
            ],
            "label": "1920",
            "method": "animate"
           },
           {
            "args": [
             [
              "1924"
             ],
             {
              "frame": {
               "duration": 0,
               "redraw": true
              },
              "fromcurrent": true,
              "mode": "immediate",
              "transition": {
               "duration": 0,
               "easing": "linear"
              }
             }
            ],
            "label": "1924",
            "method": "animate"
           },
           {
            "args": [
             [
              "1928"
             ],
             {
              "frame": {
               "duration": 0,
               "redraw": true
              },
              "fromcurrent": true,
              "mode": "immediate",
              "transition": {
               "duration": 0,
               "easing": "linear"
              }
             }
            ],
            "label": "1928",
            "method": "animate"
           },
           {
            "args": [
             [
              "1932"
             ],
             {
              "frame": {
               "duration": 0,
               "redraw": true
              },
              "fromcurrent": true,
              "mode": "immediate",
              "transition": {
               "duration": 0,
               "easing": "linear"
              }
             }
            ],
            "label": "1932",
            "method": "animate"
           },
           {
            "args": [
             [
              "1936"
             ],
             {
              "frame": {
               "duration": 0,
               "redraw": true
              },
              "fromcurrent": true,
              "mode": "immediate",
              "transition": {
               "duration": 0,
               "easing": "linear"
              }
             }
            ],
            "label": "1936",
            "method": "animate"
           },
           {
            "args": [
             [
              "1948"
             ],
             {
              "frame": {
               "duration": 0,
               "redraw": true
              },
              "fromcurrent": true,
              "mode": "immediate",
              "transition": {
               "duration": 0,
               "easing": "linear"
              }
             }
            ],
            "label": "1948",
            "method": "animate"
           },
           {
            "args": [
             [
              "1952"
             ],
             {
              "frame": {
               "duration": 0,
               "redraw": true
              },
              "fromcurrent": true,
              "mode": "immediate",
              "transition": {
               "duration": 0,
               "easing": "linear"
              }
             }
            ],
            "label": "1952",
            "method": "animate"
           },
           {
            "args": [
             [
              "1956"
             ],
             {
              "frame": {
               "duration": 0,
               "redraw": true
              },
              "fromcurrent": true,
              "mode": "immediate",
              "transition": {
               "duration": 0,
               "easing": "linear"
              }
             }
            ],
            "label": "1956",
            "method": "animate"
           },
           {
            "args": [
             [
              "1960"
             ],
             {
              "frame": {
               "duration": 0,
               "redraw": true
              },
              "fromcurrent": true,
              "mode": "immediate",
              "transition": {
               "duration": 0,
               "easing": "linear"
              }
             }
            ],
            "label": "1960",
            "method": "animate"
           },
           {
            "args": [
             [
              "1964"
             ],
             {
              "frame": {
               "duration": 0,
               "redraw": true
              },
              "fromcurrent": true,
              "mode": "immediate",
              "transition": {
               "duration": 0,
               "easing": "linear"
              }
             }
            ],
            "label": "1964",
            "method": "animate"
           },
           {
            "args": [
             [
              "1968"
             ],
             {
              "frame": {
               "duration": 0,
               "redraw": true
              },
              "fromcurrent": true,
              "mode": "immediate",
              "transition": {
               "duration": 0,
               "easing": "linear"
              }
             }
            ],
            "label": "1968",
            "method": "animate"
           },
           {
            "args": [
             [
              "1972"
             ],
             {
              "frame": {
               "duration": 0,
               "redraw": true
              },
              "fromcurrent": true,
              "mode": "immediate",
              "transition": {
               "duration": 0,
               "easing": "linear"
              }
             }
            ],
            "label": "1972",
            "method": "animate"
           },
           {
            "args": [
             [
              "1976"
             ],
             {
              "frame": {
               "duration": 0,
               "redraw": true
              },
              "fromcurrent": true,
              "mode": "immediate",
              "transition": {
               "duration": 0,
               "easing": "linear"
              }
             }
            ],
            "label": "1976",
            "method": "animate"
           },
           {
            "args": [
             [
              "1980"
             ],
             {
              "frame": {
               "duration": 0,
               "redraw": true
              },
              "fromcurrent": true,
              "mode": "immediate",
              "transition": {
               "duration": 0,
               "easing": "linear"
              }
             }
            ],
            "label": "1980",
            "method": "animate"
           },
           {
            "args": [
             [
              "1984"
             ],
             {
              "frame": {
               "duration": 0,
               "redraw": true
              },
              "fromcurrent": true,
              "mode": "immediate",
              "transition": {
               "duration": 0,
               "easing": "linear"
              }
             }
            ],
            "label": "1984",
            "method": "animate"
           },
           {
            "args": [
             [
              "1988"
             ],
             {
              "frame": {
               "duration": 0,
               "redraw": true
              },
              "fromcurrent": true,
              "mode": "immediate",
              "transition": {
               "duration": 0,
               "easing": "linear"
              }
             }
            ],
            "label": "1988",
            "method": "animate"
           },
           {
            "args": [
             [
              "1992"
             ],
             {
              "frame": {
               "duration": 0,
               "redraw": true
              },
              "fromcurrent": true,
              "mode": "immediate",
              "transition": {
               "duration": 0,
               "easing": "linear"
              }
             }
            ],
            "label": "1992",
            "method": "animate"
           },
           {
            "args": [
             [
              "1994"
             ],
             {
              "frame": {
               "duration": 0,
               "redraw": true
              },
              "fromcurrent": true,
              "mode": "immediate",
              "transition": {
               "duration": 0,
               "easing": "linear"
              }
             }
            ],
            "label": "1994",
            "method": "animate"
           },
           {
            "args": [
             [
              "1996"
             ],
             {
              "frame": {
               "duration": 0,
               "redraw": true
              },
              "fromcurrent": true,
              "mode": "immediate",
              "transition": {
               "duration": 0,
               "easing": "linear"
              }
             }
            ],
            "label": "1996",
            "method": "animate"
           },
           {
            "args": [
             [
              "1998"
             ],
             {
              "frame": {
               "duration": 0,
               "redraw": true
              },
              "fromcurrent": true,
              "mode": "immediate",
              "transition": {
               "duration": 0,
               "easing": "linear"
              }
             }
            ],
            "label": "1998",
            "method": "animate"
           },
           {
            "args": [
             [
              "2000"
             ],
             {
              "frame": {
               "duration": 0,
               "redraw": true
              },
              "fromcurrent": true,
              "mode": "immediate",
              "transition": {
               "duration": 0,
               "easing": "linear"
              }
             }
            ],
            "label": "2000",
            "method": "animate"
           },
           {
            "args": [
             [
              "2002"
             ],
             {
              "frame": {
               "duration": 0,
               "redraw": true
              },
              "fromcurrent": true,
              "mode": "immediate",
              "transition": {
               "duration": 0,
               "easing": "linear"
              }
             }
            ],
            "label": "2002",
            "method": "animate"
           },
           {
            "args": [
             [
              "2004"
             ],
             {
              "frame": {
               "duration": 0,
               "redraw": true
              },
              "fromcurrent": true,
              "mode": "immediate",
              "transition": {
               "duration": 0,
               "easing": "linear"
              }
             }
            ],
            "label": "2004",
            "method": "animate"
           },
           {
            "args": [
             [
              "2006"
             ],
             {
              "frame": {
               "duration": 0,
               "redraw": true
              },
              "fromcurrent": true,
              "mode": "immediate",
              "transition": {
               "duration": 0,
               "easing": "linear"
              }
             }
            ],
            "label": "2006",
            "method": "animate"
           },
           {
            "args": [
             [
              "2008"
             ],
             {
              "frame": {
               "duration": 0,
               "redraw": true
              },
              "fromcurrent": true,
              "mode": "immediate",
              "transition": {
               "duration": 0,
               "easing": "linear"
              }
             }
            ],
            "label": "2008",
            "method": "animate"
           },
           {
            "args": [
             [
              "2010"
             ],
             {
              "frame": {
               "duration": 0,
               "redraw": true
              },
              "fromcurrent": true,
              "mode": "immediate",
              "transition": {
               "duration": 0,
               "easing": "linear"
              }
             }
            ],
            "label": "2010",
            "method": "animate"
           },
           {
            "args": [
             [
              "2012"
             ],
             {
              "frame": {
               "duration": 0,
               "redraw": true
              },
              "fromcurrent": true,
              "mode": "immediate",
              "transition": {
               "duration": 0,
               "easing": "linear"
              }
             }
            ],
            "label": "2012",
            "method": "animate"
           },
           {
            "args": [
             [
              "2014"
             ],
             {
              "frame": {
               "duration": 0,
               "redraw": true
              },
              "fromcurrent": true,
              "mode": "immediate",
              "transition": {
               "duration": 0,
               "easing": "linear"
              }
             }
            ],
            "label": "2014",
            "method": "animate"
           },
           {
            "args": [
             [
              "2016"
             ],
             {
              "frame": {
               "duration": 0,
               "redraw": true
              },
              "fromcurrent": true,
              "mode": "immediate",
              "transition": {
               "duration": 0,
               "easing": "linear"
              }
             }
            ],
            "label": "2016",
            "method": "animate"
           }
          ],
          "x": 0.1,
          "xanchor": "left",
          "y": 0,
          "yanchor": "top"
         }
        ],
        "template": {
         "data": {
          "bar": [
           {
            "error_x": {
             "color": "#2a3f5f"
            },
            "error_y": {
             "color": "#2a3f5f"
            },
            "marker": {
             "line": {
              "color": "#E5ECF6",
              "width": 0.5
             }
            },
            "type": "bar"
           }
          ],
          "barpolar": [
           {
            "marker": {
             "line": {
              "color": "#E5ECF6",
              "width": 0.5
             }
            },
            "type": "barpolar"
           }
          ],
          "carpet": [
           {
            "aaxis": {
             "endlinecolor": "#2a3f5f",
             "gridcolor": "white",
             "linecolor": "white",
             "minorgridcolor": "white",
             "startlinecolor": "#2a3f5f"
            },
            "baxis": {
             "endlinecolor": "#2a3f5f",
             "gridcolor": "white",
             "linecolor": "white",
             "minorgridcolor": "white",
             "startlinecolor": "#2a3f5f"
            },
            "type": "carpet"
           }
          ],
          "choropleth": [
           {
            "colorbar": {
             "outlinewidth": 0,
             "ticks": ""
            },
            "type": "choropleth"
           }
          ],
          "contour": [
           {
            "colorbar": {
             "outlinewidth": 0,
             "ticks": ""
            },
            "colorscale": [
             [
              0,
              "#0d0887"
             ],
             [
              0.1111111111111111,
              "#46039f"
             ],
             [
              0.2222222222222222,
              "#7201a8"
             ],
             [
              0.3333333333333333,
              "#9c179e"
             ],
             [
              0.4444444444444444,
              "#bd3786"
             ],
             [
              0.5555555555555556,
              "#d8576b"
             ],
             [
              0.6666666666666666,
              "#ed7953"
             ],
             [
              0.7777777777777778,
              "#fb9f3a"
             ],
             [
              0.8888888888888888,
              "#fdca26"
             ],
             [
              1,
              "#f0f921"
             ]
            ],
            "type": "contour"
           }
          ],
          "contourcarpet": [
           {
            "colorbar": {
             "outlinewidth": 0,
             "ticks": ""
            },
            "type": "contourcarpet"
           }
          ],
          "heatmap": [
           {
            "colorbar": {
             "outlinewidth": 0,
             "ticks": ""
            },
            "colorscale": [
             [
              0,
              "#0d0887"
             ],
             [
              0.1111111111111111,
              "#46039f"
             ],
             [
              0.2222222222222222,
              "#7201a8"
             ],
             [
              0.3333333333333333,
              "#9c179e"
             ],
             [
              0.4444444444444444,
              "#bd3786"
             ],
             [
              0.5555555555555556,
              "#d8576b"
             ],
             [
              0.6666666666666666,
              "#ed7953"
             ],
             [
              0.7777777777777778,
              "#fb9f3a"
             ],
             [
              0.8888888888888888,
              "#fdca26"
             ],
             [
              1,
              "#f0f921"
             ]
            ],
            "type": "heatmap"
           }
          ],
          "heatmapgl": [
           {
            "colorbar": {
             "outlinewidth": 0,
             "ticks": ""
            },
            "colorscale": [
             [
              0,
              "#0d0887"
             ],
             [
              0.1111111111111111,
              "#46039f"
             ],
             [
              0.2222222222222222,
              "#7201a8"
             ],
             [
              0.3333333333333333,
              "#9c179e"
             ],
             [
              0.4444444444444444,
              "#bd3786"
             ],
             [
              0.5555555555555556,
              "#d8576b"
             ],
             [
              0.6666666666666666,
              "#ed7953"
             ],
             [
              0.7777777777777778,
              "#fb9f3a"
             ],
             [
              0.8888888888888888,
              "#fdca26"
             ],
             [
              1,
              "#f0f921"
             ]
            ],
            "type": "heatmapgl"
           }
          ],
          "histogram": [
           {
            "marker": {
             "colorbar": {
              "outlinewidth": 0,
              "ticks": ""
             }
            },
            "type": "histogram"
           }
          ],
          "histogram2d": [
           {
            "colorbar": {
             "outlinewidth": 0,
             "ticks": ""
            },
            "colorscale": [
             [
              0,
              "#0d0887"
             ],
             [
              0.1111111111111111,
              "#46039f"
             ],
             [
              0.2222222222222222,
              "#7201a8"
             ],
             [
              0.3333333333333333,
              "#9c179e"
             ],
             [
              0.4444444444444444,
              "#bd3786"
             ],
             [
              0.5555555555555556,
              "#d8576b"
             ],
             [
              0.6666666666666666,
              "#ed7953"
             ],
             [
              0.7777777777777778,
              "#fb9f3a"
             ],
             [
              0.8888888888888888,
              "#fdca26"
             ],
             [
              1,
              "#f0f921"
             ]
            ],
            "type": "histogram2d"
           }
          ],
          "histogram2dcontour": [
           {
            "colorbar": {
             "outlinewidth": 0,
             "ticks": ""
            },
            "colorscale": [
             [
              0,
              "#0d0887"
             ],
             [
              0.1111111111111111,
              "#46039f"
             ],
             [
              0.2222222222222222,
              "#7201a8"
             ],
             [
              0.3333333333333333,
              "#9c179e"
             ],
             [
              0.4444444444444444,
              "#bd3786"
             ],
             [
              0.5555555555555556,
              "#d8576b"
             ],
             [
              0.6666666666666666,
              "#ed7953"
             ],
             [
              0.7777777777777778,
              "#fb9f3a"
             ],
             [
              0.8888888888888888,
              "#fdca26"
             ],
             [
              1,
              "#f0f921"
             ]
            ],
            "type": "histogram2dcontour"
           }
          ],
          "mesh3d": [
           {
            "colorbar": {
             "outlinewidth": 0,
             "ticks": ""
            },
            "type": "mesh3d"
           }
          ],
          "parcoords": [
           {
            "line": {
             "colorbar": {
              "outlinewidth": 0,
              "ticks": ""
             }
            },
            "type": "parcoords"
           }
          ],
          "pie": [
           {
            "automargin": true,
            "type": "pie"
           }
          ],
          "scatter": [
           {
            "marker": {
             "colorbar": {
              "outlinewidth": 0,
              "ticks": ""
             }
            },
            "type": "scatter"
           }
          ],
          "scatter3d": [
           {
            "line": {
             "colorbar": {
              "outlinewidth": 0,
              "ticks": ""
             }
            },
            "marker": {
             "colorbar": {
              "outlinewidth": 0,
              "ticks": ""
             }
            },
            "type": "scatter3d"
           }
          ],
          "scattercarpet": [
           {
            "marker": {
             "colorbar": {
              "outlinewidth": 0,
              "ticks": ""
             }
            },
            "type": "scattercarpet"
           }
          ],
          "scattergeo": [
           {
            "marker": {
             "colorbar": {
              "outlinewidth": 0,
              "ticks": ""
             }
            },
            "type": "scattergeo"
           }
          ],
          "scattergl": [
           {
            "marker": {
             "colorbar": {
              "outlinewidth": 0,
              "ticks": ""
             }
            },
            "type": "scattergl"
           }
          ],
          "scattermapbox": [
           {
            "marker": {
             "colorbar": {
              "outlinewidth": 0,
              "ticks": ""
             }
            },
            "type": "scattermapbox"
           }
          ],
          "scatterpolar": [
           {
            "marker": {
             "colorbar": {
              "outlinewidth": 0,
              "ticks": ""
             }
            },
            "type": "scatterpolar"
           }
          ],
          "scatterpolargl": [
           {
            "marker": {
             "colorbar": {
              "outlinewidth": 0,
              "ticks": ""
             }
            },
            "type": "scatterpolargl"
           }
          ],
          "scatterternary": [
           {
            "marker": {
             "colorbar": {
              "outlinewidth": 0,
              "ticks": ""
             }
            },
            "type": "scatterternary"
           }
          ],
          "surface": [
           {
            "colorbar": {
             "outlinewidth": 0,
             "ticks": ""
            },
            "colorscale": [
             [
              0,
              "#0d0887"
             ],
             [
              0.1111111111111111,
              "#46039f"
             ],
             [
              0.2222222222222222,
              "#7201a8"
             ],
             [
              0.3333333333333333,
              "#9c179e"
             ],
             [
              0.4444444444444444,
              "#bd3786"
             ],
             [
              0.5555555555555556,
              "#d8576b"
             ],
             [
              0.6666666666666666,
              "#ed7953"
             ],
             [
              0.7777777777777778,
              "#fb9f3a"
             ],
             [
              0.8888888888888888,
              "#fdca26"
             ],
             [
              1,
              "#f0f921"
             ]
            ],
            "type": "surface"
           }
          ],
          "table": [
           {
            "cells": {
             "fill": {
              "color": "#EBF0F8"
             },
             "line": {
              "color": "white"
             }
            },
            "header": {
             "fill": {
              "color": "#C8D4E3"
             },
             "line": {
              "color": "white"
             }
            },
            "type": "table"
           }
          ]
         },
         "layout": {
          "annotationdefaults": {
           "arrowcolor": "#2a3f5f",
           "arrowhead": 0,
           "arrowwidth": 1
          },
          "coloraxis": {
           "colorbar": {
            "outlinewidth": 0,
            "ticks": ""
           }
          },
          "colorscale": {
           "diverging": [
            [
             0,
             "#8e0152"
            ],
            [
             0.1,
             "#c51b7d"
            ],
            [
             0.2,
             "#de77ae"
            ],
            [
             0.3,
             "#f1b6da"
            ],
            [
             0.4,
             "#fde0ef"
            ],
            [
             0.5,
             "#f7f7f7"
            ],
            [
             0.6,
             "#e6f5d0"
            ],
            [
             0.7,
             "#b8e186"
            ],
            [
             0.8,
             "#7fbc41"
            ],
            [
             0.9,
             "#4d9221"
            ],
            [
             1,
             "#276419"
            ]
           ],
           "sequential": [
            [
             0,
             "#0d0887"
            ],
            [
             0.1111111111111111,
             "#46039f"
            ],
            [
             0.2222222222222222,
             "#7201a8"
            ],
            [
             0.3333333333333333,
             "#9c179e"
            ],
            [
             0.4444444444444444,
             "#bd3786"
            ],
            [
             0.5555555555555556,
             "#d8576b"
            ],
            [
             0.6666666666666666,
             "#ed7953"
            ],
            [
             0.7777777777777778,
             "#fb9f3a"
            ],
            [
             0.8888888888888888,
             "#fdca26"
            ],
            [
             1,
             "#f0f921"
            ]
           ],
           "sequentialminus": [
            [
             0,
             "#0d0887"
            ],
            [
             0.1111111111111111,
             "#46039f"
            ],
            [
             0.2222222222222222,
             "#7201a8"
            ],
            [
             0.3333333333333333,
             "#9c179e"
            ],
            [
             0.4444444444444444,
             "#bd3786"
            ],
            [
             0.5555555555555556,
             "#d8576b"
            ],
            [
             0.6666666666666666,
             "#ed7953"
            ],
            [
             0.7777777777777778,
             "#fb9f3a"
            ],
            [
             0.8888888888888888,
             "#fdca26"
            ],
            [
             1,
             "#f0f921"
            ]
           ]
          },
          "colorway": [
           "#636efa",
           "#EF553B",
           "#00cc96",
           "#ab63fa",
           "#FFA15A",
           "#19d3f3",
           "#FF6692",
           "#B6E880",
           "#FF97FF",
           "#FECB52"
          ],
          "font": {
           "color": "#2a3f5f"
          },
          "geo": {
           "bgcolor": "white",
           "lakecolor": "white",
           "landcolor": "#E5ECF6",
           "showlakes": true,
           "showland": true,
           "subunitcolor": "white"
          },
          "hoverlabel": {
           "align": "left"
          },
          "hovermode": "closest",
          "mapbox": {
           "style": "light"
          },
          "paper_bgcolor": "white",
          "plot_bgcolor": "#E5ECF6",
          "polar": {
           "angularaxis": {
            "gridcolor": "white",
            "linecolor": "white",
            "ticks": ""
           },
           "bgcolor": "#E5ECF6",
           "radialaxis": {
            "gridcolor": "white",
            "linecolor": "white",
            "ticks": ""
           }
          },
          "scene": {
           "xaxis": {
            "backgroundcolor": "#E5ECF6",
            "gridcolor": "white",
            "gridwidth": 2,
            "linecolor": "white",
            "showbackground": true,
            "ticks": "",
            "zerolinecolor": "white"
           },
           "yaxis": {
            "backgroundcolor": "#E5ECF6",
            "gridcolor": "white",
            "gridwidth": 2,
            "linecolor": "white",
            "showbackground": true,
            "ticks": "",
            "zerolinecolor": "white"
           },
           "zaxis": {
            "backgroundcolor": "#E5ECF6",
            "gridcolor": "white",
            "gridwidth": 2,
            "linecolor": "white",
            "showbackground": true,
            "ticks": "",
            "zerolinecolor": "white"
           }
          },
          "shapedefaults": {
           "line": {
            "color": "#2a3f5f"
           }
          },
          "ternary": {
           "aaxis": {
            "gridcolor": "white",
            "linecolor": "white",
            "ticks": ""
           },
           "baxis": {
            "gridcolor": "white",
            "linecolor": "white",
            "ticks": ""
           },
           "bgcolor": "#E5ECF6",
           "caxis": {
            "gridcolor": "white",
            "linecolor": "white",
            "ticks": ""
           }
          },
          "title": {
           "x": 0.05
          },
          "xaxis": {
           "automargin": true,
           "gridcolor": "white",
           "linecolor": "white",
           "ticks": "",
           "title": {
            "standoff": 15
           },
           "zerolinecolor": "white",
           "zerolinewidth": 2
          },
          "yaxis": {
           "automargin": true,
           "gridcolor": "white",
           "linecolor": "white",
           "ticks": "",
           "title": {
            "standoff": 15
           },
           "zerolinecolor": "white",
           "zerolinewidth": 2
          }
         }
        },
        "title": {
         "text": "Olympics over the years"
        },
        "updatemenus": [
         {
          "buttons": [
           {
            "args": [
             null,
             {
              "frame": {
               "duration": 500,
               "redraw": true
              },
              "fromcurrent": true,
              "mode": "immediate",
              "transition": {
               "duration": 500,
               "easing": "linear"
              }
             }
            ],
            "label": "&#9654;",
            "method": "animate"
           },
           {
            "args": [
             [
              null
             ],
             {
              "frame": {
               "duration": 0,
               "redraw": true
              },
              "fromcurrent": true,
              "mode": "immediate",
              "transition": {
               "duration": 0,
               "easing": "linear"
              }
             }
            ],
            "label": "&#9724;",
            "method": "animate"
           }
          ],
          "direction": "left",
          "pad": {
           "r": 10,
           "t": 70
          },
          "showactive": false,
          "type": "buttons",
          "x": 0.1,
          "xanchor": "right",
          "y": 0,
          "yanchor": "top"
         }
        ]
       }
      },
      "text/html": [
       "<div>\n",
       "        \n",
       "        \n",
       "            <div id=\"bf88fb9c-35a4-451b-9bca-df3357795e70\" class=\"plotly-graph-div\" style=\"height:525px; width:100%;\"></div>\n",
       "            <script type=\"text/javascript\">\n",
       "                require([\"plotly\"], function(Plotly) {\n",
       "                    window.PLOTLYENV=window.PLOTLYENV || {};\n",
       "                    \n",
       "                if (document.getElementById(\"bf88fb9c-35a4-451b-9bca-df3357795e70\")) {\n",
       "                    Plotly.newPlot(\n",
       "                        'bf88fb9c-35a4-451b-9bca-df3357795e70',\n",
       "                        [{\"geo\": \"geo\", \"hoverlabel\": {\"namelength\": 0}, \"hovertemplate\": \"<b>%{hovertext}</b><br><br>continent=Europe<br>Year=1896<br>Medal count=%{marker.size}<br>country_iso=%{location}\", \"hovertext\": [\"Germany\", \"Greece\", \"Austria\", \"UK\", \"Switzerland\", \"Hungary\", \"Denmark\", \"France\"], \"legendgroup\": \"Europe\", \"locationmode\": \"ISO-3\", \"locations\": [\"DEU\", \"GRC\", \"AUT\", \"GBR\", \"CHE\", \"HUN\", \"DNK\", \"FRA\"], \"marker\": {\"color\": \"#636efa\", \"size\": [32, 48, 5, 9, 3, 6, 6, 11], \"sizemode\": \"area\", \"sizeref\": 0.985}, \"name\": \"Europe\", \"showlegend\": true, \"type\": \"scattergeo\"}, {\"geo\": \"geo\", \"hoverlabel\": {\"namelength\": 0}, \"hovertemplate\": \"<b>%{hovertext}</b><br><br>continent=Americas<br>Year=1896<br>Medal count=%{marker.size}<br>country_iso=%{location}\", \"hovertext\": [\"USA\"], \"legendgroup\": \"Americas\", \"locationmode\": \"ISO-3\", \"locations\": [\"USA\"], \"marker\": {\"color\": \"#EF553B\", \"size\": [20], \"sizemode\": \"area\", \"sizeref\": 0.985}, \"name\": \"Americas\", \"showlegend\": true, \"type\": \"scattergeo\"}, {\"geo\": \"geo\", \"hoverlabel\": {\"namelength\": 0}, \"hovertemplate\": \"<b>%{hovertext}</b><br><br>continent=Oceania<br>Year=1896<br>Medal count=%{marker.size}<br>country_iso=%{location}\", \"hovertext\": [\"Australia\"], \"legendgroup\": \"Oceania\", \"locationmode\": \"ISO-3\", \"locations\": [\"AUS\"], \"marker\": {\"color\": \"#00cc96\", \"size\": [3], \"sizemode\": \"area\", \"sizeref\": 0.985}, \"name\": \"Oceania\", \"showlegend\": true, \"type\": \"scattergeo\"}],\n",
       "                        {\"geo\": {\"center\": {}, \"domain\": {\"x\": [0.0, 1.0], \"y\": [0.0, 1.0]}, \"projection\": {\"type\": \"natural earth\"}}, \"legend\": {\"itemsizing\": \"constant\", \"title\": {\"text\": \"continent\"}, \"tracegroupgap\": 0}, \"margin\": {\"t\": 60}, \"showlegend\": true, \"sliders\": [{\"active\": 0, \"currentvalue\": {\"prefix\": \"Year=\"}, \"len\": 0.9, \"pad\": {\"b\": 10, \"t\": 60}, \"steps\": [{\"args\": [[\"1896\"], {\"frame\": {\"duration\": 0, \"redraw\": true}, \"fromcurrent\": true, \"mode\": \"immediate\", \"transition\": {\"duration\": 0, \"easing\": \"linear\"}}], \"label\": \"1896\", \"method\": \"animate\"}, {\"args\": [[\"1900\"], {\"frame\": {\"duration\": 0, \"redraw\": true}, \"fromcurrent\": true, \"mode\": \"immediate\", \"transition\": {\"duration\": 0, \"easing\": \"linear\"}}], \"label\": \"1900\", \"method\": \"animate\"}, {\"args\": [[\"1904\"], {\"frame\": {\"duration\": 0, \"redraw\": true}, \"fromcurrent\": true, \"mode\": \"immediate\", \"transition\": {\"duration\": 0, \"easing\": \"linear\"}}], \"label\": \"1904\", \"method\": \"animate\"}, {\"args\": [[\"1906\"], {\"frame\": {\"duration\": 0, \"redraw\": true}, \"fromcurrent\": true, \"mode\": \"immediate\", \"transition\": {\"duration\": 0, \"easing\": \"linear\"}}], \"label\": \"1906\", \"method\": \"animate\"}, {\"args\": [[\"1908\"], {\"frame\": {\"duration\": 0, \"redraw\": true}, \"fromcurrent\": true, \"mode\": \"immediate\", \"transition\": {\"duration\": 0, \"easing\": \"linear\"}}], \"label\": \"1908\", \"method\": \"animate\"}, {\"args\": [[\"1912\"], {\"frame\": {\"duration\": 0, \"redraw\": true}, \"fromcurrent\": true, \"mode\": \"immediate\", \"transition\": {\"duration\": 0, \"easing\": \"linear\"}}], \"label\": \"1912\", \"method\": \"animate\"}, {\"args\": [[\"1920\"], {\"frame\": {\"duration\": 0, \"redraw\": true}, \"fromcurrent\": true, \"mode\": \"immediate\", \"transition\": {\"duration\": 0, \"easing\": \"linear\"}}], \"label\": \"1920\", \"method\": \"animate\"}, {\"args\": [[\"1924\"], {\"frame\": {\"duration\": 0, \"redraw\": true}, \"fromcurrent\": true, \"mode\": \"immediate\", \"transition\": {\"duration\": 0, \"easing\": \"linear\"}}], \"label\": \"1924\", \"method\": \"animate\"}, {\"args\": [[\"1928\"], {\"frame\": {\"duration\": 0, \"redraw\": true}, \"fromcurrent\": true, \"mode\": \"immediate\", \"transition\": {\"duration\": 0, \"easing\": \"linear\"}}], \"label\": \"1928\", \"method\": \"animate\"}, {\"args\": [[\"1932\"], {\"frame\": {\"duration\": 0, \"redraw\": true}, \"fromcurrent\": true, \"mode\": \"immediate\", \"transition\": {\"duration\": 0, \"easing\": \"linear\"}}], \"label\": \"1932\", \"method\": \"animate\"}, {\"args\": [[\"1936\"], {\"frame\": {\"duration\": 0, \"redraw\": true}, \"fromcurrent\": true, \"mode\": \"immediate\", \"transition\": {\"duration\": 0, \"easing\": \"linear\"}}], \"label\": \"1936\", \"method\": \"animate\"}, {\"args\": [[\"1948\"], {\"frame\": {\"duration\": 0, \"redraw\": true}, \"fromcurrent\": true, \"mode\": \"immediate\", \"transition\": {\"duration\": 0, \"easing\": \"linear\"}}], \"label\": \"1948\", \"method\": \"animate\"}, {\"args\": [[\"1952\"], {\"frame\": {\"duration\": 0, \"redraw\": true}, \"fromcurrent\": true, \"mode\": \"immediate\", \"transition\": {\"duration\": 0, \"easing\": \"linear\"}}], \"label\": \"1952\", \"method\": \"animate\"}, {\"args\": [[\"1956\"], {\"frame\": {\"duration\": 0, \"redraw\": true}, \"fromcurrent\": true, \"mode\": \"immediate\", \"transition\": {\"duration\": 0, \"easing\": \"linear\"}}], \"label\": \"1956\", \"method\": \"animate\"}, {\"args\": [[\"1960\"], {\"frame\": {\"duration\": 0, \"redraw\": true}, \"fromcurrent\": true, \"mode\": \"immediate\", \"transition\": {\"duration\": 0, \"easing\": \"linear\"}}], \"label\": \"1960\", \"method\": \"animate\"}, {\"args\": [[\"1964\"], {\"frame\": {\"duration\": 0, \"redraw\": true}, \"fromcurrent\": true, \"mode\": \"immediate\", \"transition\": {\"duration\": 0, \"easing\": \"linear\"}}], \"label\": \"1964\", \"method\": \"animate\"}, {\"args\": [[\"1968\"], {\"frame\": {\"duration\": 0, \"redraw\": true}, \"fromcurrent\": true, \"mode\": \"immediate\", \"transition\": {\"duration\": 0, \"easing\": \"linear\"}}], \"label\": \"1968\", \"method\": \"animate\"}, {\"args\": [[\"1972\"], {\"frame\": {\"duration\": 0, \"redraw\": true}, \"fromcurrent\": true, \"mode\": \"immediate\", \"transition\": {\"duration\": 0, \"easing\": \"linear\"}}], \"label\": \"1972\", \"method\": \"animate\"}, {\"args\": [[\"1976\"], {\"frame\": {\"duration\": 0, \"redraw\": true}, \"fromcurrent\": true, \"mode\": \"immediate\", \"transition\": {\"duration\": 0, \"easing\": \"linear\"}}], \"label\": \"1976\", \"method\": \"animate\"}, {\"args\": [[\"1980\"], {\"frame\": {\"duration\": 0, \"redraw\": true}, \"fromcurrent\": true, \"mode\": \"immediate\", \"transition\": {\"duration\": 0, \"easing\": \"linear\"}}], \"label\": \"1980\", \"method\": \"animate\"}, {\"args\": [[\"1984\"], {\"frame\": {\"duration\": 0, \"redraw\": true}, \"fromcurrent\": true, \"mode\": \"immediate\", \"transition\": {\"duration\": 0, \"easing\": \"linear\"}}], \"label\": \"1984\", \"method\": \"animate\"}, {\"args\": [[\"1988\"], {\"frame\": {\"duration\": 0, \"redraw\": true}, \"fromcurrent\": true, \"mode\": \"immediate\", \"transition\": {\"duration\": 0, \"easing\": \"linear\"}}], \"label\": \"1988\", \"method\": \"animate\"}, {\"args\": [[\"1992\"], {\"frame\": {\"duration\": 0, \"redraw\": true}, \"fromcurrent\": true, \"mode\": \"immediate\", \"transition\": {\"duration\": 0, \"easing\": \"linear\"}}], \"label\": \"1992\", \"method\": \"animate\"}, {\"args\": [[\"1994\"], {\"frame\": {\"duration\": 0, \"redraw\": true}, \"fromcurrent\": true, \"mode\": \"immediate\", \"transition\": {\"duration\": 0, \"easing\": \"linear\"}}], \"label\": \"1994\", \"method\": \"animate\"}, {\"args\": [[\"1996\"], {\"frame\": {\"duration\": 0, \"redraw\": true}, \"fromcurrent\": true, \"mode\": \"immediate\", \"transition\": {\"duration\": 0, \"easing\": \"linear\"}}], \"label\": \"1996\", \"method\": \"animate\"}, {\"args\": [[\"1998\"], {\"frame\": {\"duration\": 0, \"redraw\": true}, \"fromcurrent\": true, \"mode\": \"immediate\", \"transition\": {\"duration\": 0, \"easing\": \"linear\"}}], \"label\": \"1998\", \"method\": \"animate\"}, {\"args\": [[\"2000\"], {\"frame\": {\"duration\": 0, \"redraw\": true}, \"fromcurrent\": true, \"mode\": \"immediate\", \"transition\": {\"duration\": 0, \"easing\": \"linear\"}}], \"label\": \"2000\", \"method\": \"animate\"}, {\"args\": [[\"2002\"], {\"frame\": {\"duration\": 0, \"redraw\": true}, \"fromcurrent\": true, \"mode\": \"immediate\", \"transition\": {\"duration\": 0, \"easing\": \"linear\"}}], \"label\": \"2002\", \"method\": \"animate\"}, {\"args\": [[\"2004\"], {\"frame\": {\"duration\": 0, \"redraw\": true}, \"fromcurrent\": true, \"mode\": \"immediate\", \"transition\": {\"duration\": 0, \"easing\": \"linear\"}}], \"label\": \"2004\", \"method\": \"animate\"}, {\"args\": [[\"2006\"], {\"frame\": {\"duration\": 0, \"redraw\": true}, \"fromcurrent\": true, \"mode\": \"immediate\", \"transition\": {\"duration\": 0, \"easing\": \"linear\"}}], \"label\": \"2006\", \"method\": \"animate\"}, {\"args\": [[\"2008\"], {\"frame\": {\"duration\": 0, \"redraw\": true}, \"fromcurrent\": true, \"mode\": \"immediate\", \"transition\": {\"duration\": 0, \"easing\": \"linear\"}}], \"label\": \"2008\", \"method\": \"animate\"}, {\"args\": [[\"2010\"], {\"frame\": {\"duration\": 0, \"redraw\": true}, \"fromcurrent\": true, \"mode\": \"immediate\", \"transition\": {\"duration\": 0, \"easing\": \"linear\"}}], \"label\": \"2010\", \"method\": \"animate\"}, {\"args\": [[\"2012\"], {\"frame\": {\"duration\": 0, \"redraw\": true}, \"fromcurrent\": true, \"mode\": \"immediate\", \"transition\": {\"duration\": 0, \"easing\": \"linear\"}}], \"label\": \"2012\", \"method\": \"animate\"}, {\"args\": [[\"2014\"], {\"frame\": {\"duration\": 0, \"redraw\": true}, \"fromcurrent\": true, \"mode\": \"immediate\", \"transition\": {\"duration\": 0, \"easing\": \"linear\"}}], \"label\": \"2014\", \"method\": \"animate\"}, {\"args\": [[\"2016\"], {\"frame\": {\"duration\": 0, \"redraw\": true}, \"fromcurrent\": true, \"mode\": \"immediate\", \"transition\": {\"duration\": 0, \"easing\": \"linear\"}}], \"label\": \"2016\", \"method\": \"animate\"}], \"x\": 0.1, \"xanchor\": \"left\", \"y\": 0, \"yanchor\": \"top\"}], \"template\": {\"data\": {\"bar\": [{\"error_x\": {\"color\": \"#2a3f5f\"}, \"error_y\": {\"color\": \"#2a3f5f\"}, \"marker\": {\"line\": {\"color\": \"#E5ECF6\", \"width\": 0.5}}, \"type\": \"bar\"}], \"barpolar\": [{\"marker\": {\"line\": {\"color\": \"#E5ECF6\", \"width\": 0.5}}, \"type\": \"barpolar\"}], \"carpet\": [{\"aaxis\": {\"endlinecolor\": \"#2a3f5f\", \"gridcolor\": \"white\", \"linecolor\": \"white\", \"minorgridcolor\": \"white\", \"startlinecolor\": \"#2a3f5f\"}, \"baxis\": {\"endlinecolor\": \"#2a3f5f\", \"gridcolor\": \"white\", \"linecolor\": \"white\", \"minorgridcolor\": \"white\", \"startlinecolor\": \"#2a3f5f\"}, \"type\": \"carpet\"}], \"choropleth\": [{\"colorbar\": {\"outlinewidth\": 0, \"ticks\": \"\"}, \"type\": \"choropleth\"}], \"contour\": [{\"colorbar\": {\"outlinewidth\": 0, \"ticks\": \"\"}, \"colorscale\": [[0.0, \"#0d0887\"], [0.1111111111111111, \"#46039f\"], [0.2222222222222222, \"#7201a8\"], [0.3333333333333333, \"#9c179e\"], [0.4444444444444444, \"#bd3786\"], [0.5555555555555556, \"#d8576b\"], [0.6666666666666666, \"#ed7953\"], [0.7777777777777778, \"#fb9f3a\"], [0.8888888888888888, \"#fdca26\"], [1.0, \"#f0f921\"]], \"type\": \"contour\"}], \"contourcarpet\": [{\"colorbar\": {\"outlinewidth\": 0, \"ticks\": \"\"}, \"type\": \"contourcarpet\"}], \"heatmap\": [{\"colorbar\": {\"outlinewidth\": 0, \"ticks\": \"\"}, \"colorscale\": [[0.0, \"#0d0887\"], [0.1111111111111111, \"#46039f\"], [0.2222222222222222, \"#7201a8\"], [0.3333333333333333, \"#9c179e\"], [0.4444444444444444, \"#bd3786\"], [0.5555555555555556, \"#d8576b\"], [0.6666666666666666, \"#ed7953\"], [0.7777777777777778, \"#fb9f3a\"], [0.8888888888888888, \"#fdca26\"], [1.0, \"#f0f921\"]], \"type\": \"heatmap\"}], \"heatmapgl\": [{\"colorbar\": {\"outlinewidth\": 0, \"ticks\": \"\"}, \"colorscale\": [[0.0, \"#0d0887\"], [0.1111111111111111, \"#46039f\"], [0.2222222222222222, \"#7201a8\"], [0.3333333333333333, \"#9c179e\"], [0.4444444444444444, \"#bd3786\"], [0.5555555555555556, \"#d8576b\"], [0.6666666666666666, \"#ed7953\"], [0.7777777777777778, \"#fb9f3a\"], [0.8888888888888888, \"#fdca26\"], [1.0, \"#f0f921\"]], \"type\": \"heatmapgl\"}], \"histogram\": [{\"marker\": {\"colorbar\": {\"outlinewidth\": 0, \"ticks\": \"\"}}, \"type\": \"histogram\"}], \"histogram2d\": [{\"colorbar\": {\"outlinewidth\": 0, \"ticks\": \"\"}, \"colorscale\": [[0.0, \"#0d0887\"], [0.1111111111111111, \"#46039f\"], [0.2222222222222222, \"#7201a8\"], [0.3333333333333333, \"#9c179e\"], [0.4444444444444444, \"#bd3786\"], [0.5555555555555556, \"#d8576b\"], [0.6666666666666666, \"#ed7953\"], [0.7777777777777778, \"#fb9f3a\"], [0.8888888888888888, \"#fdca26\"], [1.0, \"#f0f921\"]], \"type\": \"histogram2d\"}], \"histogram2dcontour\": [{\"colorbar\": {\"outlinewidth\": 0, \"ticks\": \"\"}, \"colorscale\": [[0.0, \"#0d0887\"], [0.1111111111111111, \"#46039f\"], [0.2222222222222222, \"#7201a8\"], [0.3333333333333333, \"#9c179e\"], [0.4444444444444444, \"#bd3786\"], [0.5555555555555556, \"#d8576b\"], [0.6666666666666666, \"#ed7953\"], [0.7777777777777778, \"#fb9f3a\"], [0.8888888888888888, \"#fdca26\"], [1.0, \"#f0f921\"]], \"type\": \"histogram2dcontour\"}], \"mesh3d\": [{\"colorbar\": {\"outlinewidth\": 0, \"ticks\": \"\"}, \"type\": \"mesh3d\"}], \"parcoords\": [{\"line\": {\"colorbar\": {\"outlinewidth\": 0, \"ticks\": \"\"}}, \"type\": \"parcoords\"}], \"pie\": [{\"automargin\": true, \"type\": \"pie\"}], \"scatter\": [{\"marker\": {\"colorbar\": {\"outlinewidth\": 0, \"ticks\": \"\"}}, \"type\": \"scatter\"}], \"scatter3d\": [{\"line\": {\"colorbar\": {\"outlinewidth\": 0, \"ticks\": \"\"}}, \"marker\": {\"colorbar\": {\"outlinewidth\": 0, \"ticks\": \"\"}}, \"type\": \"scatter3d\"}], \"scattercarpet\": [{\"marker\": {\"colorbar\": {\"outlinewidth\": 0, \"ticks\": \"\"}}, \"type\": \"scattercarpet\"}], \"scattergeo\": [{\"marker\": {\"colorbar\": {\"outlinewidth\": 0, \"ticks\": \"\"}}, \"type\": \"scattergeo\"}], \"scattergl\": [{\"marker\": {\"colorbar\": {\"outlinewidth\": 0, \"ticks\": \"\"}}, \"type\": \"scattergl\"}], \"scattermapbox\": [{\"marker\": {\"colorbar\": {\"outlinewidth\": 0, \"ticks\": \"\"}}, \"type\": \"scattermapbox\"}], \"scatterpolar\": [{\"marker\": {\"colorbar\": {\"outlinewidth\": 0, \"ticks\": \"\"}}, \"type\": \"scatterpolar\"}], \"scatterpolargl\": [{\"marker\": {\"colorbar\": {\"outlinewidth\": 0, \"ticks\": \"\"}}, \"type\": \"scatterpolargl\"}], \"scatterternary\": [{\"marker\": {\"colorbar\": {\"outlinewidth\": 0, \"ticks\": \"\"}}, \"type\": \"scatterternary\"}], \"surface\": [{\"colorbar\": {\"outlinewidth\": 0, \"ticks\": \"\"}, \"colorscale\": [[0.0, \"#0d0887\"], [0.1111111111111111, \"#46039f\"], [0.2222222222222222, \"#7201a8\"], [0.3333333333333333, \"#9c179e\"], [0.4444444444444444, \"#bd3786\"], [0.5555555555555556, \"#d8576b\"], [0.6666666666666666, \"#ed7953\"], [0.7777777777777778, \"#fb9f3a\"], [0.8888888888888888, \"#fdca26\"], [1.0, \"#f0f921\"]], \"type\": \"surface\"}], \"table\": [{\"cells\": {\"fill\": {\"color\": \"#EBF0F8\"}, \"line\": {\"color\": \"white\"}}, \"header\": {\"fill\": {\"color\": \"#C8D4E3\"}, \"line\": {\"color\": \"white\"}}, \"type\": \"table\"}]}, \"layout\": {\"annotationdefaults\": {\"arrowcolor\": \"#2a3f5f\", \"arrowhead\": 0, \"arrowwidth\": 1}, \"coloraxis\": {\"colorbar\": {\"outlinewidth\": 0, \"ticks\": \"\"}}, \"colorscale\": {\"diverging\": [[0, \"#8e0152\"], [0.1, \"#c51b7d\"], [0.2, \"#de77ae\"], [0.3, \"#f1b6da\"], [0.4, \"#fde0ef\"], [0.5, \"#f7f7f7\"], [0.6, \"#e6f5d0\"], [0.7, \"#b8e186\"], [0.8, \"#7fbc41\"], [0.9, \"#4d9221\"], [1, \"#276419\"]], \"sequential\": [[0.0, \"#0d0887\"], [0.1111111111111111, \"#46039f\"], [0.2222222222222222, \"#7201a8\"], [0.3333333333333333, \"#9c179e\"], [0.4444444444444444, \"#bd3786\"], [0.5555555555555556, \"#d8576b\"], [0.6666666666666666, \"#ed7953\"], [0.7777777777777778, \"#fb9f3a\"], [0.8888888888888888, \"#fdca26\"], [1.0, \"#f0f921\"]], \"sequentialminus\": [[0.0, \"#0d0887\"], [0.1111111111111111, \"#46039f\"], [0.2222222222222222, \"#7201a8\"], [0.3333333333333333, \"#9c179e\"], [0.4444444444444444, \"#bd3786\"], [0.5555555555555556, \"#d8576b\"], [0.6666666666666666, \"#ed7953\"], [0.7777777777777778, \"#fb9f3a\"], [0.8888888888888888, \"#fdca26\"], [1.0, \"#f0f921\"]]}, \"colorway\": [\"#636efa\", \"#EF553B\", \"#00cc96\", \"#ab63fa\", \"#FFA15A\", \"#19d3f3\", \"#FF6692\", \"#B6E880\", \"#FF97FF\", \"#FECB52\"], \"font\": {\"color\": \"#2a3f5f\"}, \"geo\": {\"bgcolor\": \"white\", \"lakecolor\": \"white\", \"landcolor\": \"#E5ECF6\", \"showlakes\": true, \"showland\": true, \"subunitcolor\": \"white\"}, \"hoverlabel\": {\"align\": \"left\"}, \"hovermode\": \"closest\", \"mapbox\": {\"style\": \"light\"}, \"paper_bgcolor\": \"white\", \"plot_bgcolor\": \"#E5ECF6\", \"polar\": {\"angularaxis\": {\"gridcolor\": \"white\", \"linecolor\": \"white\", \"ticks\": \"\"}, \"bgcolor\": \"#E5ECF6\", \"radialaxis\": {\"gridcolor\": \"white\", \"linecolor\": \"white\", \"ticks\": \"\"}}, \"scene\": {\"xaxis\": {\"backgroundcolor\": \"#E5ECF6\", \"gridcolor\": \"white\", \"gridwidth\": 2, \"linecolor\": \"white\", \"showbackground\": true, \"ticks\": \"\", \"zerolinecolor\": \"white\"}, \"yaxis\": {\"backgroundcolor\": \"#E5ECF6\", \"gridcolor\": \"white\", \"gridwidth\": 2, \"linecolor\": \"white\", \"showbackground\": true, \"ticks\": \"\", \"zerolinecolor\": \"white\"}, \"zaxis\": {\"backgroundcolor\": \"#E5ECF6\", \"gridcolor\": \"white\", \"gridwidth\": 2, \"linecolor\": \"white\", \"showbackground\": true, \"ticks\": \"\", \"zerolinecolor\": \"white\"}}, \"shapedefaults\": {\"line\": {\"color\": \"#2a3f5f\"}}, \"ternary\": {\"aaxis\": {\"gridcolor\": \"white\", \"linecolor\": \"white\", \"ticks\": \"\"}, \"baxis\": {\"gridcolor\": \"white\", \"linecolor\": \"white\", \"ticks\": \"\"}, \"bgcolor\": \"#E5ECF6\", \"caxis\": {\"gridcolor\": \"white\", \"linecolor\": \"white\", \"ticks\": \"\"}}, \"title\": {\"x\": 0.05}, \"xaxis\": {\"automargin\": true, \"gridcolor\": \"white\", \"linecolor\": \"white\", \"ticks\": \"\", \"title\": {\"standoff\": 15}, \"zerolinecolor\": \"white\", \"zerolinewidth\": 2}, \"yaxis\": {\"automargin\": true, \"gridcolor\": \"white\", \"linecolor\": \"white\", \"ticks\": \"\", \"title\": {\"standoff\": 15}, \"zerolinecolor\": \"white\", \"zerolinewidth\": 2}}}, \"title\": {\"text\": \"Olympics over the years\"}, \"updatemenus\": [{\"buttons\": [{\"args\": [null, {\"frame\": {\"duration\": 500, \"redraw\": true}, \"fromcurrent\": true, \"mode\": \"immediate\", \"transition\": {\"duration\": 500, \"easing\": \"linear\"}}], \"label\": \"&#9654;\", \"method\": \"animate\"}, {\"args\": [[null], {\"frame\": {\"duration\": 0, \"redraw\": true}, \"fromcurrent\": true, \"mode\": \"immediate\", \"transition\": {\"duration\": 0, \"easing\": \"linear\"}}], \"label\": \"&#9724;\", \"method\": \"animate\"}], \"direction\": \"left\", \"pad\": {\"r\": 10, \"t\": 70}, \"showactive\": false, \"type\": \"buttons\", \"x\": 0.1, \"xanchor\": \"right\", \"y\": 0, \"yanchor\": \"top\"}]},\n",
       "                        {\"responsive\": true}\n",
       "                    ).then(function(){\n",
       "                            Plotly.addFrames('bf88fb9c-35a4-451b-9bca-df3357795e70', [{\"data\": [{\"geo\": \"geo\", \"hoverlabel\": {\"namelength\": 0}, \"hovertemplate\": \"<b>%{hovertext}</b><br><br>continent=Europe<br>Year=1896<br>Medal count=%{marker.size}<br>country_iso=%{location}\", \"hovertext\": [\"Germany\", \"Greece\", \"Austria\", \"UK\", \"Switzerland\", \"Hungary\", \"Denmark\", \"France\"], \"legendgroup\": \"Europe\", \"locationmode\": \"ISO-3\", \"locations\": [\"DEU\", \"GRC\", \"AUT\", \"GBR\", \"CHE\", \"HUN\", \"DNK\", \"FRA\"], \"marker\": {\"color\": \"#636efa\", \"size\": [32, 48, 5, 9, 3, 6, 6, 11], \"sizemode\": \"area\", \"sizeref\": 0.985}, \"name\": \"Europe\", \"showlegend\": true, \"type\": \"scattergeo\"}, {\"geo\": \"geo\", \"hoverlabel\": {\"namelength\": 0}, \"hovertemplate\": \"<b>%{hovertext}</b><br><br>continent=Americas<br>Year=1896<br>Medal count=%{marker.size}<br>country_iso=%{location}\", \"hovertext\": [\"USA\"], \"legendgroup\": \"Americas\", \"locationmode\": \"ISO-3\", \"locations\": [\"USA\"], \"marker\": {\"color\": \"#EF553B\", \"size\": [20], \"sizemode\": \"area\", \"sizeref\": 0.985}, \"name\": \"Americas\", \"showlegend\": true, \"type\": \"scattergeo\"}, {\"geo\": \"geo\", \"hoverlabel\": {\"namelength\": 0}, \"hovertemplate\": \"<b>%{hovertext}</b><br><br>continent=Oceania<br>Year=1896<br>Medal count=%{marker.size}<br>country_iso=%{location}\", \"hovertext\": [\"Australia\"], \"legendgroup\": \"Oceania\", \"locationmode\": \"ISO-3\", \"locations\": [\"AUS\"], \"marker\": {\"color\": \"#00cc96\", \"size\": [3], \"sizemode\": \"area\", \"sizeref\": 0.985}, \"name\": \"Oceania\", \"showlegend\": true, \"type\": \"scattergeo\"}], \"name\": \"1896\"}, {\"data\": [{\"geo\": \"geo\", \"hoverlabel\": {\"namelength\": 0}, \"hovertemplate\": \"<b>%{hovertext}</b><br><br>continent=Europe<br>Year=1900<br>Medal count=%{marker.size}<br>country_iso=%{location}\", \"hovertext\": [\"Hungary\", \"Austria\", \"Switzerland\", \"Spain\", \"UK\", \"Sweden\", \"Norway\", \"Denmark\", \"Luxembourg\", \"Italy\", \"Belgium\", \"France\", \"Netherlands\", \"Germany\"], \"legendgroup\": \"Europe\", \"locationmode\": \"ISO-3\", \"locations\": [\"HUN\", \"AUT\", \"CHE\", \"ESP\", \"GBR\", \"SWE\", \"NOR\", \"DNK\", \"LUX\", \"ITA\", \"BEL\", \"FRA\", \"NLD\", \"DEU\"], \"marker\": {\"color\": \"#636efa\", \"size\": [5, 6, 21, 2, 108, 4, 9, 9, 1, 5, 43, 235, 27, 45], \"sizemode\": \"area\", \"sizeref\": 0.985}, \"name\": \"Europe\", \"showlegend\": true, \"type\": \"scattergeo\"}, {\"geo\": \"geo\", \"hoverlabel\": {\"namelength\": 0}, \"hovertemplate\": \"<b>%{hovertext}</b><br><br>continent=Americas<br>Year=1900<br>Medal count=%{marker.size}<br>country_iso=%{location}\", \"hovertext\": [\"Haiti\", \"Mexico\", \"USA\", \"Colombia\", \"Canada\", \"Cuba\"], \"legendgroup\": \"Americas\", \"locationmode\": \"ISO-3\", \"locations\": [\"HTI\", \"MEX\", \"USA\", \"COL\", \"CAN\", \"CUB\"], \"marker\": {\"color\": \"#EF553B\", \"size\": [1, 3, 63, 1, 2, 2], \"sizemode\": \"area\", \"sizeref\": 0.985}, \"name\": \"Americas\", \"showlegend\": true, \"type\": \"scattergeo\"}, {\"geo\": \"geo\", \"hoverlabel\": {\"namelength\": 0}, \"hovertemplate\": \"<b>%{hovertext}</b><br><br>continent=Oceania<br>Year=1900<br>Medal count=%{marker.size}<br>country_iso=%{location}\", \"hovertext\": [\"New Zealand\", \"Australia\"], \"legendgroup\": \"Oceania\", \"locationmode\": \"ISO-3\", \"locations\": [\"NZL\", \"AUS\"], \"marker\": {\"color\": \"#00cc96\", \"size\": [1, 6], \"sizemode\": \"area\", \"sizeref\": 0.985}, \"name\": \"Oceania\", \"showlegend\": true, \"type\": \"scattergeo\"}, {\"geo\": \"geo\", \"hoverlabel\": {\"namelength\": 0}, \"hovertemplate\": \"<b>%{hovertext}</b><br><br>continent=Asia<br>Year=1900<br>Medal count=%{marker.size}<br>country_iso=%{location}\", \"hovertext\": [\"India\"], \"legendgroup\": \"Asia\", \"locationmode\": \"ISO-3\", \"locations\": [\"IND\"], \"marker\": {\"color\": \"#ab63fa\", \"size\": [2], \"sizemode\": \"area\", \"sizeref\": 0.985}, \"name\": \"Asia\", \"showlegend\": true, \"type\": \"scattergeo\"}], \"name\": \"1900\"}, {\"data\": [{\"geo\": \"geo\", \"hoverlabel\": {\"namelength\": 0}, \"hovertemplate\": \"<b>%{hovertext}</b><br><br>continent=Europe<br>Year=1904<br>Medal count=%{marker.size}<br>country_iso=%{location}\", \"hovertext\": [\"France\", \"Germany\", \"Austria\", \"Greece\", \"Norway\", \"Switzerland\", \"Hungary\", \"UK\"], \"legendgroup\": \"Europe\", \"locationmode\": \"ISO-3\", \"locations\": [\"FRA\", \"DEU\", \"AUT\", \"GRC\", \"NOR\", \"CHE\", \"HUN\", \"GBR\"], \"marker\": {\"color\": \"#636efa\", \"size\": [2, 16, 4, 2, 2, 3, 4, 2], \"sizemode\": \"area\", \"sizeref\": 0.985}, \"name\": \"Europe\", \"showlegend\": true, \"type\": \"scattergeo\"}, {\"geo\": \"geo\", \"hoverlabel\": {\"namelength\": 0}, \"hovertemplate\": \"<b>%{hovertext}</b><br><br>continent=Americas<br>Year=1904<br>Medal count=%{marker.size}<br>country_iso=%{location}\", \"hovertext\": [\"Canada\", \"Cuba\", \"USA\"], \"legendgroup\": \"Americas\", \"locationmode\": \"ISO-3\", \"locations\": [\"CAN\", \"CUB\", \"USA\"], \"marker\": {\"color\": \"#EF553B\", \"size\": [48, 5, 394], \"sizemode\": \"area\", \"sizeref\": 0.985}, \"name\": \"Americas\", \"showlegend\": true, \"type\": \"scattergeo\"}, {\"geo\": \"geo\", \"hoverlabel\": {\"namelength\": 0}, \"hovertemplate\": \"<b>%{hovertext}</b><br><br>continent=Oceania<br>Year=1904<br>Medal count=%{marker.size}<br>country_iso=%{location}\", \"hovertext\": [\"Australia\"], \"legendgroup\": \"Oceania\", \"locationmode\": \"ISO-3\", \"locations\": [\"AUS\"], \"marker\": {\"color\": \"#00cc96\", \"size\": [4], \"sizemode\": \"area\", \"sizeref\": 0.985}, \"name\": \"Oceania\", \"showlegend\": true, \"type\": \"scattergeo\"}], \"name\": \"1904\"}, {\"data\": [{\"geo\": \"geo\", \"hoverlabel\": {\"namelength\": 0}, \"hovertemplate\": \"<b>%{hovertext}</b><br><br>continent=Europe<br>Year=1906<br>Medal count=%{marker.size}<br>country_iso=%{location}\", \"hovertext\": [\"Austria\", \"Greece\", \"Hungary\", \"Belgium\", \"UK\", \"Italy\", \"Germany\", \"France\", \"Denmark\", \"Finland\", \"Norway\", \"Netherlands\", \"Sweden\", \"Switzerland\"], \"legendgroup\": \"Europe\", \"locationmode\": \"ISO-3\", \"locations\": [\"AUT\", \"GRC\", \"HUN\", \"BEL\", \"GBR\", \"ITA\", \"DEU\", \"FRA\", \"DNK\", \"FIN\", \"NOR\", \"NLD\", \"SWE\", \"CHE\"], \"marker\": {\"color\": \"#636efa\", \"size\": [9, 102, 13, 11, 39, 56, 30, 64, 34, 4, 25, 6, 21, 12], \"sizemode\": \"area\", \"sizeref\": 0.985}, \"name\": \"Europe\", \"showlegend\": true, \"type\": \"scattergeo\"}, {\"geo\": \"geo\", \"hoverlabel\": {\"namelength\": 0}, \"hovertemplate\": \"<b>%{hovertext}</b><br><br>continent=Americas<br>Year=1906<br>Medal count=%{marker.size}<br>country_iso=%{location}\", \"hovertext\": [\"USA\", \"Canada\"], \"legendgroup\": \"Americas\", \"locationmode\": \"ISO-3\", \"locations\": [\"USA\", \"CAN\"], \"marker\": {\"color\": \"#EF553B\", \"size\": [24, 2], \"sizemode\": \"area\", \"sizeref\": 0.985}, \"name\": \"Americas\", \"showlegend\": true, \"type\": \"scattergeo\"}, {\"geo\": \"geo\", \"hoverlabel\": {\"namelength\": 0}, \"hovertemplate\": \"<b>%{hovertext}</b><br><br>continent=Oceania<br>Year=1906<br>Medal count=%{marker.size}<br>country_iso=%{location}\", \"hovertext\": [\"Australia\"], \"legendgroup\": \"Oceania\", \"locationmode\": \"ISO-3\", \"locations\": [\"AUS\"], \"marker\": {\"color\": \"#00cc96\", \"size\": [3], \"sizemode\": \"area\", \"sizeref\": 0.985}, \"name\": \"Oceania\", \"showlegend\": true, \"type\": \"scattergeo\"}], \"name\": \"1906\"}, {\"data\": [{\"geo\": \"geo\", \"hoverlabel\": {\"namelength\": 0}, \"hovertemplate\": \"<b>%{hovertext}</b><br><br>continent=Europe<br>Year=1908<br>Medal count=%{marker.size}<br>country_iso=%{location}\", \"hovertext\": [\"Greece\", \"Belgium\", \"Hungary\", \"Norway\", \"Netherlands\", \"Italy\", \"Austria\", \"UK\", \"Russia\", \"France\", \"Sweden\", \"Finland\", \"Germany\", \"Denmark\"], \"legendgroup\": \"Europe\", \"locationmode\": \"ISO-3\", \"locations\": [\"GRC\", \"BEL\", \"HUN\", \"NOR\", \"NLD\", \"ITA\", \"AUT\", \"GBR\", \"RUS\", \"FRA\", \"SWE\", \"FIN\", \"DEU\", \"DNK\"], \"marker\": {\"color\": \"#636efa\", \"size\": [4, 33, 20, 42, 16, 8, 1, 368, 3, 40, 84, 30, 21, 17], \"sizemode\": \"area\", \"sizeref\": 0.985}, \"name\": \"Europe\", \"showlegend\": true, \"type\": \"scattergeo\"}, {\"geo\": \"geo\", \"hoverlabel\": {\"namelength\": 0}, \"hovertemplate\": \"<b>%{hovertext}</b><br><br>continent=Americas<br>Year=1908<br>Medal count=%{marker.size}<br>country_iso=%{location}\", \"hovertext\": [\"USA\", \"Canada\"], \"legendgroup\": \"Americas\", \"locationmode\": \"ISO-3\", \"locations\": [\"USA\", \"CAN\"], \"marker\": {\"color\": \"#EF553B\", \"size\": [65, 52], \"sizemode\": \"area\", \"sizeref\": 0.985}, \"name\": \"Americas\", \"showlegend\": true, \"type\": \"scattergeo\"}, {\"geo\": \"geo\", \"hoverlabel\": {\"namelength\": 0}, \"hovertemplate\": \"<b>%{hovertext}</b><br><br>continent=Oceania<br>Year=1908<br>Medal count=%{marker.size}<br>country_iso=%{location}\", \"hovertext\": [\"Australia\"], \"legendgroup\": \"Oceania\", \"locationmode\": \"ISO-3\", \"locations\": [\"AUS\"], \"marker\": {\"color\": \"#00cc96\", \"size\": [19], \"sizemode\": \"area\", \"sizeref\": 0.985}, \"name\": \"Oceania\", \"showlegend\": true, \"type\": \"scattergeo\"}, {\"geo\": \"geo\", \"hoverlabel\": {\"namelength\": 0}, \"hovertemplate\": \"<b>%{hovertext}</b><br><br>continent=Africa<br>Year=1908<br>Medal count=%{marker.size}<br>country_iso=%{location}\", \"hovertext\": [\"South Africa\"], \"legendgroup\": \"Africa\", \"locationmode\": \"ISO-3\", \"locations\": [\"ZAF\"], \"marker\": {\"color\": \"#FFA15A\", \"size\": [2], \"sizemode\": \"area\", \"sizeref\": 0.985}, \"name\": \"Africa\", \"showlegend\": true, \"type\": \"scattergeo\"}], \"name\": \"1908\"}, {\"data\": [{\"geo\": \"geo\", \"hoverlabel\": {\"namelength\": 0}, \"hovertemplate\": \"<b>%{hovertext}</b><br><br>continent=Europe<br>Year=1912<br>Medal count=%{marker.size}<br>country_iso=%{location}\", \"hovertext\": [\"UK\", \"Switzerland\", \"Italy\", \"France\", \"Belgium\", \"Finland\", \"Germany\", \"Greece\", \"Denmark\", \"Hungary\", \"Austria\", \"Netherlands\", \"Norway\", \"Sweden\", \"Russia\"], \"legendgroup\": \"Europe\", \"locationmode\": \"ISO-3\", \"locations\": [\"GBR\", \"CHE\", \"ITA\", \"FRA\", \"BEL\", \"FIN\", \"DEU\", \"GRC\", \"DNK\", \"HUN\", \"AUT\", \"NLD\", \"NOR\", \"SWE\", \"RUS\"], \"marker\": {\"color\": \"#636efa\", \"size\": [170, 2, 25, 26, 19, 71, 53, 2, 87, 30, 14, 26, 80, 190, 14], \"sizemode\": \"area\", \"sizeref\": 0.985}, \"name\": \"Europe\", \"showlegend\": true, \"type\": \"scattergeo\"}, {\"geo\": \"geo\", \"hoverlabel\": {\"namelength\": 0}, \"hovertemplate\": \"<b>%{hovertext}</b><br><br>continent=Americas<br>Year=1912<br>Medal count=%{marker.size}<br>country_iso=%{location}\", \"hovertext\": [\"Canada\", \"USA\"], \"legendgroup\": \"Americas\", \"locationmode\": \"ISO-3\", \"locations\": [\"CAN\", \"USA\"], \"marker\": {\"color\": \"#EF553B\", \"size\": [8, 107], \"sizemode\": \"area\", \"sizeref\": 0.985}, \"name\": \"Americas\", \"showlegend\": true, \"type\": \"scattergeo\"}, {\"geo\": \"geo\", \"hoverlabel\": {\"namelength\": 0}, \"hovertemplate\": \"<b>%{hovertext}</b><br><br>continent=Oceania<br>Year=1912<br>Medal count=%{marker.size}<br>country_iso=%{location}\", \"hovertext\": [\"Australia\"], \"legendgroup\": \"Oceania\", \"locationmode\": \"ISO-3\", \"locations\": [\"AUS\"], \"marker\": {\"color\": \"#00cc96\", \"size\": [10], \"sizemode\": \"area\", \"sizeref\": 0.985}, \"name\": \"Oceania\", \"showlegend\": true, \"type\": \"scattergeo\"}, {\"geo\": \"geo\", \"hoverlabel\": {\"namelength\": 0}, \"hovertemplate\": \"<b>%{hovertext}</b><br><br>continent=Africa<br>Year=1912<br>Medal count=%{marker.size}<br>country_iso=%{location}\", \"hovertext\": [\"South Africa\"], \"legendgroup\": \"Africa\", \"locationmode\": \"ISO-3\", \"locations\": [\"ZAF\"], \"marker\": {\"color\": \"#FFA15A\", \"size\": [7], \"sizemode\": \"area\", \"sizeref\": 0.985}, \"name\": \"Africa\", \"showlegend\": true, \"type\": \"scattergeo\"}], \"name\": \"1912\"}, {\"data\": [{\"geo\": \"geo\", \"hoverlabel\": {\"namelength\": 0}, \"hovertemplate\": \"<b>%{hovertext}</b><br><br>continent=Europe<br>Year=1920<br>Medal count=%{marker.size}<br>country_iso=%{location}\", \"hovertext\": [\"Italy\", \"Belgium\", \"Norway\", \"France\", \"Luxembourg\", \"UK\", \"Greece\", \"Finland\", \"Netherlands\", \"Estonia\", \"Switzerland\", \"Spain\", \"Sweden\", \"Denmark\"], \"legendgroup\": \"Europe\", \"locationmode\": \"ISO-3\", \"locations\": [\"ITA\", \"BEL\", \"NOR\", \"FRA\", \"LUX\", \"GBR\", \"GRC\", \"FIN\", \"NLD\", \"EST\", \"CHE\", \"ESP\", \"SWE\", \"DNK\"], \"marker\": {\"color\": \"#636efa\", \"size\": [84, 188, 137, 141, 1, 111, 5, 52, 50, 3, 29, 23, 154, 71], \"sizemode\": \"area\", \"sizeref\": 0.985}, \"name\": \"Europe\", \"showlegend\": true, \"type\": \"scattergeo\"}, {\"geo\": \"geo\", \"hoverlabel\": {\"namelength\": 0}, \"hovertemplate\": \"<b>%{hovertext}</b><br><br>continent=Americas<br>Year=1920<br>Medal count=%{marker.size}<br>country_iso=%{location}\", \"hovertext\": [\"Brazil\", \"USA\", \"Canada\"], \"legendgroup\": \"Americas\", \"locationmode\": \"ISO-3\", \"locations\": [\"BRA\", \"USA\", \"CAN\"], \"marker\": {\"color\": \"#EF553B\", \"size\": [7, 194, 16], \"sizemode\": \"area\", \"sizeref\": 0.985}, \"name\": \"Americas\", \"showlegend\": true, \"type\": \"scattergeo\"}, {\"geo\": \"geo\", \"hoverlabel\": {\"namelength\": 0}, \"hovertemplate\": \"<b>%{hovertext}</b><br><br>continent=Oceania<br>Year=1920<br>Medal count=%{marker.size}<br>country_iso=%{location}\", \"hovertext\": [\"Australia\", \"New Zealand\"], \"legendgroup\": \"Oceania\", \"locationmode\": \"ISO-3\", \"locations\": [\"AUS\", \"NZL\"], \"marker\": {\"color\": \"#00cc96\", \"size\": [7, 1], \"sizemode\": \"area\", \"sizeref\": 0.985}, \"name\": \"Oceania\", \"showlegend\": true, \"type\": \"scattergeo\"}, {\"geo\": \"geo\", \"hoverlabel\": {\"namelength\": 0}, \"hovertemplate\": \"<b>%{hovertext}</b><br><br>continent=Asia<br>Year=1920<br>Medal count=%{marker.size}<br>country_iso=%{location}\", \"hovertext\": [\"Japan\"], \"legendgroup\": \"Asia\", \"locationmode\": \"ISO-3\", \"locations\": [\"JPN\"], \"marker\": {\"color\": \"#ab63fa\", \"size\": [3], \"sizemode\": \"area\", \"sizeref\": 0.985}, \"name\": \"Asia\", \"showlegend\": true, \"type\": \"scattergeo\"}, {\"geo\": \"geo\", \"hoverlabel\": {\"namelength\": 0}, \"hovertemplate\": \"<b>%{hovertext}</b><br><br>continent=Africa<br>Year=1920<br>Medal count=%{marker.size}<br>country_iso=%{location}\", \"hovertext\": [\"South Africa\"], \"legendgroup\": \"Africa\", \"locationmode\": \"ISO-3\", \"locations\": [\"ZAF\"], \"marker\": {\"color\": \"#FFA15A\", \"size\": [21], \"sizemode\": \"area\", \"sizeref\": 0.985}, \"name\": \"Africa\", \"showlegend\": true, \"type\": \"scattergeo\"}], \"name\": \"1920\"}, {\"data\": [{\"geo\": \"geo\", \"hoverlabel\": {\"namelength\": 0}, \"hovertemplate\": \"<b>%{hovertext}</b><br><br>continent=Europe<br>Year=1924<br>Medal count=%{marker.size}<br>country_iso=%{location}\", \"hovertext\": [\"Netherlands\", \"Switzerland\", \"Poland\", \"UK\", \"Estonia\", \"Sweden\", \"France\", \"Luxembourg\", \"Norway\", \"Portugal\", \"Romania\", \"Austria\", \"Finland\", \"Monaco\", \"Denmark\", \"Greece\", \"Italy\", \"Ireland\", \"Hungary\", \"Serbia\", \"Belgium\"], \"legendgroup\": \"Europe\", \"locationmode\": \"ISO-3\", \"locations\": [\"NLD\", \"CHE\", \"POL\", \"GBR\", \"EST\", \"SWE\", \"FRA\", \"LUX\", \"NOR\", \"PRT\", \"ROU\", \"AUT\", \"FIN\", \"MCO\", \"DNK\", \"GRC\", \"ITA\", \"IRL\", \"HUN\", \"SRB\", \"BEL\"], \"marker\": {\"color\": \"#636efa\", \"size\": [27, 69, 5, 95, 6, 81, 120, 2, 39, 4, 16, 8, 67, 1, 14, 1, 51, 2, 22, 2, 44], \"sizemode\": \"area\", \"sizeref\": 0.985}, \"name\": \"Europe\", \"showlegend\": true, \"type\": \"scattergeo\"}, {\"geo\": \"geo\", \"hoverlabel\": {\"namelength\": 0}, \"hovertemplate\": \"<b>%{hovertext}</b><br><br>continent=Americas<br>Year=1924<br>Medal count=%{marker.size}<br>country_iso=%{location}\", \"hovertext\": [\"USA\", \"Argentina\", \"Uruguay\", \"Canada\", \"Haiti\"], \"legendgroup\": \"Americas\", \"locationmode\": \"ISO-3\", \"locations\": [\"USA\", \"ARG\", \"URY\", \"CAN\", \"HTI\"], \"marker\": {\"color\": \"#EF553B\", \"size\": [194, 10, 14, 29, 5], \"sizemode\": \"area\", \"sizeref\": 0.985}, \"name\": \"Americas\", \"showlegend\": true, \"type\": \"scattergeo\"}, {\"geo\": \"geo\", \"hoverlabel\": {\"namelength\": 0}, \"hovertemplate\": \"<b>%{hovertext}</b><br><br>continent=Oceania<br>Year=1924<br>Medal count=%{marker.size}<br>country_iso=%{location}\", \"hovertext\": [\"Australia\", \"New Zealand\"], \"legendgroup\": \"Oceania\", \"locationmode\": \"ISO-3\", \"locations\": [\"AUS\", \"NZL\"], \"marker\": {\"color\": \"#00cc96\", \"size\": [11, 1], \"sizemode\": \"area\", \"sizeref\": 0.985}, \"name\": \"Oceania\", \"showlegend\": true, \"type\": \"scattergeo\"}, {\"geo\": \"geo\", \"hoverlabel\": {\"namelength\": 0}, \"hovertemplate\": \"<b>%{hovertext}</b><br><br>continent=Asia<br>Year=1924<br>Medal count=%{marker.size}<br>country_iso=%{location}\", \"hovertext\": [\"Nepal\", \"Japan\", \"India\"], \"legendgroup\": \"Asia\", \"locationmode\": \"ISO-3\", \"locations\": [\"NPL\", \"JPN\", \"IND\"], \"marker\": {\"color\": \"#ab63fa\", \"size\": [1, 1, 7], \"sizemode\": \"area\", \"sizeref\": 0.985}, \"name\": \"Asia\", \"showlegend\": true, \"type\": \"scattergeo\"}, {\"geo\": \"geo\", \"hoverlabel\": {\"namelength\": 0}, \"hovertemplate\": \"<b>%{hovertext}</b><br><br>continent=Africa<br>Year=1924<br>Medal count=%{marker.size}<br>country_iso=%{location}\", \"hovertext\": [\"South Africa\"], \"legendgroup\": \"Africa\", \"locationmode\": \"ISO-3\", \"locations\": [\"ZAF\"], \"marker\": {\"color\": \"#FFA15A\", \"size\": [3], \"sizemode\": \"area\", \"sizeref\": 0.985}, \"name\": \"Africa\", \"showlegend\": true, \"type\": \"scattergeo\"}], \"name\": \"1924\"}, {\"data\": [{\"geo\": \"geo\", \"hoverlabel\": {\"namelength\": 0}, \"hovertemplate\": \"<b>%{hovertext}</b><br><br>continent=Europe<br>Year=1928<br>Medal count=%{marker.size}<br>country_iso=%{location}\", \"hovertext\": [\"Poland\", \"Hungary\", \"Norway\", \"France\", \"Spain\", \"Portugal\", \"Luxembourg\", \"Belgium\", \"Estonia\", \"Sweden\", \"Finland\", \"UK\", \"Italy\", \"Serbia\", \"Netherlands\", \"Germany\", \"Ireland\", \"Switzerland\", \"Austria\", \"Denmark\"], \"legendgroup\": \"Europe\", \"locationmode\": \"ISO-3\", \"locations\": [\"POL\", \"HUN\", \"NOR\", \"FRA\", \"ESP\", \"PRT\", \"LUX\", \"BEL\", \"EST\", \"SWE\", \"FIN\", \"GBR\", \"ITA\", \"SRB\", \"NLD\", \"DEU\", \"IRL\", \"CHE\", \"AUT\", \"DNK\"], \"marker\": {\"color\": \"#636efa\", \"size\": [20, 21, 24, 52, 3, 6, 1, 6, 9, 53, 29, 59, 72, 12, 57, 82, 1, 42, 11, 15], \"sizemode\": \"area\", \"sizeref\": 0.985}, \"name\": \"Europe\", \"showlegend\": true, \"type\": \"scattergeo\"}, {\"geo\": \"geo\", \"hoverlabel\": {\"namelength\": 0}, \"hovertemplate\": \"<b>%{hovertext}</b><br><br>continent=Americas<br>Year=1928<br>Medal count=%{marker.size}<br>country_iso=%{location}\", \"hovertext\": [\"Chile\", \"Canada\", \"Argentina\", \"Haiti\", \"Uruguay\", \"USA\"], \"legendgroup\": \"Americas\", \"locationmode\": \"ISO-3\", \"locations\": [\"CHL\", \"CAN\", \"ARG\", \"HTI\", \"URY\", \"USA\"], \"marker\": {\"color\": \"#EF553B\", \"size\": [1, 45, 26, 1, 17, 102], \"sizemode\": \"area\", \"sizeref\": 0.985}, \"name\": \"Americas\", \"showlegend\": true, \"type\": \"scattergeo\"}, {\"geo\": \"geo\", \"hoverlabel\": {\"namelength\": 0}, \"hovertemplate\": \"<b>%{hovertext}</b><br><br>continent=Oceania<br>Year=1928<br>Medal count=%{marker.size}<br>country_iso=%{location}\", \"hovertext\": [\"New Zealand\", \"Australia\"], \"legendgroup\": \"Oceania\", \"locationmode\": \"ISO-3\", \"locations\": [\"NZL\", \"AUS\"], \"marker\": {\"color\": \"#00cc96\", \"size\": [1, 4], \"sizemode\": \"area\", \"sizeref\": 0.985}, \"name\": \"Oceania\", \"showlegend\": true, \"type\": \"scattergeo\"}, {\"geo\": \"geo\", \"hoverlabel\": {\"namelength\": 0}, \"hovertemplate\": \"<b>%{hovertext}</b><br><br>continent=Asia<br>Year=1928<br>Medal count=%{marker.size}<br>country_iso=%{location}\", \"hovertext\": [\"India\", \"Japan\", \"Philippines\"], \"legendgroup\": \"Asia\", \"locationmode\": \"ISO-3\", \"locations\": [\"IND\", \"JPN\", \"PHL\"], \"marker\": {\"color\": \"#ab63fa\", \"size\": [14, 9, 1], \"sizemode\": \"area\", \"sizeref\": 0.985}, \"name\": \"Asia\", \"showlegend\": true, \"type\": \"scattergeo\"}, {\"geo\": \"geo\", \"hoverlabel\": {\"namelength\": 0}, \"hovertemplate\": \"<b>%{hovertext}</b><br><br>continent=Africa<br>Year=1928<br>Medal count=%{marker.size}<br>country_iso=%{location}\", \"hovertext\": [\"Egypt\", \"South Africa\"], \"legendgroup\": \"Africa\", \"locationmode\": \"ISO-3\", \"locations\": [\"EGY\", \"ZAF\"], \"marker\": {\"color\": \"#FFA15A\", \"size\": [4, 6], \"sizemode\": \"area\", \"sizeref\": 0.985}, \"name\": \"Africa\", \"showlegend\": true, \"type\": \"scattergeo\"}], \"name\": \"1928\"}, {\"data\": [{\"geo\": \"geo\", \"hoverlabel\": {\"namelength\": 0}, \"hovertemplate\": \"<b>%{hovertext}</b><br><br>continent=Europe<br>Year=1932<br>Medal count=%{marker.size}<br>country_iso=%{location}\", \"hovertext\": [\"Sweden\", \"Netherlands\", \"Hungary\", \"Denmark\", \"Spain\", \"Ireland\", \"Switzerland\", \"Italy\", \"Austria\", \"UK\", \"Poland\", \"Finland\", \"Norway\", \"Germany\", \"Belgium\", \"France\", \"Latvia\"], \"legendgroup\": \"Europe\", \"locationmode\": \"ISO-3\", \"locations\": [\"SWE\", \"NLD\", \"HUN\", \"DNK\", \"ESP\", \"IRL\", \"CHE\", \"ITA\", \"AUT\", \"GBR\", \"POL\", \"FIN\", \"NOR\", \"DEU\", \"BEL\", \"FRA\", \"LVA\"], \"marker\": {\"color\": \"#636efa\", \"size\": [35, 13, 35, 11, 1, 2, 3, 77, 7, 35, 21, 32, 10, 57, 1, 42, 1], \"sizemode\": \"area\", \"sizeref\": 0.985}, \"name\": \"Europe\", \"showlegend\": true, \"type\": \"scattergeo\"}, {\"geo\": \"geo\", \"hoverlabel\": {\"namelength\": 0}, \"hovertemplate\": \"<b>%{hovertext}</b><br><br>continent=Americas<br>Year=1932<br>Medal count=%{marker.size}<br>country_iso=%{location}\", \"hovertext\": [\"Canada\", \"Argentina\", \"USA\", \"Uruguay\", \"Mexico\"], \"legendgroup\": \"Americas\", \"locationmode\": \"ISO-3\", \"locations\": [\"CAN\", \"ARG\", \"USA\", \"URY\", \"MEX\"], \"marker\": {\"color\": \"#EF553B\", \"size\": [59, 4, 223, 1, 2], \"sizemode\": \"area\", \"sizeref\": 0.985}, \"name\": \"Americas\", \"showlegend\": true, \"type\": \"scattergeo\"}, {\"geo\": \"geo\", \"hoverlabel\": {\"namelength\": 0}, \"hovertemplate\": \"<b>%{hovertext}</b><br><br>continent=Oceania<br>Year=1932<br>Medal count=%{marker.size}<br>country_iso=%{location}\", \"hovertext\": [\"New Zealand\", \"Australia\"], \"legendgroup\": \"Oceania\", \"locationmode\": \"ISO-3\", \"locations\": [\"NZL\", \"AUS\"], \"marker\": {\"color\": \"#00cc96\", \"size\": [2, 5], \"sizemode\": \"area\", \"sizeref\": 0.985}, \"name\": \"Oceania\", \"showlegend\": true, \"type\": \"scattergeo\"}, {\"geo\": \"geo\", \"hoverlabel\": {\"namelength\": 0}, \"hovertemplate\": \"<b>%{hovertext}</b><br><br>continent=Asia<br>Year=1932<br>Medal count=%{marker.size}<br>country_iso=%{location}\", \"hovertext\": [\"India\", \"Japan\", \"Philippines\"], \"legendgroup\": \"Asia\", \"locationmode\": \"ISO-3\", \"locations\": [\"IND\", \"JPN\", \"PHL\"], \"marker\": {\"color\": \"#ab63fa\", \"size\": [15, 31, 3], \"sizemode\": \"area\", \"sizeref\": 0.985}, \"name\": \"Asia\", \"showlegend\": true, \"type\": \"scattergeo\"}, {\"geo\": \"geo\", \"hoverlabel\": {\"namelength\": 0}, \"hovertemplate\": \"<b>%{hovertext}</b><br><br>continent=Africa<br>Year=1932<br>Medal count=%{marker.size}<br>country_iso=%{location}\", \"hovertext\": [\"South Africa\"], \"legendgroup\": \"Africa\", \"locationmode\": \"ISO-3\", \"locations\": [\"ZAF\"], \"marker\": {\"color\": \"#FFA15A\", \"size\": [5], \"sizemode\": \"area\", \"sizeref\": 0.985}, \"name\": \"Africa\", \"showlegend\": true, \"type\": \"scattergeo\"}], \"name\": \"1932\"}, {\"data\": [{\"geo\": \"geo\", \"hoverlabel\": {\"namelength\": 0}, \"hovertemplate\": \"<b>%{hovertext}</b><br><br>continent=Europe<br>Year=1936<br>Medal count=%{marker.size}<br>country_iso=%{location}\", \"hovertext\": [\"Latvia\", \"Norway\", \"UK\", \"Germany\", \"Netherlands\", \"Serbia\", \"Denmark\", \"Estonia\", \"Sweden\", \"Austria\", \"Finland\", \"Romania\", \"Hungary\", \"Italy\", \"Poland\", \"Portugal\", \"Belgium\", \"France\", \"Switzerland\"], \"legendgroup\": \"Europe\", \"locationmode\": \"ISO-3\", \"locations\": [\"LVA\", \"NOR\", \"GBR\", \"DEU\", \"NLD\", \"SRB\", \"DNK\", \"EST\", \"SWE\", \"AUT\", \"FIN\", \"ROU\", \"HUN\", \"ITA\", \"POL\", \"PRT\", \"BEL\", \"FRA\", \"CHE\"], \"marker\": {\"color\": \"#636efa\", \"size\": [2, 46, 53, 231, 37, 1, 6, 7, 45, 60, 36, 1, 43, 76, 12, 3, 14, 45, 62], \"sizemode\": \"area\", \"sizeref\": 0.985}, \"name\": \"Europe\", \"showlegend\": true, \"type\": \"scattergeo\"}, {\"geo\": \"geo\", \"hoverlabel\": {\"namelength\": 0}, \"hovertemplate\": \"<b>%{hovertext}</b><br><br>continent=Americas<br>Year=1936<br>Medal count=%{marker.size}<br>country_iso=%{location}\", \"hovertext\": [\"Argentina\", \"USA\", \"Mexico\", \"Canada\"], \"legendgroup\": \"Americas\", \"locationmode\": \"ISO-3\", \"locations\": [\"ARG\", \"USA\", \"MEX\", \"CAN\"], \"marker\": {\"color\": \"#EF553B\", \"size\": [11, 112, 16, 35], \"sizemode\": \"area\", \"sizeref\": 0.985}, \"name\": \"Americas\", \"showlegend\": true, \"type\": \"scattergeo\"}, {\"geo\": \"geo\", \"hoverlabel\": {\"namelength\": 0}, \"hovertemplate\": \"<b>%{hovertext}</b><br><br>continent=Oceania<br>Year=1936<br>Medal count=%{marker.size}<br>country_iso=%{location}\", \"hovertext\": [\"New Zealand\", \"Australia\"], \"legendgroup\": \"Oceania\", \"locationmode\": \"ISO-3\", \"locations\": [\"NZL\", \"AUS\"], \"marker\": {\"color\": \"#00cc96\", \"size\": [1, 1], \"sizemode\": \"area\", \"sizeref\": 0.985}, \"name\": \"Oceania\", \"showlegend\": true, \"type\": \"scattergeo\"}, {\"geo\": \"geo\", \"hoverlabel\": {\"namelength\": 0}, \"hovertemplate\": \"<b>%{hovertext}</b><br><br>continent=Asia<br>Year=1936<br>Medal count=%{marker.size}<br>country_iso=%{location}\", \"hovertext\": [\"India\", \"Turkey\", \"Philippines\", \"Japan\"], \"legendgroup\": \"Asia\", \"locationmode\": \"ISO-3\", \"locations\": [\"IND\", \"TUR\", \"PHL\", \"JPN\"], \"marker\": {\"color\": \"#ab63fa\", \"size\": [19, 2, 1, 23], \"sizemode\": \"area\", \"sizeref\": 0.985}, \"name\": \"Asia\", \"showlegend\": true, \"type\": \"scattergeo\"}, {\"geo\": \"geo\", \"hoverlabel\": {\"namelength\": 0}, \"hovertemplate\": \"<b>%{hovertext}</b><br><br>continent=Africa<br>Year=1936<br>Medal count=%{marker.size}<br>country_iso=%{location}\", \"hovertext\": [\"Egypt\", \"South Africa\"], \"legendgroup\": \"Africa\", \"locationmode\": \"ISO-3\", \"locations\": [\"EGY\", \"ZAF\"], \"marker\": {\"color\": \"#FFA15A\", \"size\": [5, 1], \"sizemode\": \"area\", \"sizeref\": 0.985}, \"name\": \"Africa\", \"showlegend\": true, \"type\": \"scattergeo\"}], \"name\": \"1936\"}, {\"data\": [{\"geo\": \"geo\", \"hoverlabel\": {\"namelength\": 0}, \"hovertemplate\": \"<b>%{hovertext}</b><br><br>continent=Europe<br>Year=1948<br>Medal count=%{marker.size}<br>country_iso=%{location}\", \"hovertext\": [\"Netherlands\", \"Italy\", \"Norway\", \"Denmark\", \"Ireland\", \"France\", \"Spain\", \"Portugal\", \"Sweden\", \"Hungary\", \"Switzerland\", \"UK\", \"Finland\", \"Poland\", \"Serbia\", \"Austria\", \"Belgium\"], \"legendgroup\": \"Europe\", \"locationmode\": \"ISO-3\", \"locations\": [\"NLD\", \"ITA\", \"NOR\", \"DNK\", \"IRL\", \"FRA\", \"ESP\", \"PRT\", \"SWE\", \"HUN\", \"CHE\", \"GBR\", \"FIN\", \"POL\", \"SRB\", \"AUT\", \"BEL\"], \"marker\": {\"color\": \"#636efa\", \"size\": [42, 68, 31, 51, 1, 77, 3, 5, 88, 64, 64, 63, 42, 2, 16, 16, 21], \"sizemode\": \"area\", \"sizeref\": 0.985}, \"name\": \"Europe\", \"showlegend\": true, \"type\": \"scattergeo\"}, {\"geo\": \"geo\", \"hoverlabel\": {\"namelength\": 0}, \"hovertemplate\": \"<b>%{hovertext}</b><br><br>continent=Americas<br>Year=1948<br>Medal count=%{marker.size}<br>country_iso=%{location}\", \"hovertext\": [\"Peru\", \"Jamaica\", \"Panama\", \"Trinidad\", \"Cuba\", \"Uruguay\", \"Mexico\", \"Puerto Rico\", \"USA\", \"Argentina\", \"Brazil\", \"Canada\"], \"legendgroup\": \"Americas\", \"locationmode\": \"ISO-3\", \"locations\": [\"PER\", \"JAM\", \"PAN\", \"TTO\", \"CUB\", \"URY\", \"MEX\", \"PRI\", \"USA\", \"ARG\", \"BRA\", \"CAN\"], \"marker\": {\"color\": \"#EF553B\", \"size\": [1, 3, 2, 1, 2, 3, 9, 1, 168, 11, 10, 22], \"sizemode\": \"area\", \"sizeref\": 0.985}, \"name\": \"Americas\", \"showlegend\": true, \"type\": \"scattergeo\"}, {\"geo\": \"geo\", \"hoverlabel\": {\"namelength\": 0}, \"hovertemplate\": \"<b>%{hovertext}</b><br><br>continent=Oceania<br>Year=1948<br>Medal count=%{marker.size}<br>country_iso=%{location}\", \"hovertext\": [\"Australia\"], \"legendgroup\": \"Oceania\", \"locationmode\": \"ISO-3\", \"locations\": [\"AUS\"], \"marker\": {\"color\": \"#00cc96\", \"size\": [16], \"sizemode\": \"area\", \"sizeref\": 0.985}, \"name\": \"Oceania\", \"showlegend\": true, \"type\": \"scattergeo\"}, {\"geo\": \"geo\", \"hoverlabel\": {\"namelength\": 0}, \"hovertemplate\": \"<b>%{hovertext}</b><br><br>continent=Asia<br>Year=1948<br>Medal count=%{marker.size}<br>country_iso=%{location}\", \"hovertext\": [\"India\", \"South Korea\", \"Turkey\", \"Sri Lanka\"], \"legendgroup\": \"Asia\", \"locationmode\": \"ISO-3\", \"locations\": [\"IND\", \"KOR\", \"TUR\", \"LKA\"], \"marker\": {\"color\": \"#ab63fa\", \"size\": [20, 2, 12, 1], \"sizemode\": \"area\", \"sizeref\": 0.985}, \"name\": \"Asia\", \"showlegend\": true, \"type\": \"scattergeo\"}, {\"geo\": \"geo\", \"hoverlabel\": {\"namelength\": 0}, \"hovertemplate\": \"<b>%{hovertext}</b><br><br>continent=Africa<br>Year=1948<br>Medal count=%{marker.size}<br>country_iso=%{location}\", \"hovertext\": [\"Egypt\", \"South Africa\"], \"legendgroup\": \"Africa\", \"locationmode\": \"ISO-3\", \"locations\": [\"EGY\", \"ZAF\"], \"marker\": {\"color\": \"#FFA15A\", \"size\": [5, 6], \"sizemode\": \"area\", \"sizeref\": 0.985}, \"name\": \"Africa\", \"showlegend\": true, \"type\": \"scattergeo\"}], \"name\": \"1948\"}, {\"data\": [{\"geo\": \"geo\", \"hoverlabel\": {\"namelength\": 0}, \"hovertemplate\": \"<b>%{hovertext}</b><br><br>continent=Europe<br>Year=1952<br>Medal count=%{marker.size}<br>country_iso=%{location}\", \"hovertext\": [\"Sweden\", \"Finland\", \"Portugal\", \"Denmark\", \"Romania\", \"Serbia\", \"Poland\", \"Switzerland\", \"Austria\", \"Bulgaria\", \"Hungary\", \"Netherlands\", \"Belgium\", \"Norway\", \"Ireland\", \"Germany\", \"Luxembourg\", \"Italy\", \"France\", \"Spain\", \"UK\"], \"legendgroup\": \"Europe\", \"locationmode\": \"ISO-3\", \"locations\": [\"SWE\", \"FIN\", \"PRT\", \"DNK\", \"ROU\", \"SRB\", \"POL\", \"CHE\", \"AUT\", \"BGR\", \"HUN\", \"NLD\", \"BEL\", \"NOR\", \"IRL\", \"DEU\", \"LUX\", \"ITA\", \"FRA\", \"ESP\", \"GBR\"], \"marker\": {\"color\": \"#636efa\", \"size\": [93, 52, 2, 9, 4, 24, 4, 39, 11, 1, 104, 21, 8, 32, 1, 52, 1, 56, 41, 1, 32], \"sizemode\": \"area\", \"sizeref\": 0.985}, \"name\": \"Europe\", \"showlegend\": true, \"type\": \"scattergeo\"}, {\"geo\": \"geo\", \"hoverlabel\": {\"namelength\": 0}, \"hovertemplate\": \"<b>%{hovertext}</b><br><br>continent=Americas<br>Year=1952<br>Medal count=%{marker.size}<br>country_iso=%{location}\", \"hovertext\": [\"Canada\", \"Trinidad\", \"Venezuela\", \"Chile\", \"Mexico\", \"Jamaica\", \"Brazil\", \"Argentina\", \"Uruguay\", \"USA\"], \"legendgroup\": \"Americas\", \"locationmode\": \"ISO-3\", \"locations\": [\"CAN\", \"TTO\", \"VEN\", \"CHL\", \"MEX\", \"JAM\", \"BRA\", \"ARG\", \"URY\", \"USA\"], \"marker\": {\"color\": \"#EF553B\", \"size\": [21, 2, 1, 4, 1, 8, 3, 6, 14, 164], \"sizemode\": \"area\", \"sizeref\": 0.985}, \"name\": \"Americas\", \"showlegend\": true, \"type\": \"scattergeo\"}, {\"geo\": \"geo\", \"hoverlabel\": {\"namelength\": 0}, \"hovertemplate\": \"<b>%{hovertext}</b><br><br>continent=Oceania<br>Year=1952<br>Medal count=%{marker.size}<br>country_iso=%{location}\", \"hovertext\": [\"Australia\", \"New Zealand\"], \"legendgroup\": \"Oceania\", \"locationmode\": \"ISO-3\", \"locations\": [\"AUS\", \"NZL\"], \"marker\": {\"color\": \"#00cc96\", \"size\": [20, 3], \"sizemode\": \"area\", \"sizeref\": 0.985}, \"name\": \"Oceania\", \"showlegend\": true, \"type\": \"scattergeo\"}, {\"geo\": \"geo\", \"hoverlabel\": {\"namelength\": 0}, \"hovertemplate\": \"<b>%{hovertext}</b><br><br>continent=Asia<br>Year=1952<br>Medal count=%{marker.size}<br>country_iso=%{location}\", \"hovertext\": [\"Japan\", \"South Korea\", \"India\", \"Turkey\", \"Lebanon\"], \"legendgroup\": \"Asia\", \"locationmode\": \"ISO-3\", \"locations\": [\"JPN\", \"KOR\", \"IND\", \"TUR\", \"LBN\"], \"marker\": {\"color\": \"#ab63fa\", \"size\": [12, 2, 15, 3, 2], \"sizemode\": \"area\", \"sizeref\": 0.985}, \"name\": \"Asia\", \"showlegend\": true, \"type\": \"scattergeo\"}, {\"geo\": \"geo\", \"hoverlabel\": {\"namelength\": 0}, \"hovertemplate\": \"<b>%{hovertext}</b><br><br>continent=Africa<br>Year=1952<br>Medal count=%{marker.size}<br>country_iso=%{location}\", \"hovertext\": [\"South Africa\", \"Egypt\"], \"legendgroup\": \"Africa\", \"locationmode\": \"ISO-3\", \"locations\": [\"ZAF\", \"EGY\"], \"marker\": {\"color\": \"#FFA15A\", \"size\": [14, 1], \"sizemode\": \"area\", \"sizeref\": 0.985}, \"name\": \"Africa\", \"showlegend\": true, \"type\": \"scattergeo\"}], \"name\": \"1952\"}, {\"data\": [{\"geo\": \"geo\", \"hoverlabel\": {\"namelength\": 0}, \"hovertemplate\": \"<b>%{hovertext}</b><br><br>continent=Europe<br>Year=1956<br>Medal count=%{marker.size}<br>country_iso=%{location}\", \"hovertext\": [\"Germany\", \"Switzerland\", \"Sweden\", \"Norway\", \"Ireland\", \"Iceland\", \"Hungary\", \"Belgium\", \"Austria\", \"France\", \"Bulgaria\", \"UK\", \"Finland\", \"Romania\", \"Serbia\", \"Poland\", \"Denmark\", \"Italy\", \"Greece\"], \"legendgroup\": \"Europe\", \"locationmode\": \"ISO-3\", \"locations\": [\"DEU\", \"CHE\", \"SWE\", \"NOR\", \"IRL\", \"ISL\", \"HUN\", \"BEL\", \"AUT\", \"FRA\", \"BGR\", \"GBR\", \"FIN\", \"ROU\", \"SRB\", \"POL\", \"DNK\", \"ITA\", \"GRC\"], \"marker\": {\"color\": \"#636efa\", \"size\": [54, 13, 49, 7, 5, 1, 66, 2, 16, 33, 18, 46, 38, 19, 23, 20, 6, 55, 1], \"sizemode\": \"area\", \"sizeref\": 0.985}, \"name\": \"Europe\", \"showlegend\": true, \"type\": \"scattergeo\"}, {\"geo\": \"geo\", \"hoverlabel\": {\"namelength\": 0}, \"hovertemplate\": \"<b>%{hovertext}</b><br><br>continent=Americas<br>Year=1956<br>Medal count=%{marker.size}<br>country_iso=%{location}\", \"hovertext\": [\"Canada\", \"Brazil\", \"Argentina\", \"Uruguay\", \"USA\", \"Bahamas\", \"Mexico\", \"Chile\"], \"legendgroup\": \"Americas\", \"locationmode\": \"ISO-3\", \"locations\": [\"CAN\", \"BRA\", \"ARG\", \"URY\", \"USA\", \"BHS\", \"MEX\", \"CHL\"], \"marker\": {\"color\": \"#EF553B\", \"size\": [39, 1, 2, 12, 149, 2, 2, 4], \"sizemode\": \"area\", \"sizeref\": 0.985}, \"name\": \"Americas\", \"showlegend\": true, \"type\": \"scattergeo\"}, {\"geo\": \"geo\", \"hoverlabel\": {\"namelength\": 0}, \"hovertemplate\": \"<b>%{hovertext}</b><br><br>continent=Oceania<br>Year=1956<br>Medal count=%{marker.size}<br>country_iso=%{location}\", \"hovertext\": [\"Australia\", \"New Zealand\"], \"legendgroup\": \"Oceania\", \"locationmode\": \"ISO-3\", \"locations\": [\"AUS\", \"NZL\"], \"marker\": {\"color\": \"#00cc96\", \"size\": [67, 3], \"sizemode\": \"area\", \"sizeref\": 0.985}, \"name\": \"Oceania\", \"showlegend\": true, \"type\": \"scattergeo\"}, {\"geo\": \"geo\", \"hoverlabel\": {\"namelength\": 0}, \"hovertemplate\": \"<b>%{hovertext}</b><br><br>continent=Asia<br>Year=1956<br>Medal count=%{marker.size}<br>country_iso=%{location}\", \"hovertext\": [\"South Korea\", \"Turkey\", \"Japan\", \"Pakistan\", \"India\"], \"legendgroup\": \"Asia\", \"locationmode\": \"ISO-3\", \"locations\": [\"KOR\", \"TUR\", \"JPN\", \"PAK\", \"IND\"], \"marker\": {\"color\": \"#ab63fa\", \"size\": [2, 7, 25, 14, 17], \"sizemode\": \"area\", \"sizeref\": 0.985}, \"name\": \"Asia\", \"showlegend\": true, \"type\": \"scattergeo\"}, {\"geo\": \"geo\", \"hoverlabel\": {\"namelength\": 0}, \"hovertemplate\": \"<b>%{hovertext}</b><br><br>continent=Africa<br>Year=1956<br>Medal count=%{marker.size}<br>country_iso=%{location}\", \"hovertext\": [\"South Africa\"], \"legendgroup\": \"Africa\", \"locationmode\": \"ISO-3\", \"locations\": [\"ZAF\"], \"marker\": {\"color\": \"#FFA15A\", \"size\": [7], \"sizemode\": \"area\", \"sizeref\": 0.985}, \"name\": \"Africa\", \"showlegend\": true, \"type\": \"scattergeo\"}], \"name\": \"1956\"}, {\"data\": [{\"geo\": \"geo\", \"hoverlabel\": {\"namelength\": 0}, \"hovertemplate\": \"<b>%{hovertext}</b><br><br>continent=Europe<br>Year=1960<br>Medal count=%{marker.size}<br>country_iso=%{location}\", \"hovertext\": [\"Finland\", \"Austria\", \"Serbia\", \"Romania\", \"France\", \"Switzerland\", \"Bulgaria\", \"Poland\", \"Italy\", \"UK\", \"Germany\", \"Portugal\", \"Greece\", \"Norway\", \"Denmark\", \"Netherlands\", \"Belgium\", \"Hungary\", \"Sweden\", \"Spain\"], \"legendgroup\": \"Europe\", \"locationmode\": \"ISO-3\", \"locations\": [\"FIN\", \"AUT\", \"SRB\", \"ROU\", \"FRA\", \"CHE\", \"BGR\", \"POL\", \"ITA\", \"GBR\", \"DEU\", \"PRT\", \"GRC\", \"NOR\", \"DNK\", \"NLD\", \"BEL\", \"HUN\", \"SWE\", \"ESP\"], \"marker\": {\"color\": \"#636efa\", \"size\": [19, 9, 17, 15, 15, 14, 7, 32, 89, 28, 98, 2, 3, 11, 23, 5, 4, 66, 16, 14], \"sizemode\": \"area\", \"sizeref\": 0.985}, \"name\": \"Europe\", \"showlegend\": true, \"type\": \"scattergeo\"}, {\"geo\": \"geo\", \"hoverlabel\": {\"namelength\": 0}, \"hovertemplate\": \"<b>%{hovertext}</b><br><br>continent=Americas<br>Year=1960<br>Medal count=%{marker.size}<br>country_iso=%{location}\", \"hovertext\": [\"Canada\", \"Brazil\", \"Mexico\", \"USA\", \"Argentina\", \"Venezuela\"], \"legendgroup\": \"Americas\", \"locationmode\": \"ISO-3\", \"locations\": [\"CAN\", \"BRA\", \"MEX\", \"USA\", \"ARG\", \"VEN\"], \"marker\": {\"color\": \"#EF553B\", \"size\": [30, 13, 1, 152, 4, 1], \"sizemode\": \"area\", \"sizeref\": 0.985}, \"name\": \"Americas\", \"showlegend\": true, \"type\": \"scattergeo\"}, {\"geo\": \"geo\", \"hoverlabel\": {\"namelength\": 0}, \"hovertemplate\": \"<b>%{hovertext}</b><br><br>continent=Oceania<br>Year=1960<br>Medal count=%{marker.size}<br>country_iso=%{location}\", \"hovertext\": [\"New Zealand\", \"Australia\"], \"legendgroup\": \"Oceania\", \"locationmode\": \"ISO-3\", \"locations\": [\"NZL\", \"AUS\"], \"marker\": {\"color\": \"#00cc96\", \"size\": [3, 46], \"sizemode\": \"area\", \"sizeref\": 0.985}, \"name\": \"Oceania\", \"showlegend\": true, \"type\": \"scattergeo\"}, {\"geo\": \"geo\", \"hoverlabel\": {\"namelength\": 0}, \"hovertemplate\": \"<b>%{hovertext}</b><br><br>continent=Asia<br>Year=1960<br>Medal count=%{marker.size}<br>country_iso=%{location}\", \"hovertext\": [\"Turkey\", \"Japan\", \"Iraq\", \"India\", \"Pakistan\"], \"legendgroup\": \"Asia\", \"locationmode\": \"ISO-3\", \"locations\": [\"TUR\", \"JPN\", \"IRQ\", \"IND\", \"PAK\"], \"marker\": {\"color\": \"#ab63fa\", \"size\": [9, 31, 1, 13, 14], \"sizemode\": \"area\", \"sizeref\": 0.985}, \"name\": \"Asia\", \"showlegend\": true, \"type\": \"scattergeo\"}, {\"geo\": \"geo\", \"hoverlabel\": {\"namelength\": 0}, \"hovertemplate\": \"<b>%{hovertext}</b><br><br>continent=Africa<br>Year=1960<br>Medal count=%{marker.size}<br>country_iso=%{location}\", \"hovertext\": [\"Ethiopia\", \"Ghana\", \"Morocco\", \"South Africa\"], \"legendgroup\": \"Africa\", \"locationmode\": \"ISO-3\", \"locations\": [\"ETH\", \"GHA\", \"MAR\", \"ZAF\"], \"marker\": {\"color\": \"#FFA15A\", \"size\": [1, 1, 1, 3], \"sizemode\": \"area\", \"sizeref\": 0.985}, \"name\": \"Africa\", \"showlegend\": true, \"type\": \"scattergeo\"}], \"name\": \"1960\"}, {\"data\": [{\"geo\": \"geo\", \"hoverlabel\": {\"namelength\": 0}, \"hovertemplate\": \"<b>%{hovertext}</b><br><br>continent=Europe<br>Year=1964<br>Medal count=%{marker.size}<br>country_iso=%{location}\", \"hovertext\": [\"Poland\", \"Germany\", \"Hungary\", \"Sweden\", \"Ireland\", \"Bulgaria\", \"Norway\", \"Belgium\", \"UK\", \"Switzerland\", \"Austria\", \"Serbia\", \"Finland\", \"France\", \"Denmark\", \"Netherlands\", \"Italy\", \"Romania\"], \"legendgroup\": \"Europe\", \"locationmode\": \"ISO-3\", \"locations\": [\"POL\", \"DEU\", \"HUN\", \"SWE\", \"IRL\", \"BGR\", \"NOR\", \"BEL\", \"GBR\", \"CHE\", \"AUT\", \"SRB\", \"FIN\", \"FRA\", \"DNK\", \"NLD\", \"ITA\", \"ROU\"], \"marker\": {\"color\": \"#636efa\", \"size\": [46, 126, 56, 43, 1, 10, 15, 3, 30, 6, 17, 15, 20, 38, 12, 33, 61, 16], \"sizemode\": \"area\", \"sizeref\": 0.985}, \"name\": \"Europe\", \"showlegend\": true, \"type\": \"scattergeo\"}, {\"geo\": \"geo\", \"hoverlabel\": {\"namelength\": 0}, \"hovertemplate\": \"<b>%{hovertext}</b><br><br>continent=Americas<br>Year=1964<br>Medal count=%{marker.size}<br>country_iso=%{location}\", \"hovertext\": [\"USA\", \"Mexico\", \"Trinidad\", \"Argentina\", \"Bahamas\", \"Uruguay\", \"Cuba\", \"Brazil\", \"Canada\"], \"legendgroup\": \"Americas\", \"locationmode\": \"ISO-3\", \"locations\": [\"USA\", \"MEX\", \"TTO\", \"ARG\", \"BHS\", \"URY\", \"CUB\", \"BRA\", \"CAN\"], \"marker\": {\"color\": \"#EF553B\", \"size\": [177, 1, 6, 1, 2, 1, 1, 12, 12], \"sizemode\": \"area\", \"sizeref\": 0.985}, \"name\": \"Americas\", \"showlegend\": true, \"type\": \"scattergeo\"}, {\"geo\": \"geo\", \"hoverlabel\": {\"namelength\": 0}, \"hovertemplate\": \"<b>%{hovertext}</b><br><br>continent=Oceania<br>Year=1964<br>Medal count=%{marker.size}<br>country_iso=%{location}\", \"hovertext\": [\"Australia\", \"New Zealand\"], \"legendgroup\": \"Oceania\", \"locationmode\": \"ISO-3\", \"locations\": [\"AUS\", \"NZL\"], \"marker\": {\"color\": \"#00cc96\", \"size\": [44, 6], \"sizemode\": \"area\", \"sizeref\": 0.985}, \"name\": \"Oceania\", \"showlegend\": true, \"type\": \"scattergeo\"}, {\"geo\": \"geo\", \"hoverlabel\": {\"namelength\": 0}, \"hovertemplate\": \"<b>%{hovertext}</b><br><br>continent=Asia<br>Year=1964<br>Medal count=%{marker.size}<br>country_iso=%{location}\", \"hovertext\": [\"Philippines\", \"Turkey\", \"North Korea\", \"Pakistan\", \"Japan\", \"South Korea\", \"India\"], \"legendgroup\": \"Asia\", \"locationmode\": \"ISO-3\", \"locations\": [\"PHL\", \"TUR\", \"PRK\", \"PAK\", \"JPN\", \"KOR\", \"IND\"], \"marker\": {\"color\": \"#ab63fa\", \"size\": [1, 6, 1, 16, 62, 3, 15], \"sizemode\": \"area\", \"sizeref\": 0.985}, \"name\": \"Asia\", \"showlegend\": true, \"type\": \"scattergeo\"}, {\"geo\": \"geo\", \"hoverlabel\": {\"namelength\": 0}, \"hovertemplate\": \"<b>%{hovertext}</b><br><br>continent=Africa<br>Year=1964<br>Medal count=%{marker.size}<br>country_iso=%{location}\", \"hovertext\": [\"Tunisia\", \"Ethiopia\", \"Nigeria\", \"Kenya\", \"Ghana\"], \"legendgroup\": \"Africa\", \"locationmode\": \"ISO-3\", \"locations\": [\"TUN\", \"ETH\", \"NGA\", \"KEN\", \"GHA\"], \"marker\": {\"color\": \"#FFA15A\", \"size\": [2, 1, 1, 1, 1], \"sizemode\": \"area\", \"sizeref\": 0.985}, \"name\": \"Africa\", \"showlegend\": true, \"type\": \"scattergeo\"}], \"name\": \"1964\"}, {\"data\": [{\"geo\": \"geo\", \"hoverlabel\": {\"namelength\": 0}, \"hovertemplate\": \"<b>%{hovertext}</b><br><br>continent=Europe<br>Year=1968<br>Medal count=%{marker.size}<br>country_iso=%{location}\", \"hovertext\": [\"Italy\", \"Romania\", \"UK\", \"Greece\", \"Switzerland\", \"Germany\", \"Germany\", \"Belgium\", \"Hungary\", \"Serbia\", \"Poland\", \"Finland\", \"Denmark\", \"Sweden\", \"Bulgaria\", \"France\", \"Austria\", \"Norway\", \"Netherlands\"], \"legendgroup\": \"Europe\", \"locationmode\": \"ISO-3\", \"locations\": [\"ITA\", \"ROU\", \"GBR\", \"GRC\", \"CHE\", \"DEU\", \"DEU\", \"BEL\", \"HUN\", \"SRB\", \"POL\", \"FIN\", \"DNK\", \"SWE\", \"BGR\", \"FRA\", \"AUT\", \"NOR\", \"NLD\"], \"marker\": {\"color\": \"#636efa\", \"size\": [41, 25, 19, 1, 22, 58, 61, 3, 81, 29, 37, 12, 17, 25, 26, 36, 20, 28, 23], \"sizemode\": \"area\", \"sizeref\": 0.985}, \"name\": \"Europe\", \"showlegend\": true, \"type\": \"scattergeo\"}, {\"geo\": \"geo\", \"hoverlabel\": {\"namelength\": 0}, \"hovertemplate\": \"<b>%{hovertext}</b><br><br>continent=Americas<br>Year=1968<br>Medal count=%{marker.size}<br>country_iso=%{location}\", \"hovertext\": [\"Venezuela\", \"Brazil\", \"USA\", \"Mexico\", \"Jamaica\", \"Argentina\", \"Cuba\", \"Canada\"], \"legendgroup\": \"Americas\", \"locationmode\": \"ISO-3\", \"locations\": [\"VEN\", \"BRA\", \"USA\", \"MEX\", \"JAM\", \"ARG\", \"CUB\", \"CAN\"], \"marker\": {\"color\": \"#EF553B\", \"size\": [1, 4, 173, 9, 1, 2, 10, 30], \"sizemode\": \"area\", \"sizeref\": 0.985}, \"name\": \"Americas\", \"showlegend\": true, \"type\": \"scattergeo\"}, {\"geo\": \"geo\", \"hoverlabel\": {\"namelength\": 0}, \"hovertemplate\": \"<b>%{hovertext}</b><br><br>continent=Oceania<br>Year=1968<br>Medal count=%{marker.size}<br>country_iso=%{location}\", \"hovertext\": [\"New Zealand\", \"Australia\"], \"legendgroup\": \"Oceania\", \"locationmode\": \"ISO-3\", \"locations\": [\"NZL\", \"AUS\"], \"marker\": {\"color\": \"#00cc96\", \"size\": [7, 51], \"sizemode\": \"area\", \"sizeref\": 0.985}, \"name\": \"Oceania\", \"showlegend\": true, \"type\": \"scattergeo\"}, {\"geo\": \"geo\", \"hoverlabel\": {\"namelength\": 0}, \"hovertemplate\": \"<b>%{hovertext}</b><br><br>continent=Asia<br>Year=1968<br>Medal count=%{marker.size}<br>country_iso=%{location}\", \"hovertext\": [\"Pakistan\", \"India\", \"Turkey\", \"Mongolia\", \"Japan\", \"South Korea\"], \"legendgroup\": \"Asia\", \"locationmode\": \"ISO-3\", \"locations\": [\"PAK\", \"IND\", \"TUR\", \"MNG\", \"JPN\", \"KOR\"], \"marker\": {\"color\": \"#ab63fa\", \"size\": [13, 16, 2, 4, 63, 2], \"sizemode\": \"area\", \"sizeref\": 0.985}, \"name\": \"Asia\", \"showlegend\": true, \"type\": \"scattergeo\"}, {\"geo\": \"geo\", \"hoverlabel\": {\"namelength\": 0}, \"hovertemplate\": \"<b>%{hovertext}</b><br><br>continent=Africa<br>Year=1968<br>Medal count=%{marker.size}<br>country_iso=%{location}\", \"hovertext\": [\"Tunisia\", \"Kenya\", \"Uganda\", \"Cameroon\", \"Ethiopia\"], \"legendgroup\": \"Africa\", \"locationmode\": \"ISO-3\", \"locations\": [\"TUN\", \"KEN\", \"UGA\", \"CMR\", \"ETH\"], \"marker\": {\"color\": \"#FFA15A\", \"size\": [2, 12, 2, 1, 2], \"sizemode\": \"area\", \"sizeref\": 0.985}, \"name\": \"Africa\", \"showlegend\": true, \"type\": \"scattergeo\"}], \"name\": \"1968\"}, {\"data\": [{\"geo\": \"geo\", \"hoverlabel\": {\"namelength\": 0}, \"hovertemplate\": \"<b>%{hovertext}</b><br><br>continent=Europe<br>Year=1972<br>Medal count=%{marker.size}<br>country_iso=%{location}\", \"hovertext\": [\"Spain\", \"Sweden\", \"Serbia\", \"Netherlands\", \"Belgium\", \"Greece\", \"Denmark\", \"Switzerland\", \"Norway\", \"Finland\", \"Poland\", \"Hungary\", \"Bulgaria\", \"Italy\", \"Romania\", \"France\", \"Austria\", \"UK\", \"Germany\", \"Germany\"], \"legendgroup\": \"Europe\", \"locationmode\": \"ISO-3\", \"locations\": [\"ESP\", \"SWE\", \"SRB\", \"NLD\", \"BEL\", \"GRC\", \"DNK\", \"CHE\", \"NOR\", \"FIN\", \"POL\", \"HUN\", \"BGR\", \"ITA\", \"ROU\", \"FRA\", \"AUT\", \"GBR\", \"DEU\", \"DEU\"], \"marker\": {\"color\": \"#636efa\", \"size\": [2, 26, 18, 15, 2, 2, 1, 25, 25, 20, 47, 81, 22, 34, 40, 25, 8, 29, 112, 171], \"sizemode\": \"area\", \"sizeref\": 0.985}, \"name\": \"Europe\", \"showlegend\": true, \"type\": \"scattergeo\"}, {\"geo\": \"geo\", \"hoverlabel\": {\"namelength\": 0}, \"hovertemplate\": \"<b>%{hovertext}</b><br><br>continent=Americas<br>Year=1972<br>Medal count=%{marker.size}<br>country_iso=%{location}\", \"hovertext\": [\"USA\", \"Canada\", \"Colombia\", \"Cuba\", \"Argentina\", \"Mexico\", \"Brazil\", \"Jamaica\"], \"legendgroup\": \"Americas\", \"locationmode\": \"ISO-3\", \"locations\": [\"USA\", \"CAN\", \"COL\", \"CUB\", \"ARG\", \"MEX\", \"BRA\", \"JAM\"], \"marker\": {\"color\": \"#EF553B\", \"size\": [195, 12, 3, 22, 1, 1, 2, 1], \"sizemode\": \"area\", \"sizeref\": 0.985}, \"name\": \"Americas\", \"showlegend\": true, \"type\": \"scattergeo\"}, {\"geo\": \"geo\", \"hoverlabel\": {\"namelength\": 0}, \"hovertemplate\": \"<b>%{hovertext}</b><br><br>continent=Oceania<br>Year=1972<br>Medal count=%{marker.size}<br>country_iso=%{location}\", \"hovertext\": [\"New Zealand\", \"Australia\"], \"legendgroup\": \"Oceania\", \"locationmode\": \"ISO-3\", \"locations\": [\"NZL\", \"AUS\"], \"marker\": {\"color\": \"#00cc96\", \"size\": [14, 20], \"sizemode\": \"area\", \"sizeref\": 0.985}, \"name\": \"Oceania\", \"showlegend\": true, \"type\": \"scattergeo\"}, {\"geo\": \"geo\", \"hoverlabel\": {\"namelength\": 0}, \"hovertemplate\": \"<b>%{hovertext}</b><br><br>continent=Asia<br>Year=1972<br>Medal count=%{marker.size}<br>country_iso=%{location}\", \"hovertext\": [\"Turkey\", \"Pakistan\", \"North Korea\", \"India\", \"Mongolia\", \"Lebanon\", \"Japan\", \"South Korea\"], \"legendgroup\": \"Asia\", \"locationmode\": \"ISO-3\", \"locations\": [\"TUR\", \"PAK\", \"PRK\", \"IND\", \"MNG\", \"LBN\", \"JPN\", \"KOR\"], \"marker\": {\"color\": \"#ab63fa\", \"size\": [1, 15, 15, 14, 1, 1, 59, 1], \"sizemode\": \"area\", \"sizeref\": 0.985}, \"name\": \"Asia\", \"showlegend\": true, \"type\": \"scattergeo\"}, {\"geo\": \"geo\", \"hoverlabel\": {\"namelength\": 0}, \"hovertemplate\": \"<b>%{hovertext}</b><br><br>continent=Africa<br>Year=1972<br>Medal count=%{marker.size}<br>country_iso=%{location}\", \"hovertext\": [\"Nigeria\", \"Ghana\", \"Niger\", \"Tunisia\", \"Uganda\", \"Ethiopia\", \"Kenya\"], \"legendgroup\": \"Africa\", \"locationmode\": \"ISO-3\", \"locations\": [\"NGA\", \"GHA\", \"NER\", \"TUN\", \"UGA\", \"ETH\", \"KEN\"], \"marker\": {\"color\": \"#FFA15A\", \"size\": [1, 1, 1, 1, 2, 2, 12], \"sizemode\": \"area\", \"sizeref\": 0.985}, \"name\": \"Africa\", \"showlegend\": true, \"type\": \"scattergeo\"}], \"name\": \"1972\"}, {\"data\": [{\"geo\": \"geo\", \"hoverlabel\": {\"namelength\": 0}, \"hovertemplate\": \"<b>%{hovertext}</b><br><br>continent=Europe<br>Year=1976<br>Medal count=%{marker.size}<br>country_iso=%{location}\", \"hovertext\": [\"Bulgaria\", \"Netherlands\", \"Belgium\", \"Norway\", \"Romania\", \"Germany\", \"France\", \"Austria\", \"Denmark\", \"Hungary\", \"UK\", \"Sweden\", \"Liechtenstein\", \"Finland\", \"Germany\", \"Switzerland\", \"Spain\", \"Portugal\", \"Poland\", \"Italy\", \"Serbia\"], \"legendgroup\": \"Europe\", \"locationmode\": \"ISO-3\", \"locations\": [\"BGR\", \"NLD\", \"BEL\", \"NOR\", \"ROU\", \"DEU\", \"FRA\", \"AUT\", \"DNK\", \"HUN\", \"GBR\", \"SWE\", \"LIE\", \"FIN\", \"DEU\", \"CHE\", \"ESP\", \"PRT\", \"POL\", \"ITA\", \"SRB\"], \"marker\": {\"color\": \"#636efa\", \"size\": [39, 20, 9, 16, 55, 110, 21, 8, 8, 55, 33, 12, 2, 22, 227, 19, 6, 2, 73, 35, 19], \"sizemode\": \"area\", \"sizeref\": 0.985}, \"name\": \"Europe\", \"showlegend\": true, \"type\": \"scattergeo\"}, {\"geo\": \"geo\", \"hoverlabel\": {\"namelength\": 0}, \"hovertemplate\": \"<b>%{hovertext}</b><br><br>continent=Americas<br>Year=1976<br>Medal count=%{marker.size}<br>country_iso=%{location}\", \"hovertext\": [\"Brazil\", \"Mexico\", \"Jamaica\", \"Trinidad\", \"Puerto Rico\", \"Cuba\", \"Venezuela\", \"USA\", \"Canada\", \"Bermuda\"], \"legendgroup\": \"Americas\", \"locationmode\": \"ISO-3\", \"locations\": [\"BRA\", \"MEX\", \"JAM\", \"TTO\", \"PRI\", \"CUB\", \"VEN\", \"USA\", \"CAN\", \"BMU\"], \"marker\": {\"color\": \"#EF553B\", \"size\": [3, 2, 2, 1, 1, 24, 1, 175, 26, 1], \"sizemode\": \"area\", \"sizeref\": 0.985}, \"name\": \"Americas\", \"showlegend\": true, \"type\": \"scattergeo\"}, {\"geo\": \"geo\", \"hoverlabel\": {\"namelength\": 0}, \"hovertemplate\": \"<b>%{hovertext}</b><br><br>continent=Oceania<br>Year=1976<br>Medal count=%{marker.size}<br>country_iso=%{location}\", \"hovertext\": [\"Australia\", \"New Zealand\"], \"legendgroup\": \"Oceania\", \"locationmode\": \"ISO-3\", \"locations\": [\"AUS\", \"NZL\"], \"marker\": {\"color\": \"#00cc96\", \"size\": [23, 25], \"sizemode\": \"area\", \"sizeref\": 0.985}, \"name\": \"Oceania\", \"showlegend\": true, \"type\": \"scattergeo\"}, {\"geo\": \"geo\", \"hoverlabel\": {\"namelength\": 0}, \"hovertemplate\": \"<b>%{hovertext}</b><br><br>continent=Asia<br>Year=1976<br>Medal count=%{marker.size}<br>country_iso=%{location}\", \"hovertext\": [\"North Korea\", \"Mongolia\", \"Pakistan\", \"Thailand\", \"Japan\", \"South Korea\"], \"legendgroup\": \"Asia\", \"locationmode\": \"ISO-3\", \"locations\": [\"PRK\", \"MNG\", \"PAK\", \"THA\", \"JPN\", \"KOR\"], \"marker\": {\"color\": \"#ab63fa\", \"size\": [2, 1, 16, 1, 41, 17], \"sizemode\": \"area\", \"sizeref\": 0.985}, \"name\": \"Asia\", \"showlegend\": true, \"type\": \"scattergeo\"}], \"name\": \"1976\"}, {\"data\": [{\"geo\": \"geo\", \"hoverlabel\": {\"namelength\": 0}, \"hovertemplate\": \"<b>%{hovertext}</b><br><br>continent=Europe<br>Year=1980<br>Medal count=%{marker.size}<br>country_iso=%{location}\", \"hovertext\": [\"Ireland\", \"Sweden\", \"Netherlands\", \"Hungary\", \"Liechtenstein\", \"Switzerland\", \"Austria\", \"Italy\", \"Serbia\", \"Norway\", \"Greece\", \"Germany\", \"France\", \"Bulgaria\", \"Denmark\", \"Poland\", \"Romania\", \"UK\", \"Spain\", \"Belgium\", \"Germany\", \"Finland\"], \"legendgroup\": \"Europe\", \"locationmode\": \"ISO-3\", \"locations\": [\"IRL\", \"SWE\", \"NLD\", \"HUN\", \"LIE\", \"CHE\", \"AUT\", \"ITA\", \"SRB\", \"NOR\", \"GRC\", \"DEU\", \"FRA\", \"BGR\", \"DNK\", \"POL\", \"ROU\", \"GBR\", \"ESP\", \"BEL\", \"DEU\", \"FIN\"], \"marker\": {\"color\": \"#636efa\", \"size\": [3, 43, 10, 63, 4, 11, 13, 40, 57, 15, 5, 8, 30, 91, 8, 50, 68, 48, 24, 1, 303, 21], \"sizemode\": \"area\", \"sizeref\": 0.985}, \"name\": \"Europe\", \"showlegend\": true, \"type\": \"scattergeo\"}, {\"geo\": \"geo\", \"hoverlabel\": {\"namelength\": 0}, \"hovertemplate\": \"<b>%{hovertext}</b><br><br>continent=Americas<br>Year=1980<br>Medal count=%{marker.size}<br>country_iso=%{location}\", \"hovertext\": [\"Jamaica\", \"Mexico\", \"Canada\", \"Cuba\", \"Guyana\", \"Brazil\", \"USA\", \"Venezuela\"], \"legendgroup\": \"Americas\", \"locationmode\": \"ISO-3\", \"locations\": [\"JAM\", \"MEX\", \"CAN\", \"CUB\", \"GUY\", \"BRA\", \"USA\", \"VEN\"], \"marker\": {\"color\": \"#EF553B\", \"size\": [3, 10, 2, 20, 1, 9, 30, 1], \"sizemode\": \"area\", \"sizeref\": 0.985}, \"name\": \"Americas\", \"showlegend\": true, \"type\": \"scattergeo\"}, {\"geo\": \"geo\", \"hoverlabel\": {\"namelength\": 0}, \"hovertemplate\": \"<b>%{hovertext}</b><br><br>continent=Oceania<br>Year=1980<br>Medal count=%{marker.size}<br>country_iso=%{location}\", \"hovertext\": [\"Australia\"], \"legendgroup\": \"Oceania\", \"locationmode\": \"ISO-3\", \"locations\": [\"AUS\"], \"marker\": {\"color\": \"#00cc96\", \"size\": [13], \"sizemode\": \"area\", \"sizeref\": 0.985}, \"name\": \"Oceania\", \"showlegend\": true, \"type\": \"scattergeo\"}, {\"geo\": \"geo\", \"hoverlabel\": {\"namelength\": 0}, \"hovertemplate\": \"<b>%{hovertext}</b><br><br>continent=Asia<br>Year=1980<br>Medal count=%{marker.size}<br>country_iso=%{location}\", \"hovertext\": [\"Lebanon\", \"Mongolia\", \"Japan\", \"India\", \"North Korea\"], \"legendgroup\": \"Asia\", \"locationmode\": \"ISO-3\", \"locations\": [\"LBN\", \"MNG\", \"JPN\", \"IND\", \"PRK\"], \"marker\": {\"color\": \"#ab63fa\", \"size\": [1, 4, 1, 16, 5], \"sizemode\": \"area\", \"sizeref\": 0.985}, \"name\": \"Asia\", \"showlegend\": true, \"type\": \"scattergeo\"}, {\"geo\": \"geo\", \"hoverlabel\": {\"namelength\": 0}, \"hovertemplate\": \"<b>%{hovertext}</b><br><br>continent=Africa<br>Year=1980<br>Medal count=%{marker.size}<br>country_iso=%{location}\", \"hovertext\": [\"Zimbabwe\", \"Ethiopia\", \"Uganda\"], \"legendgroup\": \"Africa\", \"locationmode\": \"ISO-3\", \"locations\": [\"ZWE\", \"ETH\", \"UGA\"], \"marker\": {\"color\": \"#FFA15A\", \"size\": [15, 4, 1], \"sizemode\": \"area\", \"sizeref\": 0.985}, \"name\": \"Africa\", \"showlegend\": true, \"type\": \"scattergeo\"}], \"name\": \"1980\"}, {\"data\": [{\"geo\": \"geo\", \"hoverlabel\": {\"namelength\": 0}, \"hovertemplate\": \"<b>%{hovertext}</b><br><br>continent=Europe<br>Year=1984<br>Medal count=%{marker.size}<br>country_iso=%{location}\", \"hovertext\": [\"Germany\", \"Serbia\", \"Spain\", \"Ireland\", \"Austria\", \"Germany\", \"Romania\", \"Iceland\", \"Portugal\", \"UK\", \"Italy\", \"Denmark\", \"Liechtenstein\", \"Belgium\", \"Norway\", \"Greece\", \"Finland\", \"Netherlands\", \"Switzerland\", \"France\", \"Sweden\"], \"legendgroup\": \"Europe\", \"locationmode\": \"ISO-3\", \"locations\": [\"DEU\", \"SRB\", \"ESP\", \"IRL\", \"AUT\", \"DEU\", \"ROU\", \"ISL\", \"PRT\", \"GBR\", \"ITA\", \"DNK\", \"LIE\", \"BEL\", \"NOR\", \"GRC\", \"FIN\", \"NLD\", \"CHE\", \"FRA\", \"SWE\"], \"marker\": {\"color\": \"#636efa\", \"size\": [166, 88, 19, 1, 4, 33, 106, 1, 3, 73, 65, 13, 2, 5, 19, 2, 31, 41, 21, 70, 64], \"sizemode\": \"area\", \"sizeref\": 0.985}, \"name\": \"Europe\", \"showlegend\": true, \"type\": \"scattergeo\"}, {\"geo\": \"geo\", \"hoverlabel\": {\"namelength\": 0}, \"hovertemplate\": \"<b>%{hovertext}</b><br><br>continent=Americas<br>Year=1984<br>Medal count=%{marker.size}<br>country_iso=%{location}\", \"hovertext\": [\"Jamaica\", \"USA\", \"Mexico\", \"Brazil\", \"Dominican Republic\", \"Colombia\", \"Canada\", \"Peru\", \"Puerto Rico\", \"Venezuela\"], \"legendgroup\": \"Americas\", \"locationmode\": \"ISO-3\", \"locations\": [\"JAM\", \"USA\", \"MEX\", \"BRA\", \"DOM\", \"COL\", \"CAN\", \"PER\", \"PRI\", \"VEN\"], \"marker\": {\"color\": \"#EF553B\", \"size\": [7, 361, 6, 36, 1, 1, 91, 1, 2, 3], \"sizemode\": \"area\", \"sizeref\": 0.985}, \"name\": \"Americas\", \"showlegend\": true, \"type\": \"scattergeo\"}, {\"geo\": \"geo\", \"hoverlabel\": {\"namelength\": 0}, \"hovertemplate\": \"<b>%{hovertext}</b><br><br>continent=Oceania<br>Year=1984<br>Medal count=%{marker.size}<br>country_iso=%{location}\", \"hovertext\": [\"New Zealand\", \"Australia\"], \"legendgroup\": \"Oceania\", \"locationmode\": \"ISO-3\", \"locations\": [\"NZL\", \"AUS\"], \"marker\": {\"color\": \"#00cc96\", \"size\": [23, 52], \"sizemode\": \"area\", \"sizeref\": 0.985}, \"name\": \"Oceania\", \"showlegend\": true, \"type\": \"scattergeo\"}, {\"geo\": \"geo\", \"hoverlabel\": {\"namelength\": 0}, \"hovertemplate\": \"<b>%{hovertext}</b><br><br>continent=Asia<br>Year=1984<br>Medal count=%{marker.size}<br>country_iso=%{location}\", \"hovertext\": [\"China\", \"Turkey\", \"Thailand\", \"Japan\", \"South Korea\", \"Pakistan\", \"Syria\"], \"legendgroup\": \"Asia\", \"locationmode\": \"ISO-3\", \"locations\": [\"CHN\", \"TUR\", \"THA\", \"JPN\", \"KOR\", \"PAK\", \"SYR\"], \"marker\": {\"color\": \"#ab63fa\", \"size\": [74, 3, 1, 50, 41, 16, 1], \"sizemode\": \"area\", \"sizeref\": 0.985}, \"name\": \"Asia\", \"showlegend\": true, \"type\": \"scattergeo\"}, {\"geo\": \"geo\", \"hoverlabel\": {\"namelength\": 0}, \"hovertemplate\": \"<b>%{hovertext}</b><br><br>continent=Africa<br>Year=1984<br>Medal count=%{marker.size}<br>country_iso=%{location}\", \"hovertext\": [\"Egypt\", \"Morocco\", \"Algeria\", \"Zambia\", \"Kenya\", \"Cameroon\", \"Nigeria\", \"Ivory Coast\"], \"legendgroup\": \"Africa\", \"locationmode\": \"ISO-3\", \"locations\": [\"EGY\", \"MAR\", \"DZA\", \"ZMB\", \"KEN\", \"CMR\", \"NGA\", \"CIV\"], \"marker\": {\"color\": \"#FFA15A\", \"size\": [1, 2, 2, 1, 3, 1, 5, 1], \"sizemode\": \"area\", \"sizeref\": 0.985}, \"name\": \"Africa\", \"showlegend\": true, \"type\": \"scattergeo\"}], \"name\": \"1984\"}, {\"data\": [{\"geo\": \"geo\", \"hoverlabel\": {\"namelength\": 0}, \"hovertemplate\": \"<b>%{hovertext}</b><br><br>continent=Europe<br>Year=1988<br>Medal count=%{marker.size}<br>country_iso=%{location}\", \"hovertext\": [\"UK\", \"Italy\", \"Spain\", \"Norway\", \"Poland\", \"Germany\", \"Bulgaria\", \"France\", \"Sweden\", \"Finland\", \"Hungary\", \"Switzerland\", \"Belgium\", \"Liechtenstein\", \"Greece\", \"Portugal\", \"Serbia\", \"Denmark\", \"Austria\", \"Germany\", \"Romania\", \"Netherlands\"], \"legendgroup\": \"Europe\", \"locationmode\": \"ISO-3\", \"locations\": [\"GBR\", \"ITA\", \"ESP\", \"NOR\", \"POL\", \"DEU\", \"BGR\", \"FRA\", \"SWE\", \"FIN\", \"HUN\", \"CHE\", \"BEL\", \"LIE\", \"GRC\", \"PRT\", \"SRB\", \"DNK\", \"AUT\", \"DEU\", \"ROU\", \"NLD\"], \"marker\": {\"color\": \"#636efa\", \"size\": [54, 37, 5, 33, 21, 129, 41, 31, 46, 38, 44, 28, 2, 1, 1, 1, 69, 7, 13, 213, 58, 52], \"sizemode\": \"area\", \"sizeref\": 0.985}, \"name\": \"Europe\", \"showlegend\": true, \"type\": \"scattergeo\"}, {\"geo\": \"geo\", \"hoverlabel\": {\"namelength\": 0}, \"hovertemplate\": \"<b>%{hovertext}</b><br><br>continent=Americas<br>Year=1988<br>Medal count=%{marker.size}<br>country_iso=%{location}\", \"hovertext\": [\"USA\", \"Costa Rica\", \"Jamaica\", \"Brazil\", \"Canada\", \"Colombia\", \"Mexico\", \"Argentina\", \"Peru\", \"Chile\", \"Suriname\"], \"legendgroup\": \"Americas\", \"locationmode\": \"ISO-3\", \"locations\": [\"USA\", \"CRI\", \"JAM\", \"BRA\", \"CAN\", \"COL\", \"MEX\", \"ARG\", \"PER\", \"CHL\", \"SUR\"], \"marker\": {\"color\": \"#EF553B\", \"size\": [214, 1, 7, 23, 29, 1, 2, 13, 12, 1, 1], \"sizemode\": \"area\", \"sizeref\": 0.985}, \"name\": \"Americas\", \"showlegend\": true, \"type\": \"scattergeo\"}, {\"geo\": \"geo\", \"hoverlabel\": {\"namelength\": 0}, \"hovertemplate\": \"<b>%{hovertext}</b><br><br>continent=Oceania<br>Year=1988<br>Medal count=%{marker.size}<br>country_iso=%{location}\", \"hovertext\": [\"Australia\", \"New Zealand\"], \"legendgroup\": \"Oceania\", \"locationmode\": \"ISO-3\", \"locations\": [\"AUS\", \"NZL\"], \"marker\": {\"color\": \"#00cc96\", \"size\": [35, 24], \"sizemode\": \"area\", \"sizeref\": 0.985}, \"name\": \"Oceania\", \"showlegend\": true, \"type\": \"scattergeo\"}, {\"geo\": \"geo\", \"hoverlabel\": {\"namelength\": 0}, \"hovertemplate\": \"<b>%{hovertext}</b><br><br>continent=Asia<br>Year=1988<br>Medal count=%{marker.size}<br>country_iso=%{location}\", \"hovertext\": [\"Japan\", \"South Korea\", \"Turkey\", \"China\", \"Mongolia\", \"Pakistan\", \"Thailand\", \"Philippines\", \"Indonesia\"], \"legendgroup\": \"Asia\", \"locationmode\": \"ISO-3\", \"locations\": [\"JPN\", \"KOR\", \"TUR\", \"CHN\", \"MNG\", \"PAK\", \"THA\", \"PHL\", \"IDN\"], \"marker\": {\"color\": \"#ab63fa\", \"size\": [21, 77, 2, 52, 1, 1, 1, 1, 3], \"sizemode\": \"area\", \"sizeref\": 0.985}, \"name\": \"Asia\", \"showlegend\": true, \"type\": \"scattergeo\"}, {\"geo\": \"geo\", \"hoverlabel\": {\"namelength\": 0}, \"hovertemplate\": \"<b>%{hovertext}</b><br><br>continent=Africa<br>Year=1988<br>Medal count=%{marker.size}<br>country_iso=%{location}\", \"hovertext\": [\"Kenya\", \"Senegal\", \"Djibouti\", \"Morocco\"], \"legendgroup\": \"Africa\", \"locationmode\": \"ISO-3\", \"locations\": [\"KEN\", \"SEN\", \"DJI\", \"MAR\"], \"marker\": {\"color\": \"#FFA15A\", \"size\": [9, 1, 1, 3], \"sizemode\": \"area\", \"sizeref\": 0.985}, \"name\": \"Africa\", \"showlegend\": true, \"type\": \"scattergeo\"}], \"name\": \"1988\"}, {\"data\": [{\"geo\": \"geo\", \"hoverlabel\": {\"namelength\": 0}, \"hovertemplate\": \"<b>%{hovertext}</b><br><br>continent=Europe<br>Year=1992<br>Medal count=%{marker.size}<br>country_iso=%{location}\", \"hovertext\": [\"Poland\", \"Croatia\", \"Norway\", \"Netherlands\", \"Lithuania\", \"Luxembourg\", \"Switzerland\", \"Spain\", \"Denmark\", \"Slovenia\", \"Latvia\", \"Estonia\", \"Sweden\", \"Ireland\", \"Germany\", \"Greece\", \"UK\", \"France\", \"Bulgaria\", \"Belgium\", \"Austria\", \"Finland\", \"Italy\", \"Hungary\", \"Romania\"], \"legendgroup\": \"Europe\", \"locationmode\": \"ISO-3\", \"locations\": [\"POL\", \"HRV\", \"NOR\", \"NLD\", \"LTU\", \"LUX\", \"CHE\", \"ESP\", \"DNK\", \"SVN\", \"LVA\", \"EST\", \"SWE\", \"IRL\", \"DEU\", \"GRC\", \"GBR\", \"FRA\", \"BGR\", \"BEL\", \"AUT\", \"FIN\", \"ITA\", \"HUN\", \"ROU\"], \"marker\": {\"color\": \"#636efa\", \"size\": [46, 15, 47, 37, 13, 2, 8, 70, 14, 6, 3, 3, 42, 2, 236, 2, 50, 69, 17, 3, 35, 20, 66, 45, 53], \"sizemode\": \"area\", \"sizeref\": 0.985}, \"name\": \"Europe\", \"showlegend\": true, \"type\": \"scattergeo\"}, {\"geo\": \"geo\", \"hoverlabel\": {\"namelength\": 0}, \"hovertemplate\": \"<b>%{hovertext}</b><br><br>continent=Americas<br>Year=1992<br>Medal count=%{marker.size}<br>country_iso=%{location}\", \"hovertext\": [\"Colombia\", \"Suriname\", \"Canada\", \"Argentina\", \"Puerto Rico\", \"Mexico\", \"Cuba\", \"USA\", \"Bahamas\", \"Peru\", \"Jamaica\", \"Brazil\"], \"legendgroup\": \"Americas\", \"locationmode\": \"ISO-3\", \"locations\": [\"COL\", \"SUR\", \"CAN\", \"ARG\", \"PRI\", \"MEX\", \"CUB\", \"USA\", \"BHS\", \"PER\", \"JAM\", \"BRA\"], \"marker\": {\"color\": \"#EF553B\", \"size\": [1, 1, 80, 2, 1, 1, 69, 238, 1, 1, 4, 14], \"sizemode\": \"area\", \"sizeref\": 0.985}, \"name\": \"Americas\", \"showlegend\": true, \"type\": \"scattergeo\"}, {\"geo\": \"geo\", \"hoverlabel\": {\"namelength\": 0}, \"hovertemplate\": \"<b>%{hovertext}</b><br><br>continent=Oceania<br>Year=1992<br>Medal count=%{marker.size}<br>country_iso=%{location}\", \"hovertext\": [\"Australia\", \"New Zealand\"], \"legendgroup\": \"Oceania\", \"locationmode\": \"ISO-3\", \"locations\": [\"AUS\", \"NZL\"], \"marker\": {\"color\": \"#00cc96\", \"size\": [57, 16], \"sizemode\": \"area\", \"sizeref\": 0.985}, \"name\": \"Oceania\", \"showlegend\": true, \"type\": \"scattergeo\"}, {\"geo\": \"geo\", \"hoverlabel\": {\"namelength\": 0}, \"hovertemplate\": \"<b>%{hovertext}</b><br><br>continent=Asia<br>Year=1992<br>Medal count=%{marker.size}<br>country_iso=%{location}\", \"hovertext\": [\"North Korea\", \"Qatar\", \"Malaysia\", \"China\", \"South Korea\", \"Mongolia\", \"Pakistan\", \"Israel\", \"Philippines\", \"Japan\", \"Indonesia\", \"Turkey\", \"Thailand\"], \"legendgroup\": \"Asia\", \"locationmode\": \"ISO-3\", \"locations\": [\"PRK\", \"QAT\", \"MYS\", \"CHN\", \"KOR\", \"MNG\", \"PAK\", \"ISR\", \"PHL\", \"JPN\", \"IDN\", \"TUR\", \"THA\"], \"marker\": {\"color\": \"#ab63fa\", \"size\": [11, 1, 2, 85, 56, 2, 16, 2, 1, 59, 6, 6, 1], \"sizemode\": \"area\", \"sizeref\": 0.985}, \"name\": \"Asia\", \"showlegend\": true, \"type\": \"scattergeo\"}, {\"geo\": \"geo\", \"hoverlabel\": {\"namelength\": 0}, \"hovertemplate\": \"<b>%{hovertext}</b><br><br>continent=Africa<br>Year=1992<br>Medal count=%{marker.size}<br>country_iso=%{location}\", \"hovertext\": [\"Nigeria\", \"Algeria\", \"Kenya\", \"Ethiopia\", \"Morocco\", \"Namibia\", \"South Africa\", \"Ghana\"], \"legendgroup\": \"Africa\", \"locationmode\": \"ISO-3\", \"locations\": [\"NGA\", \"DZA\", \"KEN\", \"ETH\", \"MAR\", \"NAM\", \"ZAF\", \"GHA\"], \"marker\": {\"color\": \"#FFA15A\", \"size\": [11, 2, 8, 3, 3, 2, 3, 20], \"sizemode\": \"area\", \"sizeref\": 0.985}, \"name\": \"Africa\", \"showlegend\": true, \"type\": \"scattergeo\"}], \"name\": \"1992\"}, {\"data\": [{\"geo\": \"geo\", \"hoverlabel\": {\"namelength\": 0}, \"hovertemplate\": \"<b>%{hovertext}</b><br><br>continent=Europe<br>Year=1994<br>Medal count=%{marker.size}<br>country_iso=%{location}\", \"hovertext\": [\"France\", \"Sweden\", \"Italy\", \"Austria\", \"Belarus\", \"Netherlands\", \"Switzerland\", \"Russia\", \"Slovenia\", \"UK\", \"Norway\", \"Finland\", \"Ukraine\", \"Germany\"], \"legendgroup\": \"Europe\", \"locationmode\": \"ISO-3\", \"locations\": [\"FRA\", \"SWE\", \"ITA\", \"AUT\", \"BLR\", \"NLD\", \"CHE\", \"RUS\", \"SVN\", \"GBR\", \"NOR\", \"FIN\", \"UKR\", \"DEU\"], \"marker\": {\"color\": \"#636efa\", \"size\": [11, 24, 32, 12, 2, 4, 16, 36, 3, 3, 30, 30, 2, 40], \"sizemode\": \"area\", \"sizeref\": 0.985}, \"name\": \"Europe\", \"showlegend\": true, \"type\": \"scattergeo\"}, {\"geo\": \"geo\", \"hoverlabel\": {\"namelength\": 0}, \"hovertemplate\": \"<b>%{hovertext}</b><br><br>continent=Americas<br>Year=1994<br>Medal count=%{marker.size}<br>country_iso=%{location}\", \"hovertext\": [\"Canada\", \"USA\"], \"legendgroup\": \"Americas\", \"locationmode\": \"ISO-3\", \"locations\": [\"CAN\", \"USA\"], \"marker\": {\"color\": \"#EF553B\", \"size\": [37, 19], \"sizemode\": \"area\", \"sizeref\": 0.985}, \"name\": \"Americas\", \"showlegend\": true, \"type\": \"scattergeo\"}, {\"geo\": \"geo\", \"hoverlabel\": {\"namelength\": 0}, \"hovertemplate\": \"<b>%{hovertext}</b><br><br>continent=Oceania<br>Year=1994<br>Medal count=%{marker.size}<br>country_iso=%{location}\", \"hovertext\": [\"Australia\"], \"legendgroup\": \"Oceania\", \"locationmode\": \"ISO-3\", \"locations\": [\"AUS\"], \"marker\": {\"color\": \"#00cc96\", \"size\": [4], \"sizemode\": \"area\", \"sizeref\": 0.985}, \"name\": \"Oceania\", \"showlegend\": true, \"type\": \"scattergeo\"}, {\"geo\": \"geo\", \"hoverlabel\": {\"namelength\": 0}, \"hovertemplate\": \"<b>%{hovertext}</b><br><br>continent=Asia<br>Year=1994<br>Medal count=%{marker.size}<br>country_iso=%{location}\", \"hovertext\": [\"South Korea\", \"Kazakhstan\", \"Uzbekistan\", \"China\", \"Japan\"], \"legendgroup\": \"Asia\", \"locationmode\": \"ISO-3\", \"locations\": [\"KOR\", \"KAZ\", \"UZB\", \"CHN\", \"JPN\"], \"marker\": {\"color\": \"#ab63fa\", \"size\": [9, 3, 1, 3, 10], \"sizemode\": \"area\", \"sizeref\": 0.985}, \"name\": \"Asia\", \"showlegend\": true, \"type\": \"scattergeo\"}], \"name\": \"1994\"}, {\"data\": [{\"geo\": \"geo\", \"hoverlabel\": {\"namelength\": 0}, \"hovertemplate\": \"<b>%{hovertext}</b><br><br>continent=Europe<br>Year=1996<br>Medal count=%{marker.size}<br>country_iso=%{location}\", \"hovertext\": [\"Germany\", \"Romania\", \"Moldova\", \"Czech Republic\", \"Hungary\", \"Netherlands\", \"Croatia\", \"Greece\", \"Serbia\", \"Belgium\", \"Switzerland\", \"Belarus\", \"Portugal\", \"Slovakia\", \"Italy\", \"Latvia\", \"Slovenia\", \"France\", \"Sweden\", \"Poland\", \"Ukraine\", \"Finland\", \"Norway\", \"Russia\", \"Bulgaria\", \"Spain\", \"Denmark\", \"Ireland\", \"Lithuania\", \"Austria\", \"UK\"], \"legendgroup\": \"Europe\", \"locationmode\": \"ISO-3\", \"locations\": [\"DEU\", \"ROU\", \"MDA\", \"CZE\", \"HUN\", \"NLD\", \"HRV\", \"GRC\", \"SRB\", \"BEL\", \"CHE\", \"BLR\", \"PRT\", \"SVK\", \"ITA\", \"LVA\", \"SVN\", \"FRA\", \"SWE\", \"POL\", \"UKR\", \"FIN\", \"NOR\", \"RUS\", \"BGR\", \"ESP\", \"DNK\", \"IRL\", \"LTU\", \"AUT\", \"GBR\"], \"marker\": {\"color\": \"#636efa\", \"size\": [124, 38, 3, 13, 43, 73, 28, 8, 26, 6, 11, 23, 3, 3, 71, 1, 2, 51, 31, 22, 34, 4, 23, 115, 21, 66, 23, 4, 11, 3, 26], \"sizemode\": \"area\", \"sizeref\": 0.985}, \"name\": \"Europe\", \"showlegend\": true, \"type\": \"scattergeo\"}, {\"geo\": \"geo\", \"hoverlabel\": {\"namelength\": 0}, \"hovertemplate\": \"<b>%{hovertext}</b><br><br>continent=Americas<br>Year=1996<br>Medal count=%{marker.size}<br>country_iso=%{location}\", \"hovertext\": [\"Argentina\", \"Puerto Rico\", \"Mexico\", \"Bahamas\", \"Trinidad\", \"Cuba\", \"Brazil\", \"Jamaica\", \"USA\", \"Canada\", \"Costa Rica\", \"Ecuador\"], \"legendgroup\": \"Americas\", \"locationmode\": \"ISO-3\", \"locations\": [\"ARG\", \"PRI\", \"MEX\", \"BHS\", \"TTO\", \"CUB\", \"BRA\", \"JAM\", \"USA\", \"CAN\", \"CRI\", \"ECU\"], \"marker\": {\"color\": \"#EF553B\", \"size\": [20, 1, 1, 5, 2, 55, 63, 16, 259, 50, 1, 1], \"sizemode\": \"area\", \"sizeref\": 0.985}, \"name\": \"Americas\", \"showlegend\": true, \"type\": \"scattergeo\"}, {\"geo\": \"geo\", \"hoverlabel\": {\"namelength\": 0}, \"hovertemplate\": \"<b>%{hovertext}</b><br><br>continent=Oceania<br>Year=1996<br>Medal count=%{marker.size}<br>country_iso=%{location}\", \"hovertext\": [\"New Zealand\", \"Australia\", \"Tonga\"], \"legendgroup\": \"Oceania\", \"locationmode\": \"ISO-3\", \"locations\": [\"NZL\", \"AUS\", \"TON\"], \"marker\": {\"color\": \"#00cc96\", \"size\": [9, 132, 1], \"sizemode\": \"area\", \"sizeref\": 0.985}, \"name\": \"Oceania\", \"showlegend\": true, \"type\": \"scattergeo\"}, {\"geo\": \"geo\", \"hoverlabel\": {\"namelength\": 0}, \"hovertemplate\": \"<b>%{hovertext}</b><br><br>continent=Asia<br>Year=1996<br>Medal count=%{marker.size}<br>country_iso=%{location}\", \"hovertext\": [\"Thailand\", \"Uzbekistan\", \"Azerbaijan\", \"China\", \"Kazakhstan\", \"North Korea\", \"Indonesia\", \"China\", \"India\", \"Armenia\", \"Mongolia\", \"Malaysia\", \"South Korea\", \"Turkey\", \"Japan\", \"Syria\", \"Philippines\", \"Georgia\", \"Israel\"], \"legendgroup\": \"Asia\", \"locationmode\": \"ISO-3\", \"locations\": [\"THA\", \"UZB\", \"AZE\", \"CHN\", \"KAZ\", \"PRK\", \"IDN\", \"CHN\", \"IND\", \"ARM\", \"MNG\", \"MYS\", \"KOR\", \"TUR\", \"JPN\", \"SYR\", \"PHL\", \"GEO\", \"ISR\"], \"marker\": {\"color\": \"#ab63fa\", \"size\": [2, 2, 1, 106, 11, 5, 6, 1, 1, 2, 1, 3, 66, 6, 42, 1, 1, 2, 1], \"sizemode\": \"area\", \"sizeref\": 0.985}, \"name\": \"Asia\", \"showlegend\": true, \"type\": \"scattergeo\"}, {\"geo\": \"geo\", \"hoverlabel\": {\"namelength\": 0}, \"hovertemplate\": \"<b>%{hovertext}</b><br><br>continent=Africa<br>Year=1996<br>Medal count=%{marker.size}<br>country_iso=%{location}\", \"hovertext\": [\"Burundi\", \"Nigeria\", \"Algeria\", \"Zambia\", \"Namibia\", \"Mozambique\", \"Morocco\", \"Uganda\", \"Ethiopia\", \"Kenya\", \"Tunisia\", \"South Africa\"], \"legendgroup\": \"Africa\", \"locationmode\": \"ISO-3\", \"locations\": [\"BDI\", \"NGA\", \"DZA\", \"ZMB\", \"NAM\", \"MOZ\", \"MAR\", \"UGA\", \"ETH\", \"KEN\", \"TUN\", \"ZAF\"], \"marker\": {\"color\": \"#FFA15A\", \"size\": [1, 24, 3, 1, 2, 1, 2, 1, 3, 8, 1, 5], \"sizemode\": \"area\", \"sizeref\": 0.985}, \"name\": \"Africa\", \"showlegend\": true, \"type\": \"scattergeo\"}], \"name\": \"1996\"}, {\"data\": [{\"geo\": \"geo\", \"hoverlabel\": {\"namelength\": 0}, \"hovertemplate\": \"<b>%{hovertext}</b><br><br>continent=Europe<br>Year=1998<br>Medal count=%{marker.size}<br>country_iso=%{location}\", \"hovertext\": [\"Bulgaria\", \"Ukraine\", \"Denmark\", \"Austria\", \"Finland\", \"Sweden\", \"Belgium\", \"Russia\", \"France\", \"Switzerland\", \"UK\", \"Germany\", \"Italy\", \"Belarus\", \"Czech Republic\", \"Netherlands\", \"Norway\"], \"legendgroup\": \"Europe\", \"locationmode\": \"ISO-3\", \"locations\": [\"BGR\", \"UKR\", \"DNK\", \"AUT\", \"FIN\", \"SWE\", \"BEL\", \"RUS\", \"FRA\", \"CHE\", \"GBR\", \"DEU\", \"ITA\", \"BLR\", \"CZE\", \"NLD\", \"NOR\"], \"marker\": {\"color\": \"#636efa\", \"size\": [1, 1, 5, 20, 58, 7, 1, 52, 15, 14, 4, 44, 17, 2, 23, 11, 40], \"sizemode\": \"area\", \"sizeref\": 0.985}, \"name\": \"Europe\", \"showlegend\": true, \"type\": \"scattergeo\"}, {\"geo\": \"geo\", \"hoverlabel\": {\"namelength\": 0}, \"hovertemplate\": \"<b>%{hovertext}</b><br><br>continent=Americas<br>Year=1998<br>Medal count=%{marker.size}<br>country_iso=%{location}\", \"hovertext\": [\"Canada\", \"USA\"], \"legendgroup\": \"Americas\", \"locationmode\": \"ISO-3\", \"locations\": [\"CAN\", \"USA\"], \"marker\": {\"color\": \"#EF553B\", \"size\": [49, 34], \"sizemode\": \"area\", \"sizeref\": 0.985}, \"name\": \"Americas\", \"showlegend\": true, \"type\": \"scattergeo\"}, {\"geo\": \"geo\", \"hoverlabel\": {\"namelength\": 0}, \"hovertemplate\": \"<b>%{hovertext}</b><br><br>continent=Oceania<br>Year=1998<br>Medal count=%{marker.size}<br>country_iso=%{location}\", \"hovertext\": [\"Australia\"], \"legendgroup\": \"Oceania\", \"locationmode\": \"ISO-3\", \"locations\": [\"AUS\"], \"marker\": {\"color\": \"#00cc96\", \"size\": [1], \"sizemode\": \"area\", \"sizeref\": 0.985}, \"name\": \"Oceania\", \"showlegend\": true, \"type\": \"scattergeo\"}, {\"geo\": \"geo\", \"hoverlabel\": {\"namelength\": 0}, \"hovertemplate\": \"<b>%{hovertext}</b><br><br>continent=Asia<br>Year=1998<br>Medal count=%{marker.size}<br>country_iso=%{location}\", \"hovertext\": [\"Japan\", \"Kazakhstan\", \"South Korea\", \"China\"], \"legendgroup\": \"Asia\", \"locationmode\": \"ISO-3\", \"locations\": [\"JPN\", \"KAZ\", \"KOR\", \"CHN\"], \"marker\": {\"color\": \"#ab63fa\", \"size\": [13, 2, 12, 14], \"sizemode\": \"area\", \"sizeref\": 0.985}, \"name\": \"Asia\", \"showlegend\": true, \"type\": \"scattergeo\"}], \"name\": \"1998\"}, {\"data\": [{\"geo\": \"geo\", \"hoverlabel\": {\"namelength\": 0}, \"hovertemplate\": \"<b>%{hovertext}</b><br><br>continent=Europe<br>Year=2000<br>Medal count=%{marker.size}<br>country_iso=%{location}\", \"hovertext\": [\"Russia\", \"Portugal\", \"Slovenia\", \"Poland\", \"Romania\", \"Norway\", \"Switzerland\", \"Serbia\", \"France\", \"Germany\", \"Hungary\", \"Croatia\", \"Bulgaria\", \"Czech Republic\", \"Italy\", \"Iceland\", \"Ireland\", \"Denmark\", \"Spain\", \"Ukraine\", \"Estonia\", \"Finland\", \"Netherlands\", \"Macedonia\", \"Slovakia\", \"Austria\", \"Greece\", \"Lithuania\", \"Belgium\", \"Belarus\", \"Latvia\", \"Moldova\", \"Sweden\", \"UK\"], \"legendgroup\": \"Europe\", \"locationmode\": \"ISO-3\", \"locations\": [\"RUS\", \"PRT\", \"SVN\", \"POL\", \"ROU\", \"NOR\", \"CHE\", \"SRB\", \"FRA\", \"DEU\", \"HUN\", \"HRV\", \"BGR\", \"CZE\", \"ITA\", \"ISL\", \"IRL\", \"DNK\", \"ESP\", \"UKR\", \"EST\", \"FIN\", \"NLD\", \"MKD\", \"SVK\", \"AUT\", \"GRC\", \"LTU\", \"BEL\", \"BLR\", \"LVA\", \"MDA\", \"SWE\", \"GBR\"], \"marker\": {\"color\": \"#636efa\", \"size\": [187, 2, 3, 24, 46, 43, 14, 25, 66, 118, 53, 10, 13, 9, 65, 1, 1, 25, 42, 35, 3, 5, 79, 1, 6, 4, 18, 17, 7, 22, 3, 2, 32, 54], \"sizemode\": \"area\", \"sizeref\": 0.985}, \"name\": \"Europe\", \"showlegend\": true, \"type\": \"scattergeo\"}, {\"geo\": \"geo\", \"hoverlabel\": {\"namelength\": 0}, \"hovertemplate\": \"<b>%{hovertext}</b><br><br>continent=Americas<br>Year=2000<br>Medal count=%{marker.size}<br>country_iso=%{location}\", \"hovertext\": [\"Canada\", \"Chile\", \"Colombia\", \"Costa Rica\", \"Jamaica\", \"Cuba\", \"Uruguay\", \"USA\", \"Mexico\", \"Argentina\", \"Trinidad\", \"Bahamas\", \"Barbados\", \"Brazil\"], \"legendgroup\": \"Americas\", \"locationmode\": \"ISO-3\", \"locations\": [\"CAN\", \"CHL\", \"COL\", \"CRI\", \"JAM\", \"CUB\", \"URY\", \"USA\", \"MEX\", \"ARG\", \"TTO\", \"BHS\", \"BRB\", \"BRA\"], \"marker\": {\"color\": \"#EF553B\", \"size\": [31, 17, 1, 2, 23, 65, 1, 242, 6, 20, 2, 11, 1, 48], \"sizemode\": \"area\", \"sizeref\": 0.985}, \"name\": \"Americas\", \"showlegend\": true, \"type\": \"scattergeo\"}, {\"geo\": \"geo\", \"hoverlabel\": {\"namelength\": 0}, \"hovertemplate\": \"<b>%{hovertext}</b><br><br>continent=Oceania<br>Year=2000<br>Medal count=%{marker.size}<br>country_iso=%{location}\", \"hovertext\": [\"New Zealand\", \"Australia\"], \"legendgroup\": \"Oceania\", \"locationmode\": \"ISO-3\", \"locations\": [\"NZL\", \"AUS\"], \"marker\": {\"color\": \"#00cc96\", \"size\": [4, 183], \"sizemode\": \"area\", \"sizeref\": 0.985}, \"name\": \"Oceania\", \"showlegend\": true, \"type\": \"scattergeo\"}, {\"geo\": \"geo\", \"hoverlabel\": {\"namelength\": 0}, \"hovertemplate\": \"<b>%{hovertext}</b><br><br>continent=Asia<br>Year=2000<br>Medal count=%{marker.size}<br>country_iso=%{location}\", \"hovertext\": [\"North Korea\", \"Qatar\", \"Sri Lanka\", \"China\", \"Turkey\", \"Kazakhstan\", \"Japan\", \"Israel\", \"Thailand\", \"Indonesia\", \"Armenia\", \"Georgia\", \"Azerbaijan\", \"Kyrgyzstan\", \"India\", \"Kuwait\", \"Saudi Arabia\", \"Uzbekistan\", \"South Korea\"], \"legendgroup\": \"Asia\", \"locationmode\": \"ISO-3\", \"locations\": [\"PRK\", \"QAT\", \"LKA\", \"CHN\", \"TUR\", \"KAZ\", \"JPN\", \"ISR\", \"THA\", \"IDN\", \"ARM\", \"GEO\", \"AZE\", \"KGZ\", \"IND\", \"KWT\", \"SAU\", \"UZB\", \"KOR\"], \"marker\": {\"color\": \"#ab63fa\", \"size\": [4, 1, 1, 79, 5, 7, 44, 1, 3, 8, 1, 6, 3, 1, 1, 1, 2, 4, 73], \"sizemode\": \"area\", \"sizeref\": 0.985}, \"name\": \"Asia\", \"showlegend\": true, \"type\": \"scattergeo\"}, {\"geo\": \"geo\", \"hoverlabel\": {\"namelength\": 0}, \"hovertemplate\": \"<b>%{hovertext}</b><br><br>continent=Africa<br>Year=2000<br>Medal count=%{marker.size}<br>country_iso=%{location}\", \"hovertext\": [\"South Africa\", \"Nigeria\", \"Kenya\", \"Cameroon\", \"Ethiopia\", \"Algeria\", \"Mozambique\", \"Morocco\"], \"legendgroup\": \"Africa\", \"locationmode\": \"ISO-3\", \"locations\": [\"ZAF\", \"NGA\", \"KEN\", \"CMR\", \"ETH\", \"DZA\", \"MOZ\", \"MAR\"], \"marker\": {\"color\": \"#FFA15A\", \"size\": [5, 8, 7, 18, 8, 5, 1, 5], \"sizemode\": \"area\", \"sizeref\": 0.985}, \"name\": \"Africa\", \"showlegend\": true, \"type\": \"scattergeo\"}], \"name\": \"2000\"}, {\"data\": [{\"geo\": \"geo\", \"hoverlabel\": {\"namelength\": 0}, \"hovertemplate\": \"<b>%{hovertext}</b><br><br>continent=Europe<br>Year=2002<br>Medal count=%{marker.size}<br>country_iso=%{location}\", \"hovertext\": [\"Finland\", \"UK\", \"France\", \"Switzerland\", \"Estonia\", \"Czech Republic\", \"Croatia\", \"Bulgaria\", \"Belarus\", \"Slovenia\", \"Austria\", \"Russia\", \"Poland\", \"Germany\", \"Italy\", \"Sweden\", \"Netherlands\", \"Norway\"], \"legendgroup\": \"Europe\", \"locationmode\": \"ISO-3\", \"locations\": [\"FIN\", \"GBR\", \"FRA\", \"CHE\", \"EST\", \"CZE\", \"HRV\", \"BGR\", \"BLR\", \"SVN\", \"AUT\", \"RUS\", \"POL\", \"DEU\", \"ITA\", \"SWE\", \"NLD\", \"NOR\"], \"marker\": {\"color\": \"#636efa\", \"size\": [13, 6, 15, 24, 3, 3, 4, 3, 1, 4, 20, 38, 2, 61, 21, 26, 8, 41], \"sizemode\": \"area\", \"sizeref\": 0.985}, \"name\": \"Europe\", \"showlegend\": true, \"type\": \"scattergeo\"}, {\"geo\": \"geo\", \"hoverlabel\": {\"namelength\": 0}, \"hovertemplate\": \"<b>%{hovertext}</b><br><br>continent=Americas<br>Year=2002<br>Medal count=%{marker.size}<br>country_iso=%{location}\", \"hovertext\": [\"Canada\", \"USA\"], \"legendgroup\": \"Americas\", \"locationmode\": \"ISO-3\", \"locations\": [\"CAN\", \"USA\"], \"marker\": {\"color\": \"#EF553B\", \"size\": [74, 84], \"sizemode\": \"area\", \"sizeref\": 0.985}, \"name\": \"Americas\", \"showlegend\": true, \"type\": \"scattergeo\"}, {\"geo\": \"geo\", \"hoverlabel\": {\"namelength\": 0}, \"hovertemplate\": \"<b>%{hovertext}</b><br><br>continent=Oceania<br>Year=2002<br>Medal count=%{marker.size}<br>country_iso=%{location}\", \"hovertext\": [\"Australia\"], \"legendgroup\": \"Oceania\", \"locationmode\": \"ISO-3\", \"locations\": [\"AUS\"], \"marker\": {\"color\": \"#00cc96\", \"size\": [2], \"sizemode\": \"area\", \"sizeref\": 0.985}, \"name\": \"Oceania\", \"showlegend\": true, \"type\": \"scattergeo\"}, {\"geo\": \"geo\", \"hoverlabel\": {\"namelength\": 0}, \"hovertemplate\": \"<b>%{hovertext}</b><br><br>continent=Asia<br>Year=2002<br>Medal count=%{marker.size}<br>country_iso=%{location}\", \"hovertext\": [\"China\", \"Japan\", \"South Korea\"], \"legendgroup\": \"Asia\", \"locationmode\": \"ISO-3\", \"locations\": [\"CHN\", \"JPN\", \"KOR\"], \"marker\": {\"color\": \"#ab63fa\", \"size\": [16, 2, 7], \"sizemode\": \"area\", \"sizeref\": 0.985}, \"name\": \"Asia\", \"showlegend\": true, \"type\": \"scattergeo\"}], \"name\": \"2002\"}, {\"data\": [{\"geo\": \"geo\", \"hoverlabel\": {\"namelength\": 0}, \"hovertemplate\": \"<b>%{hovertext}</b><br><br>continent=Europe<br>Year=2004<br>Medal count=%{marker.size}<br>country_iso=%{location}\", \"hovertext\": [\"Sweden\", \"Bulgaria\", \"Germany\", \"Norway\", \"Belarus\", \"Serbia\", \"Russia\", \"Netherlands\", \"Slovakia\", \"Austria\", \"Croatia\", \"Slovenia\", \"Lithuania\", \"Belgium\", \"Latvia\", \"Romania\", \"Finland\", \"Hungary\", \"Ukraine\", \"Greece\", \"France\", \"Poland\", \"Estonia\", \"Switzerland\", \"Italy\", \"Spain\", \"Denmark\", \"Portugal\", \"UK\", \"Czech Republic\"], \"legendgroup\": \"Europe\", \"locationmode\": \"ISO-3\", \"locations\": [\"SWE\", \"BGR\", \"DEU\", \"NOR\", \"BLR\", \"SRB\", \"RUS\", \"NLD\", \"SVK\", \"AUT\", \"HRV\", \"SVN\", \"LTU\", \"BEL\", \"LVA\", \"ROU\", \"FIN\", \"HUN\", \"UKR\", \"GRC\", \"FRA\", \"POL\", \"EST\", \"CHE\", \"ITA\", \"ESP\", \"DNK\", \"PRT\", \"GBR\", \"CZE\"], \"marker\": {\"color\": \"#636efa\", \"size\": [12, 17, 149, 7, 15, 13, 189, 77, 10, 8, 21, 5, 3, 3, 4, 39, 2, 40, 47, 31, 53, 12, 3, 7, 104, 30, 29, 3, 57, 13], \"sizemode\": \"area\", \"sizeref\": 0.985}, \"name\": \"Europe\", \"showlegend\": true, \"type\": \"scattergeo\"}, {\"geo\": \"geo\", \"hoverlabel\": {\"namelength\": 0}, \"hovertemplate\": \"<b>%{hovertext}</b><br><br>continent=Americas<br>Year=2004<br>Medal count=%{marker.size}<br>country_iso=%{location}\", \"hovertext\": [\"Brazil\", \"USA\", \"Canada\", \"Chile\", \"Colombia\", \"Jamaica\", \"Argentina\", \"Mexico\", \"Venezuela\", \"Bahamas\", \"Cuba\", \"Paraguay\", \"Trinidad\", \"Dominican Republic\"], \"legendgroup\": \"Americas\", \"locationmode\": \"ISO-3\", \"locations\": [\"BRA\", \"USA\", \"CAN\", \"CHL\", \"COL\", \"JAM\", \"ARG\", \"MEX\", \"VEN\", \"BHS\", \"CUB\", \"PRY\", \"TTO\", \"DOM\"], \"marker\": {\"color\": \"#EF553B\", \"size\": [40, 263, 17, 4, 2, 13, 49, 4, 2, 2, 62, 17, 1, 1], \"sizemode\": \"area\", \"sizeref\": 0.985}, \"name\": \"Americas\", \"showlegend\": true, \"type\": \"scattergeo\"}, {\"geo\": \"geo\", \"hoverlabel\": {\"namelength\": 0}, \"hovertemplate\": \"<b>%{hovertext}</b><br><br>continent=Oceania<br>Year=2004<br>Medal count=%{marker.size}<br>country_iso=%{location}\", \"hovertext\": [\"Australia\", \"New Zealand\"], \"legendgroup\": \"Oceania\", \"locationmode\": \"ISO-3\", \"locations\": [\"AUS\", \"NZL\"], \"marker\": {\"color\": \"#00cc96\", \"size\": [157, 6], \"sizemode\": \"area\", \"sizeref\": 0.985}, \"name\": \"Oceania\", \"showlegend\": true, \"type\": \"scattergeo\"}, {\"geo\": \"geo\", \"hoverlabel\": {\"namelength\": 0}, \"hovertemplate\": \"<b>%{hovertext}</b><br><br>continent=Asia<br>Year=2004<br>Medal count=%{marker.size}<br>country_iso=%{location}\", \"hovertext\": [\"Syria\", \"China\", \"Kazakhstan\", \"North Korea\", \"Japan\", \"South Korea\", \"Uzbekistan\", \"Mongolia\", \"Azerbaijan\", \"China\", \"Turkey\", \"United Arab Emirates\", \"India\", \"Indonesia\", \"Thailand\", \"Georgia\", \"Israel\"], \"legendgroup\": \"Asia\", \"locationmode\": \"ISO-3\", \"locations\": [\"SYR\", \"CHN\", \"KAZ\", \"PRK\", \"JPN\", \"KOR\", \"UZB\", \"MNG\", \"AZE\", \"CHN\", \"TUR\", \"ARE\", \"IND\", \"IDN\", \"THA\", \"GEO\", \"ISR\"], \"marker\": {\"color\": \"#ab63fa\", \"size\": [1, 94, 8, 5, 93, 52, 5, 1, 5, 2, 11, 1, 1, 5, 8, 4, 2], \"sizemode\": \"area\", \"sizeref\": 0.985}, \"name\": \"Asia\", \"showlegend\": true, \"type\": \"scattergeo\"}, {\"geo\": \"geo\", \"hoverlabel\": {\"namelength\": 0}, \"hovertemplate\": \"<b>%{hovertext}</b><br><br>continent=Africa<br>Year=2004<br>Medal count=%{marker.size}<br>country_iso=%{location}\", \"hovertext\": [\"Kenya\", \"Cameroon\", \"Nigeria\", \"Morocco\", \"South Africa\", \"Ethiopia\", \"Eritrea\", \"Egypt\", \"Zimbabwe\"], \"legendgroup\": \"Africa\", \"locationmode\": \"ISO-3\", \"locations\": [\"KEN\", \"CMR\", \"NGA\", \"MAR\", \"ZAF\", \"ETH\", \"ERI\", \"EGY\", \"ZWE\"], \"marker\": {\"color\": \"#FFA15A\", \"size\": [7, 1, 8, 3, 10, 7, 1, 5, 3], \"sizemode\": \"area\", \"sizeref\": 0.985}, \"name\": \"Africa\", \"showlegend\": true, \"type\": \"scattergeo\"}], \"name\": \"2004\"}, {\"data\": [{\"geo\": \"geo\", \"hoverlabel\": {\"namelength\": 0}, \"hovertemplate\": \"<b>%{hovertext}</b><br><br>continent=Europe<br>Year=2006<br>Medal count=%{marker.size}<br>country_iso=%{location}\", \"hovertext\": [\"Latvia\", \"Switzerland\", \"Finland\", \"Russia\", \"Austria\", \"France\", \"Slovakia\", \"UK\", \"Netherlands\", \"Italy\", \"Germany\", \"Sweden\", \"Norway\", \"Poland\", \"Ukraine\", \"Czech Republic\", \"Croatia\", \"Estonia\", \"Belarus\", \"Bulgaria\"], \"legendgroup\": \"Europe\", \"locationmode\": \"ISO-3\", \"locations\": [\"LVA\", \"CHE\", \"FIN\", \"RUS\", \"AUT\", \"FRA\", \"SVK\", \"GBR\", \"NLD\", \"ITA\", \"DEU\", \"SWE\", \"NOR\", \"POL\", \"UKR\", \"CZE\", \"HRV\", \"EST\", \"BLR\", \"BGR\"], \"marker\": {\"color\": \"#636efa\", \"size\": [1, 21, 41, 41, 30, 15, 1, 1, 13, 25, 54, 64, 23, 2, 3, 27, 3, 3, 1, 1], \"sizemode\": \"area\", \"sizeref\": 0.985}, \"name\": \"Europe\", \"showlegend\": true, \"type\": \"scattergeo\"}, {\"geo\": \"geo\", \"hoverlabel\": {\"namelength\": 0}, \"hovertemplate\": \"<b>%{hovertext}</b><br><br>continent=Americas<br>Year=2006<br>Medal count=%{marker.size}<br>country_iso=%{location}\", \"hovertext\": [\"Canada\", \"USA\"], \"legendgroup\": \"Americas\", \"locationmode\": \"ISO-3\", \"locations\": [\"CAN\", \"USA\"], \"marker\": {\"color\": \"#EF553B\", \"size\": [69, 52], \"sizemode\": \"area\", \"sizeref\": 0.985}, \"name\": \"Americas\", \"showlegend\": true, \"type\": \"scattergeo\"}, {\"geo\": \"geo\", \"hoverlabel\": {\"namelength\": 0}, \"hovertemplate\": \"<b>%{hovertext}</b><br><br>continent=Oceania<br>Year=2006<br>Medal count=%{marker.size}<br>country_iso=%{location}\", \"hovertext\": [\"Australia\"], \"legendgroup\": \"Oceania\", \"locationmode\": \"ISO-3\", \"locations\": [\"AUS\"], \"marker\": {\"color\": \"#00cc96\", \"size\": [2], \"sizemode\": \"area\", \"sizeref\": 0.985}, \"name\": \"Oceania\", \"showlegend\": true, \"type\": \"scattergeo\"}, {\"geo\": \"geo\", \"hoverlabel\": {\"namelength\": 0}, \"hovertemplate\": \"<b>%{hovertext}</b><br><br>continent=Asia<br>Year=2006<br>Medal count=%{marker.size}<br>country_iso=%{location}\", \"hovertext\": [\"China\", \"Japan\", \"South Korea\"], \"legendgroup\": \"Asia\", \"locationmode\": \"ISO-3\", \"locations\": [\"CHN\", \"JPN\", \"KOR\"], \"marker\": {\"color\": \"#ab63fa\", \"size\": [13, 1, 19], \"sizemode\": \"area\", \"sizeref\": 0.985}, \"name\": \"Asia\", \"showlegend\": true, \"type\": \"scattergeo\"}], \"name\": \"2006\"}, {\"data\": [{\"geo\": \"geo\", \"hoverlabel\": {\"namelength\": 0}, \"hovertemplate\": \"<b>%{hovertext}</b><br><br>continent=Europe<br>Year=2008<br>Medal count=%{marker.size}<br>country_iso=%{location}\", \"hovertext\": [\"Switzerland\", \"Ukraine\", \"Slovenia\", \"Slovakia\", \"Serbia\", \"Sweden\", \"Latvia\", \"Denmark\", \"Lithuania\", \"Czech Republic\", \"Moldova\", \"Croatia\", \"Netherlands\", \"Greece\", \"Germany\", \"Ireland\", \"Iceland\", \"Italy\", \"UK\", \"France\", \"Finland\", \"Estonia\", \"Spain\", \"Bulgaria\", \"Hungary\", \"Poland\", \"Belarus\", \"Portugal\", \"Belgium\", \"Russia\", \"Austria\", \"Romania\", \"Norway\"], \"legendgroup\": \"Europe\", \"locationmode\": \"ISO-3\", \"locations\": [\"CHE\", \"UKR\", \"SVN\", \"SVK\", \"SRB\", \"SWE\", \"LVA\", \"DNK\", \"LTU\", \"CZE\", \"MDA\", \"HRV\", \"NLD\", \"GRC\", \"DEU\", \"IRL\", \"ISL\", \"ITA\", \"GBR\", \"FRA\", \"FIN\", \"EST\", \"ESP\", \"BGR\", \"HUN\", \"POL\", \"BLR\", \"PRT\", \"BEL\", \"RUS\", \"AUT\", \"ROU\", \"NOR\"], \"marker\": {\"color\": \"#636efa\", \"size\": [11, 31, 5, 10, 15, 7, 3, 19, 5, 7, 1, 5, 61, 7, 99, 3, 14, 42, 81, 77, 5, 3, 70, 5, 27, 20, 29, 2, 5, 142, 3, 22, 22], \"sizemode\": \"area\", \"sizeref\": 0.985}, \"name\": \"Europe\", \"showlegend\": true, \"type\": \"scattergeo\"}, {\"geo\": \"geo\", \"hoverlabel\": {\"namelength\": 0}, \"hovertemplate\": \"<b>%{hovertext}</b><br><br>continent=Americas<br>Year=2008<br>Medal count=%{marker.size}<br>country_iso=%{location}\", \"hovertext\": [\"Trinidad\", \"Venezuela\", \"USA\", \"Dominican Republic\", \"Ecuador\", \"Colombia\", \"Chile\", \"Mexico\", \"Jamaica\", \"Canada\", \"Cuba\", \"Argentina\", \"Bahamas\", \"Panama\", \"Brazil\"], \"legendgroup\": \"Americas\", \"locationmode\": \"ISO-3\", \"locations\": [\"TTO\", \"VEN\", \"USA\", \"DOM\", \"ECU\", \"COL\", \"CHL\", \"MEX\", \"JAM\", \"CAN\", \"CUB\", \"ARG\", \"BHS\", \"PAN\", \"BRA\"], \"marker\": {\"color\": \"#EF553B\", \"size\": [6, 1, 317, 2, 1, 2, 1, 4, 14, 35, 47, 51, 7, 1, 78], \"sizemode\": \"area\", \"sizeref\": 0.985}, \"name\": \"Americas\", \"showlegend\": true, \"type\": \"scattergeo\"}, {\"geo\": \"geo\", \"hoverlabel\": {\"namelength\": 0}, \"hovertemplate\": \"<b>%{hovertext}</b><br><br>continent=Oceania<br>Year=2008<br>Medal count=%{marker.size}<br>country_iso=%{location}\", \"hovertext\": [\"Australia\", \"New Zealand\"], \"legendgroup\": \"Oceania\", \"locationmode\": \"ISO-3\", \"locations\": [\"AUS\", \"NZL\"], \"marker\": {\"color\": \"#00cc96\", \"size\": [149, 15], \"sizemode\": \"area\", \"sizeref\": 0.985}, \"name\": \"Oceania\", \"showlegend\": true, \"type\": \"scattergeo\"}, {\"geo\": \"geo\", \"hoverlabel\": {\"namelength\": 0}, \"hovertemplate\": \"<b>%{hovertext}</b><br><br>continent=Asia<br>Year=2008<br>Medal count=%{marker.size}<br>country_iso=%{location}\", \"hovertext\": [\"Uzbekistan\", \"Thailand\", \"Tajikistan\", \"Turkey\", \"Afghanistan\", \"Malaysia\", \"Indonesia\", \"Mongolia\", \"China\", \"South Korea\", \"Kyrgyzstan\", \"India\", \"Georgia\", \"Israel\", \"Japan\", \"Kazakhstan\", \"Azerbaijan\", \"Armenia\", \"North Korea\"], \"legendgroup\": \"Asia\", \"locationmode\": \"ISO-3\", \"locations\": [\"UZB\", \"THA\", \"TJK\", \"TUR\", \"AFG\", \"MYS\", \"IDN\", \"MNG\", \"CHN\", \"KOR\", \"KGZ\", \"IND\", \"GEO\", \"ISR\", \"JPN\", \"KAZ\", \"AZE\", \"ARM\", \"PRK\"], \"marker\": {\"color\": \"#ab63fa\", \"size\": [6, 4, 2, 7, 1, 1, 7, 4, 184, 78, 2, 3, 6, 1, 51, 13, 7, 6, 6], \"sizemode\": \"area\", \"sizeref\": 0.985}, \"name\": \"Asia\", \"showlegend\": true, \"type\": \"scattergeo\"}, {\"geo\": \"geo\", \"hoverlabel\": {\"namelength\": 0}, \"hovertemplate\": \"<b>%{hovertext}</b><br><br>continent=Africa<br>Year=2008<br>Medal count=%{marker.size}<br>country_iso=%{location}\", \"hovertext\": [\"Tunisia\", \"Togo\", \"Sudan\", \"Zimbabwe\", \"Morocco\", \"Cameroon\", \"Mauritius\", \"Egypt\", \"Ethiopia\", \"Kenya\", \"Algeria\", \"South Africa\", \"Nigeria\"], \"legendgroup\": \"Africa\", \"locationmode\": \"ISO-3\", \"locations\": [\"TUN\", \"TGO\", \"SDN\", \"ZWE\", \"MAR\", \"CMR\", \"MUS\", \"EGY\", \"ETH\", \"KEN\", \"DZA\", \"ZAF\", \"NGA\"], \"marker\": {\"color\": \"#FFA15A\", \"size\": [1, 1, 1, 4, 2, 1, 1, 1, 7, 15, 2, 1, 23], \"sizemode\": \"area\", \"sizeref\": 0.985}, \"name\": \"Africa\", \"showlegend\": true, \"type\": \"scattergeo\"}], \"name\": \"2008\"}, {\"data\": [{\"geo\": \"geo\", \"hoverlabel\": {\"namelength\": 0}, \"hovertemplate\": \"<b>%{hovertext}</b><br><br>continent=Europe<br>Year=2010<br>Medal count=%{marker.size}<br>country_iso=%{location}\", \"hovertext\": [\"UK\", \"Italy\", \"Sweden\", \"Austria\", \"Croatia\", \"Switzerland\", \"Netherlands\", \"France\", \"Finland\", \"Norway\", \"Estonia\", \"Slovenia\", \"Germany\", \"Russia\", \"Belarus\", \"Slovakia\", \"Czech Republic\", \"Poland\", \"Latvia\"], \"legendgroup\": \"Europe\", \"locationmode\": \"ISO-3\", \"locations\": [\"GBR\", \"ITA\", \"SWE\", \"AUT\", \"HRV\", \"CHE\", \"NLD\", \"FRA\", \"FIN\", \"NOR\", \"EST\", \"SVN\", \"DEU\", \"RUS\", \"BLR\", \"SVK\", \"CZE\", \"POL\", \"LVA\"], \"marker\": {\"color\": \"#636efa\", \"size\": [1, 5, 18, 26, 3, 12, 11, 14, 47, 39, 1, 3, 54, 25, 3, 3, 9, 8, 3], \"sizemode\": \"area\", \"sizeref\": 0.985}, \"name\": \"Europe\", \"showlegend\": true, \"type\": \"scattergeo\"}, {\"geo\": \"geo\", \"hoverlabel\": {\"namelength\": 0}, \"hovertemplate\": \"<b>%{hovertext}</b><br><br>continent=Americas<br>Year=2010<br>Medal count=%{marker.size}<br>country_iso=%{location}\", \"hovertext\": [\"Canada\", \"USA\"], \"legendgroup\": \"Americas\", \"locationmode\": \"ISO-3\", \"locations\": [\"CAN\", \"USA\"], \"marker\": {\"color\": \"#EF553B\", \"size\": [90, 97], \"sizemode\": \"area\", \"sizeref\": 0.985}, \"name\": \"Americas\", \"showlegend\": true, \"type\": \"scattergeo\"}, {\"geo\": \"geo\", \"hoverlabel\": {\"namelength\": 0}, \"hovertemplate\": \"<b>%{hovertext}</b><br><br>continent=Oceania<br>Year=2010<br>Medal count=%{marker.size}<br>country_iso=%{location}\", \"hovertext\": [\"Australia\"], \"legendgroup\": \"Oceania\", \"locationmode\": \"ISO-3\", \"locations\": [\"AUS\"], \"marker\": {\"color\": \"#00cc96\", \"size\": [3], \"sizemode\": \"area\", \"sizeref\": 0.985}, \"name\": \"Oceania\", \"showlegend\": true, \"type\": \"scattergeo\"}, {\"geo\": \"geo\", \"hoverlabel\": {\"namelength\": 0}, \"hovertemplate\": \"<b>%{hovertext}</b><br><br>continent=Asia<br>Year=2010<br>Medal count=%{marker.size}<br>country_iso=%{location}\", \"hovertext\": [\"South Korea\", \"Kazakhstan\", \"Japan\", \"China\"], \"legendgroup\": \"Asia\", \"locationmode\": \"ISO-3\", \"locations\": [\"KOR\", \"KAZ\", \"JPN\", \"CHN\"], \"marker\": {\"color\": \"#ab63fa\", \"size\": [18, 1, 7, 19], \"sizemode\": \"area\", \"sizeref\": 0.985}, \"name\": \"Asia\", \"showlegend\": true, \"type\": \"scattergeo\"}], \"name\": \"2010\"}, {\"data\": [{\"geo\": \"geo\", \"hoverlabel\": {\"namelength\": 0}, \"hovertemplate\": \"<b>%{hovertext}</b><br><br>continent=Europe<br>Year=2012<br>Medal count=%{marker.size}<br>country_iso=%{location}\", \"hovertext\": [\"Germany\", \"France\", \"UK\", \"Greece\", \"Bulgaria\", \"Belarus\", \"Croatia\", \"Czech Republic\", \"Belgium\", \"Denmark\", \"Ukraine\", \"Estonia\", \"Finland\", \"Spain\", \"Portugal\", \"Switzerland\", \"Sweden\", \"Poland\", \"Latvia\", \"Lithuania\", \"Hungary\", \"Moldova\", \"Norway\", \"Slovakia\", \"Montenegro\", \"Italy\", \"Netherlands\", \"Serbia\", \"Ireland\", \"Slovenia\", \"Romania\", \"Russia\"], \"legendgroup\": \"Europe\", \"locationmode\": \"ISO-3\", \"locations\": [\"DEU\", \"FRA\", \"GBR\", \"GRC\", \"BGR\", \"BLR\", \"HRV\", \"CZE\", \"BEL\", \"DNK\", \"UKR\", \"EST\", \"FIN\", \"ESP\", \"PRT\", \"CHE\", \"SWE\", \"POL\", \"LVA\", \"LTU\", \"HUN\", \"MDA\", \"NOR\", \"SVK\", \"MNE\", \"ITA\", \"NLD\", \"SRB\", \"IRL\", \"SVN\", \"ROU\", \"RUS\"], \"marker\": {\"color\": \"#636efa\", \"size\": [94, 82, 126, 3, 2, 23, 35, 14, 3, 16, 26, 2, 5, 63, 2, 4, 22, 12, 3, 5, 26, 2, 17, 5, 14, 68, 69, 16, 5, 5, 16, 140], \"sizemode\": \"area\", \"sizeref\": 0.985}, \"name\": \"Europe\", \"showlegend\": true, \"type\": \"scattergeo\"}, {\"geo\": \"geo\", \"hoverlabel\": {\"namelength\": 0}, \"hovertemplate\": \"<b>%{hovertext}</b><br><br>continent=Americas<br>Year=2012<br>Medal count=%{marker.size}<br>country_iso=%{location}\", \"hovertext\": [\"Guatemala\", \"Trinidad\", \"Argentina\", \"Canada\", \"Brazil\", \"Colombia\", \"USA\", \"Cuba\", \"Dominican Republic\", \"Bahamas\", \"Venezuela\", \"Grenada\", \"Puerto Rico\", \"Mexico\", \"Jamaica\"], \"legendgroup\": \"Americas\", \"locationmode\": \"ISO-3\", \"locations\": [\"GTM\", \"TTO\", \"ARG\", \"CAN\", \"BRA\", \"COL\", \"USA\", \"CUB\", \"DOM\", \"BHS\", \"VEN\", \"GRD\", \"PRI\", \"MEX\", \"JAM\"], \"marker\": {\"color\": \"#EF553B\", \"size\": [1, 10, 19, 55, 59, 8, 248, 14, 2, 4, 1, 1, 2, 24, 25], \"sizemode\": \"area\", \"sizeref\": 0.985}, \"name\": \"Americas\", \"showlegend\": true, \"type\": \"scattergeo\"}, {\"geo\": \"geo\", \"hoverlabel\": {\"namelength\": 0}, \"hovertemplate\": \"<b>%{hovertext}</b><br><br>continent=Oceania<br>Year=2012<br>Medal count=%{marker.size}<br>country_iso=%{location}\", \"hovertext\": [\"Australia\", \"New Zealand\"], \"legendgroup\": \"Oceania\", \"locationmode\": \"ISO-3\", \"locations\": [\"AUS\", \"NZL\"], \"marker\": {\"color\": \"#00cc96\", \"size\": [114, 27], \"sizemode\": \"area\", \"sizeref\": 0.985}, \"name\": \"Oceania\", \"showlegend\": true, \"type\": \"scattergeo\"}, {\"geo\": \"geo\", \"hoverlabel\": {\"namelength\": 0}, \"hovertemplate\": \"<b>%{hovertext}</b><br><br>continent=Asia<br>Year=2012<br>Medal count=%{marker.size}<br>country_iso=%{location}\", \"hovertext\": [\"Armenia\", \"China\", \"Afghanistan\", \"Georgia\", \"Turkey\", \"Bahrain\", \"China\", \"Cyprus\", \"Uzbekistan\", \"Azerbaijan\", \"Japan\", \"North Korea\", \"Kazakhstan\", \"South Korea\", \"Saudi Arabia\", \"Kuwait\", \"Malaysia\", \"Mongolia\", \"India\", \"Qatar\", \"Thailand\", \"Tajikistan\", \"Indonesia\"], \"legendgroup\": \"Asia\", \"locationmode\": \"ISO-3\", \"locations\": [\"ARM\", \"CHN\", \"AFG\", \"GEO\", \"TUR\", \"BHR\", \"CHN\", \"CYP\", \"UZB\", \"AZE\", \"JPN\", \"PRK\", \"KAZ\", \"KOR\", \"SAU\", \"KWT\", \"MYS\", \"MNG\", \"IND\", \"QAT\", \"THA\", \"TJK\", \"IDN\"], \"marker\": {\"color\": \"#ab63fa\", \"size\": [3, 1, 1, 7, 5, 1, 125, 1, 3, 10, 84, 6, 13, 61, 4, 1, 2, 5, 6, 2, 3, 1, 2], \"sizemode\": \"area\", \"sizeref\": 0.985}, \"name\": \"Asia\", \"showlegend\": true, \"type\": \"scattergeo\"}, {\"geo\": \"geo\", \"hoverlabel\": {\"namelength\": 0}, \"hovertemplate\": \"<b>%{hovertext}</b><br><br>continent=Africa<br>Year=2012<br>Medal count=%{marker.size}<br>country_iso=%{location}\", \"hovertext\": [\"Tunisia\", \"Gabon\", \"Algeria\", \"Botswana\", \"Egypt\", \"Uganda\", \"Ethiopia\", \"Kenya\", \"Morocco\", \"South Africa\"], \"legendgroup\": \"Africa\", \"locationmode\": \"ISO-3\", \"locations\": [\"TUN\", \"GAB\", \"DZA\", \"BWA\", \"EGY\", \"UGA\", \"ETH\", \"KEN\", \"MAR\", \"ZAF\"], \"marker\": {\"color\": \"#FFA15A\", \"size\": [3, 1, 1, 1, 2, 1, 7, 11, 1, 9], \"sizemode\": \"area\", \"sizeref\": 0.985}, \"name\": \"Africa\", \"showlegend\": true, \"type\": \"scattergeo\"}], \"name\": \"2012\"}, {\"data\": [{\"geo\": \"geo\", \"hoverlabel\": {\"namelength\": 0}, \"hovertemplate\": \"<b>%{hovertext}</b><br><br>continent=Europe<br>Year=2014<br>Medal count=%{marker.size}<br>country_iso=%{location}\", \"hovertext\": [\"Norway\", \"Switzerland\", \"Netherlands\", \"Belarus\", \"Slovenia\", \"Latvia\", \"Germany\", \"Ukraine\", \"Slovakia\", \"Croatia\", \"Czech Republic\", \"Italy\", \"Russia\", \"Austria\", \"France\", \"Poland\", \"UK\", \"Sweden\", \"Finland\"], \"legendgroup\": \"Europe\", \"locationmode\": \"ISO-3\", \"locations\": [\"NOR\", \"CHE\", \"NLD\", \"BLR\", \"SVN\", \"LVA\", \"DEU\", \"UKR\", \"SVK\", \"HRV\", \"CZE\", \"ITA\", \"RUS\", \"AUT\", \"FRA\", \"POL\", \"GBR\", \"SWE\", \"FIN\"], \"marker\": {\"color\": \"#636efa\", \"size\": [36, 30, 29, 6, 8, 11, 36, 5, 1, 1, 11, 14, 68, 27, 18, 11, 10, 51, 33], \"sizemode\": \"area\", \"sizeref\": 0.985}, \"name\": \"Europe\", \"showlegend\": true, \"type\": \"scattergeo\"}, {\"geo\": \"geo\", \"hoverlabel\": {\"namelength\": 0}, \"hovertemplate\": \"<b>%{hovertext}</b><br><br>continent=Americas<br>Year=2014<br>Medal count=%{marker.size}<br>country_iso=%{location}\", \"hovertext\": [\"Canada\", \"USA\"], \"legendgroup\": \"Americas\", \"locationmode\": \"ISO-3\", \"locations\": [\"CAN\", \"USA\"], \"marker\": {\"color\": \"#EF553B\", \"size\": [86, 64], \"sizemode\": \"area\", \"sizeref\": 0.985}, \"name\": \"Americas\", \"showlegend\": true, \"type\": \"scattergeo\"}, {\"geo\": \"geo\", \"hoverlabel\": {\"namelength\": 0}, \"hovertemplate\": \"<b>%{hovertext}</b><br><br>continent=Oceania<br>Year=2014<br>Medal count=%{marker.size}<br>country_iso=%{location}\", \"hovertext\": [\"Australia\"], \"legendgroup\": \"Oceania\", \"locationmode\": \"ISO-3\", \"locations\": [\"AUS\"], \"marker\": {\"color\": \"#00cc96\", \"size\": [3], \"sizemode\": \"area\", \"sizeref\": 0.985}, \"name\": \"Oceania\", \"showlegend\": true, \"type\": \"scattergeo\"}, {\"geo\": \"geo\", \"hoverlabel\": {\"namelength\": 0}, \"hovertemplate\": \"<b>%{hovertext}</b><br><br>continent=Asia<br>Year=2014<br>Medal count=%{marker.size}<br>country_iso=%{location}\", \"hovertext\": [\"South Korea\", \"China\", \"Japan\", \"Kazakhstan\"], \"legendgroup\": \"Asia\", \"locationmode\": \"ISO-3\", \"locations\": [\"KOR\", \"CHN\", \"JPN\", \"KAZ\"], \"marker\": {\"color\": \"#ab63fa\", \"size\": [14, 12, 11, 1], \"sizemode\": \"area\", \"sizeref\": 0.985}, \"name\": \"Asia\", \"showlegend\": true, \"type\": \"scattergeo\"}], \"name\": \"2014\"}, {\"data\": [{\"geo\": \"geo\", \"hoverlabel\": {\"namelength\": 0}, \"hovertemplate\": \"<b>%{hovertext}</b><br><br>continent=Europe<br>Year=2016<br>Medal count=%{marker.size}<br>country_iso=%{location}\", \"hovertext\": [\"Belgium\", \"Austria\", \"Netherlands\", \"Belarus\", \"Poland\", \"Serbia\", \"Romania\", \"Portugal\", \"Norway\", \"Slovenia\", \"Hungary\", \"Finland\", \"Italy\", \"France\", \"Ireland\", \"UK\", \"Germany\", \"Greece\", \"Russia\", \"Bulgaria\", \"Switzerland\", \"Slovakia\", \"Croatia\", \"Lithuania\", \"Czech Republic\", \"Denmark\", \"Ukraine\", \"Spain\", \"Sweden\", \"Estonia\"], \"legendgroup\": \"Europe\", \"locationmode\": \"ISO-3\", \"locations\": [\"BEL\", \"AUT\", \"NLD\", \"BLR\", \"POL\", \"SRB\", \"ROU\", \"PRT\", \"NOR\", \"SVN\", \"HUN\", \"FIN\", \"ITA\", \"FRA\", \"IRL\", \"GBR\", \"DEU\", \"GRC\", \"RUS\", \"BGR\", \"CHE\", \"SVK\", \"HRV\", \"LTU\", \"CZE\", \"DNK\", \"UKR\", \"ESP\", \"SWE\", \"EST\"], \"marker\": {\"color\": \"#636efa\", \"size\": [21, 2, 47, 12, 16, 54, 16, 1, 19, 4, 22, 1, 72, 96, 3, 145, 159, 7, 115, 7, 11, 8, 24, 7, 15, 41, 15, 45, 28, 4], \"sizemode\": \"area\", \"sizeref\": 0.985}, \"name\": \"Europe\", \"showlegend\": true, \"type\": \"scattergeo\"}, {\"geo\": \"geo\", \"hoverlabel\": {\"namelength\": 0}, \"hovertemplate\": \"<b>%{hovertext}</b><br><br>continent=Americas<br>Year=2016<br>Medal count=%{marker.size}<br>country_iso=%{location}\", \"hovertext\": [\"Venezuela\", \"Puerto Rico\", \"Brazil\", \"USA\", \"Argentina\", \"Bahamas\", \"Canada\", \"Jamaica\", \"Trinidad\", \"Grenada\", \"Mexico\", \"Colombia\", \"Cuba\", \"Dominican Republic\"], \"legendgroup\": \"Americas\", \"locationmode\": \"ISO-3\", \"locations\": [\"VEN\", \"PRI\", \"BRA\", \"USA\", \"ARG\", \"BHS\", \"CAN\", \"JAM\", \"TTO\", \"GRD\", \"MEX\", \"COL\", \"CUB\", \"DOM\"], \"marker\": {\"color\": \"#EF553B\", \"size\": [3, 1, 50, 264, 22, 6, 69, 30, 1, 1, 5, 8, 11, 1], \"sizemode\": \"area\", \"sizeref\": 0.985}, \"name\": \"Americas\", \"showlegend\": true, \"type\": \"scattergeo\"}, {\"geo\": \"geo\", \"hoverlabel\": {\"namelength\": 0}, \"hovertemplate\": \"<b>%{hovertext}</b><br><br>continent=Oceania<br>Year=2016<br>Medal count=%{marker.size}<br>country_iso=%{location}\", \"hovertext\": [\"Australia\", \"New Zealand\", \"Fiji\"], \"legendgroup\": \"Oceania\", \"locationmode\": \"ISO-3\", \"locations\": [\"AUS\", \"NZL\", \"FJI\"], \"marker\": {\"color\": \"#00cc96\", \"size\": [82, 36, 13], \"sizemode\": \"area\", \"sizeref\": 0.985}, \"name\": \"Oceania\", \"showlegend\": true, \"type\": \"scattergeo\"}, {\"geo\": \"geo\", \"hoverlabel\": {\"namelength\": 0}, \"hovertemplate\": \"<b>%{hovertext}</b><br><br>continent=Asia<br>Year=2016<br>Medal count=%{marker.size}<br>country_iso=%{location}\", \"hovertext\": [\"Bahrain\", \"Qatar\", \"Uzbekistan\", \"Armenia\", \"Philippines\", \"Azerbaijan\", \"North Korea\", \"Turkey\", \"Jordan\", \"Israel\", \"Georgia\", \"India\", \"Thailand\", \"Tajikistan\", \"Indonesia\", \"Japan\", \"United Arab Emirates\", \"Mongolia\", \"China\", \"South Korea\", \"Kazakhstan\", \"Malaysia\"], \"legendgroup\": \"Asia\", \"locationmode\": \"ISO-3\", \"locations\": [\"BHR\", \"QAT\", \"UZB\", \"ARM\", \"PHL\", \"AZE\", \"PRK\", \"TUR\", \"JOR\", \"ISR\", \"GEO\", \"IND\", \"THA\", \"TJK\", \"IDN\", \"JPN\", \"ARE\", \"MNG\", \"CHN\", \"KOR\", \"KAZ\", \"MYS\"], \"marker\": {\"color\": \"#ab63fa\", \"size\": [2, 1, 13, 4, 1, 18, 7, 8, 1, 2, 7, 2, 6, 1, 4, 64, 1, 2, 113, 26, 18, 8], \"sizemode\": \"area\", \"sizeref\": 0.985}, \"name\": \"Asia\", \"showlegend\": true, \"type\": \"scattergeo\"}, {\"geo\": \"geo\", \"hoverlabel\": {\"namelength\": 0}, \"hovertemplate\": \"<b>%{hovertext}</b><br><br>continent=Africa<br>Year=2016<br>Medal count=%{marker.size}<br>country_iso=%{location}\", \"hovertext\": [\"South Africa\", \"Niger\", \"Nigeria\", \"Algeria\", \"Burundi\", \"Tunisia\", \"Ethiopia\", \"Ivory Coast\", \"Morocco\", \"Egypt\", \"Kenya\"], \"legendgroup\": \"Africa\", \"locationmode\": \"ISO-3\", \"locations\": [\"ZAF\", \"NER\", \"NGA\", \"DZA\", \"BDI\", \"TUN\", \"ETH\", \"CIV\", \"MAR\", \"EGY\", \"KEN\"], \"marker\": {\"color\": \"#FFA15A\", \"size\": [23, 1, 18, 2, 1, 3, 8, 2, 1, 3, 13], \"sizemode\": \"area\", \"sizeref\": 0.985}, \"name\": \"Africa\", \"showlegend\": true, \"type\": \"scattergeo\"}], \"name\": \"2016\"}]);\n",
       "                        }).then(function(){\n",
       "                            \n",
       "var gd = document.getElementById('bf88fb9c-35a4-451b-9bca-df3357795e70');\n",
       "var x = new MutationObserver(function (mutations, observer) {{\n",
       "        var display = window.getComputedStyle(gd).display;\n",
       "        if (!display || display === 'none') {{\n",
       "            console.log([gd, 'removed!']);\n",
       "            Plotly.purge(gd);\n",
       "            observer.disconnect();\n",
       "        }}\n",
       "}});\n",
       "\n",
       "// Listen for the removal of the full notebook cells\n",
       "var notebookContainer = gd.closest('#notebook-container');\n",
       "if (notebookContainer) {{\n",
       "    x.observe(notebookContainer, {childList: true});\n",
       "}}\n",
       "\n",
       "// Listen for the clearing of the current output cell\n",
       "var outputEl = gd.closest('.output');\n",
       "if (outputEl) {{\n",
       "    x.observe(outputEl, {childList: true});\n",
       "}}\n",
       "\n",
       "                        })\n",
       "                };\n",
       "                });\n",
       "            </script>\n",
       "        </div>"
      ]
     },
     "metadata": {},
     "output_type": "display_data"
    }
   ],
   "source": [
    "map_plot_df = country_medal_count_df[country_medal_count_df['country_iso'].notnull()]\n",
    "map_plot_df = map_plot_df[map_plot_df['continent'].notnull()]\n",
    "\n",
    "fig = px.scatter_geo(\n",
    "    map_plot_df,\n",
    "    locationmode=\"ISO-3\",\n",
    "    locations=\"country_iso\",\n",
    "    hover_name=\"region\",\n",
    "    size=\"Medal count\",\n",
    "    animation_frame=\"Year\",\n",
    "    color=\"continent\",\n",
    "    projection='natural earth'\n",
    ")\n",
    "\n",
    "fig.update_layout(\n",
    "    title_text = 'Olympics over the years',\n",
    "    showlegend = True,\n",
    ")\n",
    "\n",
    "fig.show()"
   ]
  },
  {
   "cell_type": "code",
   "execution_count": 100,
   "metadata": {},
   "outputs": [],
   "source": [
    "import plotly.graph_objects as go\n",
    "\n",
    "colors = {\n",
    "    \"Europe\": \"royalblue\",\n",
    "    \"Americas\": \"crimson\",\n",
    "    \"Oceania\": \"lightseagreen\",\n",
    "    \"Asia\": \"orange\",\n",
    "    \"Africa\": \"lightgrey\"\n",
    "}\n",
    "\n",
    "sliders_dict = {\n",
    "    \"active\": 0,\n",
    "    \"yanchor\": \"top\",\n",
    "    \"xanchor\": \"left\",\n",
    "    \"currentvalue\": {\n",
    "        \"font\": {\"size\": 20},\n",
    "        \"prefix\": \"Year:\",\n",
    "        \"visible\": True,\n",
    "        \"xanchor\": \"right\"\n",
    "    },\n",
    "    \"transition\": {\"duration\": 300, \"easing\": \"cubic-in-out\"},\n",
    "    \"pad\": {\"b\": 10, \"t\": 50},\n",
    "    \"len\": 0.9,\n",
    "    \"x\": 0.1,\n",
    "    \"y\": 0,\n",
    "    \"steps\": []\n",
    "}\n",
    "\n",
    "fig_dict = {\n",
    "    \"data\": [],\n",
    "    \"layout\": {},\n",
    "    \"frames\": []\n",
    "}\n",
    "\n",
    "map_plot_df = country_medal_count_df[country_medal_count_df['country_iso'].notnull()]\n",
    "map_plot_df = map_plot_df[map_plot_df['continent'].notnull()]"
   ]
  },
  {
   "cell_type": "code",
   "execution_count": 101,
   "metadata": {},
   "outputs": [],
   "source": [
    "# Get start data\n",
    "year = map_plot_df['Year'].unique()[0]\n",
    "for continent in map_plot_df['continent'].unique():\n",
    "    dataset_by_year = map_plot_df[map_plot_df[\"Year\"] == year]\n",
    "    dataset_by_year_and_cont = dataset_by_year[dataset_by_year[\"continent\"] == continent]\n",
    "    \n",
    "#     if dataset_by_year_and_cont.empty:\n",
    "#         continue\n",
    "    \n",
    "    data_dict = go.Scattergeo(\n",
    "                    locationmode=\"ISO-3\",\n",
    "                    locations=dataset_by_year_and_cont[\"country_iso\"],\n",
    "                    text=dataset_by_year_and_cont[\"region\"],\n",
    "                    marker=dict(\n",
    "                        size=dataset_by_year_and_cont[\"Medal count\"],\n",
    "                        sizemode='area'\n",
    "                    ),\n",
    "                    name=continent\n",
    "                )\n",
    "    \n",
    "    fig_dict['data'].append(data_dict)"
   ]
  },
  {
   "cell_type": "code",
   "execution_count": 102,
   "metadata": {},
   "outputs": [],
   "source": [
    "\n",
    "def click_callback(trace, points, selector):\n",
    "    c = list(trace.marker.color)\n",
    "    s = list(trace.marker.size)\n",
    "    for i in points.point_inds:\n",
    "        c[i] = '#bae2be'\n",
    "        s[i] = 20\n",
    "        with f.batch_update():\n",
    "            scatter.marker.color = c\n",
    "            scatter.marker.size = s\n",
    "\n",
    "\n",
    "# Get frames\n",
    "for year in map_plot_df['Year'].unique():\n",
    "    year_df = map_plot_df[map_plot_df['Year'] == year]\n",
    "    \n",
    "    frame = {\"data\": [], \"name\": str(year)}\n",
    "    \n",
    "    for continent in map_plot_df['continent'].unique():\n",
    "        continent_df = year_df[year_df['continent'] == continent]\n",
    "        \n",
    "        if continent_df.empty:\n",
    "            continue\n",
    "        \n",
    "        data_dict = go.Scattergeo(\n",
    "            locationmode=\"ISO-3\",\n",
    "            locations=continent_df[\"country_iso\"],\n",
    "            text=continent_df[\"region\"],\n",
    "            marker=dict(\n",
    "                size=continent_df[\"Medal count\"],\n",
    "                sizemode='area',\n",
    "                color=colors[continent]\n",
    "            ),\n",
    "            name=continent\n",
    "        )\n",
    "        \n",
    "        data_dict.on_click(click_callback)\n",
    "        \n",
    "        frame[\"data\"].append(data_dict)\n",
    "    \n",
    "    fig_dict['frames'].append(frame)\n",
    "    \n",
    "    slider_step = {\n",
    "        \"args\": [\n",
    "            [year],\n",
    "            { \n",
    "                \"frame\": {\"duration\": 300, \"redraw\": False},\n",
    "                \"mode\": \"immediate\",\n",
    "                \"transition\": { \"duration\": 300 }\n",
    "            }\n",
    "        ],\n",
    "        \"label\": str(year),\n",
    "        \"method\": \"animate\"\n",
    "    }\n",
    "    \n",
    "    sliders_dict[\"steps\"].append(slider_step)"
   ]
  },
  {
   "cell_type": "code",
   "execution_count": 103,
   "metadata": {},
   "outputs": [
    {
     "data": {
      "application/vnd.plotly.v1+json": {
       "config": {
        "plotlyServerURL": "https://plot.ly"
       },
       "data": [
        {
         "locationmode": "ISO-3",
         "locations": [
          "DEU",
          "GRC",
          "AUT",
          "GBR",
          "CHE",
          "HUN",
          "DNK",
          "FRA"
         ],
         "marker": {
          "size": [
           32,
           48,
           5,
           9,
           3,
           6,
           6,
           11
          ],
          "sizemode": "area"
         },
         "name": "Europe",
         "text": [
          "Germany",
          "Greece",
          "Austria",
          "UK",
          "Switzerland",
          "Hungary",
          "Denmark",
          "France"
         ],
         "type": "scattergeo"
        },
        {
         "locationmode": "ISO-3",
         "locations": [
          "USA"
         ],
         "marker": {
          "size": [
           20
          ],
          "sizemode": "area"
         },
         "name": "Americas",
         "text": [
          "USA"
         ],
         "type": "scattergeo"
        },
        {
         "locationmode": "ISO-3",
         "locations": [
          "AUS"
         ],
         "marker": {
          "size": [
           3
          ],
          "sizemode": "area"
         },
         "name": "Oceania",
         "text": [
          "Australia"
         ],
         "type": "scattergeo"
        },
        {
         "locationmode": "ISO-3",
         "locations": [],
         "marker": {
          "size": [],
          "sizemode": "area"
         },
         "name": "Asia",
         "text": [],
         "type": "scattergeo"
        },
        {
         "locationmode": "ISO-3",
         "locations": [],
         "marker": {
          "size": [],
          "sizemode": "area"
         },
         "name": "Africa",
         "text": [],
         "type": "scattergeo"
        }
       ],
       "frames": [
        {
         "data": [
          {
           "locationmode": "ISO-3",
           "locations": [
            "DEU",
            "GRC",
            "AUT",
            "GBR",
            "CHE",
            "HUN",
            "DNK",
            "FRA"
           ],
           "marker": {
            "color": "royalblue",
            "size": [
             32,
             48,
             5,
             9,
             3,
             6,
             6,
             11
            ],
            "sizemode": "area"
           },
           "name": "Europe",
           "text": [
            "Germany",
            "Greece",
            "Austria",
            "UK",
            "Switzerland",
            "Hungary",
            "Denmark",
            "France"
           ],
           "type": "scattergeo"
          },
          {
           "locationmode": "ISO-3",
           "locations": [
            "USA"
           ],
           "marker": {
            "color": "crimson",
            "size": [
             20
            ],
            "sizemode": "area"
           },
           "name": "Americas",
           "text": [
            "USA"
           ],
           "type": "scattergeo"
          },
          {
           "locationmode": "ISO-3",
           "locations": [
            "AUS"
           ],
           "marker": {
            "color": "lightseagreen",
            "size": [
             3
            ],
            "sizemode": "area"
           },
           "name": "Oceania",
           "text": [
            "Australia"
           ],
           "type": "scattergeo"
          }
         ],
         "name": "1896"
        },
        {
         "data": [
          {
           "locationmode": "ISO-3",
           "locations": [
            "HUN",
            "AUT",
            "CHE",
            "ESP",
            "GBR",
            "SWE",
            "NOR",
            "DNK",
            "LUX",
            "ITA",
            "BEL",
            "FRA",
            "NLD",
            "DEU"
           ],
           "marker": {
            "color": "royalblue",
            "size": [
             5,
             6,
             21,
             2,
             108,
             4,
             9,
             9,
             1,
             5,
             43,
             235,
             27,
             45
            ],
            "sizemode": "area"
           },
           "name": "Europe",
           "text": [
            "Hungary",
            "Austria",
            "Switzerland",
            "Spain",
            "UK",
            "Sweden",
            "Norway",
            "Denmark",
            "Luxembourg",
            "Italy",
            "Belgium",
            "France",
            "Netherlands",
            "Germany"
           ],
           "type": "scattergeo"
          },
          {
           "locationmode": "ISO-3",
           "locations": [
            "HTI",
            "MEX",
            "USA",
            "COL",
            "CAN",
            "CUB"
           ],
           "marker": {
            "color": "crimson",
            "size": [
             1,
             3,
             63,
             1,
             2,
             2
            ],
            "sizemode": "area"
           },
           "name": "Americas",
           "text": [
            "Haiti",
            "Mexico",
            "USA",
            "Colombia",
            "Canada",
            "Cuba"
           ],
           "type": "scattergeo"
          },
          {
           "locationmode": "ISO-3",
           "locations": [
            "NZL",
            "AUS"
           ],
           "marker": {
            "color": "lightseagreen",
            "size": [
             1,
             6
            ],
            "sizemode": "area"
           },
           "name": "Oceania",
           "text": [
            "New Zealand",
            "Australia"
           ],
           "type": "scattergeo"
          },
          {
           "locationmode": "ISO-3",
           "locations": [
            "IND"
           ],
           "marker": {
            "color": "orange",
            "size": [
             2
            ],
            "sizemode": "area"
           },
           "name": "Asia",
           "text": [
            "India"
           ],
           "type": "scattergeo"
          }
         ],
         "name": "1900"
        },
        {
         "data": [
          {
           "locationmode": "ISO-3",
           "locations": [
            "FRA",
            "DEU",
            "AUT",
            "GRC",
            "NOR",
            "CHE",
            "HUN",
            "GBR"
           ],
           "marker": {
            "color": "royalblue",
            "size": [
             2,
             16,
             4,
             2,
             2,
             3,
             4,
             2
            ],
            "sizemode": "area"
           },
           "name": "Europe",
           "text": [
            "France",
            "Germany",
            "Austria",
            "Greece",
            "Norway",
            "Switzerland",
            "Hungary",
            "UK"
           ],
           "type": "scattergeo"
          },
          {
           "locationmode": "ISO-3",
           "locations": [
            "CAN",
            "CUB",
            "USA"
           ],
           "marker": {
            "color": "crimson",
            "size": [
             48,
             5,
             394
            ],
            "sizemode": "area"
           },
           "name": "Americas",
           "text": [
            "Canada",
            "Cuba",
            "USA"
           ],
           "type": "scattergeo"
          },
          {
           "locationmode": "ISO-3",
           "locations": [
            "AUS"
           ],
           "marker": {
            "color": "lightseagreen",
            "size": [
             4
            ],
            "sizemode": "area"
           },
           "name": "Oceania",
           "text": [
            "Australia"
           ],
           "type": "scattergeo"
          }
         ],
         "name": "1904"
        },
        {
         "data": [
          {
           "locationmode": "ISO-3",
           "locations": [
            "AUT",
            "GRC",
            "HUN",
            "BEL",
            "GBR",
            "ITA",
            "DEU",
            "FRA",
            "DNK",
            "FIN",
            "NOR",
            "NLD",
            "SWE",
            "CHE"
           ],
           "marker": {
            "color": "royalblue",
            "size": [
             9,
             102,
             13,
             11,
             39,
             56,
             30,
             64,
             34,
             4,
             25,
             6,
             21,
             12
            ],
            "sizemode": "area"
           },
           "name": "Europe",
           "text": [
            "Austria",
            "Greece",
            "Hungary",
            "Belgium",
            "UK",
            "Italy",
            "Germany",
            "France",
            "Denmark",
            "Finland",
            "Norway",
            "Netherlands",
            "Sweden",
            "Switzerland"
           ],
           "type": "scattergeo"
          },
          {
           "locationmode": "ISO-3",
           "locations": [
            "USA",
            "CAN"
           ],
           "marker": {
            "color": "crimson",
            "size": [
             24,
             2
            ],
            "sizemode": "area"
           },
           "name": "Americas",
           "text": [
            "USA",
            "Canada"
           ],
           "type": "scattergeo"
          },
          {
           "locationmode": "ISO-3",
           "locations": [
            "AUS"
           ],
           "marker": {
            "color": "lightseagreen",
            "size": [
             3
            ],
            "sizemode": "area"
           },
           "name": "Oceania",
           "text": [
            "Australia"
           ],
           "type": "scattergeo"
          }
         ],
         "name": "1906"
        },
        {
         "data": [
          {
           "locationmode": "ISO-3",
           "locations": [
            "GRC",
            "BEL",
            "HUN",
            "NOR",
            "NLD",
            "ITA",
            "AUT",
            "GBR",
            "RUS",
            "FRA",
            "SWE",
            "FIN",
            "DEU",
            "DNK"
           ],
           "marker": {
            "color": "royalblue",
            "size": [
             4,
             33,
             20,
             42,
             16,
             8,
             1,
             368,
             3,
             40,
             84,
             30,
             21,
             17
            ],
            "sizemode": "area"
           },
           "name": "Europe",
           "text": [
            "Greece",
            "Belgium",
            "Hungary",
            "Norway",
            "Netherlands",
            "Italy",
            "Austria",
            "UK",
            "Russia",
            "France",
            "Sweden",
            "Finland",
            "Germany",
            "Denmark"
           ],
           "type": "scattergeo"
          },
          {
           "locationmode": "ISO-3",
           "locations": [
            "USA",
            "CAN"
           ],
           "marker": {
            "color": "crimson",
            "size": [
             65,
             52
            ],
            "sizemode": "area"
           },
           "name": "Americas",
           "text": [
            "USA",
            "Canada"
           ],
           "type": "scattergeo"
          },
          {
           "locationmode": "ISO-3",
           "locations": [
            "AUS"
           ],
           "marker": {
            "color": "lightseagreen",
            "size": [
             19
            ],
            "sizemode": "area"
           },
           "name": "Oceania",
           "text": [
            "Australia"
           ],
           "type": "scattergeo"
          },
          {
           "locationmode": "ISO-3",
           "locations": [
            "ZAF"
           ],
           "marker": {
            "color": "lightgrey",
            "size": [
             2
            ],
            "sizemode": "area"
           },
           "name": "Africa",
           "text": [
            "South Africa"
           ],
           "type": "scattergeo"
          }
         ],
         "name": "1908"
        },
        {
         "data": [
          {
           "locationmode": "ISO-3",
           "locations": [
            "GBR",
            "CHE",
            "ITA",
            "FRA",
            "BEL",
            "FIN",
            "DEU",
            "GRC",
            "DNK",
            "HUN",
            "AUT",
            "NLD",
            "NOR",
            "SWE",
            "RUS"
           ],
           "marker": {
            "color": "royalblue",
            "size": [
             170,
             2,
             25,
             26,
             19,
             71,
             53,
             2,
             87,
             30,
             14,
             26,
             80,
             190,
             14
            ],
            "sizemode": "area"
           },
           "name": "Europe",
           "text": [
            "UK",
            "Switzerland",
            "Italy",
            "France",
            "Belgium",
            "Finland",
            "Germany",
            "Greece",
            "Denmark",
            "Hungary",
            "Austria",
            "Netherlands",
            "Norway",
            "Sweden",
            "Russia"
           ],
           "type": "scattergeo"
          },
          {
           "locationmode": "ISO-3",
           "locations": [
            "CAN",
            "USA"
           ],
           "marker": {
            "color": "crimson",
            "size": [
             8,
             107
            ],
            "sizemode": "area"
           },
           "name": "Americas",
           "text": [
            "Canada",
            "USA"
           ],
           "type": "scattergeo"
          },
          {
           "locationmode": "ISO-3",
           "locations": [
            "AUS"
           ],
           "marker": {
            "color": "lightseagreen",
            "size": [
             10
            ],
            "sizemode": "area"
           },
           "name": "Oceania",
           "text": [
            "Australia"
           ],
           "type": "scattergeo"
          },
          {
           "locationmode": "ISO-3",
           "locations": [
            "ZAF"
           ],
           "marker": {
            "color": "lightgrey",
            "size": [
             7
            ],
            "sizemode": "area"
           },
           "name": "Africa",
           "text": [
            "South Africa"
           ],
           "type": "scattergeo"
          }
         ],
         "name": "1912"
        },
        {
         "data": [
          {
           "locationmode": "ISO-3",
           "locations": [
            "ITA",
            "BEL",
            "NOR",
            "FRA",
            "LUX",
            "GBR",
            "GRC",
            "FIN",
            "NLD",
            "EST",
            "CHE",
            "ESP",
            "SWE",
            "DNK"
           ],
           "marker": {
            "color": "royalblue",
            "size": [
             84,
             188,
             137,
             141,
             1,
             111,
             5,
             52,
             50,
             3,
             29,
             23,
             154,
             71
            ],
            "sizemode": "area"
           },
           "name": "Europe",
           "text": [
            "Italy",
            "Belgium",
            "Norway",
            "France",
            "Luxembourg",
            "UK",
            "Greece",
            "Finland",
            "Netherlands",
            "Estonia",
            "Switzerland",
            "Spain",
            "Sweden",
            "Denmark"
           ],
           "type": "scattergeo"
          },
          {
           "locationmode": "ISO-3",
           "locations": [
            "BRA",
            "USA",
            "CAN"
           ],
           "marker": {
            "color": "crimson",
            "size": [
             7,
             194,
             16
            ],
            "sizemode": "area"
           },
           "name": "Americas",
           "text": [
            "Brazil",
            "USA",
            "Canada"
           ],
           "type": "scattergeo"
          },
          {
           "locationmode": "ISO-3",
           "locations": [
            "AUS",
            "NZL"
           ],
           "marker": {
            "color": "lightseagreen",
            "size": [
             7,
             1
            ],
            "sizemode": "area"
           },
           "name": "Oceania",
           "text": [
            "Australia",
            "New Zealand"
           ],
           "type": "scattergeo"
          },
          {
           "locationmode": "ISO-3",
           "locations": [
            "JPN"
           ],
           "marker": {
            "color": "orange",
            "size": [
             3
            ],
            "sizemode": "area"
           },
           "name": "Asia",
           "text": [
            "Japan"
           ],
           "type": "scattergeo"
          },
          {
           "locationmode": "ISO-3",
           "locations": [
            "ZAF"
           ],
           "marker": {
            "color": "lightgrey",
            "size": [
             21
            ],
            "sizemode": "area"
           },
           "name": "Africa",
           "text": [
            "South Africa"
           ],
           "type": "scattergeo"
          }
         ],
         "name": "1920"
        },
        {
         "data": [
          {
           "locationmode": "ISO-3",
           "locations": [
            "NLD",
            "CHE",
            "POL",
            "GBR",
            "EST",
            "SWE",
            "FRA",
            "LUX",
            "NOR",
            "PRT",
            "ROU",
            "AUT",
            "FIN",
            "MCO",
            "DNK",
            "GRC",
            "ITA",
            "IRL",
            "HUN",
            "SRB",
            "BEL"
           ],
           "marker": {
            "color": "royalblue",
            "size": [
             27,
             69,
             5,
             95,
             6,
             81,
             120,
             2,
             39,
             4,
             16,
             8,
             67,
             1,
             14,
             1,
             51,
             2,
             22,
             2,
             44
            ],
            "sizemode": "area"
           },
           "name": "Europe",
           "text": [
            "Netherlands",
            "Switzerland",
            "Poland",
            "UK",
            "Estonia",
            "Sweden",
            "France",
            "Luxembourg",
            "Norway",
            "Portugal",
            "Romania",
            "Austria",
            "Finland",
            "Monaco",
            "Denmark",
            "Greece",
            "Italy",
            "Ireland",
            "Hungary",
            "Serbia",
            "Belgium"
           ],
           "type": "scattergeo"
          },
          {
           "locationmode": "ISO-3",
           "locations": [
            "USA",
            "ARG",
            "URY",
            "CAN",
            "HTI"
           ],
           "marker": {
            "color": "crimson",
            "size": [
             194,
             10,
             14,
             29,
             5
            ],
            "sizemode": "area"
           },
           "name": "Americas",
           "text": [
            "USA",
            "Argentina",
            "Uruguay",
            "Canada",
            "Haiti"
           ],
           "type": "scattergeo"
          },
          {
           "locationmode": "ISO-3",
           "locations": [
            "AUS",
            "NZL"
           ],
           "marker": {
            "color": "lightseagreen",
            "size": [
             11,
             1
            ],
            "sizemode": "area"
           },
           "name": "Oceania",
           "text": [
            "Australia",
            "New Zealand"
           ],
           "type": "scattergeo"
          },
          {
           "locationmode": "ISO-3",
           "locations": [
            "NPL",
            "JPN",
            "IND"
           ],
           "marker": {
            "color": "orange",
            "size": [
             1,
             1,
             7
            ],
            "sizemode": "area"
           },
           "name": "Asia",
           "text": [
            "Nepal",
            "Japan",
            "India"
           ],
           "type": "scattergeo"
          },
          {
           "locationmode": "ISO-3",
           "locations": [
            "ZAF"
           ],
           "marker": {
            "color": "lightgrey",
            "size": [
             3
            ],
            "sizemode": "area"
           },
           "name": "Africa",
           "text": [
            "South Africa"
           ],
           "type": "scattergeo"
          }
         ],
         "name": "1924"
        },
        {
         "data": [
          {
           "locationmode": "ISO-3",
           "locations": [
            "POL",
            "HUN",
            "NOR",
            "FRA",
            "ESP",
            "PRT",
            "LUX",
            "BEL",
            "EST",
            "SWE",
            "FIN",
            "GBR",
            "ITA",
            "SRB",
            "NLD",
            "DEU",
            "IRL",
            "CHE",
            "AUT",
            "DNK"
           ],
           "marker": {
            "color": "royalblue",
            "size": [
             20,
             21,
             24,
             52,
             3,
             6,
             1,
             6,
             9,
             53,
             29,
             59,
             72,
             12,
             57,
             82,
             1,
             42,
             11,
             15
            ],
            "sizemode": "area"
           },
           "name": "Europe",
           "text": [
            "Poland",
            "Hungary",
            "Norway",
            "France",
            "Spain",
            "Portugal",
            "Luxembourg",
            "Belgium",
            "Estonia",
            "Sweden",
            "Finland",
            "UK",
            "Italy",
            "Serbia",
            "Netherlands",
            "Germany",
            "Ireland",
            "Switzerland",
            "Austria",
            "Denmark"
           ],
           "type": "scattergeo"
          },
          {
           "locationmode": "ISO-3",
           "locations": [
            "CHL",
            "CAN",
            "ARG",
            "HTI",
            "URY",
            "USA"
           ],
           "marker": {
            "color": "crimson",
            "size": [
             1,
             45,
             26,
             1,
             17,
             102
            ],
            "sizemode": "area"
           },
           "name": "Americas",
           "text": [
            "Chile",
            "Canada",
            "Argentina",
            "Haiti",
            "Uruguay",
            "USA"
           ],
           "type": "scattergeo"
          },
          {
           "locationmode": "ISO-3",
           "locations": [
            "NZL",
            "AUS"
           ],
           "marker": {
            "color": "lightseagreen",
            "size": [
             1,
             4
            ],
            "sizemode": "area"
           },
           "name": "Oceania",
           "text": [
            "New Zealand",
            "Australia"
           ],
           "type": "scattergeo"
          },
          {
           "locationmode": "ISO-3",
           "locations": [
            "IND",
            "JPN",
            "PHL"
           ],
           "marker": {
            "color": "orange",
            "size": [
             14,
             9,
             1
            ],
            "sizemode": "area"
           },
           "name": "Asia",
           "text": [
            "India",
            "Japan",
            "Philippines"
           ],
           "type": "scattergeo"
          },
          {
           "locationmode": "ISO-3",
           "locations": [
            "EGY",
            "ZAF"
           ],
           "marker": {
            "color": "lightgrey",
            "size": [
             4,
             6
            ],
            "sizemode": "area"
           },
           "name": "Africa",
           "text": [
            "Egypt",
            "South Africa"
           ],
           "type": "scattergeo"
          }
         ],
         "name": "1928"
        },
        {
         "data": [
          {
           "locationmode": "ISO-3",
           "locations": [
            "SWE",
            "NLD",
            "HUN",
            "DNK",
            "ESP",
            "IRL",
            "CHE",
            "ITA",
            "AUT",
            "GBR",
            "POL",
            "FIN",
            "NOR",
            "DEU",
            "BEL",
            "FRA",
            "LVA"
           ],
           "marker": {
            "color": "royalblue",
            "size": [
             35,
             13,
             35,
             11,
             1,
             2,
             3,
             77,
             7,
             35,
             21,
             32,
             10,
             57,
             1,
             42,
             1
            ],
            "sizemode": "area"
           },
           "name": "Europe",
           "text": [
            "Sweden",
            "Netherlands",
            "Hungary",
            "Denmark",
            "Spain",
            "Ireland",
            "Switzerland",
            "Italy",
            "Austria",
            "UK",
            "Poland",
            "Finland",
            "Norway",
            "Germany",
            "Belgium",
            "France",
            "Latvia"
           ],
           "type": "scattergeo"
          },
          {
           "locationmode": "ISO-3",
           "locations": [
            "CAN",
            "ARG",
            "USA",
            "URY",
            "MEX"
           ],
           "marker": {
            "color": "crimson",
            "size": [
             59,
             4,
             223,
             1,
             2
            ],
            "sizemode": "area"
           },
           "name": "Americas",
           "text": [
            "Canada",
            "Argentina",
            "USA",
            "Uruguay",
            "Mexico"
           ],
           "type": "scattergeo"
          },
          {
           "locationmode": "ISO-3",
           "locations": [
            "NZL",
            "AUS"
           ],
           "marker": {
            "color": "lightseagreen",
            "size": [
             2,
             5
            ],
            "sizemode": "area"
           },
           "name": "Oceania",
           "text": [
            "New Zealand",
            "Australia"
           ],
           "type": "scattergeo"
          },
          {
           "locationmode": "ISO-3",
           "locations": [
            "IND",
            "JPN",
            "PHL"
           ],
           "marker": {
            "color": "orange",
            "size": [
             15,
             31,
             3
            ],
            "sizemode": "area"
           },
           "name": "Asia",
           "text": [
            "India",
            "Japan",
            "Philippines"
           ],
           "type": "scattergeo"
          },
          {
           "locationmode": "ISO-3",
           "locations": [
            "ZAF"
           ],
           "marker": {
            "color": "lightgrey",
            "size": [
             5
            ],
            "sizemode": "area"
           },
           "name": "Africa",
           "text": [
            "South Africa"
           ],
           "type": "scattergeo"
          }
         ],
         "name": "1932"
        },
        {
         "data": [
          {
           "locationmode": "ISO-3",
           "locations": [
            "LVA",
            "NOR",
            "GBR",
            "DEU",
            "NLD",
            "SRB",
            "DNK",
            "EST",
            "SWE",
            "AUT",
            "FIN",
            "ROU",
            "HUN",
            "ITA",
            "POL",
            "PRT",
            "BEL",
            "FRA",
            "CHE"
           ],
           "marker": {
            "color": "royalblue",
            "size": [
             2,
             46,
             53,
             231,
             37,
             1,
             6,
             7,
             45,
             60,
             36,
             1,
             43,
             76,
             12,
             3,
             14,
             45,
             62
            ],
            "sizemode": "area"
           },
           "name": "Europe",
           "text": [
            "Latvia",
            "Norway",
            "UK",
            "Germany",
            "Netherlands",
            "Serbia",
            "Denmark",
            "Estonia",
            "Sweden",
            "Austria",
            "Finland",
            "Romania",
            "Hungary",
            "Italy",
            "Poland",
            "Portugal",
            "Belgium",
            "France",
            "Switzerland"
           ],
           "type": "scattergeo"
          },
          {
           "locationmode": "ISO-3",
           "locations": [
            "ARG",
            "USA",
            "MEX",
            "CAN"
           ],
           "marker": {
            "color": "crimson",
            "size": [
             11,
             112,
             16,
             35
            ],
            "sizemode": "area"
           },
           "name": "Americas",
           "text": [
            "Argentina",
            "USA",
            "Mexico",
            "Canada"
           ],
           "type": "scattergeo"
          },
          {
           "locationmode": "ISO-3",
           "locations": [
            "NZL",
            "AUS"
           ],
           "marker": {
            "color": "lightseagreen",
            "size": [
             1,
             1
            ],
            "sizemode": "area"
           },
           "name": "Oceania",
           "text": [
            "New Zealand",
            "Australia"
           ],
           "type": "scattergeo"
          },
          {
           "locationmode": "ISO-3",
           "locations": [
            "IND",
            "TUR",
            "PHL",
            "JPN"
           ],
           "marker": {
            "color": "orange",
            "size": [
             19,
             2,
             1,
             23
            ],
            "sizemode": "area"
           },
           "name": "Asia",
           "text": [
            "India",
            "Turkey",
            "Philippines",
            "Japan"
           ],
           "type": "scattergeo"
          },
          {
           "locationmode": "ISO-3",
           "locations": [
            "EGY",
            "ZAF"
           ],
           "marker": {
            "color": "lightgrey",
            "size": [
             5,
             1
            ],
            "sizemode": "area"
           },
           "name": "Africa",
           "text": [
            "Egypt",
            "South Africa"
           ],
           "type": "scattergeo"
          }
         ],
         "name": "1936"
        },
        {
         "data": [
          {
           "locationmode": "ISO-3",
           "locations": [
            "NLD",
            "ITA",
            "NOR",
            "DNK",
            "IRL",
            "FRA",
            "ESP",
            "PRT",
            "SWE",
            "HUN",
            "CHE",
            "GBR",
            "FIN",
            "POL",
            "SRB",
            "AUT",
            "BEL"
           ],
           "marker": {
            "color": "royalblue",
            "size": [
             42,
             68,
             31,
             51,
             1,
             77,
             3,
             5,
             88,
             64,
             64,
             63,
             42,
             2,
             16,
             16,
             21
            ],
            "sizemode": "area"
           },
           "name": "Europe",
           "text": [
            "Netherlands",
            "Italy",
            "Norway",
            "Denmark",
            "Ireland",
            "France",
            "Spain",
            "Portugal",
            "Sweden",
            "Hungary",
            "Switzerland",
            "UK",
            "Finland",
            "Poland",
            "Serbia",
            "Austria",
            "Belgium"
           ],
           "type": "scattergeo"
          },
          {
           "locationmode": "ISO-3",
           "locations": [
            "PER",
            "JAM",
            "PAN",
            "TTO",
            "CUB",
            "URY",
            "MEX",
            "PRI",
            "USA",
            "ARG",
            "BRA",
            "CAN"
           ],
           "marker": {
            "color": "crimson",
            "size": [
             1,
             3,
             2,
             1,
             2,
             3,
             9,
             1,
             168,
             11,
             10,
             22
            ],
            "sizemode": "area"
           },
           "name": "Americas",
           "text": [
            "Peru",
            "Jamaica",
            "Panama",
            "Trinidad",
            "Cuba",
            "Uruguay",
            "Mexico",
            "Puerto Rico",
            "USA",
            "Argentina",
            "Brazil",
            "Canada"
           ],
           "type": "scattergeo"
          },
          {
           "locationmode": "ISO-3",
           "locations": [
            "AUS"
           ],
           "marker": {
            "color": "lightseagreen",
            "size": [
             16
            ],
            "sizemode": "area"
           },
           "name": "Oceania",
           "text": [
            "Australia"
           ],
           "type": "scattergeo"
          },
          {
           "locationmode": "ISO-3",
           "locations": [
            "IND",
            "KOR",
            "TUR",
            "LKA"
           ],
           "marker": {
            "color": "orange",
            "size": [
             20,
             2,
             12,
             1
            ],
            "sizemode": "area"
           },
           "name": "Asia",
           "text": [
            "India",
            "South Korea",
            "Turkey",
            "Sri Lanka"
           ],
           "type": "scattergeo"
          },
          {
           "locationmode": "ISO-3",
           "locations": [
            "EGY",
            "ZAF"
           ],
           "marker": {
            "color": "lightgrey",
            "size": [
             5,
             6
            ],
            "sizemode": "area"
           },
           "name": "Africa",
           "text": [
            "Egypt",
            "South Africa"
           ],
           "type": "scattergeo"
          }
         ],
         "name": "1948"
        },
        {
         "data": [
          {
           "locationmode": "ISO-3",
           "locations": [
            "SWE",
            "FIN",
            "PRT",
            "DNK",
            "ROU",
            "SRB",
            "POL",
            "CHE",
            "AUT",
            "BGR",
            "HUN",
            "NLD",
            "BEL",
            "NOR",
            "IRL",
            "DEU",
            "LUX",
            "ITA",
            "FRA",
            "ESP",
            "GBR"
           ],
           "marker": {
            "color": "royalblue",
            "size": [
             93,
             52,
             2,
             9,
             4,
             24,
             4,
             39,
             11,
             1,
             104,
             21,
             8,
             32,
             1,
             52,
             1,
             56,
             41,
             1,
             32
            ],
            "sizemode": "area"
           },
           "name": "Europe",
           "text": [
            "Sweden",
            "Finland",
            "Portugal",
            "Denmark",
            "Romania",
            "Serbia",
            "Poland",
            "Switzerland",
            "Austria",
            "Bulgaria",
            "Hungary",
            "Netherlands",
            "Belgium",
            "Norway",
            "Ireland",
            "Germany",
            "Luxembourg",
            "Italy",
            "France",
            "Spain",
            "UK"
           ],
           "type": "scattergeo"
          },
          {
           "locationmode": "ISO-3",
           "locations": [
            "CAN",
            "TTO",
            "VEN",
            "CHL",
            "MEX",
            "JAM",
            "BRA",
            "ARG",
            "URY",
            "USA"
           ],
           "marker": {
            "color": "crimson",
            "size": [
             21,
             2,
             1,
             4,
             1,
             8,
             3,
             6,
             14,
             164
            ],
            "sizemode": "area"
           },
           "name": "Americas",
           "text": [
            "Canada",
            "Trinidad",
            "Venezuela",
            "Chile",
            "Mexico",
            "Jamaica",
            "Brazil",
            "Argentina",
            "Uruguay",
            "USA"
           ],
           "type": "scattergeo"
          },
          {
           "locationmode": "ISO-3",
           "locations": [
            "AUS",
            "NZL"
           ],
           "marker": {
            "color": "lightseagreen",
            "size": [
             20,
             3
            ],
            "sizemode": "area"
           },
           "name": "Oceania",
           "text": [
            "Australia",
            "New Zealand"
           ],
           "type": "scattergeo"
          },
          {
           "locationmode": "ISO-3",
           "locations": [
            "JPN",
            "KOR",
            "IND",
            "TUR",
            "LBN"
           ],
           "marker": {
            "color": "orange",
            "size": [
             12,
             2,
             15,
             3,
             2
            ],
            "sizemode": "area"
           },
           "name": "Asia",
           "text": [
            "Japan",
            "South Korea",
            "India",
            "Turkey",
            "Lebanon"
           ],
           "type": "scattergeo"
          },
          {
           "locationmode": "ISO-3",
           "locations": [
            "ZAF",
            "EGY"
           ],
           "marker": {
            "color": "lightgrey",
            "size": [
             14,
             1
            ],
            "sizemode": "area"
           },
           "name": "Africa",
           "text": [
            "South Africa",
            "Egypt"
           ],
           "type": "scattergeo"
          }
         ],
         "name": "1952"
        },
        {
         "data": [
          {
           "locationmode": "ISO-3",
           "locations": [
            "DEU",
            "CHE",
            "SWE",
            "NOR",
            "IRL",
            "ISL",
            "HUN",
            "BEL",
            "AUT",
            "FRA",
            "BGR",
            "GBR",
            "FIN",
            "ROU",
            "SRB",
            "POL",
            "DNK",
            "ITA",
            "GRC"
           ],
           "marker": {
            "color": "royalblue",
            "size": [
             54,
             13,
             49,
             7,
             5,
             1,
             66,
             2,
             16,
             33,
             18,
             46,
             38,
             19,
             23,
             20,
             6,
             55,
             1
            ],
            "sizemode": "area"
           },
           "name": "Europe",
           "text": [
            "Germany",
            "Switzerland",
            "Sweden",
            "Norway",
            "Ireland",
            "Iceland",
            "Hungary",
            "Belgium",
            "Austria",
            "France",
            "Bulgaria",
            "UK",
            "Finland",
            "Romania",
            "Serbia",
            "Poland",
            "Denmark",
            "Italy",
            "Greece"
           ],
           "type": "scattergeo"
          },
          {
           "locationmode": "ISO-3",
           "locations": [
            "CAN",
            "BRA",
            "ARG",
            "URY",
            "USA",
            "BHS",
            "MEX",
            "CHL"
           ],
           "marker": {
            "color": "crimson",
            "size": [
             39,
             1,
             2,
             12,
             149,
             2,
             2,
             4
            ],
            "sizemode": "area"
           },
           "name": "Americas",
           "text": [
            "Canada",
            "Brazil",
            "Argentina",
            "Uruguay",
            "USA",
            "Bahamas",
            "Mexico",
            "Chile"
           ],
           "type": "scattergeo"
          },
          {
           "locationmode": "ISO-3",
           "locations": [
            "AUS",
            "NZL"
           ],
           "marker": {
            "color": "lightseagreen",
            "size": [
             67,
             3
            ],
            "sizemode": "area"
           },
           "name": "Oceania",
           "text": [
            "Australia",
            "New Zealand"
           ],
           "type": "scattergeo"
          },
          {
           "locationmode": "ISO-3",
           "locations": [
            "KOR",
            "TUR",
            "JPN",
            "PAK",
            "IND"
           ],
           "marker": {
            "color": "orange",
            "size": [
             2,
             7,
             25,
             14,
             17
            ],
            "sizemode": "area"
           },
           "name": "Asia",
           "text": [
            "South Korea",
            "Turkey",
            "Japan",
            "Pakistan",
            "India"
           ],
           "type": "scattergeo"
          },
          {
           "locationmode": "ISO-3",
           "locations": [
            "ZAF"
           ],
           "marker": {
            "color": "lightgrey",
            "size": [
             7
            ],
            "sizemode": "area"
           },
           "name": "Africa",
           "text": [
            "South Africa"
           ],
           "type": "scattergeo"
          }
         ],
         "name": "1956"
        },
        {
         "data": [
          {
           "locationmode": "ISO-3",
           "locations": [
            "FIN",
            "AUT",
            "SRB",
            "ROU",
            "FRA",
            "CHE",
            "BGR",
            "POL",
            "ITA",
            "GBR",
            "DEU",
            "PRT",
            "GRC",
            "NOR",
            "DNK",
            "NLD",
            "BEL",
            "HUN",
            "SWE",
            "ESP"
           ],
           "marker": {
            "color": "royalblue",
            "size": [
             19,
             9,
             17,
             15,
             15,
             14,
             7,
             32,
             89,
             28,
             98,
             2,
             3,
             11,
             23,
             5,
             4,
             66,
             16,
             14
            ],
            "sizemode": "area"
           },
           "name": "Europe",
           "text": [
            "Finland",
            "Austria",
            "Serbia",
            "Romania",
            "France",
            "Switzerland",
            "Bulgaria",
            "Poland",
            "Italy",
            "UK",
            "Germany",
            "Portugal",
            "Greece",
            "Norway",
            "Denmark",
            "Netherlands",
            "Belgium",
            "Hungary",
            "Sweden",
            "Spain"
           ],
           "type": "scattergeo"
          },
          {
           "locationmode": "ISO-3",
           "locations": [
            "CAN",
            "BRA",
            "MEX",
            "USA",
            "ARG",
            "VEN"
           ],
           "marker": {
            "color": "crimson",
            "size": [
             30,
             13,
             1,
             152,
             4,
             1
            ],
            "sizemode": "area"
           },
           "name": "Americas",
           "text": [
            "Canada",
            "Brazil",
            "Mexico",
            "USA",
            "Argentina",
            "Venezuela"
           ],
           "type": "scattergeo"
          },
          {
           "locationmode": "ISO-3",
           "locations": [
            "NZL",
            "AUS"
           ],
           "marker": {
            "color": "lightseagreen",
            "size": [
             3,
             46
            ],
            "sizemode": "area"
           },
           "name": "Oceania",
           "text": [
            "New Zealand",
            "Australia"
           ],
           "type": "scattergeo"
          },
          {
           "locationmode": "ISO-3",
           "locations": [
            "TUR",
            "JPN",
            "IRQ",
            "IND",
            "PAK"
           ],
           "marker": {
            "color": "orange",
            "size": [
             9,
             31,
             1,
             13,
             14
            ],
            "sizemode": "area"
           },
           "name": "Asia",
           "text": [
            "Turkey",
            "Japan",
            "Iraq",
            "India",
            "Pakistan"
           ],
           "type": "scattergeo"
          },
          {
           "locationmode": "ISO-3",
           "locations": [
            "ETH",
            "GHA",
            "MAR",
            "ZAF"
           ],
           "marker": {
            "color": "lightgrey",
            "size": [
             1,
             1,
             1,
             3
            ],
            "sizemode": "area"
           },
           "name": "Africa",
           "text": [
            "Ethiopia",
            "Ghana",
            "Morocco",
            "South Africa"
           ],
           "type": "scattergeo"
          }
         ],
         "name": "1960"
        },
        {
         "data": [
          {
           "locationmode": "ISO-3",
           "locations": [
            "POL",
            "DEU",
            "HUN",
            "SWE",
            "IRL",
            "BGR",
            "NOR",
            "BEL",
            "GBR",
            "CHE",
            "AUT",
            "SRB",
            "FIN",
            "FRA",
            "DNK",
            "NLD",
            "ITA",
            "ROU"
           ],
           "marker": {
            "color": "royalblue",
            "size": [
             46,
             126,
             56,
             43,
             1,
             10,
             15,
             3,
             30,
             6,
             17,
             15,
             20,
             38,
             12,
             33,
             61,
             16
            ],
            "sizemode": "area"
           },
           "name": "Europe",
           "text": [
            "Poland",
            "Germany",
            "Hungary",
            "Sweden",
            "Ireland",
            "Bulgaria",
            "Norway",
            "Belgium",
            "UK",
            "Switzerland",
            "Austria",
            "Serbia",
            "Finland",
            "France",
            "Denmark",
            "Netherlands",
            "Italy",
            "Romania"
           ],
           "type": "scattergeo"
          },
          {
           "locationmode": "ISO-3",
           "locations": [
            "USA",
            "MEX",
            "TTO",
            "ARG",
            "BHS",
            "URY",
            "CUB",
            "BRA",
            "CAN"
           ],
           "marker": {
            "color": "crimson",
            "size": [
             177,
             1,
             6,
             1,
             2,
             1,
             1,
             12,
             12
            ],
            "sizemode": "area"
           },
           "name": "Americas",
           "text": [
            "USA",
            "Mexico",
            "Trinidad",
            "Argentina",
            "Bahamas",
            "Uruguay",
            "Cuba",
            "Brazil",
            "Canada"
           ],
           "type": "scattergeo"
          },
          {
           "locationmode": "ISO-3",
           "locations": [
            "AUS",
            "NZL"
           ],
           "marker": {
            "color": "lightseagreen",
            "size": [
             44,
             6
            ],
            "sizemode": "area"
           },
           "name": "Oceania",
           "text": [
            "Australia",
            "New Zealand"
           ],
           "type": "scattergeo"
          },
          {
           "locationmode": "ISO-3",
           "locations": [
            "PHL",
            "TUR",
            "PRK",
            "PAK",
            "JPN",
            "KOR",
            "IND"
           ],
           "marker": {
            "color": "orange",
            "size": [
             1,
             6,
             1,
             16,
             62,
             3,
             15
            ],
            "sizemode": "area"
           },
           "name": "Asia",
           "text": [
            "Philippines",
            "Turkey",
            "North Korea",
            "Pakistan",
            "Japan",
            "South Korea",
            "India"
           ],
           "type": "scattergeo"
          },
          {
           "locationmode": "ISO-3",
           "locations": [
            "TUN",
            "ETH",
            "NGA",
            "KEN",
            "GHA"
           ],
           "marker": {
            "color": "lightgrey",
            "size": [
             2,
             1,
             1,
             1,
             1
            ],
            "sizemode": "area"
           },
           "name": "Africa",
           "text": [
            "Tunisia",
            "Ethiopia",
            "Nigeria",
            "Kenya",
            "Ghana"
           ],
           "type": "scattergeo"
          }
         ],
         "name": "1964"
        },
        {
         "data": [
          {
           "locationmode": "ISO-3",
           "locations": [
            "ITA",
            "ROU",
            "GBR",
            "GRC",
            "CHE",
            "DEU",
            "DEU",
            "BEL",
            "HUN",
            "SRB",
            "POL",
            "FIN",
            "DNK",
            "SWE",
            "BGR",
            "FRA",
            "AUT",
            "NOR",
            "NLD"
           ],
           "marker": {
            "color": "royalblue",
            "size": [
             41,
             25,
             19,
             1,
             22,
             58,
             61,
             3,
             81,
             29,
             37,
             12,
             17,
             25,
             26,
             36,
             20,
             28,
             23
            ],
            "sizemode": "area"
           },
           "name": "Europe",
           "text": [
            "Italy",
            "Romania",
            "UK",
            "Greece",
            "Switzerland",
            "Germany",
            "Germany",
            "Belgium",
            "Hungary",
            "Serbia",
            "Poland",
            "Finland",
            "Denmark",
            "Sweden",
            "Bulgaria",
            "France",
            "Austria",
            "Norway",
            "Netherlands"
           ],
           "type": "scattergeo"
          },
          {
           "locationmode": "ISO-3",
           "locations": [
            "VEN",
            "BRA",
            "USA",
            "MEX",
            "JAM",
            "ARG",
            "CUB",
            "CAN"
           ],
           "marker": {
            "color": "crimson",
            "size": [
             1,
             4,
             173,
             9,
             1,
             2,
             10,
             30
            ],
            "sizemode": "area"
           },
           "name": "Americas",
           "text": [
            "Venezuela",
            "Brazil",
            "USA",
            "Mexico",
            "Jamaica",
            "Argentina",
            "Cuba",
            "Canada"
           ],
           "type": "scattergeo"
          },
          {
           "locationmode": "ISO-3",
           "locations": [
            "NZL",
            "AUS"
           ],
           "marker": {
            "color": "lightseagreen",
            "size": [
             7,
             51
            ],
            "sizemode": "area"
           },
           "name": "Oceania",
           "text": [
            "New Zealand",
            "Australia"
           ],
           "type": "scattergeo"
          },
          {
           "locationmode": "ISO-3",
           "locations": [
            "PAK",
            "IND",
            "TUR",
            "MNG",
            "JPN",
            "KOR"
           ],
           "marker": {
            "color": "orange",
            "size": [
             13,
             16,
             2,
             4,
             63,
             2
            ],
            "sizemode": "area"
           },
           "name": "Asia",
           "text": [
            "Pakistan",
            "India",
            "Turkey",
            "Mongolia",
            "Japan",
            "South Korea"
           ],
           "type": "scattergeo"
          },
          {
           "locationmode": "ISO-3",
           "locations": [
            "TUN",
            "KEN",
            "UGA",
            "CMR",
            "ETH"
           ],
           "marker": {
            "color": "lightgrey",
            "size": [
             2,
             12,
             2,
             1,
             2
            ],
            "sizemode": "area"
           },
           "name": "Africa",
           "text": [
            "Tunisia",
            "Kenya",
            "Uganda",
            "Cameroon",
            "Ethiopia"
           ],
           "type": "scattergeo"
          }
         ],
         "name": "1968"
        },
        {
         "data": [
          {
           "locationmode": "ISO-3",
           "locations": [
            "ESP",
            "SWE",
            "SRB",
            "NLD",
            "BEL",
            "GRC",
            "DNK",
            "CHE",
            "NOR",
            "FIN",
            "POL",
            "HUN",
            "BGR",
            "ITA",
            "ROU",
            "FRA",
            "AUT",
            "GBR",
            "DEU",
            "DEU"
           ],
           "marker": {
            "color": "royalblue",
            "size": [
             2,
             26,
             18,
             15,
             2,
             2,
             1,
             25,
             25,
             20,
             47,
             81,
             22,
             34,
             40,
             25,
             8,
             29,
             112,
             171
            ],
            "sizemode": "area"
           },
           "name": "Europe",
           "text": [
            "Spain",
            "Sweden",
            "Serbia",
            "Netherlands",
            "Belgium",
            "Greece",
            "Denmark",
            "Switzerland",
            "Norway",
            "Finland",
            "Poland",
            "Hungary",
            "Bulgaria",
            "Italy",
            "Romania",
            "France",
            "Austria",
            "UK",
            "Germany",
            "Germany"
           ],
           "type": "scattergeo"
          },
          {
           "locationmode": "ISO-3",
           "locations": [
            "USA",
            "CAN",
            "COL",
            "CUB",
            "ARG",
            "MEX",
            "BRA",
            "JAM"
           ],
           "marker": {
            "color": "crimson",
            "size": [
             195,
             12,
             3,
             22,
             1,
             1,
             2,
             1
            ],
            "sizemode": "area"
           },
           "name": "Americas",
           "text": [
            "USA",
            "Canada",
            "Colombia",
            "Cuba",
            "Argentina",
            "Mexico",
            "Brazil",
            "Jamaica"
           ],
           "type": "scattergeo"
          },
          {
           "locationmode": "ISO-3",
           "locations": [
            "NZL",
            "AUS"
           ],
           "marker": {
            "color": "lightseagreen",
            "size": [
             14,
             20
            ],
            "sizemode": "area"
           },
           "name": "Oceania",
           "text": [
            "New Zealand",
            "Australia"
           ],
           "type": "scattergeo"
          },
          {
           "locationmode": "ISO-3",
           "locations": [
            "TUR",
            "PAK",
            "PRK",
            "IND",
            "MNG",
            "LBN",
            "JPN",
            "KOR"
           ],
           "marker": {
            "color": "orange",
            "size": [
             1,
             15,
             15,
             14,
             1,
             1,
             59,
             1
            ],
            "sizemode": "area"
           },
           "name": "Asia",
           "text": [
            "Turkey",
            "Pakistan",
            "North Korea",
            "India",
            "Mongolia",
            "Lebanon",
            "Japan",
            "South Korea"
           ],
           "type": "scattergeo"
          },
          {
           "locationmode": "ISO-3",
           "locations": [
            "NGA",
            "GHA",
            "NER",
            "TUN",
            "UGA",
            "ETH",
            "KEN"
           ],
           "marker": {
            "color": "lightgrey",
            "size": [
             1,
             1,
             1,
             1,
             2,
             2,
             12
            ],
            "sizemode": "area"
           },
           "name": "Africa",
           "text": [
            "Nigeria",
            "Ghana",
            "Niger",
            "Tunisia",
            "Uganda",
            "Ethiopia",
            "Kenya"
           ],
           "type": "scattergeo"
          }
         ],
         "name": "1972"
        },
        {
         "data": [
          {
           "locationmode": "ISO-3",
           "locations": [
            "BGR",
            "NLD",
            "BEL",
            "NOR",
            "ROU",
            "DEU",
            "FRA",
            "AUT",
            "DNK",
            "HUN",
            "GBR",
            "SWE",
            "LIE",
            "FIN",
            "DEU",
            "CHE",
            "ESP",
            "PRT",
            "POL",
            "ITA",
            "SRB"
           ],
           "marker": {
            "color": "royalblue",
            "size": [
             39,
             20,
             9,
             16,
             55,
             110,
             21,
             8,
             8,
             55,
             33,
             12,
             2,
             22,
             227,
             19,
             6,
             2,
             73,
             35,
             19
            ],
            "sizemode": "area"
           },
           "name": "Europe",
           "text": [
            "Bulgaria",
            "Netherlands",
            "Belgium",
            "Norway",
            "Romania",
            "Germany",
            "France",
            "Austria",
            "Denmark",
            "Hungary",
            "UK",
            "Sweden",
            "Liechtenstein",
            "Finland",
            "Germany",
            "Switzerland",
            "Spain",
            "Portugal",
            "Poland",
            "Italy",
            "Serbia"
           ],
           "type": "scattergeo"
          },
          {
           "locationmode": "ISO-3",
           "locations": [
            "BRA",
            "MEX",
            "JAM",
            "TTO",
            "PRI",
            "CUB",
            "VEN",
            "USA",
            "CAN",
            "BMU"
           ],
           "marker": {
            "color": "crimson",
            "size": [
             3,
             2,
             2,
             1,
             1,
             24,
             1,
             175,
             26,
             1
            ],
            "sizemode": "area"
           },
           "name": "Americas",
           "text": [
            "Brazil",
            "Mexico",
            "Jamaica",
            "Trinidad",
            "Puerto Rico",
            "Cuba",
            "Venezuela",
            "USA",
            "Canada",
            "Bermuda"
           ],
           "type": "scattergeo"
          },
          {
           "locationmode": "ISO-3",
           "locations": [
            "AUS",
            "NZL"
           ],
           "marker": {
            "color": "lightseagreen",
            "size": [
             23,
             25
            ],
            "sizemode": "area"
           },
           "name": "Oceania",
           "text": [
            "Australia",
            "New Zealand"
           ],
           "type": "scattergeo"
          },
          {
           "locationmode": "ISO-3",
           "locations": [
            "PRK",
            "MNG",
            "PAK",
            "THA",
            "JPN",
            "KOR"
           ],
           "marker": {
            "color": "orange",
            "size": [
             2,
             1,
             16,
             1,
             41,
             17
            ],
            "sizemode": "area"
           },
           "name": "Asia",
           "text": [
            "North Korea",
            "Mongolia",
            "Pakistan",
            "Thailand",
            "Japan",
            "South Korea"
           ],
           "type": "scattergeo"
          }
         ],
         "name": "1976"
        },
        {
         "data": [
          {
           "locationmode": "ISO-3",
           "locations": [
            "IRL",
            "SWE",
            "NLD",
            "HUN",
            "LIE",
            "CHE",
            "AUT",
            "ITA",
            "SRB",
            "NOR",
            "GRC",
            "DEU",
            "FRA",
            "BGR",
            "DNK",
            "POL",
            "ROU",
            "GBR",
            "ESP",
            "BEL",
            "DEU",
            "FIN"
           ],
           "marker": {
            "color": "royalblue",
            "size": [
             3,
             43,
             10,
             63,
             4,
             11,
             13,
             40,
             57,
             15,
             5,
             8,
             30,
             91,
             8,
             50,
             68,
             48,
             24,
             1,
             303,
             21
            ],
            "sizemode": "area"
           },
           "name": "Europe",
           "text": [
            "Ireland",
            "Sweden",
            "Netherlands",
            "Hungary",
            "Liechtenstein",
            "Switzerland",
            "Austria",
            "Italy",
            "Serbia",
            "Norway",
            "Greece",
            "Germany",
            "France",
            "Bulgaria",
            "Denmark",
            "Poland",
            "Romania",
            "UK",
            "Spain",
            "Belgium",
            "Germany",
            "Finland"
           ],
           "type": "scattergeo"
          },
          {
           "locationmode": "ISO-3",
           "locations": [
            "JAM",
            "MEX",
            "CAN",
            "CUB",
            "GUY",
            "BRA",
            "USA",
            "VEN"
           ],
           "marker": {
            "color": "crimson",
            "size": [
             3,
             10,
             2,
             20,
             1,
             9,
             30,
             1
            ],
            "sizemode": "area"
           },
           "name": "Americas",
           "text": [
            "Jamaica",
            "Mexico",
            "Canada",
            "Cuba",
            "Guyana",
            "Brazil",
            "USA",
            "Venezuela"
           ],
           "type": "scattergeo"
          },
          {
           "locationmode": "ISO-3",
           "locations": [
            "AUS"
           ],
           "marker": {
            "color": "lightseagreen",
            "size": [
             13
            ],
            "sizemode": "area"
           },
           "name": "Oceania",
           "text": [
            "Australia"
           ],
           "type": "scattergeo"
          },
          {
           "locationmode": "ISO-3",
           "locations": [
            "LBN",
            "MNG",
            "JPN",
            "IND",
            "PRK"
           ],
           "marker": {
            "color": "orange",
            "size": [
             1,
             4,
             1,
             16,
             5
            ],
            "sizemode": "area"
           },
           "name": "Asia",
           "text": [
            "Lebanon",
            "Mongolia",
            "Japan",
            "India",
            "North Korea"
           ],
           "type": "scattergeo"
          },
          {
           "locationmode": "ISO-3",
           "locations": [
            "ZWE",
            "ETH",
            "UGA"
           ],
           "marker": {
            "color": "lightgrey",
            "size": [
             15,
             4,
             1
            ],
            "sizemode": "area"
           },
           "name": "Africa",
           "text": [
            "Zimbabwe",
            "Ethiopia",
            "Uganda"
           ],
           "type": "scattergeo"
          }
         ],
         "name": "1980"
        },
        {
         "data": [
          {
           "locationmode": "ISO-3",
           "locations": [
            "DEU",
            "SRB",
            "ESP",
            "IRL",
            "AUT",
            "DEU",
            "ROU",
            "ISL",
            "PRT",
            "GBR",
            "ITA",
            "DNK",
            "LIE",
            "BEL",
            "NOR",
            "GRC",
            "FIN",
            "NLD",
            "CHE",
            "FRA",
            "SWE"
           ],
           "marker": {
            "color": "royalblue",
            "size": [
             166,
             88,
             19,
             1,
             4,
             33,
             106,
             1,
             3,
             73,
             65,
             13,
             2,
             5,
             19,
             2,
             31,
             41,
             21,
             70,
             64
            ],
            "sizemode": "area"
           },
           "name": "Europe",
           "text": [
            "Germany",
            "Serbia",
            "Spain",
            "Ireland",
            "Austria",
            "Germany",
            "Romania",
            "Iceland",
            "Portugal",
            "UK",
            "Italy",
            "Denmark",
            "Liechtenstein",
            "Belgium",
            "Norway",
            "Greece",
            "Finland",
            "Netherlands",
            "Switzerland",
            "France",
            "Sweden"
           ],
           "type": "scattergeo"
          },
          {
           "locationmode": "ISO-3",
           "locations": [
            "JAM",
            "USA",
            "MEX",
            "BRA",
            "DOM",
            "COL",
            "CAN",
            "PER",
            "PRI",
            "VEN"
           ],
           "marker": {
            "color": "crimson",
            "size": [
             7,
             361,
             6,
             36,
             1,
             1,
             91,
             1,
             2,
             3
            ],
            "sizemode": "area"
           },
           "name": "Americas",
           "text": [
            "Jamaica",
            "USA",
            "Mexico",
            "Brazil",
            "Dominican Republic",
            "Colombia",
            "Canada",
            "Peru",
            "Puerto Rico",
            "Venezuela"
           ],
           "type": "scattergeo"
          },
          {
           "locationmode": "ISO-3",
           "locations": [
            "NZL",
            "AUS"
           ],
           "marker": {
            "color": "lightseagreen",
            "size": [
             23,
             52
            ],
            "sizemode": "area"
           },
           "name": "Oceania",
           "text": [
            "New Zealand",
            "Australia"
           ],
           "type": "scattergeo"
          },
          {
           "locationmode": "ISO-3",
           "locations": [
            "CHN",
            "TUR",
            "THA",
            "JPN",
            "KOR",
            "PAK",
            "SYR"
           ],
           "marker": {
            "color": "orange",
            "size": [
             74,
             3,
             1,
             50,
             41,
             16,
             1
            ],
            "sizemode": "area"
           },
           "name": "Asia",
           "text": [
            "China",
            "Turkey",
            "Thailand",
            "Japan",
            "South Korea",
            "Pakistan",
            "Syria"
           ],
           "type": "scattergeo"
          },
          {
           "locationmode": "ISO-3",
           "locations": [
            "EGY",
            "MAR",
            "DZA",
            "ZMB",
            "KEN",
            "CMR",
            "NGA",
            "CIV"
           ],
           "marker": {
            "color": "lightgrey",
            "size": [
             1,
             2,
             2,
             1,
             3,
             1,
             5,
             1
            ],
            "sizemode": "area"
           },
           "name": "Africa",
           "text": [
            "Egypt",
            "Morocco",
            "Algeria",
            "Zambia",
            "Kenya",
            "Cameroon",
            "Nigeria",
            "Ivory Coast"
           ],
           "type": "scattergeo"
          }
         ],
         "name": "1984"
        },
        {
         "data": [
          {
           "locationmode": "ISO-3",
           "locations": [
            "GBR",
            "ITA",
            "ESP",
            "NOR",
            "POL",
            "DEU",
            "BGR",
            "FRA",
            "SWE",
            "FIN",
            "HUN",
            "CHE",
            "BEL",
            "LIE",
            "GRC",
            "PRT",
            "SRB",
            "DNK",
            "AUT",
            "DEU",
            "ROU",
            "NLD"
           ],
           "marker": {
            "color": "royalblue",
            "size": [
             54,
             37,
             5,
             33,
             21,
             129,
             41,
             31,
             46,
             38,
             44,
             28,
             2,
             1,
             1,
             1,
             69,
             7,
             13,
             213,
             58,
             52
            ],
            "sizemode": "area"
           },
           "name": "Europe",
           "text": [
            "UK",
            "Italy",
            "Spain",
            "Norway",
            "Poland",
            "Germany",
            "Bulgaria",
            "France",
            "Sweden",
            "Finland",
            "Hungary",
            "Switzerland",
            "Belgium",
            "Liechtenstein",
            "Greece",
            "Portugal",
            "Serbia",
            "Denmark",
            "Austria",
            "Germany",
            "Romania",
            "Netherlands"
           ],
           "type": "scattergeo"
          },
          {
           "locationmode": "ISO-3",
           "locations": [
            "USA",
            "CRI",
            "JAM",
            "BRA",
            "CAN",
            "COL",
            "MEX",
            "ARG",
            "PER",
            "CHL",
            "SUR"
           ],
           "marker": {
            "color": "crimson",
            "size": [
             214,
             1,
             7,
             23,
             29,
             1,
             2,
             13,
             12,
             1,
             1
            ],
            "sizemode": "area"
           },
           "name": "Americas",
           "text": [
            "USA",
            "Costa Rica",
            "Jamaica",
            "Brazil",
            "Canada",
            "Colombia",
            "Mexico",
            "Argentina",
            "Peru",
            "Chile",
            "Suriname"
           ],
           "type": "scattergeo"
          },
          {
           "locationmode": "ISO-3",
           "locations": [
            "AUS",
            "NZL"
           ],
           "marker": {
            "color": "lightseagreen",
            "size": [
             35,
             24
            ],
            "sizemode": "area"
           },
           "name": "Oceania",
           "text": [
            "Australia",
            "New Zealand"
           ],
           "type": "scattergeo"
          },
          {
           "locationmode": "ISO-3",
           "locations": [
            "JPN",
            "KOR",
            "TUR",
            "CHN",
            "MNG",
            "PAK",
            "THA",
            "PHL",
            "IDN"
           ],
           "marker": {
            "color": "orange",
            "size": [
             21,
             77,
             2,
             52,
             1,
             1,
             1,
             1,
             3
            ],
            "sizemode": "area"
           },
           "name": "Asia",
           "text": [
            "Japan",
            "South Korea",
            "Turkey",
            "China",
            "Mongolia",
            "Pakistan",
            "Thailand",
            "Philippines",
            "Indonesia"
           ],
           "type": "scattergeo"
          },
          {
           "locationmode": "ISO-3",
           "locations": [
            "KEN",
            "SEN",
            "DJI",
            "MAR"
           ],
           "marker": {
            "color": "lightgrey",
            "size": [
             9,
             1,
             1,
             3
            ],
            "sizemode": "area"
           },
           "name": "Africa",
           "text": [
            "Kenya",
            "Senegal",
            "Djibouti",
            "Morocco"
           ],
           "type": "scattergeo"
          }
         ],
         "name": "1988"
        },
        {
         "data": [
          {
           "locationmode": "ISO-3",
           "locations": [
            "POL",
            "HRV",
            "NOR",
            "NLD",
            "LTU",
            "LUX",
            "CHE",
            "ESP",
            "DNK",
            "SVN",
            "LVA",
            "EST",
            "SWE",
            "IRL",
            "DEU",
            "GRC",
            "GBR",
            "FRA",
            "BGR",
            "BEL",
            "AUT",
            "FIN",
            "ITA",
            "HUN",
            "ROU"
           ],
           "marker": {
            "color": "royalblue",
            "size": [
             46,
             15,
             47,
             37,
             13,
             2,
             8,
             70,
             14,
             6,
             3,
             3,
             42,
             2,
             236,
             2,
             50,
             69,
             17,
             3,
             35,
             20,
             66,
             45,
             53
            ],
            "sizemode": "area"
           },
           "name": "Europe",
           "text": [
            "Poland",
            "Croatia",
            "Norway",
            "Netherlands",
            "Lithuania",
            "Luxembourg",
            "Switzerland",
            "Spain",
            "Denmark",
            "Slovenia",
            "Latvia",
            "Estonia",
            "Sweden",
            "Ireland",
            "Germany",
            "Greece",
            "UK",
            "France",
            "Bulgaria",
            "Belgium",
            "Austria",
            "Finland",
            "Italy",
            "Hungary",
            "Romania"
           ],
           "type": "scattergeo"
          },
          {
           "locationmode": "ISO-3",
           "locations": [
            "COL",
            "SUR",
            "CAN",
            "ARG",
            "PRI",
            "MEX",
            "CUB",
            "USA",
            "BHS",
            "PER",
            "JAM",
            "BRA"
           ],
           "marker": {
            "color": "crimson",
            "size": [
             1,
             1,
             80,
             2,
             1,
             1,
             69,
             238,
             1,
             1,
             4,
             14
            ],
            "sizemode": "area"
           },
           "name": "Americas",
           "text": [
            "Colombia",
            "Suriname",
            "Canada",
            "Argentina",
            "Puerto Rico",
            "Mexico",
            "Cuba",
            "USA",
            "Bahamas",
            "Peru",
            "Jamaica",
            "Brazil"
           ],
           "type": "scattergeo"
          },
          {
           "locationmode": "ISO-3",
           "locations": [
            "AUS",
            "NZL"
           ],
           "marker": {
            "color": "lightseagreen",
            "size": [
             57,
             16
            ],
            "sizemode": "area"
           },
           "name": "Oceania",
           "text": [
            "Australia",
            "New Zealand"
           ],
           "type": "scattergeo"
          },
          {
           "locationmode": "ISO-3",
           "locations": [
            "PRK",
            "QAT",
            "MYS",
            "CHN",
            "KOR",
            "MNG",
            "PAK",
            "ISR",
            "PHL",
            "JPN",
            "IDN",
            "TUR",
            "THA"
           ],
           "marker": {
            "color": "orange",
            "size": [
             11,
             1,
             2,
             85,
             56,
             2,
             16,
             2,
             1,
             59,
             6,
             6,
             1
            ],
            "sizemode": "area"
           },
           "name": "Asia",
           "text": [
            "North Korea",
            "Qatar",
            "Malaysia",
            "China",
            "South Korea",
            "Mongolia",
            "Pakistan",
            "Israel",
            "Philippines",
            "Japan",
            "Indonesia",
            "Turkey",
            "Thailand"
           ],
           "type": "scattergeo"
          },
          {
           "locationmode": "ISO-3",
           "locations": [
            "NGA",
            "DZA",
            "KEN",
            "ETH",
            "MAR",
            "NAM",
            "ZAF",
            "GHA"
           ],
           "marker": {
            "color": "lightgrey",
            "size": [
             11,
             2,
             8,
             3,
             3,
             2,
             3,
             20
            ],
            "sizemode": "area"
           },
           "name": "Africa",
           "text": [
            "Nigeria",
            "Algeria",
            "Kenya",
            "Ethiopia",
            "Morocco",
            "Namibia",
            "South Africa",
            "Ghana"
           ],
           "type": "scattergeo"
          }
         ],
         "name": "1992"
        },
        {
         "data": [
          {
           "locationmode": "ISO-3",
           "locations": [
            "FRA",
            "SWE",
            "ITA",
            "AUT",
            "BLR",
            "NLD",
            "CHE",
            "RUS",
            "SVN",
            "GBR",
            "NOR",
            "FIN",
            "UKR",
            "DEU"
           ],
           "marker": {
            "color": "royalblue",
            "size": [
             11,
             24,
             32,
             12,
             2,
             4,
             16,
             36,
             3,
             3,
             30,
             30,
             2,
             40
            ],
            "sizemode": "area"
           },
           "name": "Europe",
           "text": [
            "France",
            "Sweden",
            "Italy",
            "Austria",
            "Belarus",
            "Netherlands",
            "Switzerland",
            "Russia",
            "Slovenia",
            "UK",
            "Norway",
            "Finland",
            "Ukraine",
            "Germany"
           ],
           "type": "scattergeo"
          },
          {
           "locationmode": "ISO-3",
           "locations": [
            "CAN",
            "USA"
           ],
           "marker": {
            "color": "crimson",
            "size": [
             37,
             19
            ],
            "sizemode": "area"
           },
           "name": "Americas",
           "text": [
            "Canada",
            "USA"
           ],
           "type": "scattergeo"
          },
          {
           "locationmode": "ISO-3",
           "locations": [
            "AUS"
           ],
           "marker": {
            "color": "lightseagreen",
            "size": [
             4
            ],
            "sizemode": "area"
           },
           "name": "Oceania",
           "text": [
            "Australia"
           ],
           "type": "scattergeo"
          },
          {
           "locationmode": "ISO-3",
           "locations": [
            "KOR",
            "KAZ",
            "UZB",
            "CHN",
            "JPN"
           ],
           "marker": {
            "color": "orange",
            "size": [
             9,
             3,
             1,
             3,
             10
            ],
            "sizemode": "area"
           },
           "name": "Asia",
           "text": [
            "South Korea",
            "Kazakhstan",
            "Uzbekistan",
            "China",
            "Japan"
           ],
           "type": "scattergeo"
          }
         ],
         "name": "1994"
        },
        {
         "data": [
          {
           "locationmode": "ISO-3",
           "locations": [
            "DEU",
            "ROU",
            "MDA",
            "CZE",
            "HUN",
            "NLD",
            "HRV",
            "GRC",
            "SRB",
            "BEL",
            "CHE",
            "BLR",
            "PRT",
            "SVK",
            "ITA",
            "LVA",
            "SVN",
            "FRA",
            "SWE",
            "POL",
            "UKR",
            "FIN",
            "NOR",
            "RUS",
            "BGR",
            "ESP",
            "DNK",
            "IRL",
            "LTU",
            "AUT",
            "GBR"
           ],
           "marker": {
            "color": "royalblue",
            "size": [
             124,
             38,
             3,
             13,
             43,
             73,
             28,
             8,
             26,
             6,
             11,
             23,
             3,
             3,
             71,
             1,
             2,
             51,
             31,
             22,
             34,
             4,
             23,
             115,
             21,
             66,
             23,
             4,
             11,
             3,
             26
            ],
            "sizemode": "area"
           },
           "name": "Europe",
           "text": [
            "Germany",
            "Romania",
            "Moldova",
            "Czech Republic",
            "Hungary",
            "Netherlands",
            "Croatia",
            "Greece",
            "Serbia",
            "Belgium",
            "Switzerland",
            "Belarus",
            "Portugal",
            "Slovakia",
            "Italy",
            "Latvia",
            "Slovenia",
            "France",
            "Sweden",
            "Poland",
            "Ukraine",
            "Finland",
            "Norway",
            "Russia",
            "Bulgaria",
            "Spain",
            "Denmark",
            "Ireland",
            "Lithuania",
            "Austria",
            "UK"
           ],
           "type": "scattergeo"
          },
          {
           "locationmode": "ISO-3",
           "locations": [
            "ARG",
            "PRI",
            "MEX",
            "BHS",
            "TTO",
            "CUB",
            "BRA",
            "JAM",
            "USA",
            "CAN",
            "CRI",
            "ECU"
           ],
           "marker": {
            "color": "crimson",
            "size": [
             20,
             1,
             1,
             5,
             2,
             55,
             63,
             16,
             259,
             50,
             1,
             1
            ],
            "sizemode": "area"
           },
           "name": "Americas",
           "text": [
            "Argentina",
            "Puerto Rico",
            "Mexico",
            "Bahamas",
            "Trinidad",
            "Cuba",
            "Brazil",
            "Jamaica",
            "USA",
            "Canada",
            "Costa Rica",
            "Ecuador"
           ],
           "type": "scattergeo"
          },
          {
           "locationmode": "ISO-3",
           "locations": [
            "NZL",
            "AUS",
            "TON"
           ],
           "marker": {
            "color": "lightseagreen",
            "size": [
             9,
             132,
             1
            ],
            "sizemode": "area"
           },
           "name": "Oceania",
           "text": [
            "New Zealand",
            "Australia",
            "Tonga"
           ],
           "type": "scattergeo"
          },
          {
           "locationmode": "ISO-3",
           "locations": [
            "THA",
            "UZB",
            "AZE",
            "CHN",
            "KAZ",
            "PRK",
            "IDN",
            "CHN",
            "IND",
            "ARM",
            "MNG",
            "MYS",
            "KOR",
            "TUR",
            "JPN",
            "SYR",
            "PHL",
            "GEO",
            "ISR"
           ],
           "marker": {
            "color": "orange",
            "size": [
             2,
             2,
             1,
             106,
             11,
             5,
             6,
             1,
             1,
             2,
             1,
             3,
             66,
             6,
             42,
             1,
             1,
             2,
             1
            ],
            "sizemode": "area"
           },
           "name": "Asia",
           "text": [
            "Thailand",
            "Uzbekistan",
            "Azerbaijan",
            "China",
            "Kazakhstan",
            "North Korea",
            "Indonesia",
            "China",
            "India",
            "Armenia",
            "Mongolia",
            "Malaysia",
            "South Korea",
            "Turkey",
            "Japan",
            "Syria",
            "Philippines",
            "Georgia",
            "Israel"
           ],
           "type": "scattergeo"
          },
          {
           "locationmode": "ISO-3",
           "locations": [
            "BDI",
            "NGA",
            "DZA",
            "ZMB",
            "NAM",
            "MOZ",
            "MAR",
            "UGA",
            "ETH",
            "KEN",
            "TUN",
            "ZAF"
           ],
           "marker": {
            "color": "lightgrey",
            "size": [
             1,
             24,
             3,
             1,
             2,
             1,
             2,
             1,
             3,
             8,
             1,
             5
            ],
            "sizemode": "area"
           },
           "name": "Africa",
           "text": [
            "Burundi",
            "Nigeria",
            "Algeria",
            "Zambia",
            "Namibia",
            "Mozambique",
            "Morocco",
            "Uganda",
            "Ethiopia",
            "Kenya",
            "Tunisia",
            "South Africa"
           ],
           "type": "scattergeo"
          }
         ],
         "name": "1996"
        },
        {
         "data": [
          {
           "locationmode": "ISO-3",
           "locations": [
            "BGR",
            "UKR",
            "DNK",
            "AUT",
            "FIN",
            "SWE",
            "BEL",
            "RUS",
            "FRA",
            "CHE",
            "GBR",
            "DEU",
            "ITA",
            "BLR",
            "CZE",
            "NLD",
            "NOR"
           ],
           "marker": {
            "color": "royalblue",
            "size": [
             1,
             1,
             5,
             20,
             58,
             7,
             1,
             52,
             15,
             14,
             4,
             44,
             17,
             2,
             23,
             11,
             40
            ],
            "sizemode": "area"
           },
           "name": "Europe",
           "text": [
            "Bulgaria",
            "Ukraine",
            "Denmark",
            "Austria",
            "Finland",
            "Sweden",
            "Belgium",
            "Russia",
            "France",
            "Switzerland",
            "UK",
            "Germany",
            "Italy",
            "Belarus",
            "Czech Republic",
            "Netherlands",
            "Norway"
           ],
           "type": "scattergeo"
          },
          {
           "locationmode": "ISO-3",
           "locations": [
            "CAN",
            "USA"
           ],
           "marker": {
            "color": "crimson",
            "size": [
             49,
             34
            ],
            "sizemode": "area"
           },
           "name": "Americas",
           "text": [
            "Canada",
            "USA"
           ],
           "type": "scattergeo"
          },
          {
           "locationmode": "ISO-3",
           "locations": [
            "AUS"
           ],
           "marker": {
            "color": "lightseagreen",
            "size": [
             1
            ],
            "sizemode": "area"
           },
           "name": "Oceania",
           "text": [
            "Australia"
           ],
           "type": "scattergeo"
          },
          {
           "locationmode": "ISO-3",
           "locations": [
            "JPN",
            "KAZ",
            "KOR",
            "CHN"
           ],
           "marker": {
            "color": "orange",
            "size": [
             13,
             2,
             12,
             14
            ],
            "sizemode": "area"
           },
           "name": "Asia",
           "text": [
            "Japan",
            "Kazakhstan",
            "South Korea",
            "China"
           ],
           "type": "scattergeo"
          }
         ],
         "name": "1998"
        },
        {
         "data": [
          {
           "locationmode": "ISO-3",
           "locations": [
            "RUS",
            "PRT",
            "SVN",
            "POL",
            "ROU",
            "NOR",
            "CHE",
            "SRB",
            "FRA",
            "DEU",
            "HUN",
            "HRV",
            "BGR",
            "CZE",
            "ITA",
            "ISL",
            "IRL",
            "DNK",
            "ESP",
            "UKR",
            "EST",
            "FIN",
            "NLD",
            "MKD",
            "SVK",
            "AUT",
            "GRC",
            "LTU",
            "BEL",
            "BLR",
            "LVA",
            "MDA",
            "SWE",
            "GBR"
           ],
           "marker": {
            "color": "royalblue",
            "size": [
             187,
             2,
             3,
             24,
             46,
             43,
             14,
             25,
             66,
             118,
             53,
             10,
             13,
             9,
             65,
             1,
             1,
             25,
             42,
             35,
             3,
             5,
             79,
             1,
             6,
             4,
             18,
             17,
             7,
             22,
             3,
             2,
             32,
             54
            ],
            "sizemode": "area"
           },
           "name": "Europe",
           "text": [
            "Russia",
            "Portugal",
            "Slovenia",
            "Poland",
            "Romania",
            "Norway",
            "Switzerland",
            "Serbia",
            "France",
            "Germany",
            "Hungary",
            "Croatia",
            "Bulgaria",
            "Czech Republic",
            "Italy",
            "Iceland",
            "Ireland",
            "Denmark",
            "Spain",
            "Ukraine",
            "Estonia",
            "Finland",
            "Netherlands",
            "Macedonia",
            "Slovakia",
            "Austria",
            "Greece",
            "Lithuania",
            "Belgium",
            "Belarus",
            "Latvia",
            "Moldova",
            "Sweden",
            "UK"
           ],
           "type": "scattergeo"
          },
          {
           "locationmode": "ISO-3",
           "locations": [
            "CAN",
            "CHL",
            "COL",
            "CRI",
            "JAM",
            "CUB",
            "URY",
            "USA",
            "MEX",
            "ARG",
            "TTO",
            "BHS",
            "BRB",
            "BRA"
           ],
           "marker": {
            "color": "crimson",
            "size": [
             31,
             17,
             1,
             2,
             23,
             65,
             1,
             242,
             6,
             20,
             2,
             11,
             1,
             48
            ],
            "sizemode": "area"
           },
           "name": "Americas",
           "text": [
            "Canada",
            "Chile",
            "Colombia",
            "Costa Rica",
            "Jamaica",
            "Cuba",
            "Uruguay",
            "USA",
            "Mexico",
            "Argentina",
            "Trinidad",
            "Bahamas",
            "Barbados",
            "Brazil"
           ],
           "type": "scattergeo"
          },
          {
           "locationmode": "ISO-3",
           "locations": [
            "NZL",
            "AUS"
           ],
           "marker": {
            "color": "lightseagreen",
            "size": [
             4,
             183
            ],
            "sizemode": "area"
           },
           "name": "Oceania",
           "text": [
            "New Zealand",
            "Australia"
           ],
           "type": "scattergeo"
          },
          {
           "locationmode": "ISO-3",
           "locations": [
            "PRK",
            "QAT",
            "LKA",
            "CHN",
            "TUR",
            "KAZ",
            "JPN",
            "ISR",
            "THA",
            "IDN",
            "ARM",
            "GEO",
            "AZE",
            "KGZ",
            "IND",
            "KWT",
            "SAU",
            "UZB",
            "KOR"
           ],
           "marker": {
            "color": "orange",
            "size": [
             4,
             1,
             1,
             79,
             5,
             7,
             44,
             1,
             3,
             8,
             1,
             6,
             3,
             1,
             1,
             1,
             2,
             4,
             73
            ],
            "sizemode": "area"
           },
           "name": "Asia",
           "text": [
            "North Korea",
            "Qatar",
            "Sri Lanka",
            "China",
            "Turkey",
            "Kazakhstan",
            "Japan",
            "Israel",
            "Thailand",
            "Indonesia",
            "Armenia",
            "Georgia",
            "Azerbaijan",
            "Kyrgyzstan",
            "India",
            "Kuwait",
            "Saudi Arabia",
            "Uzbekistan",
            "South Korea"
           ],
           "type": "scattergeo"
          },
          {
           "locationmode": "ISO-3",
           "locations": [
            "ZAF",
            "NGA",
            "KEN",
            "CMR",
            "ETH",
            "DZA",
            "MOZ",
            "MAR"
           ],
           "marker": {
            "color": "lightgrey",
            "size": [
             5,
             8,
             7,
             18,
             8,
             5,
             1,
             5
            ],
            "sizemode": "area"
           },
           "name": "Africa",
           "text": [
            "South Africa",
            "Nigeria",
            "Kenya",
            "Cameroon",
            "Ethiopia",
            "Algeria",
            "Mozambique",
            "Morocco"
           ],
           "type": "scattergeo"
          }
         ],
         "name": "2000"
        },
        {
         "data": [
          {
           "locationmode": "ISO-3",
           "locations": [
            "FIN",
            "GBR",
            "FRA",
            "CHE",
            "EST",
            "CZE",
            "HRV",
            "BGR",
            "BLR",
            "SVN",
            "AUT",
            "RUS",
            "POL",
            "DEU",
            "ITA",
            "SWE",
            "NLD",
            "NOR"
           ],
           "marker": {
            "color": "royalblue",
            "size": [
             13,
             6,
             15,
             24,
             3,
             3,
             4,
             3,
             1,
             4,
             20,
             38,
             2,
             61,
             21,
             26,
             8,
             41
            ],
            "sizemode": "area"
           },
           "name": "Europe",
           "text": [
            "Finland",
            "UK",
            "France",
            "Switzerland",
            "Estonia",
            "Czech Republic",
            "Croatia",
            "Bulgaria",
            "Belarus",
            "Slovenia",
            "Austria",
            "Russia",
            "Poland",
            "Germany",
            "Italy",
            "Sweden",
            "Netherlands",
            "Norway"
           ],
           "type": "scattergeo"
          },
          {
           "locationmode": "ISO-3",
           "locations": [
            "CAN",
            "USA"
           ],
           "marker": {
            "color": "crimson",
            "size": [
             74,
             84
            ],
            "sizemode": "area"
           },
           "name": "Americas",
           "text": [
            "Canada",
            "USA"
           ],
           "type": "scattergeo"
          },
          {
           "locationmode": "ISO-3",
           "locations": [
            "AUS"
           ],
           "marker": {
            "color": "lightseagreen",
            "size": [
             2
            ],
            "sizemode": "area"
           },
           "name": "Oceania",
           "text": [
            "Australia"
           ],
           "type": "scattergeo"
          },
          {
           "locationmode": "ISO-3",
           "locations": [
            "CHN",
            "JPN",
            "KOR"
           ],
           "marker": {
            "color": "orange",
            "size": [
             16,
             2,
             7
            ],
            "sizemode": "area"
           },
           "name": "Asia",
           "text": [
            "China",
            "Japan",
            "South Korea"
           ],
           "type": "scattergeo"
          }
         ],
         "name": "2002"
        },
        {
         "data": [
          {
           "locationmode": "ISO-3",
           "locations": [
            "SWE",
            "BGR",
            "DEU",
            "NOR",
            "BLR",
            "SRB",
            "RUS",
            "NLD",
            "SVK",
            "AUT",
            "HRV",
            "SVN",
            "LTU",
            "BEL",
            "LVA",
            "ROU",
            "FIN",
            "HUN",
            "UKR",
            "GRC",
            "FRA",
            "POL",
            "EST",
            "CHE",
            "ITA",
            "ESP",
            "DNK",
            "PRT",
            "GBR",
            "CZE"
           ],
           "marker": {
            "color": "royalblue",
            "size": [
             12,
             17,
             149,
             7,
             15,
             13,
             189,
             77,
             10,
             8,
             21,
             5,
             3,
             3,
             4,
             39,
             2,
             40,
             47,
             31,
             53,
             12,
             3,
             7,
             104,
             30,
             29,
             3,
             57,
             13
            ],
            "sizemode": "area"
           },
           "name": "Europe",
           "text": [
            "Sweden",
            "Bulgaria",
            "Germany",
            "Norway",
            "Belarus",
            "Serbia",
            "Russia",
            "Netherlands",
            "Slovakia",
            "Austria",
            "Croatia",
            "Slovenia",
            "Lithuania",
            "Belgium",
            "Latvia",
            "Romania",
            "Finland",
            "Hungary",
            "Ukraine",
            "Greece",
            "France",
            "Poland",
            "Estonia",
            "Switzerland",
            "Italy",
            "Spain",
            "Denmark",
            "Portugal",
            "UK",
            "Czech Republic"
           ],
           "type": "scattergeo"
          },
          {
           "locationmode": "ISO-3",
           "locations": [
            "BRA",
            "USA",
            "CAN",
            "CHL",
            "COL",
            "JAM",
            "ARG",
            "MEX",
            "VEN",
            "BHS",
            "CUB",
            "PRY",
            "TTO",
            "DOM"
           ],
           "marker": {
            "color": "crimson",
            "size": [
             40,
             263,
             17,
             4,
             2,
             13,
             49,
             4,
             2,
             2,
             62,
             17,
             1,
             1
            ],
            "sizemode": "area"
           },
           "name": "Americas",
           "text": [
            "Brazil",
            "USA",
            "Canada",
            "Chile",
            "Colombia",
            "Jamaica",
            "Argentina",
            "Mexico",
            "Venezuela",
            "Bahamas",
            "Cuba",
            "Paraguay",
            "Trinidad",
            "Dominican Republic"
           ],
           "type": "scattergeo"
          },
          {
           "locationmode": "ISO-3",
           "locations": [
            "AUS",
            "NZL"
           ],
           "marker": {
            "color": "lightseagreen",
            "size": [
             157,
             6
            ],
            "sizemode": "area"
           },
           "name": "Oceania",
           "text": [
            "Australia",
            "New Zealand"
           ],
           "type": "scattergeo"
          },
          {
           "locationmode": "ISO-3",
           "locations": [
            "SYR",
            "CHN",
            "KAZ",
            "PRK",
            "JPN",
            "KOR",
            "UZB",
            "MNG",
            "AZE",
            "CHN",
            "TUR",
            "ARE",
            "IND",
            "IDN",
            "THA",
            "GEO",
            "ISR"
           ],
           "marker": {
            "color": "orange",
            "size": [
             1,
             94,
             8,
             5,
             93,
             52,
             5,
             1,
             5,
             2,
             11,
             1,
             1,
             5,
             8,
             4,
             2
            ],
            "sizemode": "area"
           },
           "name": "Asia",
           "text": [
            "Syria",
            "China",
            "Kazakhstan",
            "North Korea",
            "Japan",
            "South Korea",
            "Uzbekistan",
            "Mongolia",
            "Azerbaijan",
            "China",
            "Turkey",
            "United Arab Emirates",
            "India",
            "Indonesia",
            "Thailand",
            "Georgia",
            "Israel"
           ],
           "type": "scattergeo"
          },
          {
           "locationmode": "ISO-3",
           "locations": [
            "KEN",
            "CMR",
            "NGA",
            "MAR",
            "ZAF",
            "ETH",
            "ERI",
            "EGY",
            "ZWE"
           ],
           "marker": {
            "color": "lightgrey",
            "size": [
             7,
             1,
             8,
             3,
             10,
             7,
             1,
             5,
             3
            ],
            "sizemode": "area"
           },
           "name": "Africa",
           "text": [
            "Kenya",
            "Cameroon",
            "Nigeria",
            "Morocco",
            "South Africa",
            "Ethiopia",
            "Eritrea",
            "Egypt",
            "Zimbabwe"
           ],
           "type": "scattergeo"
          }
         ],
         "name": "2004"
        },
        {
         "data": [
          {
           "locationmode": "ISO-3",
           "locations": [
            "LVA",
            "CHE",
            "FIN",
            "RUS",
            "AUT",
            "FRA",
            "SVK",
            "GBR",
            "NLD",
            "ITA",
            "DEU",
            "SWE",
            "NOR",
            "POL",
            "UKR",
            "CZE",
            "HRV",
            "EST",
            "BLR",
            "BGR"
           ],
           "marker": {
            "color": "royalblue",
            "size": [
             1,
             21,
             41,
             41,
             30,
             15,
             1,
             1,
             13,
             25,
             54,
             64,
             23,
             2,
             3,
             27,
             3,
             3,
             1,
             1
            ],
            "sizemode": "area"
           },
           "name": "Europe",
           "text": [
            "Latvia",
            "Switzerland",
            "Finland",
            "Russia",
            "Austria",
            "France",
            "Slovakia",
            "UK",
            "Netherlands",
            "Italy",
            "Germany",
            "Sweden",
            "Norway",
            "Poland",
            "Ukraine",
            "Czech Republic",
            "Croatia",
            "Estonia",
            "Belarus",
            "Bulgaria"
           ],
           "type": "scattergeo"
          },
          {
           "locationmode": "ISO-3",
           "locations": [
            "CAN",
            "USA"
           ],
           "marker": {
            "color": "crimson",
            "size": [
             69,
             52
            ],
            "sizemode": "area"
           },
           "name": "Americas",
           "text": [
            "Canada",
            "USA"
           ],
           "type": "scattergeo"
          },
          {
           "locationmode": "ISO-3",
           "locations": [
            "AUS"
           ],
           "marker": {
            "color": "lightseagreen",
            "size": [
             2
            ],
            "sizemode": "area"
           },
           "name": "Oceania",
           "text": [
            "Australia"
           ],
           "type": "scattergeo"
          },
          {
           "locationmode": "ISO-3",
           "locations": [
            "CHN",
            "JPN",
            "KOR"
           ],
           "marker": {
            "color": "orange",
            "size": [
             13,
             1,
             19
            ],
            "sizemode": "area"
           },
           "name": "Asia",
           "text": [
            "China",
            "Japan",
            "South Korea"
           ],
           "type": "scattergeo"
          }
         ],
         "name": "2006"
        },
        {
         "data": [
          {
           "locationmode": "ISO-3",
           "locations": [
            "CHE",
            "UKR",
            "SVN",
            "SVK",
            "SRB",
            "SWE",
            "LVA",
            "DNK",
            "LTU",
            "CZE",
            "MDA",
            "HRV",
            "NLD",
            "GRC",
            "DEU",
            "IRL",
            "ISL",
            "ITA",
            "GBR",
            "FRA",
            "FIN",
            "EST",
            "ESP",
            "BGR",
            "HUN",
            "POL",
            "BLR",
            "PRT",
            "BEL",
            "RUS",
            "AUT",
            "ROU",
            "NOR"
           ],
           "marker": {
            "color": "royalblue",
            "size": [
             11,
             31,
             5,
             10,
             15,
             7,
             3,
             19,
             5,
             7,
             1,
             5,
             61,
             7,
             99,
             3,
             14,
             42,
             81,
             77,
             5,
             3,
             70,
             5,
             27,
             20,
             29,
             2,
             5,
             142,
             3,
             22,
             22
            ],
            "sizemode": "area"
           },
           "name": "Europe",
           "text": [
            "Switzerland",
            "Ukraine",
            "Slovenia",
            "Slovakia",
            "Serbia",
            "Sweden",
            "Latvia",
            "Denmark",
            "Lithuania",
            "Czech Republic",
            "Moldova",
            "Croatia",
            "Netherlands",
            "Greece",
            "Germany",
            "Ireland",
            "Iceland",
            "Italy",
            "UK",
            "France",
            "Finland",
            "Estonia",
            "Spain",
            "Bulgaria",
            "Hungary",
            "Poland",
            "Belarus",
            "Portugal",
            "Belgium",
            "Russia",
            "Austria",
            "Romania",
            "Norway"
           ],
           "type": "scattergeo"
          },
          {
           "locationmode": "ISO-3",
           "locations": [
            "TTO",
            "VEN",
            "USA",
            "DOM",
            "ECU",
            "COL",
            "CHL",
            "MEX",
            "JAM",
            "CAN",
            "CUB",
            "ARG",
            "BHS",
            "PAN",
            "BRA"
           ],
           "marker": {
            "color": "crimson",
            "size": [
             6,
             1,
             317,
             2,
             1,
             2,
             1,
             4,
             14,
             35,
             47,
             51,
             7,
             1,
             78
            ],
            "sizemode": "area"
           },
           "name": "Americas",
           "text": [
            "Trinidad",
            "Venezuela",
            "USA",
            "Dominican Republic",
            "Ecuador",
            "Colombia",
            "Chile",
            "Mexico",
            "Jamaica",
            "Canada",
            "Cuba",
            "Argentina",
            "Bahamas",
            "Panama",
            "Brazil"
           ],
           "type": "scattergeo"
          },
          {
           "locationmode": "ISO-3",
           "locations": [
            "AUS",
            "NZL"
           ],
           "marker": {
            "color": "lightseagreen",
            "size": [
             149,
             15
            ],
            "sizemode": "area"
           },
           "name": "Oceania",
           "text": [
            "Australia",
            "New Zealand"
           ],
           "type": "scattergeo"
          },
          {
           "locationmode": "ISO-3",
           "locations": [
            "UZB",
            "THA",
            "TJK",
            "TUR",
            "AFG",
            "MYS",
            "IDN",
            "MNG",
            "CHN",
            "KOR",
            "KGZ",
            "IND",
            "GEO",
            "ISR",
            "JPN",
            "KAZ",
            "AZE",
            "ARM",
            "PRK"
           ],
           "marker": {
            "color": "orange",
            "size": [
             6,
             4,
             2,
             7,
             1,
             1,
             7,
             4,
             184,
             78,
             2,
             3,
             6,
             1,
             51,
             13,
             7,
             6,
             6
            ],
            "sizemode": "area"
           },
           "name": "Asia",
           "text": [
            "Uzbekistan",
            "Thailand",
            "Tajikistan",
            "Turkey",
            "Afghanistan",
            "Malaysia",
            "Indonesia",
            "Mongolia",
            "China",
            "South Korea",
            "Kyrgyzstan",
            "India",
            "Georgia",
            "Israel",
            "Japan",
            "Kazakhstan",
            "Azerbaijan",
            "Armenia",
            "North Korea"
           ],
           "type": "scattergeo"
          },
          {
           "locationmode": "ISO-3",
           "locations": [
            "TUN",
            "TGO",
            "SDN",
            "ZWE",
            "MAR",
            "CMR",
            "MUS",
            "EGY",
            "ETH",
            "KEN",
            "DZA",
            "ZAF",
            "NGA"
           ],
           "marker": {
            "color": "lightgrey",
            "size": [
             1,
             1,
             1,
             4,
             2,
             1,
             1,
             1,
             7,
             15,
             2,
             1,
             23
            ],
            "sizemode": "area"
           },
           "name": "Africa",
           "text": [
            "Tunisia",
            "Togo",
            "Sudan",
            "Zimbabwe",
            "Morocco",
            "Cameroon",
            "Mauritius",
            "Egypt",
            "Ethiopia",
            "Kenya",
            "Algeria",
            "South Africa",
            "Nigeria"
           ],
           "type": "scattergeo"
          }
         ],
         "name": "2008"
        },
        {
         "data": [
          {
           "locationmode": "ISO-3",
           "locations": [
            "GBR",
            "ITA",
            "SWE",
            "AUT",
            "HRV",
            "CHE",
            "NLD",
            "FRA",
            "FIN",
            "NOR",
            "EST",
            "SVN",
            "DEU",
            "RUS",
            "BLR",
            "SVK",
            "CZE",
            "POL",
            "LVA"
           ],
           "marker": {
            "color": "royalblue",
            "size": [
             1,
             5,
             18,
             26,
             3,
             12,
             11,
             14,
             47,
             39,
             1,
             3,
             54,
             25,
             3,
             3,
             9,
             8,
             3
            ],
            "sizemode": "area"
           },
           "name": "Europe",
           "text": [
            "UK",
            "Italy",
            "Sweden",
            "Austria",
            "Croatia",
            "Switzerland",
            "Netherlands",
            "France",
            "Finland",
            "Norway",
            "Estonia",
            "Slovenia",
            "Germany",
            "Russia",
            "Belarus",
            "Slovakia",
            "Czech Republic",
            "Poland",
            "Latvia"
           ],
           "type": "scattergeo"
          },
          {
           "locationmode": "ISO-3",
           "locations": [
            "CAN",
            "USA"
           ],
           "marker": {
            "color": "crimson",
            "size": [
             90,
             97
            ],
            "sizemode": "area"
           },
           "name": "Americas",
           "text": [
            "Canada",
            "USA"
           ],
           "type": "scattergeo"
          },
          {
           "locationmode": "ISO-3",
           "locations": [
            "AUS"
           ],
           "marker": {
            "color": "lightseagreen",
            "size": [
             3
            ],
            "sizemode": "area"
           },
           "name": "Oceania",
           "text": [
            "Australia"
           ],
           "type": "scattergeo"
          },
          {
           "locationmode": "ISO-3",
           "locations": [
            "KOR",
            "KAZ",
            "JPN",
            "CHN"
           ],
           "marker": {
            "color": "orange",
            "size": [
             18,
             1,
             7,
             19
            ],
            "sizemode": "area"
           },
           "name": "Asia",
           "text": [
            "South Korea",
            "Kazakhstan",
            "Japan",
            "China"
           ],
           "type": "scattergeo"
          }
         ],
         "name": "2010"
        },
        {
         "data": [
          {
           "locationmode": "ISO-3",
           "locations": [
            "DEU",
            "FRA",
            "GBR",
            "GRC",
            "BGR",
            "BLR",
            "HRV",
            "CZE",
            "BEL",
            "DNK",
            "UKR",
            "EST",
            "FIN",
            "ESP",
            "PRT",
            "CHE",
            "SWE",
            "POL",
            "LVA",
            "LTU",
            "HUN",
            "MDA",
            "NOR",
            "SVK",
            "MNE",
            "ITA",
            "NLD",
            "SRB",
            "IRL",
            "SVN",
            "ROU",
            "RUS"
           ],
           "marker": {
            "color": "royalblue",
            "size": [
             94,
             82,
             126,
             3,
             2,
             23,
             35,
             14,
             3,
             16,
             26,
             2,
             5,
             63,
             2,
             4,
             22,
             12,
             3,
             5,
             26,
             2,
             17,
             5,
             14,
             68,
             69,
             16,
             5,
             5,
             16,
             140
            ],
            "sizemode": "area"
           },
           "name": "Europe",
           "text": [
            "Germany",
            "France",
            "UK",
            "Greece",
            "Bulgaria",
            "Belarus",
            "Croatia",
            "Czech Republic",
            "Belgium",
            "Denmark",
            "Ukraine",
            "Estonia",
            "Finland",
            "Spain",
            "Portugal",
            "Switzerland",
            "Sweden",
            "Poland",
            "Latvia",
            "Lithuania",
            "Hungary",
            "Moldova",
            "Norway",
            "Slovakia",
            "Montenegro",
            "Italy",
            "Netherlands",
            "Serbia",
            "Ireland",
            "Slovenia",
            "Romania",
            "Russia"
           ],
           "type": "scattergeo"
          },
          {
           "locationmode": "ISO-3",
           "locations": [
            "GTM",
            "TTO",
            "ARG",
            "CAN",
            "BRA",
            "COL",
            "USA",
            "CUB",
            "DOM",
            "BHS",
            "VEN",
            "GRD",
            "PRI",
            "MEX",
            "JAM"
           ],
           "marker": {
            "color": "crimson",
            "size": [
             1,
             10,
             19,
             55,
             59,
             8,
             248,
             14,
             2,
             4,
             1,
             1,
             2,
             24,
             25
            ],
            "sizemode": "area"
           },
           "name": "Americas",
           "text": [
            "Guatemala",
            "Trinidad",
            "Argentina",
            "Canada",
            "Brazil",
            "Colombia",
            "USA",
            "Cuba",
            "Dominican Republic",
            "Bahamas",
            "Venezuela",
            "Grenada",
            "Puerto Rico",
            "Mexico",
            "Jamaica"
           ],
           "type": "scattergeo"
          },
          {
           "locationmode": "ISO-3",
           "locations": [
            "AUS",
            "NZL"
           ],
           "marker": {
            "color": "lightseagreen",
            "size": [
             114,
             27
            ],
            "sizemode": "area"
           },
           "name": "Oceania",
           "text": [
            "Australia",
            "New Zealand"
           ],
           "type": "scattergeo"
          },
          {
           "locationmode": "ISO-3",
           "locations": [
            "ARM",
            "CHN",
            "AFG",
            "GEO",
            "TUR",
            "BHR",
            "CHN",
            "CYP",
            "UZB",
            "AZE",
            "JPN",
            "PRK",
            "KAZ",
            "KOR",
            "SAU",
            "KWT",
            "MYS",
            "MNG",
            "IND",
            "QAT",
            "THA",
            "TJK",
            "IDN"
           ],
           "marker": {
            "color": "orange",
            "size": [
             3,
             1,
             1,
             7,
             5,
             1,
             125,
             1,
             3,
             10,
             84,
             6,
             13,
             61,
             4,
             1,
             2,
             5,
             6,
             2,
             3,
             1,
             2
            ],
            "sizemode": "area"
           },
           "name": "Asia",
           "text": [
            "Armenia",
            "China",
            "Afghanistan",
            "Georgia",
            "Turkey",
            "Bahrain",
            "China",
            "Cyprus",
            "Uzbekistan",
            "Azerbaijan",
            "Japan",
            "North Korea",
            "Kazakhstan",
            "South Korea",
            "Saudi Arabia",
            "Kuwait",
            "Malaysia",
            "Mongolia",
            "India",
            "Qatar",
            "Thailand",
            "Tajikistan",
            "Indonesia"
           ],
           "type": "scattergeo"
          },
          {
           "locationmode": "ISO-3",
           "locations": [
            "TUN",
            "GAB",
            "DZA",
            "BWA",
            "EGY",
            "UGA",
            "ETH",
            "KEN",
            "MAR",
            "ZAF"
           ],
           "marker": {
            "color": "lightgrey",
            "size": [
             3,
             1,
             1,
             1,
             2,
             1,
             7,
             11,
             1,
             9
            ],
            "sizemode": "area"
           },
           "name": "Africa",
           "text": [
            "Tunisia",
            "Gabon",
            "Algeria",
            "Botswana",
            "Egypt",
            "Uganda",
            "Ethiopia",
            "Kenya",
            "Morocco",
            "South Africa"
           ],
           "type": "scattergeo"
          }
         ],
         "name": "2012"
        },
        {
         "data": [
          {
           "locationmode": "ISO-3",
           "locations": [
            "NOR",
            "CHE",
            "NLD",
            "BLR",
            "SVN",
            "LVA",
            "DEU",
            "UKR",
            "SVK",
            "HRV",
            "CZE",
            "ITA",
            "RUS",
            "AUT",
            "FRA",
            "POL",
            "GBR",
            "SWE",
            "FIN"
           ],
           "marker": {
            "color": "royalblue",
            "size": [
             36,
             30,
             29,
             6,
             8,
             11,
             36,
             5,
             1,
             1,
             11,
             14,
             68,
             27,
             18,
             11,
             10,
             51,
             33
            ],
            "sizemode": "area"
           },
           "name": "Europe",
           "text": [
            "Norway",
            "Switzerland",
            "Netherlands",
            "Belarus",
            "Slovenia",
            "Latvia",
            "Germany",
            "Ukraine",
            "Slovakia",
            "Croatia",
            "Czech Republic",
            "Italy",
            "Russia",
            "Austria",
            "France",
            "Poland",
            "UK",
            "Sweden",
            "Finland"
           ],
           "type": "scattergeo"
          },
          {
           "locationmode": "ISO-3",
           "locations": [
            "CAN",
            "USA"
           ],
           "marker": {
            "color": "crimson",
            "size": [
             86,
             64
            ],
            "sizemode": "area"
           },
           "name": "Americas",
           "text": [
            "Canada",
            "USA"
           ],
           "type": "scattergeo"
          },
          {
           "locationmode": "ISO-3",
           "locations": [
            "AUS"
           ],
           "marker": {
            "color": "lightseagreen",
            "size": [
             3
            ],
            "sizemode": "area"
           },
           "name": "Oceania",
           "text": [
            "Australia"
           ],
           "type": "scattergeo"
          },
          {
           "locationmode": "ISO-3",
           "locations": [
            "KOR",
            "CHN",
            "JPN",
            "KAZ"
           ],
           "marker": {
            "color": "orange",
            "size": [
             14,
             12,
             11,
             1
            ],
            "sizemode": "area"
           },
           "name": "Asia",
           "text": [
            "South Korea",
            "China",
            "Japan",
            "Kazakhstan"
           ],
           "type": "scattergeo"
          }
         ],
         "name": "2014"
        },
        {
         "data": [
          {
           "locationmode": "ISO-3",
           "locations": [
            "BEL",
            "AUT",
            "NLD",
            "BLR",
            "POL",
            "SRB",
            "ROU",
            "PRT",
            "NOR",
            "SVN",
            "HUN",
            "FIN",
            "ITA",
            "FRA",
            "IRL",
            "GBR",
            "DEU",
            "GRC",
            "RUS",
            "BGR",
            "CHE",
            "SVK",
            "HRV",
            "LTU",
            "CZE",
            "DNK",
            "UKR",
            "ESP",
            "SWE",
            "EST"
           ],
           "marker": {
            "color": "royalblue",
            "size": [
             21,
             2,
             47,
             12,
             16,
             54,
             16,
             1,
             19,
             4,
             22,
             1,
             72,
             96,
             3,
             145,
             159,
             7,
             115,
             7,
             11,
             8,
             24,
             7,
             15,
             41,
             15,
             45,
             28,
             4
            ],
            "sizemode": "area"
           },
           "name": "Europe",
           "text": [
            "Belgium",
            "Austria",
            "Netherlands",
            "Belarus",
            "Poland",
            "Serbia",
            "Romania",
            "Portugal",
            "Norway",
            "Slovenia",
            "Hungary",
            "Finland",
            "Italy",
            "France",
            "Ireland",
            "UK",
            "Germany",
            "Greece",
            "Russia",
            "Bulgaria",
            "Switzerland",
            "Slovakia",
            "Croatia",
            "Lithuania",
            "Czech Republic",
            "Denmark",
            "Ukraine",
            "Spain",
            "Sweden",
            "Estonia"
           ],
           "type": "scattergeo"
          },
          {
           "locationmode": "ISO-3",
           "locations": [
            "VEN",
            "PRI",
            "BRA",
            "USA",
            "ARG",
            "BHS",
            "CAN",
            "JAM",
            "TTO",
            "GRD",
            "MEX",
            "COL",
            "CUB",
            "DOM"
           ],
           "marker": {
            "color": "crimson",
            "size": [
             3,
             1,
             50,
             264,
             22,
             6,
             69,
             30,
             1,
             1,
             5,
             8,
             11,
             1
            ],
            "sizemode": "area"
           },
           "name": "Americas",
           "text": [
            "Venezuela",
            "Puerto Rico",
            "Brazil",
            "USA",
            "Argentina",
            "Bahamas",
            "Canada",
            "Jamaica",
            "Trinidad",
            "Grenada",
            "Mexico",
            "Colombia",
            "Cuba",
            "Dominican Republic"
           ],
           "type": "scattergeo"
          },
          {
           "locationmode": "ISO-3",
           "locations": [
            "AUS",
            "NZL",
            "FJI"
           ],
           "marker": {
            "color": "lightseagreen",
            "size": [
             82,
             36,
             13
            ],
            "sizemode": "area"
           },
           "name": "Oceania",
           "text": [
            "Australia",
            "New Zealand",
            "Fiji"
           ],
           "type": "scattergeo"
          },
          {
           "locationmode": "ISO-3",
           "locations": [
            "BHR",
            "QAT",
            "UZB",
            "ARM",
            "PHL",
            "AZE",
            "PRK",
            "TUR",
            "JOR",
            "ISR",
            "GEO",
            "IND",
            "THA",
            "TJK",
            "IDN",
            "JPN",
            "ARE",
            "MNG",
            "CHN",
            "KOR",
            "KAZ",
            "MYS"
           ],
           "marker": {
            "color": "orange",
            "size": [
             2,
             1,
             13,
             4,
             1,
             18,
             7,
             8,
             1,
             2,
             7,
             2,
             6,
             1,
             4,
             64,
             1,
             2,
             113,
             26,
             18,
             8
            ],
            "sizemode": "area"
           },
           "name": "Asia",
           "text": [
            "Bahrain",
            "Qatar",
            "Uzbekistan",
            "Armenia",
            "Philippines",
            "Azerbaijan",
            "North Korea",
            "Turkey",
            "Jordan",
            "Israel",
            "Georgia",
            "India",
            "Thailand",
            "Tajikistan",
            "Indonesia",
            "Japan",
            "United Arab Emirates",
            "Mongolia",
            "China",
            "South Korea",
            "Kazakhstan",
            "Malaysia"
           ],
           "type": "scattergeo"
          },
          {
           "locationmode": "ISO-3",
           "locations": [
            "ZAF",
            "NER",
            "NGA",
            "DZA",
            "BDI",
            "TUN",
            "ETH",
            "CIV",
            "MAR",
            "EGY",
            "KEN"
           ],
           "marker": {
            "color": "lightgrey",
            "size": [
             23,
             1,
             18,
             2,
             1,
             3,
             8,
             2,
             1,
             3,
             13
            ],
            "sizemode": "area"
           },
           "name": "Africa",
           "text": [
            "South Africa",
            "Niger",
            "Nigeria",
            "Algeria",
            "Burundi",
            "Tunisia",
            "Ethiopia",
            "Ivory Coast",
            "Morocco",
            "Egypt",
            "Kenya"
           ],
           "type": "scattergeo"
          }
         ],
         "name": "2016"
        }
       ],
       "layout": {
        "geo": {
         "landcolor": "rgb(217, 217, 217)"
        },
        "showlegend": true,
        "sliders": [
         {
          "active": 0,
          "currentvalue": {
           "font": {
            "size": 20
           },
           "prefix": "Year:",
           "visible": true,
           "xanchor": "right"
          },
          "len": 0.9,
          "pad": {
           "b": 10,
           "t": 50
          },
          "steps": [
           {
            "args": [
             [
              1896
             ],
             {
              "frame": {
               "duration": 300,
               "redraw": false
              },
              "mode": "immediate",
              "transition": {
               "duration": 300
              }
             }
            ],
            "label": "1896",
            "method": "animate"
           },
           {
            "args": [
             [
              1900
             ],
             {
              "frame": {
               "duration": 300,
               "redraw": false
              },
              "mode": "immediate",
              "transition": {
               "duration": 300
              }
             }
            ],
            "label": "1900",
            "method": "animate"
           },
           {
            "args": [
             [
              1904
             ],
             {
              "frame": {
               "duration": 300,
               "redraw": false
              },
              "mode": "immediate",
              "transition": {
               "duration": 300
              }
             }
            ],
            "label": "1904",
            "method": "animate"
           },
           {
            "args": [
             [
              1906
             ],
             {
              "frame": {
               "duration": 300,
               "redraw": false
              },
              "mode": "immediate",
              "transition": {
               "duration": 300
              }
             }
            ],
            "label": "1906",
            "method": "animate"
           },
           {
            "args": [
             [
              1908
             ],
             {
              "frame": {
               "duration": 300,
               "redraw": false
              },
              "mode": "immediate",
              "transition": {
               "duration": 300
              }
             }
            ],
            "label": "1908",
            "method": "animate"
           },
           {
            "args": [
             [
              1912
             ],
             {
              "frame": {
               "duration": 300,
               "redraw": false
              },
              "mode": "immediate",
              "transition": {
               "duration": 300
              }
             }
            ],
            "label": "1912",
            "method": "animate"
           },
           {
            "args": [
             [
              1920
             ],
             {
              "frame": {
               "duration": 300,
               "redraw": false
              },
              "mode": "immediate",
              "transition": {
               "duration": 300
              }
             }
            ],
            "label": "1920",
            "method": "animate"
           },
           {
            "args": [
             [
              1924
             ],
             {
              "frame": {
               "duration": 300,
               "redraw": false
              },
              "mode": "immediate",
              "transition": {
               "duration": 300
              }
             }
            ],
            "label": "1924",
            "method": "animate"
           },
           {
            "args": [
             [
              1928
             ],
             {
              "frame": {
               "duration": 300,
               "redraw": false
              },
              "mode": "immediate",
              "transition": {
               "duration": 300
              }
             }
            ],
            "label": "1928",
            "method": "animate"
           },
           {
            "args": [
             [
              1932
             ],
             {
              "frame": {
               "duration": 300,
               "redraw": false
              },
              "mode": "immediate",
              "transition": {
               "duration": 300
              }
             }
            ],
            "label": "1932",
            "method": "animate"
           },
           {
            "args": [
             [
              1936
             ],
             {
              "frame": {
               "duration": 300,
               "redraw": false
              },
              "mode": "immediate",
              "transition": {
               "duration": 300
              }
             }
            ],
            "label": "1936",
            "method": "animate"
           },
           {
            "args": [
             [
              1948
             ],
             {
              "frame": {
               "duration": 300,
               "redraw": false
              },
              "mode": "immediate",
              "transition": {
               "duration": 300
              }
             }
            ],
            "label": "1948",
            "method": "animate"
           },
           {
            "args": [
             [
              1952
             ],
             {
              "frame": {
               "duration": 300,
               "redraw": false
              },
              "mode": "immediate",
              "transition": {
               "duration": 300
              }
             }
            ],
            "label": "1952",
            "method": "animate"
           },
           {
            "args": [
             [
              1956
             ],
             {
              "frame": {
               "duration": 300,
               "redraw": false
              },
              "mode": "immediate",
              "transition": {
               "duration": 300
              }
             }
            ],
            "label": "1956",
            "method": "animate"
           },
           {
            "args": [
             [
              1960
             ],
             {
              "frame": {
               "duration": 300,
               "redraw": false
              },
              "mode": "immediate",
              "transition": {
               "duration": 300
              }
             }
            ],
            "label": "1960",
            "method": "animate"
           },
           {
            "args": [
             [
              1964
             ],
             {
              "frame": {
               "duration": 300,
               "redraw": false
              },
              "mode": "immediate",
              "transition": {
               "duration": 300
              }
             }
            ],
            "label": "1964",
            "method": "animate"
           },
           {
            "args": [
             [
              1968
             ],
             {
              "frame": {
               "duration": 300,
               "redraw": false
              },
              "mode": "immediate",
              "transition": {
               "duration": 300
              }
             }
            ],
            "label": "1968",
            "method": "animate"
           },
           {
            "args": [
             [
              1972
             ],
             {
              "frame": {
               "duration": 300,
               "redraw": false
              },
              "mode": "immediate",
              "transition": {
               "duration": 300
              }
             }
            ],
            "label": "1972",
            "method": "animate"
           },
           {
            "args": [
             [
              1976
             ],
             {
              "frame": {
               "duration": 300,
               "redraw": false
              },
              "mode": "immediate",
              "transition": {
               "duration": 300
              }
             }
            ],
            "label": "1976",
            "method": "animate"
           },
           {
            "args": [
             [
              1980
             ],
             {
              "frame": {
               "duration": 300,
               "redraw": false
              },
              "mode": "immediate",
              "transition": {
               "duration": 300
              }
             }
            ],
            "label": "1980",
            "method": "animate"
           },
           {
            "args": [
             [
              1984
             ],
             {
              "frame": {
               "duration": 300,
               "redraw": false
              },
              "mode": "immediate",
              "transition": {
               "duration": 300
              }
             }
            ],
            "label": "1984",
            "method": "animate"
           },
           {
            "args": [
             [
              1988
             ],
             {
              "frame": {
               "duration": 300,
               "redraw": false
              },
              "mode": "immediate",
              "transition": {
               "duration": 300
              }
             }
            ],
            "label": "1988",
            "method": "animate"
           },
           {
            "args": [
             [
              1992
             ],
             {
              "frame": {
               "duration": 300,
               "redraw": false
              },
              "mode": "immediate",
              "transition": {
               "duration": 300
              }
             }
            ],
            "label": "1992",
            "method": "animate"
           },
           {
            "args": [
             [
              1994
             ],
             {
              "frame": {
               "duration": 300,
               "redraw": false
              },
              "mode": "immediate",
              "transition": {
               "duration": 300
              }
             }
            ],
            "label": "1994",
            "method": "animate"
           },
           {
            "args": [
             [
              1996
             ],
             {
              "frame": {
               "duration": 300,
               "redraw": false
              },
              "mode": "immediate",
              "transition": {
               "duration": 300
              }
             }
            ],
            "label": "1996",
            "method": "animate"
           },
           {
            "args": [
             [
              1998
             ],
             {
              "frame": {
               "duration": 300,
               "redraw": false
              },
              "mode": "immediate",
              "transition": {
               "duration": 300
              }
             }
            ],
            "label": "1998",
            "method": "animate"
           },
           {
            "args": [
             [
              2000
             ],
             {
              "frame": {
               "duration": 300,
               "redraw": false
              },
              "mode": "immediate",
              "transition": {
               "duration": 300
              }
             }
            ],
            "label": "2000",
            "method": "animate"
           },
           {
            "args": [
             [
              2002
             ],
             {
              "frame": {
               "duration": 300,
               "redraw": false
              },
              "mode": "immediate",
              "transition": {
               "duration": 300
              }
             }
            ],
            "label": "2002",
            "method": "animate"
           },
           {
            "args": [
             [
              2004
             ],
             {
              "frame": {
               "duration": 300,
               "redraw": false
              },
              "mode": "immediate",
              "transition": {
               "duration": 300
              }
             }
            ],
            "label": "2004",
            "method": "animate"
           },
           {
            "args": [
             [
              2006
             ],
             {
              "frame": {
               "duration": 300,
               "redraw": false
              },
              "mode": "immediate",
              "transition": {
               "duration": 300
              }
             }
            ],
            "label": "2006",
            "method": "animate"
           },
           {
            "args": [
             [
              2008
             ],
             {
              "frame": {
               "duration": 300,
               "redraw": false
              },
              "mode": "immediate",
              "transition": {
               "duration": 300
              }
             }
            ],
            "label": "2008",
            "method": "animate"
           },
           {
            "args": [
             [
              2010
             ],
             {
              "frame": {
               "duration": 300,
               "redraw": false
              },
              "mode": "immediate",
              "transition": {
               "duration": 300
              }
             }
            ],
            "label": "2010",
            "method": "animate"
           },
           {
            "args": [
             [
              2012
             ],
             {
              "frame": {
               "duration": 300,
               "redraw": false
              },
              "mode": "immediate",
              "transition": {
               "duration": 300
              }
             }
            ],
            "label": "2012",
            "method": "animate"
           },
           {
            "args": [
             [
              2014
             ],
             {
              "frame": {
               "duration": 300,
               "redraw": false
              },
              "mode": "immediate",
              "transition": {
               "duration": 300
              }
             }
            ],
            "label": "2014",
            "method": "animate"
           },
           {
            "args": [
             [
              2016
             ],
             {
              "frame": {
               "duration": 300,
               "redraw": false
              },
              "mode": "immediate",
              "transition": {
               "duration": 300
              }
             }
            ],
            "label": "2016",
            "method": "animate"
           }
          ],
          "transition": {
           "duration": 300,
           "easing": "cubic-in-out"
          },
          "x": 0.1,
          "xanchor": "left",
          "y": 0,
          "yanchor": "top"
         }
        ],
        "template": {
         "data": {
          "bar": [
           {
            "error_x": {
             "color": "#2a3f5f"
            },
            "error_y": {
             "color": "#2a3f5f"
            },
            "marker": {
             "line": {
              "color": "#E5ECF6",
              "width": 0.5
             }
            },
            "type": "bar"
           }
          ],
          "barpolar": [
           {
            "marker": {
             "line": {
              "color": "#E5ECF6",
              "width": 0.5
             }
            },
            "type": "barpolar"
           }
          ],
          "carpet": [
           {
            "aaxis": {
             "endlinecolor": "#2a3f5f",
             "gridcolor": "white",
             "linecolor": "white",
             "minorgridcolor": "white",
             "startlinecolor": "#2a3f5f"
            },
            "baxis": {
             "endlinecolor": "#2a3f5f",
             "gridcolor": "white",
             "linecolor": "white",
             "minorgridcolor": "white",
             "startlinecolor": "#2a3f5f"
            },
            "type": "carpet"
           }
          ],
          "choropleth": [
           {
            "colorbar": {
             "outlinewidth": 0,
             "ticks": ""
            },
            "type": "choropleth"
           }
          ],
          "contour": [
           {
            "colorbar": {
             "outlinewidth": 0,
             "ticks": ""
            },
            "colorscale": [
             [
              0,
              "#0d0887"
             ],
             [
              0.1111111111111111,
              "#46039f"
             ],
             [
              0.2222222222222222,
              "#7201a8"
             ],
             [
              0.3333333333333333,
              "#9c179e"
             ],
             [
              0.4444444444444444,
              "#bd3786"
             ],
             [
              0.5555555555555556,
              "#d8576b"
             ],
             [
              0.6666666666666666,
              "#ed7953"
             ],
             [
              0.7777777777777778,
              "#fb9f3a"
             ],
             [
              0.8888888888888888,
              "#fdca26"
             ],
             [
              1,
              "#f0f921"
             ]
            ],
            "type": "contour"
           }
          ],
          "contourcarpet": [
           {
            "colorbar": {
             "outlinewidth": 0,
             "ticks": ""
            },
            "type": "contourcarpet"
           }
          ],
          "heatmap": [
           {
            "colorbar": {
             "outlinewidth": 0,
             "ticks": ""
            },
            "colorscale": [
             [
              0,
              "#0d0887"
             ],
             [
              0.1111111111111111,
              "#46039f"
             ],
             [
              0.2222222222222222,
              "#7201a8"
             ],
             [
              0.3333333333333333,
              "#9c179e"
             ],
             [
              0.4444444444444444,
              "#bd3786"
             ],
             [
              0.5555555555555556,
              "#d8576b"
             ],
             [
              0.6666666666666666,
              "#ed7953"
             ],
             [
              0.7777777777777778,
              "#fb9f3a"
             ],
             [
              0.8888888888888888,
              "#fdca26"
             ],
             [
              1,
              "#f0f921"
             ]
            ],
            "type": "heatmap"
           }
          ],
          "heatmapgl": [
           {
            "colorbar": {
             "outlinewidth": 0,
             "ticks": ""
            },
            "colorscale": [
             [
              0,
              "#0d0887"
             ],
             [
              0.1111111111111111,
              "#46039f"
             ],
             [
              0.2222222222222222,
              "#7201a8"
             ],
             [
              0.3333333333333333,
              "#9c179e"
             ],
             [
              0.4444444444444444,
              "#bd3786"
             ],
             [
              0.5555555555555556,
              "#d8576b"
             ],
             [
              0.6666666666666666,
              "#ed7953"
             ],
             [
              0.7777777777777778,
              "#fb9f3a"
             ],
             [
              0.8888888888888888,
              "#fdca26"
             ],
             [
              1,
              "#f0f921"
             ]
            ],
            "type": "heatmapgl"
           }
          ],
          "histogram": [
           {
            "marker": {
             "colorbar": {
              "outlinewidth": 0,
              "ticks": ""
             }
            },
            "type": "histogram"
           }
          ],
          "histogram2d": [
           {
            "colorbar": {
             "outlinewidth": 0,
             "ticks": ""
            },
            "colorscale": [
             [
              0,
              "#0d0887"
             ],
             [
              0.1111111111111111,
              "#46039f"
             ],
             [
              0.2222222222222222,
              "#7201a8"
             ],
             [
              0.3333333333333333,
              "#9c179e"
             ],
             [
              0.4444444444444444,
              "#bd3786"
             ],
             [
              0.5555555555555556,
              "#d8576b"
             ],
             [
              0.6666666666666666,
              "#ed7953"
             ],
             [
              0.7777777777777778,
              "#fb9f3a"
             ],
             [
              0.8888888888888888,
              "#fdca26"
             ],
             [
              1,
              "#f0f921"
             ]
            ],
            "type": "histogram2d"
           }
          ],
          "histogram2dcontour": [
           {
            "colorbar": {
             "outlinewidth": 0,
             "ticks": ""
            },
            "colorscale": [
             [
              0,
              "#0d0887"
             ],
             [
              0.1111111111111111,
              "#46039f"
             ],
             [
              0.2222222222222222,
              "#7201a8"
             ],
             [
              0.3333333333333333,
              "#9c179e"
             ],
             [
              0.4444444444444444,
              "#bd3786"
             ],
             [
              0.5555555555555556,
              "#d8576b"
             ],
             [
              0.6666666666666666,
              "#ed7953"
             ],
             [
              0.7777777777777778,
              "#fb9f3a"
             ],
             [
              0.8888888888888888,
              "#fdca26"
             ],
             [
              1,
              "#f0f921"
             ]
            ],
            "type": "histogram2dcontour"
           }
          ],
          "mesh3d": [
           {
            "colorbar": {
             "outlinewidth": 0,
             "ticks": ""
            },
            "type": "mesh3d"
           }
          ],
          "parcoords": [
           {
            "line": {
             "colorbar": {
              "outlinewidth": 0,
              "ticks": ""
             }
            },
            "type": "parcoords"
           }
          ],
          "pie": [
           {
            "automargin": true,
            "type": "pie"
           }
          ],
          "scatter": [
           {
            "marker": {
             "colorbar": {
              "outlinewidth": 0,
              "ticks": ""
             }
            },
            "type": "scatter"
           }
          ],
          "scatter3d": [
           {
            "line": {
             "colorbar": {
              "outlinewidth": 0,
              "ticks": ""
             }
            },
            "marker": {
             "colorbar": {
              "outlinewidth": 0,
              "ticks": ""
             }
            },
            "type": "scatter3d"
           }
          ],
          "scattercarpet": [
           {
            "marker": {
             "colorbar": {
              "outlinewidth": 0,
              "ticks": ""
             }
            },
            "type": "scattercarpet"
           }
          ],
          "scattergeo": [
           {
            "marker": {
             "colorbar": {
              "outlinewidth": 0,
              "ticks": ""
             }
            },
            "type": "scattergeo"
           }
          ],
          "scattergl": [
           {
            "marker": {
             "colorbar": {
              "outlinewidth": 0,
              "ticks": ""
             }
            },
            "type": "scattergl"
           }
          ],
          "scattermapbox": [
           {
            "marker": {
             "colorbar": {
              "outlinewidth": 0,
              "ticks": ""
             }
            },
            "type": "scattermapbox"
           }
          ],
          "scatterpolar": [
           {
            "marker": {
             "colorbar": {
              "outlinewidth": 0,
              "ticks": ""
             }
            },
            "type": "scatterpolar"
           }
          ],
          "scatterpolargl": [
           {
            "marker": {
             "colorbar": {
              "outlinewidth": 0,
              "ticks": ""
             }
            },
            "type": "scatterpolargl"
           }
          ],
          "scatterternary": [
           {
            "marker": {
             "colorbar": {
              "outlinewidth": 0,
              "ticks": ""
             }
            },
            "type": "scatterternary"
           }
          ],
          "surface": [
           {
            "colorbar": {
             "outlinewidth": 0,
             "ticks": ""
            },
            "colorscale": [
             [
              0,
              "#0d0887"
             ],
             [
              0.1111111111111111,
              "#46039f"
             ],
             [
              0.2222222222222222,
              "#7201a8"
             ],
             [
              0.3333333333333333,
              "#9c179e"
             ],
             [
              0.4444444444444444,
              "#bd3786"
             ],
             [
              0.5555555555555556,
              "#d8576b"
             ],
             [
              0.6666666666666666,
              "#ed7953"
             ],
             [
              0.7777777777777778,
              "#fb9f3a"
             ],
             [
              0.8888888888888888,
              "#fdca26"
             ],
             [
              1,
              "#f0f921"
             ]
            ],
            "type": "surface"
           }
          ],
          "table": [
           {
            "cells": {
             "fill": {
              "color": "#EBF0F8"
             },
             "line": {
              "color": "white"
             }
            },
            "header": {
             "fill": {
              "color": "#C8D4E3"
             },
             "line": {
              "color": "white"
             }
            },
            "type": "table"
           }
          ]
         },
         "layout": {
          "annotationdefaults": {
           "arrowcolor": "#2a3f5f",
           "arrowhead": 0,
           "arrowwidth": 1
          },
          "coloraxis": {
           "colorbar": {
            "outlinewidth": 0,
            "ticks": ""
           }
          },
          "colorscale": {
           "diverging": [
            [
             0,
             "#8e0152"
            ],
            [
             0.1,
             "#c51b7d"
            ],
            [
             0.2,
             "#de77ae"
            ],
            [
             0.3,
             "#f1b6da"
            ],
            [
             0.4,
             "#fde0ef"
            ],
            [
             0.5,
             "#f7f7f7"
            ],
            [
             0.6,
             "#e6f5d0"
            ],
            [
             0.7,
             "#b8e186"
            ],
            [
             0.8,
             "#7fbc41"
            ],
            [
             0.9,
             "#4d9221"
            ],
            [
             1,
             "#276419"
            ]
           ],
           "sequential": [
            [
             0,
             "#0d0887"
            ],
            [
             0.1111111111111111,
             "#46039f"
            ],
            [
             0.2222222222222222,
             "#7201a8"
            ],
            [
             0.3333333333333333,
             "#9c179e"
            ],
            [
             0.4444444444444444,
             "#bd3786"
            ],
            [
             0.5555555555555556,
             "#d8576b"
            ],
            [
             0.6666666666666666,
             "#ed7953"
            ],
            [
             0.7777777777777778,
             "#fb9f3a"
            ],
            [
             0.8888888888888888,
             "#fdca26"
            ],
            [
             1,
             "#f0f921"
            ]
           ],
           "sequentialminus": [
            [
             0,
             "#0d0887"
            ],
            [
             0.1111111111111111,
             "#46039f"
            ],
            [
             0.2222222222222222,
             "#7201a8"
            ],
            [
             0.3333333333333333,
             "#9c179e"
            ],
            [
             0.4444444444444444,
             "#bd3786"
            ],
            [
             0.5555555555555556,
             "#d8576b"
            ],
            [
             0.6666666666666666,
             "#ed7953"
            ],
            [
             0.7777777777777778,
             "#fb9f3a"
            ],
            [
             0.8888888888888888,
             "#fdca26"
            ],
            [
             1,
             "#f0f921"
            ]
           ]
          },
          "colorway": [
           "#636efa",
           "#EF553B",
           "#00cc96",
           "#ab63fa",
           "#FFA15A",
           "#19d3f3",
           "#FF6692",
           "#B6E880",
           "#FF97FF",
           "#FECB52"
          ],
          "font": {
           "color": "#2a3f5f"
          },
          "geo": {
           "bgcolor": "white",
           "lakecolor": "white",
           "landcolor": "#E5ECF6",
           "showlakes": true,
           "showland": true,
           "subunitcolor": "white"
          },
          "hoverlabel": {
           "align": "left"
          },
          "hovermode": "closest",
          "mapbox": {
           "style": "light"
          },
          "paper_bgcolor": "white",
          "plot_bgcolor": "#E5ECF6",
          "polar": {
           "angularaxis": {
            "gridcolor": "white",
            "linecolor": "white",
            "ticks": ""
           },
           "bgcolor": "#E5ECF6",
           "radialaxis": {
            "gridcolor": "white",
            "linecolor": "white",
            "ticks": ""
           }
          },
          "scene": {
           "xaxis": {
            "backgroundcolor": "#E5ECF6",
            "gridcolor": "white",
            "gridwidth": 2,
            "linecolor": "white",
            "showbackground": true,
            "ticks": "",
            "zerolinecolor": "white"
           },
           "yaxis": {
            "backgroundcolor": "#E5ECF6",
            "gridcolor": "white",
            "gridwidth": 2,
            "linecolor": "white",
            "showbackground": true,
            "ticks": "",
            "zerolinecolor": "white"
           },
           "zaxis": {
            "backgroundcolor": "#E5ECF6",
            "gridcolor": "white",
            "gridwidth": 2,
            "linecolor": "white",
            "showbackground": true,
            "ticks": "",
            "zerolinecolor": "white"
           }
          },
          "shapedefaults": {
           "line": {
            "color": "#2a3f5f"
           }
          },
          "ternary": {
           "aaxis": {
            "gridcolor": "white",
            "linecolor": "white",
            "ticks": ""
           },
           "baxis": {
            "gridcolor": "white",
            "linecolor": "white",
            "ticks": ""
           },
           "bgcolor": "#E5ECF6",
           "caxis": {
            "gridcolor": "white",
            "linecolor": "white",
            "ticks": ""
           }
          },
          "title": {
           "x": 0.05
          },
          "xaxis": {
           "automargin": true,
           "gridcolor": "white",
           "linecolor": "white",
           "ticks": "",
           "title": {
            "standoff": 15
           },
           "zerolinecolor": "white",
           "zerolinewidth": 2
          },
          "yaxis": {
           "automargin": true,
           "gridcolor": "white",
           "linecolor": "white",
           "ticks": "",
           "title": {
            "standoff": 15
           },
           "zerolinecolor": "white",
           "zerolinewidth": 2
          }
         }
        },
        "title": {
         "text": "Olympic Medals over the Years<br>(Click legend to toggle traces)"
        },
        "updatemenus": [
         {
          "buttons": [
           {
            "args": [
             null,
             {
              "frame": {
               "duration": 500,
               "redraw": true
              },
              "fromcurrent": true,
              "transition": {
               "duration": 300,
               "easing": "quadratic-in-out"
              }
             }
            ],
            "label": "Play",
            "method": "animate"
           },
           {
            "args": [
             [
              null
             ],
             {
              "frame": {
               "duration": 0,
               "redraw": true
              },
              "mode": "immediate",
              "transition": {
               "duration": 0
              }
             }
            ],
            "label": "Pause",
            "method": "animate"
           }
          ],
          "direction": "left",
          "pad": {
           "r": 10,
           "t": 87
          },
          "showactive": false,
          "type": "buttons",
          "x": 0.1,
          "xanchor": "right",
          "y": 0,
          "yanchor": "top"
         }
        ]
       }
      },
      "text/html": [
       "<div>\n",
       "        \n",
       "        \n",
       "            <div id=\"61159ea1-0ca8-47aa-a991-9beb11407748\" class=\"plotly-graph-div\" style=\"height:525px; width:100%;\"></div>\n",
       "            <script type=\"text/javascript\">\n",
       "                require([\"plotly\"], function(Plotly) {\n",
       "                    window.PLOTLYENV=window.PLOTLYENV || {};\n",
       "                    \n",
       "                if (document.getElementById(\"61159ea1-0ca8-47aa-a991-9beb11407748\")) {\n",
       "                    Plotly.newPlot(\n",
       "                        '61159ea1-0ca8-47aa-a991-9beb11407748',\n",
       "                        [{\"locationmode\": \"ISO-3\", \"locations\": [\"DEU\", \"GRC\", \"AUT\", \"GBR\", \"CHE\", \"HUN\", \"DNK\", \"FRA\"], \"marker\": {\"size\": [32, 48, 5, 9, 3, 6, 6, 11], \"sizemode\": \"area\"}, \"name\": \"Europe\", \"text\": [\"Germany\", \"Greece\", \"Austria\", \"UK\", \"Switzerland\", \"Hungary\", \"Denmark\", \"France\"], \"type\": \"scattergeo\"}, {\"locationmode\": \"ISO-3\", \"locations\": [\"USA\"], \"marker\": {\"size\": [20], \"sizemode\": \"area\"}, \"name\": \"Americas\", \"text\": [\"USA\"], \"type\": \"scattergeo\"}, {\"locationmode\": \"ISO-3\", \"locations\": [\"AUS\"], \"marker\": {\"size\": [3], \"sizemode\": \"area\"}, \"name\": \"Oceania\", \"text\": [\"Australia\"], \"type\": \"scattergeo\"}, {\"locationmode\": \"ISO-3\", \"locations\": [], \"marker\": {\"size\": [], \"sizemode\": \"area\"}, \"name\": \"Asia\", \"text\": [], \"type\": \"scattergeo\"}, {\"locationmode\": \"ISO-3\", \"locations\": [], \"marker\": {\"size\": [], \"sizemode\": \"area\"}, \"name\": \"Africa\", \"text\": [], \"type\": \"scattergeo\"}],\n",
       "                        {\"geo\": {\"landcolor\": \"rgb(217, 217, 217)\"}, \"showlegend\": true, \"sliders\": [{\"active\": 0, \"currentvalue\": {\"font\": {\"size\": 20}, \"prefix\": \"Year:\", \"visible\": true, \"xanchor\": \"right\"}, \"len\": 0.9, \"pad\": {\"b\": 10, \"t\": 50}, \"steps\": [{\"args\": [[1896], {\"frame\": {\"duration\": 300, \"redraw\": false}, \"mode\": \"immediate\", \"transition\": {\"duration\": 300}}], \"label\": \"1896\", \"method\": \"animate\"}, {\"args\": [[1900], {\"frame\": {\"duration\": 300, \"redraw\": false}, \"mode\": \"immediate\", \"transition\": {\"duration\": 300}}], \"label\": \"1900\", \"method\": \"animate\"}, {\"args\": [[1904], {\"frame\": {\"duration\": 300, \"redraw\": false}, \"mode\": \"immediate\", \"transition\": {\"duration\": 300}}], \"label\": \"1904\", \"method\": \"animate\"}, {\"args\": [[1906], {\"frame\": {\"duration\": 300, \"redraw\": false}, \"mode\": \"immediate\", \"transition\": {\"duration\": 300}}], \"label\": \"1906\", \"method\": \"animate\"}, {\"args\": [[1908], {\"frame\": {\"duration\": 300, \"redraw\": false}, \"mode\": \"immediate\", \"transition\": {\"duration\": 300}}], \"label\": \"1908\", \"method\": \"animate\"}, {\"args\": [[1912], {\"frame\": {\"duration\": 300, \"redraw\": false}, \"mode\": \"immediate\", \"transition\": {\"duration\": 300}}], \"label\": \"1912\", \"method\": \"animate\"}, {\"args\": [[1920], {\"frame\": {\"duration\": 300, \"redraw\": false}, \"mode\": \"immediate\", \"transition\": {\"duration\": 300}}], \"label\": \"1920\", \"method\": \"animate\"}, {\"args\": [[1924], {\"frame\": {\"duration\": 300, \"redraw\": false}, \"mode\": \"immediate\", \"transition\": {\"duration\": 300}}], \"label\": \"1924\", \"method\": \"animate\"}, {\"args\": [[1928], {\"frame\": {\"duration\": 300, \"redraw\": false}, \"mode\": \"immediate\", \"transition\": {\"duration\": 300}}], \"label\": \"1928\", \"method\": \"animate\"}, {\"args\": [[1932], {\"frame\": {\"duration\": 300, \"redraw\": false}, \"mode\": \"immediate\", \"transition\": {\"duration\": 300}}], \"label\": \"1932\", \"method\": \"animate\"}, {\"args\": [[1936], {\"frame\": {\"duration\": 300, \"redraw\": false}, \"mode\": \"immediate\", \"transition\": {\"duration\": 300}}], \"label\": \"1936\", \"method\": \"animate\"}, {\"args\": [[1948], {\"frame\": {\"duration\": 300, \"redraw\": false}, \"mode\": \"immediate\", \"transition\": {\"duration\": 300}}], \"label\": \"1948\", \"method\": \"animate\"}, {\"args\": [[1952], {\"frame\": {\"duration\": 300, \"redraw\": false}, \"mode\": \"immediate\", \"transition\": {\"duration\": 300}}], \"label\": \"1952\", \"method\": \"animate\"}, {\"args\": [[1956], {\"frame\": {\"duration\": 300, \"redraw\": false}, \"mode\": \"immediate\", \"transition\": {\"duration\": 300}}], \"label\": \"1956\", \"method\": \"animate\"}, {\"args\": [[1960], {\"frame\": {\"duration\": 300, \"redraw\": false}, \"mode\": \"immediate\", \"transition\": {\"duration\": 300}}], \"label\": \"1960\", \"method\": \"animate\"}, {\"args\": [[1964], {\"frame\": {\"duration\": 300, \"redraw\": false}, \"mode\": \"immediate\", \"transition\": {\"duration\": 300}}], \"label\": \"1964\", \"method\": \"animate\"}, {\"args\": [[1968], {\"frame\": {\"duration\": 300, \"redraw\": false}, \"mode\": \"immediate\", \"transition\": {\"duration\": 300}}], \"label\": \"1968\", \"method\": \"animate\"}, {\"args\": [[1972], {\"frame\": {\"duration\": 300, \"redraw\": false}, \"mode\": \"immediate\", \"transition\": {\"duration\": 300}}], \"label\": \"1972\", \"method\": \"animate\"}, {\"args\": [[1976], {\"frame\": {\"duration\": 300, \"redraw\": false}, \"mode\": \"immediate\", \"transition\": {\"duration\": 300}}], \"label\": \"1976\", \"method\": \"animate\"}, {\"args\": [[1980], {\"frame\": {\"duration\": 300, \"redraw\": false}, \"mode\": \"immediate\", \"transition\": {\"duration\": 300}}], \"label\": \"1980\", \"method\": \"animate\"}, {\"args\": [[1984], {\"frame\": {\"duration\": 300, \"redraw\": false}, \"mode\": \"immediate\", \"transition\": {\"duration\": 300}}], \"label\": \"1984\", \"method\": \"animate\"}, {\"args\": [[1988], {\"frame\": {\"duration\": 300, \"redraw\": false}, \"mode\": \"immediate\", \"transition\": {\"duration\": 300}}], \"label\": \"1988\", \"method\": \"animate\"}, {\"args\": [[1992], {\"frame\": {\"duration\": 300, \"redraw\": false}, \"mode\": \"immediate\", \"transition\": {\"duration\": 300}}], \"label\": \"1992\", \"method\": \"animate\"}, {\"args\": [[1994], {\"frame\": {\"duration\": 300, \"redraw\": false}, \"mode\": \"immediate\", \"transition\": {\"duration\": 300}}], \"label\": \"1994\", \"method\": \"animate\"}, {\"args\": [[1996], {\"frame\": {\"duration\": 300, \"redraw\": false}, \"mode\": \"immediate\", \"transition\": {\"duration\": 300}}], \"label\": \"1996\", \"method\": \"animate\"}, {\"args\": [[1998], {\"frame\": {\"duration\": 300, \"redraw\": false}, \"mode\": \"immediate\", \"transition\": {\"duration\": 300}}], \"label\": \"1998\", \"method\": \"animate\"}, {\"args\": [[2000], {\"frame\": {\"duration\": 300, \"redraw\": false}, \"mode\": \"immediate\", \"transition\": {\"duration\": 300}}], \"label\": \"2000\", \"method\": \"animate\"}, {\"args\": [[2002], {\"frame\": {\"duration\": 300, \"redraw\": false}, \"mode\": \"immediate\", \"transition\": {\"duration\": 300}}], \"label\": \"2002\", \"method\": \"animate\"}, {\"args\": [[2004], {\"frame\": {\"duration\": 300, \"redraw\": false}, \"mode\": \"immediate\", \"transition\": {\"duration\": 300}}], \"label\": \"2004\", \"method\": \"animate\"}, {\"args\": [[2006], {\"frame\": {\"duration\": 300, \"redraw\": false}, \"mode\": \"immediate\", \"transition\": {\"duration\": 300}}], \"label\": \"2006\", \"method\": \"animate\"}, {\"args\": [[2008], {\"frame\": {\"duration\": 300, \"redraw\": false}, \"mode\": \"immediate\", \"transition\": {\"duration\": 300}}], \"label\": \"2008\", \"method\": \"animate\"}, {\"args\": [[2010], {\"frame\": {\"duration\": 300, \"redraw\": false}, \"mode\": \"immediate\", \"transition\": {\"duration\": 300}}], \"label\": \"2010\", \"method\": \"animate\"}, {\"args\": [[2012], {\"frame\": {\"duration\": 300, \"redraw\": false}, \"mode\": \"immediate\", \"transition\": {\"duration\": 300}}], \"label\": \"2012\", \"method\": \"animate\"}, {\"args\": [[2014], {\"frame\": {\"duration\": 300, \"redraw\": false}, \"mode\": \"immediate\", \"transition\": {\"duration\": 300}}], \"label\": \"2014\", \"method\": \"animate\"}, {\"args\": [[2016], {\"frame\": {\"duration\": 300, \"redraw\": false}, \"mode\": \"immediate\", \"transition\": {\"duration\": 300}}], \"label\": \"2016\", \"method\": \"animate\"}], \"transition\": {\"duration\": 300, \"easing\": \"cubic-in-out\"}, \"x\": 0.1, \"xanchor\": \"left\", \"y\": 0, \"yanchor\": \"top\"}], \"template\": {\"data\": {\"bar\": [{\"error_x\": {\"color\": \"#2a3f5f\"}, \"error_y\": {\"color\": \"#2a3f5f\"}, \"marker\": {\"line\": {\"color\": \"#E5ECF6\", \"width\": 0.5}}, \"type\": \"bar\"}], \"barpolar\": [{\"marker\": {\"line\": {\"color\": \"#E5ECF6\", \"width\": 0.5}}, \"type\": \"barpolar\"}], \"carpet\": [{\"aaxis\": {\"endlinecolor\": \"#2a3f5f\", \"gridcolor\": \"white\", \"linecolor\": \"white\", \"minorgridcolor\": \"white\", \"startlinecolor\": \"#2a3f5f\"}, \"baxis\": {\"endlinecolor\": \"#2a3f5f\", \"gridcolor\": \"white\", \"linecolor\": \"white\", \"minorgridcolor\": \"white\", \"startlinecolor\": \"#2a3f5f\"}, \"type\": \"carpet\"}], \"choropleth\": [{\"colorbar\": {\"outlinewidth\": 0, \"ticks\": \"\"}, \"type\": \"choropleth\"}], \"contour\": [{\"colorbar\": {\"outlinewidth\": 0, \"ticks\": \"\"}, \"colorscale\": [[0.0, \"#0d0887\"], [0.1111111111111111, \"#46039f\"], [0.2222222222222222, \"#7201a8\"], [0.3333333333333333, \"#9c179e\"], [0.4444444444444444, \"#bd3786\"], [0.5555555555555556, \"#d8576b\"], [0.6666666666666666, \"#ed7953\"], [0.7777777777777778, \"#fb9f3a\"], [0.8888888888888888, \"#fdca26\"], [1.0, \"#f0f921\"]], \"type\": \"contour\"}], \"contourcarpet\": [{\"colorbar\": {\"outlinewidth\": 0, \"ticks\": \"\"}, \"type\": \"contourcarpet\"}], \"heatmap\": [{\"colorbar\": {\"outlinewidth\": 0, \"ticks\": \"\"}, \"colorscale\": [[0.0, \"#0d0887\"], [0.1111111111111111, \"#46039f\"], [0.2222222222222222, \"#7201a8\"], [0.3333333333333333, \"#9c179e\"], [0.4444444444444444, \"#bd3786\"], [0.5555555555555556, \"#d8576b\"], [0.6666666666666666, \"#ed7953\"], [0.7777777777777778, \"#fb9f3a\"], [0.8888888888888888, \"#fdca26\"], [1.0, \"#f0f921\"]], \"type\": \"heatmap\"}], \"heatmapgl\": [{\"colorbar\": {\"outlinewidth\": 0, \"ticks\": \"\"}, \"colorscale\": [[0.0, \"#0d0887\"], [0.1111111111111111, \"#46039f\"], [0.2222222222222222, \"#7201a8\"], [0.3333333333333333, \"#9c179e\"], [0.4444444444444444, \"#bd3786\"], [0.5555555555555556, \"#d8576b\"], [0.6666666666666666, \"#ed7953\"], [0.7777777777777778, \"#fb9f3a\"], [0.8888888888888888, \"#fdca26\"], [1.0, \"#f0f921\"]], \"type\": \"heatmapgl\"}], \"histogram\": [{\"marker\": {\"colorbar\": {\"outlinewidth\": 0, \"ticks\": \"\"}}, \"type\": \"histogram\"}], \"histogram2d\": [{\"colorbar\": {\"outlinewidth\": 0, \"ticks\": \"\"}, \"colorscale\": [[0.0, \"#0d0887\"], [0.1111111111111111, \"#46039f\"], [0.2222222222222222, \"#7201a8\"], [0.3333333333333333, \"#9c179e\"], [0.4444444444444444, \"#bd3786\"], [0.5555555555555556, \"#d8576b\"], [0.6666666666666666, \"#ed7953\"], [0.7777777777777778, \"#fb9f3a\"], [0.8888888888888888, \"#fdca26\"], [1.0, \"#f0f921\"]], \"type\": \"histogram2d\"}], \"histogram2dcontour\": [{\"colorbar\": {\"outlinewidth\": 0, \"ticks\": \"\"}, \"colorscale\": [[0.0, \"#0d0887\"], [0.1111111111111111, \"#46039f\"], [0.2222222222222222, \"#7201a8\"], [0.3333333333333333, \"#9c179e\"], [0.4444444444444444, \"#bd3786\"], [0.5555555555555556, \"#d8576b\"], [0.6666666666666666, \"#ed7953\"], [0.7777777777777778, \"#fb9f3a\"], [0.8888888888888888, \"#fdca26\"], [1.0, \"#f0f921\"]], \"type\": \"histogram2dcontour\"}], \"mesh3d\": [{\"colorbar\": {\"outlinewidth\": 0, \"ticks\": \"\"}, \"type\": \"mesh3d\"}], \"parcoords\": [{\"line\": {\"colorbar\": {\"outlinewidth\": 0, \"ticks\": \"\"}}, \"type\": \"parcoords\"}], \"pie\": [{\"automargin\": true, \"type\": \"pie\"}], \"scatter\": [{\"marker\": {\"colorbar\": {\"outlinewidth\": 0, \"ticks\": \"\"}}, \"type\": \"scatter\"}], \"scatter3d\": [{\"line\": {\"colorbar\": {\"outlinewidth\": 0, \"ticks\": \"\"}}, \"marker\": {\"colorbar\": {\"outlinewidth\": 0, \"ticks\": \"\"}}, \"type\": \"scatter3d\"}], \"scattercarpet\": [{\"marker\": {\"colorbar\": {\"outlinewidth\": 0, \"ticks\": \"\"}}, \"type\": \"scattercarpet\"}], \"scattergeo\": [{\"marker\": {\"colorbar\": {\"outlinewidth\": 0, \"ticks\": \"\"}}, \"type\": \"scattergeo\"}], \"scattergl\": [{\"marker\": {\"colorbar\": {\"outlinewidth\": 0, \"ticks\": \"\"}}, \"type\": \"scattergl\"}], \"scattermapbox\": [{\"marker\": {\"colorbar\": {\"outlinewidth\": 0, \"ticks\": \"\"}}, \"type\": \"scattermapbox\"}], \"scatterpolar\": [{\"marker\": {\"colorbar\": {\"outlinewidth\": 0, \"ticks\": \"\"}}, \"type\": \"scatterpolar\"}], \"scatterpolargl\": [{\"marker\": {\"colorbar\": {\"outlinewidth\": 0, \"ticks\": \"\"}}, \"type\": \"scatterpolargl\"}], \"scatterternary\": [{\"marker\": {\"colorbar\": {\"outlinewidth\": 0, \"ticks\": \"\"}}, \"type\": \"scatterternary\"}], \"surface\": [{\"colorbar\": {\"outlinewidth\": 0, \"ticks\": \"\"}, \"colorscale\": [[0.0, \"#0d0887\"], [0.1111111111111111, \"#46039f\"], [0.2222222222222222, \"#7201a8\"], [0.3333333333333333, \"#9c179e\"], [0.4444444444444444, \"#bd3786\"], [0.5555555555555556, \"#d8576b\"], [0.6666666666666666, \"#ed7953\"], [0.7777777777777778, \"#fb9f3a\"], [0.8888888888888888, \"#fdca26\"], [1.0, \"#f0f921\"]], \"type\": \"surface\"}], \"table\": [{\"cells\": {\"fill\": {\"color\": \"#EBF0F8\"}, \"line\": {\"color\": \"white\"}}, \"header\": {\"fill\": {\"color\": \"#C8D4E3\"}, \"line\": {\"color\": \"white\"}}, \"type\": \"table\"}]}, \"layout\": {\"annotationdefaults\": {\"arrowcolor\": \"#2a3f5f\", \"arrowhead\": 0, \"arrowwidth\": 1}, \"coloraxis\": {\"colorbar\": {\"outlinewidth\": 0, \"ticks\": \"\"}}, \"colorscale\": {\"diverging\": [[0, \"#8e0152\"], [0.1, \"#c51b7d\"], [0.2, \"#de77ae\"], [0.3, \"#f1b6da\"], [0.4, \"#fde0ef\"], [0.5, \"#f7f7f7\"], [0.6, \"#e6f5d0\"], [0.7, \"#b8e186\"], [0.8, \"#7fbc41\"], [0.9, \"#4d9221\"], [1, \"#276419\"]], \"sequential\": [[0.0, \"#0d0887\"], [0.1111111111111111, \"#46039f\"], [0.2222222222222222, \"#7201a8\"], [0.3333333333333333, \"#9c179e\"], [0.4444444444444444, \"#bd3786\"], [0.5555555555555556, \"#d8576b\"], [0.6666666666666666, \"#ed7953\"], [0.7777777777777778, \"#fb9f3a\"], [0.8888888888888888, \"#fdca26\"], [1.0, \"#f0f921\"]], \"sequentialminus\": [[0.0, \"#0d0887\"], [0.1111111111111111, \"#46039f\"], [0.2222222222222222, \"#7201a8\"], [0.3333333333333333, \"#9c179e\"], [0.4444444444444444, \"#bd3786\"], [0.5555555555555556, \"#d8576b\"], [0.6666666666666666, \"#ed7953\"], [0.7777777777777778, \"#fb9f3a\"], [0.8888888888888888, \"#fdca26\"], [1.0, \"#f0f921\"]]}, \"colorway\": [\"#636efa\", \"#EF553B\", \"#00cc96\", \"#ab63fa\", \"#FFA15A\", \"#19d3f3\", \"#FF6692\", \"#B6E880\", \"#FF97FF\", \"#FECB52\"], \"font\": {\"color\": \"#2a3f5f\"}, \"geo\": {\"bgcolor\": \"white\", \"lakecolor\": \"white\", \"landcolor\": \"#E5ECF6\", \"showlakes\": true, \"showland\": true, \"subunitcolor\": \"white\"}, \"hoverlabel\": {\"align\": \"left\"}, \"hovermode\": \"closest\", \"mapbox\": {\"style\": \"light\"}, \"paper_bgcolor\": \"white\", \"plot_bgcolor\": \"#E5ECF6\", \"polar\": {\"angularaxis\": {\"gridcolor\": \"white\", \"linecolor\": \"white\", \"ticks\": \"\"}, \"bgcolor\": \"#E5ECF6\", \"radialaxis\": {\"gridcolor\": \"white\", \"linecolor\": \"white\", \"ticks\": \"\"}}, \"scene\": {\"xaxis\": {\"backgroundcolor\": \"#E5ECF6\", \"gridcolor\": \"white\", \"gridwidth\": 2, \"linecolor\": \"white\", \"showbackground\": true, \"ticks\": \"\", \"zerolinecolor\": \"white\"}, \"yaxis\": {\"backgroundcolor\": \"#E5ECF6\", \"gridcolor\": \"white\", \"gridwidth\": 2, \"linecolor\": \"white\", \"showbackground\": true, \"ticks\": \"\", \"zerolinecolor\": \"white\"}, \"zaxis\": {\"backgroundcolor\": \"#E5ECF6\", \"gridcolor\": \"white\", \"gridwidth\": 2, \"linecolor\": \"white\", \"showbackground\": true, \"ticks\": \"\", \"zerolinecolor\": \"white\"}}, \"shapedefaults\": {\"line\": {\"color\": \"#2a3f5f\"}}, \"ternary\": {\"aaxis\": {\"gridcolor\": \"white\", \"linecolor\": \"white\", \"ticks\": \"\"}, \"baxis\": {\"gridcolor\": \"white\", \"linecolor\": \"white\", \"ticks\": \"\"}, \"bgcolor\": \"#E5ECF6\", \"caxis\": {\"gridcolor\": \"white\", \"linecolor\": \"white\", \"ticks\": \"\"}}, \"title\": {\"x\": 0.05}, \"xaxis\": {\"automargin\": true, \"gridcolor\": \"white\", \"linecolor\": \"white\", \"ticks\": \"\", \"title\": {\"standoff\": 15}, \"zerolinecolor\": \"white\", \"zerolinewidth\": 2}, \"yaxis\": {\"automargin\": true, \"gridcolor\": \"white\", \"linecolor\": \"white\", \"ticks\": \"\", \"title\": {\"standoff\": 15}, \"zerolinecolor\": \"white\", \"zerolinewidth\": 2}}}, \"title\": {\"text\": \"Olympic Medals over the Years<br>(Click legend to toggle traces)\"}, \"updatemenus\": [{\"buttons\": [{\"args\": [null, {\"frame\": {\"duration\": 500, \"redraw\": true}, \"fromcurrent\": true, \"transition\": {\"duration\": 300, \"easing\": \"quadratic-in-out\"}}], \"label\": \"Play\", \"method\": \"animate\"}, {\"args\": [[null], {\"frame\": {\"duration\": 0, \"redraw\": true}, \"mode\": \"immediate\", \"transition\": {\"duration\": 0}}], \"label\": \"Pause\", \"method\": \"animate\"}], \"direction\": \"left\", \"pad\": {\"r\": 10, \"t\": 87}, \"showactive\": false, \"type\": \"buttons\", \"x\": 0.1, \"xanchor\": \"right\", \"y\": 0, \"yanchor\": \"top\"}]},\n",
       "                        {\"responsive\": true}\n",
       "                    ).then(function(){\n",
       "                            Plotly.addFrames('61159ea1-0ca8-47aa-a991-9beb11407748', [{\"data\": [{\"locationmode\": \"ISO-3\", \"locations\": [\"DEU\", \"GRC\", \"AUT\", \"GBR\", \"CHE\", \"HUN\", \"DNK\", \"FRA\"], \"marker\": {\"color\": \"royalblue\", \"size\": [32, 48, 5, 9, 3, 6, 6, 11], \"sizemode\": \"area\"}, \"name\": \"Europe\", \"text\": [\"Germany\", \"Greece\", \"Austria\", \"UK\", \"Switzerland\", \"Hungary\", \"Denmark\", \"France\"], \"type\": \"scattergeo\"}, {\"locationmode\": \"ISO-3\", \"locations\": [\"USA\"], \"marker\": {\"color\": \"crimson\", \"size\": [20], \"sizemode\": \"area\"}, \"name\": \"Americas\", \"text\": [\"USA\"], \"type\": \"scattergeo\"}, {\"locationmode\": \"ISO-3\", \"locations\": [\"AUS\"], \"marker\": {\"color\": \"lightseagreen\", \"size\": [3], \"sizemode\": \"area\"}, \"name\": \"Oceania\", \"text\": [\"Australia\"], \"type\": \"scattergeo\"}], \"name\": \"1896\"}, {\"data\": [{\"locationmode\": \"ISO-3\", \"locations\": [\"HUN\", \"AUT\", \"CHE\", \"ESP\", \"GBR\", \"SWE\", \"NOR\", \"DNK\", \"LUX\", \"ITA\", \"BEL\", \"FRA\", \"NLD\", \"DEU\"], \"marker\": {\"color\": \"royalblue\", \"size\": [5, 6, 21, 2, 108, 4, 9, 9, 1, 5, 43, 235, 27, 45], \"sizemode\": \"area\"}, \"name\": \"Europe\", \"text\": [\"Hungary\", \"Austria\", \"Switzerland\", \"Spain\", \"UK\", \"Sweden\", \"Norway\", \"Denmark\", \"Luxembourg\", \"Italy\", \"Belgium\", \"France\", \"Netherlands\", \"Germany\"], \"type\": \"scattergeo\"}, {\"locationmode\": \"ISO-3\", \"locations\": [\"HTI\", \"MEX\", \"USA\", \"COL\", \"CAN\", \"CUB\"], \"marker\": {\"color\": \"crimson\", \"size\": [1, 3, 63, 1, 2, 2], \"sizemode\": \"area\"}, \"name\": \"Americas\", \"text\": [\"Haiti\", \"Mexico\", \"USA\", \"Colombia\", \"Canada\", \"Cuba\"], \"type\": \"scattergeo\"}, {\"locationmode\": \"ISO-3\", \"locations\": [\"NZL\", \"AUS\"], \"marker\": {\"color\": \"lightseagreen\", \"size\": [1, 6], \"sizemode\": \"area\"}, \"name\": \"Oceania\", \"text\": [\"New Zealand\", \"Australia\"], \"type\": \"scattergeo\"}, {\"locationmode\": \"ISO-3\", \"locations\": [\"IND\"], \"marker\": {\"color\": \"orange\", \"size\": [2], \"sizemode\": \"area\"}, \"name\": \"Asia\", \"text\": [\"India\"], \"type\": \"scattergeo\"}], \"name\": \"1900\"}, {\"data\": [{\"locationmode\": \"ISO-3\", \"locations\": [\"FRA\", \"DEU\", \"AUT\", \"GRC\", \"NOR\", \"CHE\", \"HUN\", \"GBR\"], \"marker\": {\"color\": \"royalblue\", \"size\": [2, 16, 4, 2, 2, 3, 4, 2], \"sizemode\": \"area\"}, \"name\": \"Europe\", \"text\": [\"France\", \"Germany\", \"Austria\", \"Greece\", \"Norway\", \"Switzerland\", \"Hungary\", \"UK\"], \"type\": \"scattergeo\"}, {\"locationmode\": \"ISO-3\", \"locations\": [\"CAN\", \"CUB\", \"USA\"], \"marker\": {\"color\": \"crimson\", \"size\": [48, 5, 394], \"sizemode\": \"area\"}, \"name\": \"Americas\", \"text\": [\"Canada\", \"Cuba\", \"USA\"], \"type\": \"scattergeo\"}, {\"locationmode\": \"ISO-3\", \"locations\": [\"AUS\"], \"marker\": {\"color\": \"lightseagreen\", \"size\": [4], \"sizemode\": \"area\"}, \"name\": \"Oceania\", \"text\": [\"Australia\"], \"type\": \"scattergeo\"}], \"name\": \"1904\"}, {\"data\": [{\"locationmode\": \"ISO-3\", \"locations\": [\"AUT\", \"GRC\", \"HUN\", \"BEL\", \"GBR\", \"ITA\", \"DEU\", \"FRA\", \"DNK\", \"FIN\", \"NOR\", \"NLD\", \"SWE\", \"CHE\"], \"marker\": {\"color\": \"royalblue\", \"size\": [9, 102, 13, 11, 39, 56, 30, 64, 34, 4, 25, 6, 21, 12], \"sizemode\": \"area\"}, \"name\": \"Europe\", \"text\": [\"Austria\", \"Greece\", \"Hungary\", \"Belgium\", \"UK\", \"Italy\", \"Germany\", \"France\", \"Denmark\", \"Finland\", \"Norway\", \"Netherlands\", \"Sweden\", \"Switzerland\"], \"type\": \"scattergeo\"}, {\"locationmode\": \"ISO-3\", \"locations\": [\"USA\", \"CAN\"], \"marker\": {\"color\": \"crimson\", \"size\": [24, 2], \"sizemode\": \"area\"}, \"name\": \"Americas\", \"text\": [\"USA\", \"Canada\"], \"type\": \"scattergeo\"}, {\"locationmode\": \"ISO-3\", \"locations\": [\"AUS\"], \"marker\": {\"color\": \"lightseagreen\", \"size\": [3], \"sizemode\": \"area\"}, \"name\": \"Oceania\", \"text\": [\"Australia\"], \"type\": \"scattergeo\"}], \"name\": \"1906\"}, {\"data\": [{\"locationmode\": \"ISO-3\", \"locations\": [\"GRC\", \"BEL\", \"HUN\", \"NOR\", \"NLD\", \"ITA\", \"AUT\", \"GBR\", \"RUS\", \"FRA\", \"SWE\", \"FIN\", \"DEU\", \"DNK\"], \"marker\": {\"color\": \"royalblue\", \"size\": [4, 33, 20, 42, 16, 8, 1, 368, 3, 40, 84, 30, 21, 17], \"sizemode\": \"area\"}, \"name\": \"Europe\", \"text\": [\"Greece\", \"Belgium\", \"Hungary\", \"Norway\", \"Netherlands\", \"Italy\", \"Austria\", \"UK\", \"Russia\", \"France\", \"Sweden\", \"Finland\", \"Germany\", \"Denmark\"], \"type\": \"scattergeo\"}, {\"locationmode\": \"ISO-3\", \"locations\": [\"USA\", \"CAN\"], \"marker\": {\"color\": \"crimson\", \"size\": [65, 52], \"sizemode\": \"area\"}, \"name\": \"Americas\", \"text\": [\"USA\", \"Canada\"], \"type\": \"scattergeo\"}, {\"locationmode\": \"ISO-3\", \"locations\": [\"AUS\"], \"marker\": {\"color\": \"lightseagreen\", \"size\": [19], \"sizemode\": \"area\"}, \"name\": \"Oceania\", \"text\": [\"Australia\"], \"type\": \"scattergeo\"}, {\"locationmode\": \"ISO-3\", \"locations\": [\"ZAF\"], \"marker\": {\"color\": \"lightgrey\", \"size\": [2], \"sizemode\": \"area\"}, \"name\": \"Africa\", \"text\": [\"South Africa\"], \"type\": \"scattergeo\"}], \"name\": \"1908\"}, {\"data\": [{\"locationmode\": \"ISO-3\", \"locations\": [\"GBR\", \"CHE\", \"ITA\", \"FRA\", \"BEL\", \"FIN\", \"DEU\", \"GRC\", \"DNK\", \"HUN\", \"AUT\", \"NLD\", \"NOR\", \"SWE\", \"RUS\"], \"marker\": {\"color\": \"royalblue\", \"size\": [170, 2, 25, 26, 19, 71, 53, 2, 87, 30, 14, 26, 80, 190, 14], \"sizemode\": \"area\"}, \"name\": \"Europe\", \"text\": [\"UK\", \"Switzerland\", \"Italy\", \"France\", \"Belgium\", \"Finland\", \"Germany\", \"Greece\", \"Denmark\", \"Hungary\", \"Austria\", \"Netherlands\", \"Norway\", \"Sweden\", \"Russia\"], \"type\": \"scattergeo\"}, {\"locationmode\": \"ISO-3\", \"locations\": [\"CAN\", \"USA\"], \"marker\": {\"color\": \"crimson\", \"size\": [8, 107], \"sizemode\": \"area\"}, \"name\": \"Americas\", \"text\": [\"Canada\", \"USA\"], \"type\": \"scattergeo\"}, {\"locationmode\": \"ISO-3\", \"locations\": [\"AUS\"], \"marker\": {\"color\": \"lightseagreen\", \"size\": [10], \"sizemode\": \"area\"}, \"name\": \"Oceania\", \"text\": [\"Australia\"], \"type\": \"scattergeo\"}, {\"locationmode\": \"ISO-3\", \"locations\": [\"ZAF\"], \"marker\": {\"color\": \"lightgrey\", \"size\": [7], \"sizemode\": \"area\"}, \"name\": \"Africa\", \"text\": [\"South Africa\"], \"type\": \"scattergeo\"}], \"name\": \"1912\"}, {\"data\": [{\"locationmode\": \"ISO-3\", \"locations\": [\"ITA\", \"BEL\", \"NOR\", \"FRA\", \"LUX\", \"GBR\", \"GRC\", \"FIN\", \"NLD\", \"EST\", \"CHE\", \"ESP\", \"SWE\", \"DNK\"], \"marker\": {\"color\": \"royalblue\", \"size\": [84, 188, 137, 141, 1, 111, 5, 52, 50, 3, 29, 23, 154, 71], \"sizemode\": \"area\"}, \"name\": \"Europe\", \"text\": [\"Italy\", \"Belgium\", \"Norway\", \"France\", \"Luxembourg\", \"UK\", \"Greece\", \"Finland\", \"Netherlands\", \"Estonia\", \"Switzerland\", \"Spain\", \"Sweden\", \"Denmark\"], \"type\": \"scattergeo\"}, {\"locationmode\": \"ISO-3\", \"locations\": [\"BRA\", \"USA\", \"CAN\"], \"marker\": {\"color\": \"crimson\", \"size\": [7, 194, 16], \"sizemode\": \"area\"}, \"name\": \"Americas\", \"text\": [\"Brazil\", \"USA\", \"Canada\"], \"type\": \"scattergeo\"}, {\"locationmode\": \"ISO-3\", \"locations\": [\"AUS\", \"NZL\"], \"marker\": {\"color\": \"lightseagreen\", \"size\": [7, 1], \"sizemode\": \"area\"}, \"name\": \"Oceania\", \"text\": [\"Australia\", \"New Zealand\"], \"type\": \"scattergeo\"}, {\"locationmode\": \"ISO-3\", \"locations\": [\"JPN\"], \"marker\": {\"color\": \"orange\", \"size\": [3], \"sizemode\": \"area\"}, \"name\": \"Asia\", \"text\": [\"Japan\"], \"type\": \"scattergeo\"}, {\"locationmode\": \"ISO-3\", \"locations\": [\"ZAF\"], \"marker\": {\"color\": \"lightgrey\", \"size\": [21], \"sizemode\": \"area\"}, \"name\": \"Africa\", \"text\": [\"South Africa\"], \"type\": \"scattergeo\"}], \"name\": \"1920\"}, {\"data\": [{\"locationmode\": \"ISO-3\", \"locations\": [\"NLD\", \"CHE\", \"POL\", \"GBR\", \"EST\", \"SWE\", \"FRA\", \"LUX\", \"NOR\", \"PRT\", \"ROU\", \"AUT\", \"FIN\", \"MCO\", \"DNK\", \"GRC\", \"ITA\", \"IRL\", \"HUN\", \"SRB\", \"BEL\"], \"marker\": {\"color\": \"royalblue\", \"size\": [27, 69, 5, 95, 6, 81, 120, 2, 39, 4, 16, 8, 67, 1, 14, 1, 51, 2, 22, 2, 44], \"sizemode\": \"area\"}, \"name\": \"Europe\", \"text\": [\"Netherlands\", \"Switzerland\", \"Poland\", \"UK\", \"Estonia\", \"Sweden\", \"France\", \"Luxembourg\", \"Norway\", \"Portugal\", \"Romania\", \"Austria\", \"Finland\", \"Monaco\", \"Denmark\", \"Greece\", \"Italy\", \"Ireland\", \"Hungary\", \"Serbia\", \"Belgium\"], \"type\": \"scattergeo\"}, {\"locationmode\": \"ISO-3\", \"locations\": [\"USA\", \"ARG\", \"URY\", \"CAN\", \"HTI\"], \"marker\": {\"color\": \"crimson\", \"size\": [194, 10, 14, 29, 5], \"sizemode\": \"area\"}, \"name\": \"Americas\", \"text\": [\"USA\", \"Argentina\", \"Uruguay\", \"Canada\", \"Haiti\"], \"type\": \"scattergeo\"}, {\"locationmode\": \"ISO-3\", \"locations\": [\"AUS\", \"NZL\"], \"marker\": {\"color\": \"lightseagreen\", \"size\": [11, 1], \"sizemode\": \"area\"}, \"name\": \"Oceania\", \"text\": [\"Australia\", \"New Zealand\"], \"type\": \"scattergeo\"}, {\"locationmode\": \"ISO-3\", \"locations\": [\"NPL\", \"JPN\", \"IND\"], \"marker\": {\"color\": \"orange\", \"size\": [1, 1, 7], \"sizemode\": \"area\"}, \"name\": \"Asia\", \"text\": [\"Nepal\", \"Japan\", \"India\"], \"type\": \"scattergeo\"}, {\"locationmode\": \"ISO-3\", \"locations\": [\"ZAF\"], \"marker\": {\"color\": \"lightgrey\", \"size\": [3], \"sizemode\": \"area\"}, \"name\": \"Africa\", \"text\": [\"South Africa\"], \"type\": \"scattergeo\"}], \"name\": \"1924\"}, {\"data\": [{\"locationmode\": \"ISO-3\", \"locations\": [\"POL\", \"HUN\", \"NOR\", \"FRA\", \"ESP\", \"PRT\", \"LUX\", \"BEL\", \"EST\", \"SWE\", \"FIN\", \"GBR\", \"ITA\", \"SRB\", \"NLD\", \"DEU\", \"IRL\", \"CHE\", \"AUT\", \"DNK\"], \"marker\": {\"color\": \"royalblue\", \"size\": [20, 21, 24, 52, 3, 6, 1, 6, 9, 53, 29, 59, 72, 12, 57, 82, 1, 42, 11, 15], \"sizemode\": \"area\"}, \"name\": \"Europe\", \"text\": [\"Poland\", \"Hungary\", \"Norway\", \"France\", \"Spain\", \"Portugal\", \"Luxembourg\", \"Belgium\", \"Estonia\", \"Sweden\", \"Finland\", \"UK\", \"Italy\", \"Serbia\", \"Netherlands\", \"Germany\", \"Ireland\", \"Switzerland\", \"Austria\", \"Denmark\"], \"type\": \"scattergeo\"}, {\"locationmode\": \"ISO-3\", \"locations\": [\"CHL\", \"CAN\", \"ARG\", \"HTI\", \"URY\", \"USA\"], \"marker\": {\"color\": \"crimson\", \"size\": [1, 45, 26, 1, 17, 102], \"sizemode\": \"area\"}, \"name\": \"Americas\", \"text\": [\"Chile\", \"Canada\", \"Argentina\", \"Haiti\", \"Uruguay\", \"USA\"], \"type\": \"scattergeo\"}, {\"locationmode\": \"ISO-3\", \"locations\": [\"NZL\", \"AUS\"], \"marker\": {\"color\": \"lightseagreen\", \"size\": [1, 4], \"sizemode\": \"area\"}, \"name\": \"Oceania\", \"text\": [\"New Zealand\", \"Australia\"], \"type\": \"scattergeo\"}, {\"locationmode\": \"ISO-3\", \"locations\": [\"IND\", \"JPN\", \"PHL\"], \"marker\": {\"color\": \"orange\", \"size\": [14, 9, 1], \"sizemode\": \"area\"}, \"name\": \"Asia\", \"text\": [\"India\", \"Japan\", \"Philippines\"], \"type\": \"scattergeo\"}, {\"locationmode\": \"ISO-3\", \"locations\": [\"EGY\", \"ZAF\"], \"marker\": {\"color\": \"lightgrey\", \"size\": [4, 6], \"sizemode\": \"area\"}, \"name\": \"Africa\", \"text\": [\"Egypt\", \"South Africa\"], \"type\": \"scattergeo\"}], \"name\": \"1928\"}, {\"data\": [{\"locationmode\": \"ISO-3\", \"locations\": [\"SWE\", \"NLD\", \"HUN\", \"DNK\", \"ESP\", \"IRL\", \"CHE\", \"ITA\", \"AUT\", \"GBR\", \"POL\", \"FIN\", \"NOR\", \"DEU\", \"BEL\", \"FRA\", \"LVA\"], \"marker\": {\"color\": \"royalblue\", \"size\": [35, 13, 35, 11, 1, 2, 3, 77, 7, 35, 21, 32, 10, 57, 1, 42, 1], \"sizemode\": \"area\"}, \"name\": \"Europe\", \"text\": [\"Sweden\", \"Netherlands\", \"Hungary\", \"Denmark\", \"Spain\", \"Ireland\", \"Switzerland\", \"Italy\", \"Austria\", \"UK\", \"Poland\", \"Finland\", \"Norway\", \"Germany\", \"Belgium\", \"France\", \"Latvia\"], \"type\": \"scattergeo\"}, {\"locationmode\": \"ISO-3\", \"locations\": [\"CAN\", \"ARG\", \"USA\", \"URY\", \"MEX\"], \"marker\": {\"color\": \"crimson\", \"size\": [59, 4, 223, 1, 2], \"sizemode\": \"area\"}, \"name\": \"Americas\", \"text\": [\"Canada\", \"Argentina\", \"USA\", \"Uruguay\", \"Mexico\"], \"type\": \"scattergeo\"}, {\"locationmode\": \"ISO-3\", \"locations\": [\"NZL\", \"AUS\"], \"marker\": {\"color\": \"lightseagreen\", \"size\": [2, 5], \"sizemode\": \"area\"}, \"name\": \"Oceania\", \"text\": [\"New Zealand\", \"Australia\"], \"type\": \"scattergeo\"}, {\"locationmode\": \"ISO-3\", \"locations\": [\"IND\", \"JPN\", \"PHL\"], \"marker\": {\"color\": \"orange\", \"size\": [15, 31, 3], \"sizemode\": \"area\"}, \"name\": \"Asia\", \"text\": [\"India\", \"Japan\", \"Philippines\"], \"type\": \"scattergeo\"}, {\"locationmode\": \"ISO-3\", \"locations\": [\"ZAF\"], \"marker\": {\"color\": \"lightgrey\", \"size\": [5], \"sizemode\": \"area\"}, \"name\": \"Africa\", \"text\": [\"South Africa\"], \"type\": \"scattergeo\"}], \"name\": \"1932\"}, {\"data\": [{\"locationmode\": \"ISO-3\", \"locations\": [\"LVA\", \"NOR\", \"GBR\", \"DEU\", \"NLD\", \"SRB\", \"DNK\", \"EST\", \"SWE\", \"AUT\", \"FIN\", \"ROU\", \"HUN\", \"ITA\", \"POL\", \"PRT\", \"BEL\", \"FRA\", \"CHE\"], \"marker\": {\"color\": \"royalblue\", \"size\": [2, 46, 53, 231, 37, 1, 6, 7, 45, 60, 36, 1, 43, 76, 12, 3, 14, 45, 62], \"sizemode\": \"area\"}, \"name\": \"Europe\", \"text\": [\"Latvia\", \"Norway\", \"UK\", \"Germany\", \"Netherlands\", \"Serbia\", \"Denmark\", \"Estonia\", \"Sweden\", \"Austria\", \"Finland\", \"Romania\", \"Hungary\", \"Italy\", \"Poland\", \"Portugal\", \"Belgium\", \"France\", \"Switzerland\"], \"type\": \"scattergeo\"}, {\"locationmode\": \"ISO-3\", \"locations\": [\"ARG\", \"USA\", \"MEX\", \"CAN\"], \"marker\": {\"color\": \"crimson\", \"size\": [11, 112, 16, 35], \"sizemode\": \"area\"}, \"name\": \"Americas\", \"text\": [\"Argentina\", \"USA\", \"Mexico\", \"Canada\"], \"type\": \"scattergeo\"}, {\"locationmode\": \"ISO-3\", \"locations\": [\"NZL\", \"AUS\"], \"marker\": {\"color\": \"lightseagreen\", \"size\": [1, 1], \"sizemode\": \"area\"}, \"name\": \"Oceania\", \"text\": [\"New Zealand\", \"Australia\"], \"type\": \"scattergeo\"}, {\"locationmode\": \"ISO-3\", \"locations\": [\"IND\", \"TUR\", \"PHL\", \"JPN\"], \"marker\": {\"color\": \"orange\", \"size\": [19, 2, 1, 23], \"sizemode\": \"area\"}, \"name\": \"Asia\", \"text\": [\"India\", \"Turkey\", \"Philippines\", \"Japan\"], \"type\": \"scattergeo\"}, {\"locationmode\": \"ISO-3\", \"locations\": [\"EGY\", \"ZAF\"], \"marker\": {\"color\": \"lightgrey\", \"size\": [5, 1], \"sizemode\": \"area\"}, \"name\": \"Africa\", \"text\": [\"Egypt\", \"South Africa\"], \"type\": \"scattergeo\"}], \"name\": \"1936\"}, {\"data\": [{\"locationmode\": \"ISO-3\", \"locations\": [\"NLD\", \"ITA\", \"NOR\", \"DNK\", \"IRL\", \"FRA\", \"ESP\", \"PRT\", \"SWE\", \"HUN\", \"CHE\", \"GBR\", \"FIN\", \"POL\", \"SRB\", \"AUT\", \"BEL\"], \"marker\": {\"color\": \"royalblue\", \"size\": [42, 68, 31, 51, 1, 77, 3, 5, 88, 64, 64, 63, 42, 2, 16, 16, 21], \"sizemode\": \"area\"}, \"name\": \"Europe\", \"text\": [\"Netherlands\", \"Italy\", \"Norway\", \"Denmark\", \"Ireland\", \"France\", \"Spain\", \"Portugal\", \"Sweden\", \"Hungary\", \"Switzerland\", \"UK\", \"Finland\", \"Poland\", \"Serbia\", \"Austria\", \"Belgium\"], \"type\": \"scattergeo\"}, {\"locationmode\": \"ISO-3\", \"locations\": [\"PER\", \"JAM\", \"PAN\", \"TTO\", \"CUB\", \"URY\", \"MEX\", \"PRI\", \"USA\", \"ARG\", \"BRA\", \"CAN\"], \"marker\": {\"color\": \"crimson\", \"size\": [1, 3, 2, 1, 2, 3, 9, 1, 168, 11, 10, 22], \"sizemode\": \"area\"}, \"name\": \"Americas\", \"text\": [\"Peru\", \"Jamaica\", \"Panama\", \"Trinidad\", \"Cuba\", \"Uruguay\", \"Mexico\", \"Puerto Rico\", \"USA\", \"Argentina\", \"Brazil\", \"Canada\"], \"type\": \"scattergeo\"}, {\"locationmode\": \"ISO-3\", \"locations\": [\"AUS\"], \"marker\": {\"color\": \"lightseagreen\", \"size\": [16], \"sizemode\": \"area\"}, \"name\": \"Oceania\", \"text\": [\"Australia\"], \"type\": \"scattergeo\"}, {\"locationmode\": \"ISO-3\", \"locations\": [\"IND\", \"KOR\", \"TUR\", \"LKA\"], \"marker\": {\"color\": \"orange\", \"size\": [20, 2, 12, 1], \"sizemode\": \"area\"}, \"name\": \"Asia\", \"text\": [\"India\", \"South Korea\", \"Turkey\", \"Sri Lanka\"], \"type\": \"scattergeo\"}, {\"locationmode\": \"ISO-3\", \"locations\": [\"EGY\", \"ZAF\"], \"marker\": {\"color\": \"lightgrey\", \"size\": [5, 6], \"sizemode\": \"area\"}, \"name\": \"Africa\", \"text\": [\"Egypt\", \"South Africa\"], \"type\": \"scattergeo\"}], \"name\": \"1948\"}, {\"data\": [{\"locationmode\": \"ISO-3\", \"locations\": [\"SWE\", \"FIN\", \"PRT\", \"DNK\", \"ROU\", \"SRB\", \"POL\", \"CHE\", \"AUT\", \"BGR\", \"HUN\", \"NLD\", \"BEL\", \"NOR\", \"IRL\", \"DEU\", \"LUX\", \"ITA\", \"FRA\", \"ESP\", \"GBR\"], \"marker\": {\"color\": \"royalblue\", \"size\": [93, 52, 2, 9, 4, 24, 4, 39, 11, 1, 104, 21, 8, 32, 1, 52, 1, 56, 41, 1, 32], \"sizemode\": \"area\"}, \"name\": \"Europe\", \"text\": [\"Sweden\", \"Finland\", \"Portugal\", \"Denmark\", \"Romania\", \"Serbia\", \"Poland\", \"Switzerland\", \"Austria\", \"Bulgaria\", \"Hungary\", \"Netherlands\", \"Belgium\", \"Norway\", \"Ireland\", \"Germany\", \"Luxembourg\", \"Italy\", \"France\", \"Spain\", \"UK\"], \"type\": \"scattergeo\"}, {\"locationmode\": \"ISO-3\", \"locations\": [\"CAN\", \"TTO\", \"VEN\", \"CHL\", \"MEX\", \"JAM\", \"BRA\", \"ARG\", \"URY\", \"USA\"], \"marker\": {\"color\": \"crimson\", \"size\": [21, 2, 1, 4, 1, 8, 3, 6, 14, 164], \"sizemode\": \"area\"}, \"name\": \"Americas\", \"text\": [\"Canada\", \"Trinidad\", \"Venezuela\", \"Chile\", \"Mexico\", \"Jamaica\", \"Brazil\", \"Argentina\", \"Uruguay\", \"USA\"], \"type\": \"scattergeo\"}, {\"locationmode\": \"ISO-3\", \"locations\": [\"AUS\", \"NZL\"], \"marker\": {\"color\": \"lightseagreen\", \"size\": [20, 3], \"sizemode\": \"area\"}, \"name\": \"Oceania\", \"text\": [\"Australia\", \"New Zealand\"], \"type\": \"scattergeo\"}, {\"locationmode\": \"ISO-3\", \"locations\": [\"JPN\", \"KOR\", \"IND\", \"TUR\", \"LBN\"], \"marker\": {\"color\": \"orange\", \"size\": [12, 2, 15, 3, 2], \"sizemode\": \"area\"}, \"name\": \"Asia\", \"text\": [\"Japan\", \"South Korea\", \"India\", \"Turkey\", \"Lebanon\"], \"type\": \"scattergeo\"}, {\"locationmode\": \"ISO-3\", \"locations\": [\"ZAF\", \"EGY\"], \"marker\": {\"color\": \"lightgrey\", \"size\": [14, 1], \"sizemode\": \"area\"}, \"name\": \"Africa\", \"text\": [\"South Africa\", \"Egypt\"], \"type\": \"scattergeo\"}], \"name\": \"1952\"}, {\"data\": [{\"locationmode\": \"ISO-3\", \"locations\": [\"DEU\", \"CHE\", \"SWE\", \"NOR\", \"IRL\", \"ISL\", \"HUN\", \"BEL\", \"AUT\", \"FRA\", \"BGR\", \"GBR\", \"FIN\", \"ROU\", \"SRB\", \"POL\", \"DNK\", \"ITA\", \"GRC\"], \"marker\": {\"color\": \"royalblue\", \"size\": [54, 13, 49, 7, 5, 1, 66, 2, 16, 33, 18, 46, 38, 19, 23, 20, 6, 55, 1], \"sizemode\": \"area\"}, \"name\": \"Europe\", \"text\": [\"Germany\", \"Switzerland\", \"Sweden\", \"Norway\", \"Ireland\", \"Iceland\", \"Hungary\", \"Belgium\", \"Austria\", \"France\", \"Bulgaria\", \"UK\", \"Finland\", \"Romania\", \"Serbia\", \"Poland\", \"Denmark\", \"Italy\", \"Greece\"], \"type\": \"scattergeo\"}, {\"locationmode\": \"ISO-3\", \"locations\": [\"CAN\", \"BRA\", \"ARG\", \"URY\", \"USA\", \"BHS\", \"MEX\", \"CHL\"], \"marker\": {\"color\": \"crimson\", \"size\": [39, 1, 2, 12, 149, 2, 2, 4], \"sizemode\": \"area\"}, \"name\": \"Americas\", \"text\": [\"Canada\", \"Brazil\", \"Argentina\", \"Uruguay\", \"USA\", \"Bahamas\", \"Mexico\", \"Chile\"], \"type\": \"scattergeo\"}, {\"locationmode\": \"ISO-3\", \"locations\": [\"AUS\", \"NZL\"], \"marker\": {\"color\": \"lightseagreen\", \"size\": [67, 3], \"sizemode\": \"area\"}, \"name\": \"Oceania\", \"text\": [\"Australia\", \"New Zealand\"], \"type\": \"scattergeo\"}, {\"locationmode\": \"ISO-3\", \"locations\": [\"KOR\", \"TUR\", \"JPN\", \"PAK\", \"IND\"], \"marker\": {\"color\": \"orange\", \"size\": [2, 7, 25, 14, 17], \"sizemode\": \"area\"}, \"name\": \"Asia\", \"text\": [\"South Korea\", \"Turkey\", \"Japan\", \"Pakistan\", \"India\"], \"type\": \"scattergeo\"}, {\"locationmode\": \"ISO-3\", \"locations\": [\"ZAF\"], \"marker\": {\"color\": \"lightgrey\", \"size\": [7], \"sizemode\": \"area\"}, \"name\": \"Africa\", \"text\": [\"South Africa\"], \"type\": \"scattergeo\"}], \"name\": \"1956\"}, {\"data\": [{\"locationmode\": \"ISO-3\", \"locations\": [\"FIN\", \"AUT\", \"SRB\", \"ROU\", \"FRA\", \"CHE\", \"BGR\", \"POL\", \"ITA\", \"GBR\", \"DEU\", \"PRT\", \"GRC\", \"NOR\", \"DNK\", \"NLD\", \"BEL\", \"HUN\", \"SWE\", \"ESP\"], \"marker\": {\"color\": \"royalblue\", \"size\": [19, 9, 17, 15, 15, 14, 7, 32, 89, 28, 98, 2, 3, 11, 23, 5, 4, 66, 16, 14], \"sizemode\": \"area\"}, \"name\": \"Europe\", \"text\": [\"Finland\", \"Austria\", \"Serbia\", \"Romania\", \"France\", \"Switzerland\", \"Bulgaria\", \"Poland\", \"Italy\", \"UK\", \"Germany\", \"Portugal\", \"Greece\", \"Norway\", \"Denmark\", \"Netherlands\", \"Belgium\", \"Hungary\", \"Sweden\", \"Spain\"], \"type\": \"scattergeo\"}, {\"locationmode\": \"ISO-3\", \"locations\": [\"CAN\", \"BRA\", \"MEX\", \"USA\", \"ARG\", \"VEN\"], \"marker\": {\"color\": \"crimson\", \"size\": [30, 13, 1, 152, 4, 1], \"sizemode\": \"area\"}, \"name\": \"Americas\", \"text\": [\"Canada\", \"Brazil\", \"Mexico\", \"USA\", \"Argentina\", \"Venezuela\"], \"type\": \"scattergeo\"}, {\"locationmode\": \"ISO-3\", \"locations\": [\"NZL\", \"AUS\"], \"marker\": {\"color\": \"lightseagreen\", \"size\": [3, 46], \"sizemode\": \"area\"}, \"name\": \"Oceania\", \"text\": [\"New Zealand\", \"Australia\"], \"type\": \"scattergeo\"}, {\"locationmode\": \"ISO-3\", \"locations\": [\"TUR\", \"JPN\", \"IRQ\", \"IND\", \"PAK\"], \"marker\": {\"color\": \"orange\", \"size\": [9, 31, 1, 13, 14], \"sizemode\": \"area\"}, \"name\": \"Asia\", \"text\": [\"Turkey\", \"Japan\", \"Iraq\", \"India\", \"Pakistan\"], \"type\": \"scattergeo\"}, {\"locationmode\": \"ISO-3\", \"locations\": [\"ETH\", \"GHA\", \"MAR\", \"ZAF\"], \"marker\": {\"color\": \"lightgrey\", \"size\": [1, 1, 1, 3], \"sizemode\": \"area\"}, \"name\": \"Africa\", \"text\": [\"Ethiopia\", \"Ghana\", \"Morocco\", \"South Africa\"], \"type\": \"scattergeo\"}], \"name\": \"1960\"}, {\"data\": [{\"locationmode\": \"ISO-3\", \"locations\": [\"POL\", \"DEU\", \"HUN\", \"SWE\", \"IRL\", \"BGR\", \"NOR\", \"BEL\", \"GBR\", \"CHE\", \"AUT\", \"SRB\", \"FIN\", \"FRA\", \"DNK\", \"NLD\", \"ITA\", \"ROU\"], \"marker\": {\"color\": \"royalblue\", \"size\": [46, 126, 56, 43, 1, 10, 15, 3, 30, 6, 17, 15, 20, 38, 12, 33, 61, 16], \"sizemode\": \"area\"}, \"name\": \"Europe\", \"text\": [\"Poland\", \"Germany\", \"Hungary\", \"Sweden\", \"Ireland\", \"Bulgaria\", \"Norway\", \"Belgium\", \"UK\", \"Switzerland\", \"Austria\", \"Serbia\", \"Finland\", \"France\", \"Denmark\", \"Netherlands\", \"Italy\", \"Romania\"], \"type\": \"scattergeo\"}, {\"locationmode\": \"ISO-3\", \"locations\": [\"USA\", \"MEX\", \"TTO\", \"ARG\", \"BHS\", \"URY\", \"CUB\", \"BRA\", \"CAN\"], \"marker\": {\"color\": \"crimson\", \"size\": [177, 1, 6, 1, 2, 1, 1, 12, 12], \"sizemode\": \"area\"}, \"name\": \"Americas\", \"text\": [\"USA\", \"Mexico\", \"Trinidad\", \"Argentina\", \"Bahamas\", \"Uruguay\", \"Cuba\", \"Brazil\", \"Canada\"], \"type\": \"scattergeo\"}, {\"locationmode\": \"ISO-3\", \"locations\": [\"AUS\", \"NZL\"], \"marker\": {\"color\": \"lightseagreen\", \"size\": [44, 6], \"sizemode\": \"area\"}, \"name\": \"Oceania\", \"text\": [\"Australia\", \"New Zealand\"], \"type\": \"scattergeo\"}, {\"locationmode\": \"ISO-3\", \"locations\": [\"PHL\", \"TUR\", \"PRK\", \"PAK\", \"JPN\", \"KOR\", \"IND\"], \"marker\": {\"color\": \"orange\", \"size\": [1, 6, 1, 16, 62, 3, 15], \"sizemode\": \"area\"}, \"name\": \"Asia\", \"text\": [\"Philippines\", \"Turkey\", \"North Korea\", \"Pakistan\", \"Japan\", \"South Korea\", \"India\"], \"type\": \"scattergeo\"}, {\"locationmode\": \"ISO-3\", \"locations\": [\"TUN\", \"ETH\", \"NGA\", \"KEN\", \"GHA\"], \"marker\": {\"color\": \"lightgrey\", \"size\": [2, 1, 1, 1, 1], \"sizemode\": \"area\"}, \"name\": \"Africa\", \"text\": [\"Tunisia\", \"Ethiopia\", \"Nigeria\", \"Kenya\", \"Ghana\"], \"type\": \"scattergeo\"}], \"name\": \"1964\"}, {\"data\": [{\"locationmode\": \"ISO-3\", \"locations\": [\"ITA\", \"ROU\", \"GBR\", \"GRC\", \"CHE\", \"DEU\", \"DEU\", \"BEL\", \"HUN\", \"SRB\", \"POL\", \"FIN\", \"DNK\", \"SWE\", \"BGR\", \"FRA\", \"AUT\", \"NOR\", \"NLD\"], \"marker\": {\"color\": \"royalblue\", \"size\": [41, 25, 19, 1, 22, 58, 61, 3, 81, 29, 37, 12, 17, 25, 26, 36, 20, 28, 23], \"sizemode\": \"area\"}, \"name\": \"Europe\", \"text\": [\"Italy\", \"Romania\", \"UK\", \"Greece\", \"Switzerland\", \"Germany\", \"Germany\", \"Belgium\", \"Hungary\", \"Serbia\", \"Poland\", \"Finland\", \"Denmark\", \"Sweden\", \"Bulgaria\", \"France\", \"Austria\", \"Norway\", \"Netherlands\"], \"type\": \"scattergeo\"}, {\"locationmode\": \"ISO-3\", \"locations\": [\"VEN\", \"BRA\", \"USA\", \"MEX\", \"JAM\", \"ARG\", \"CUB\", \"CAN\"], \"marker\": {\"color\": \"crimson\", \"size\": [1, 4, 173, 9, 1, 2, 10, 30], \"sizemode\": \"area\"}, \"name\": \"Americas\", \"text\": [\"Venezuela\", \"Brazil\", \"USA\", \"Mexico\", \"Jamaica\", \"Argentina\", \"Cuba\", \"Canada\"], \"type\": \"scattergeo\"}, {\"locationmode\": \"ISO-3\", \"locations\": [\"NZL\", \"AUS\"], \"marker\": {\"color\": \"lightseagreen\", \"size\": [7, 51], \"sizemode\": \"area\"}, \"name\": \"Oceania\", \"text\": [\"New Zealand\", \"Australia\"], \"type\": \"scattergeo\"}, {\"locationmode\": \"ISO-3\", \"locations\": [\"PAK\", \"IND\", \"TUR\", \"MNG\", \"JPN\", \"KOR\"], \"marker\": {\"color\": \"orange\", \"size\": [13, 16, 2, 4, 63, 2], \"sizemode\": \"area\"}, \"name\": \"Asia\", \"text\": [\"Pakistan\", \"India\", \"Turkey\", \"Mongolia\", \"Japan\", \"South Korea\"], \"type\": \"scattergeo\"}, {\"locationmode\": \"ISO-3\", \"locations\": [\"TUN\", \"KEN\", \"UGA\", \"CMR\", \"ETH\"], \"marker\": {\"color\": \"lightgrey\", \"size\": [2, 12, 2, 1, 2], \"sizemode\": \"area\"}, \"name\": \"Africa\", \"text\": [\"Tunisia\", \"Kenya\", \"Uganda\", \"Cameroon\", \"Ethiopia\"], \"type\": \"scattergeo\"}], \"name\": \"1968\"}, {\"data\": [{\"locationmode\": \"ISO-3\", \"locations\": [\"ESP\", \"SWE\", \"SRB\", \"NLD\", \"BEL\", \"GRC\", \"DNK\", \"CHE\", \"NOR\", \"FIN\", \"POL\", \"HUN\", \"BGR\", \"ITA\", \"ROU\", \"FRA\", \"AUT\", \"GBR\", \"DEU\", \"DEU\"], \"marker\": {\"color\": \"royalblue\", \"size\": [2, 26, 18, 15, 2, 2, 1, 25, 25, 20, 47, 81, 22, 34, 40, 25, 8, 29, 112, 171], \"sizemode\": \"area\"}, \"name\": \"Europe\", \"text\": [\"Spain\", \"Sweden\", \"Serbia\", \"Netherlands\", \"Belgium\", \"Greece\", \"Denmark\", \"Switzerland\", \"Norway\", \"Finland\", \"Poland\", \"Hungary\", \"Bulgaria\", \"Italy\", \"Romania\", \"France\", \"Austria\", \"UK\", \"Germany\", \"Germany\"], \"type\": \"scattergeo\"}, {\"locationmode\": \"ISO-3\", \"locations\": [\"USA\", \"CAN\", \"COL\", \"CUB\", \"ARG\", \"MEX\", \"BRA\", \"JAM\"], \"marker\": {\"color\": \"crimson\", \"size\": [195, 12, 3, 22, 1, 1, 2, 1], \"sizemode\": \"area\"}, \"name\": \"Americas\", \"text\": [\"USA\", \"Canada\", \"Colombia\", \"Cuba\", \"Argentina\", \"Mexico\", \"Brazil\", \"Jamaica\"], \"type\": \"scattergeo\"}, {\"locationmode\": \"ISO-3\", \"locations\": [\"NZL\", \"AUS\"], \"marker\": {\"color\": \"lightseagreen\", \"size\": [14, 20], \"sizemode\": \"area\"}, \"name\": \"Oceania\", \"text\": [\"New Zealand\", \"Australia\"], \"type\": \"scattergeo\"}, {\"locationmode\": \"ISO-3\", \"locations\": [\"TUR\", \"PAK\", \"PRK\", \"IND\", \"MNG\", \"LBN\", \"JPN\", \"KOR\"], \"marker\": {\"color\": \"orange\", \"size\": [1, 15, 15, 14, 1, 1, 59, 1], \"sizemode\": \"area\"}, \"name\": \"Asia\", \"text\": [\"Turkey\", \"Pakistan\", \"North Korea\", \"India\", \"Mongolia\", \"Lebanon\", \"Japan\", \"South Korea\"], \"type\": \"scattergeo\"}, {\"locationmode\": \"ISO-3\", \"locations\": [\"NGA\", \"GHA\", \"NER\", \"TUN\", \"UGA\", \"ETH\", \"KEN\"], \"marker\": {\"color\": \"lightgrey\", \"size\": [1, 1, 1, 1, 2, 2, 12], \"sizemode\": \"area\"}, \"name\": \"Africa\", \"text\": [\"Nigeria\", \"Ghana\", \"Niger\", \"Tunisia\", \"Uganda\", \"Ethiopia\", \"Kenya\"], \"type\": \"scattergeo\"}], \"name\": \"1972\"}, {\"data\": [{\"locationmode\": \"ISO-3\", \"locations\": [\"BGR\", \"NLD\", \"BEL\", \"NOR\", \"ROU\", \"DEU\", \"FRA\", \"AUT\", \"DNK\", \"HUN\", \"GBR\", \"SWE\", \"LIE\", \"FIN\", \"DEU\", \"CHE\", \"ESP\", \"PRT\", \"POL\", \"ITA\", \"SRB\"], \"marker\": {\"color\": \"royalblue\", \"size\": [39, 20, 9, 16, 55, 110, 21, 8, 8, 55, 33, 12, 2, 22, 227, 19, 6, 2, 73, 35, 19], \"sizemode\": \"area\"}, \"name\": \"Europe\", \"text\": [\"Bulgaria\", \"Netherlands\", \"Belgium\", \"Norway\", \"Romania\", \"Germany\", \"France\", \"Austria\", \"Denmark\", \"Hungary\", \"UK\", \"Sweden\", \"Liechtenstein\", \"Finland\", \"Germany\", \"Switzerland\", \"Spain\", \"Portugal\", \"Poland\", \"Italy\", \"Serbia\"], \"type\": \"scattergeo\"}, {\"locationmode\": \"ISO-3\", \"locations\": [\"BRA\", \"MEX\", \"JAM\", \"TTO\", \"PRI\", \"CUB\", \"VEN\", \"USA\", \"CAN\", \"BMU\"], \"marker\": {\"color\": \"crimson\", \"size\": [3, 2, 2, 1, 1, 24, 1, 175, 26, 1], \"sizemode\": \"area\"}, \"name\": \"Americas\", \"text\": [\"Brazil\", \"Mexico\", \"Jamaica\", \"Trinidad\", \"Puerto Rico\", \"Cuba\", \"Venezuela\", \"USA\", \"Canada\", \"Bermuda\"], \"type\": \"scattergeo\"}, {\"locationmode\": \"ISO-3\", \"locations\": [\"AUS\", \"NZL\"], \"marker\": {\"color\": \"lightseagreen\", \"size\": [23, 25], \"sizemode\": \"area\"}, \"name\": \"Oceania\", \"text\": [\"Australia\", \"New Zealand\"], \"type\": \"scattergeo\"}, {\"locationmode\": \"ISO-3\", \"locations\": [\"PRK\", \"MNG\", \"PAK\", \"THA\", \"JPN\", \"KOR\"], \"marker\": {\"color\": \"orange\", \"size\": [2, 1, 16, 1, 41, 17], \"sizemode\": \"area\"}, \"name\": \"Asia\", \"text\": [\"North Korea\", \"Mongolia\", \"Pakistan\", \"Thailand\", \"Japan\", \"South Korea\"], \"type\": \"scattergeo\"}], \"name\": \"1976\"}, {\"data\": [{\"locationmode\": \"ISO-3\", \"locations\": [\"IRL\", \"SWE\", \"NLD\", \"HUN\", \"LIE\", \"CHE\", \"AUT\", \"ITA\", \"SRB\", \"NOR\", \"GRC\", \"DEU\", \"FRA\", \"BGR\", \"DNK\", \"POL\", \"ROU\", \"GBR\", \"ESP\", \"BEL\", \"DEU\", \"FIN\"], \"marker\": {\"color\": \"royalblue\", \"size\": [3, 43, 10, 63, 4, 11, 13, 40, 57, 15, 5, 8, 30, 91, 8, 50, 68, 48, 24, 1, 303, 21], \"sizemode\": \"area\"}, \"name\": \"Europe\", \"text\": [\"Ireland\", \"Sweden\", \"Netherlands\", \"Hungary\", \"Liechtenstein\", \"Switzerland\", \"Austria\", \"Italy\", \"Serbia\", \"Norway\", \"Greece\", \"Germany\", \"France\", \"Bulgaria\", \"Denmark\", \"Poland\", \"Romania\", \"UK\", \"Spain\", \"Belgium\", \"Germany\", \"Finland\"], \"type\": \"scattergeo\"}, {\"locationmode\": \"ISO-3\", \"locations\": [\"JAM\", \"MEX\", \"CAN\", \"CUB\", \"GUY\", \"BRA\", \"USA\", \"VEN\"], \"marker\": {\"color\": \"crimson\", \"size\": [3, 10, 2, 20, 1, 9, 30, 1], \"sizemode\": \"area\"}, \"name\": \"Americas\", \"text\": [\"Jamaica\", \"Mexico\", \"Canada\", \"Cuba\", \"Guyana\", \"Brazil\", \"USA\", \"Venezuela\"], \"type\": \"scattergeo\"}, {\"locationmode\": \"ISO-3\", \"locations\": [\"AUS\"], \"marker\": {\"color\": \"lightseagreen\", \"size\": [13], \"sizemode\": \"area\"}, \"name\": \"Oceania\", \"text\": [\"Australia\"], \"type\": \"scattergeo\"}, {\"locationmode\": \"ISO-3\", \"locations\": [\"LBN\", \"MNG\", \"JPN\", \"IND\", \"PRK\"], \"marker\": {\"color\": \"orange\", \"size\": [1, 4, 1, 16, 5], \"sizemode\": \"area\"}, \"name\": \"Asia\", \"text\": [\"Lebanon\", \"Mongolia\", \"Japan\", \"India\", \"North Korea\"], \"type\": \"scattergeo\"}, {\"locationmode\": \"ISO-3\", \"locations\": [\"ZWE\", \"ETH\", \"UGA\"], \"marker\": {\"color\": \"lightgrey\", \"size\": [15, 4, 1], \"sizemode\": \"area\"}, \"name\": \"Africa\", \"text\": [\"Zimbabwe\", \"Ethiopia\", \"Uganda\"], \"type\": \"scattergeo\"}], \"name\": \"1980\"}, {\"data\": [{\"locationmode\": \"ISO-3\", \"locations\": [\"DEU\", \"SRB\", \"ESP\", \"IRL\", \"AUT\", \"DEU\", \"ROU\", \"ISL\", \"PRT\", \"GBR\", \"ITA\", \"DNK\", \"LIE\", \"BEL\", \"NOR\", \"GRC\", \"FIN\", \"NLD\", \"CHE\", \"FRA\", \"SWE\"], \"marker\": {\"color\": \"royalblue\", \"size\": [166, 88, 19, 1, 4, 33, 106, 1, 3, 73, 65, 13, 2, 5, 19, 2, 31, 41, 21, 70, 64], \"sizemode\": \"area\"}, \"name\": \"Europe\", \"text\": [\"Germany\", \"Serbia\", \"Spain\", \"Ireland\", \"Austria\", \"Germany\", \"Romania\", \"Iceland\", \"Portugal\", \"UK\", \"Italy\", \"Denmark\", \"Liechtenstein\", \"Belgium\", \"Norway\", \"Greece\", \"Finland\", \"Netherlands\", \"Switzerland\", \"France\", \"Sweden\"], \"type\": \"scattergeo\"}, {\"locationmode\": \"ISO-3\", \"locations\": [\"JAM\", \"USA\", \"MEX\", \"BRA\", \"DOM\", \"COL\", \"CAN\", \"PER\", \"PRI\", \"VEN\"], \"marker\": {\"color\": \"crimson\", \"size\": [7, 361, 6, 36, 1, 1, 91, 1, 2, 3], \"sizemode\": \"area\"}, \"name\": \"Americas\", \"text\": [\"Jamaica\", \"USA\", \"Mexico\", \"Brazil\", \"Dominican Republic\", \"Colombia\", \"Canada\", \"Peru\", \"Puerto Rico\", \"Venezuela\"], \"type\": \"scattergeo\"}, {\"locationmode\": \"ISO-3\", \"locations\": [\"NZL\", \"AUS\"], \"marker\": {\"color\": \"lightseagreen\", \"size\": [23, 52], \"sizemode\": \"area\"}, \"name\": \"Oceania\", \"text\": [\"New Zealand\", \"Australia\"], \"type\": \"scattergeo\"}, {\"locationmode\": \"ISO-3\", \"locations\": [\"CHN\", \"TUR\", \"THA\", \"JPN\", \"KOR\", \"PAK\", \"SYR\"], \"marker\": {\"color\": \"orange\", \"size\": [74, 3, 1, 50, 41, 16, 1], \"sizemode\": \"area\"}, \"name\": \"Asia\", \"text\": [\"China\", \"Turkey\", \"Thailand\", \"Japan\", \"South Korea\", \"Pakistan\", \"Syria\"], \"type\": \"scattergeo\"}, {\"locationmode\": \"ISO-3\", \"locations\": [\"EGY\", \"MAR\", \"DZA\", \"ZMB\", \"KEN\", \"CMR\", \"NGA\", \"CIV\"], \"marker\": {\"color\": \"lightgrey\", \"size\": [1, 2, 2, 1, 3, 1, 5, 1], \"sizemode\": \"area\"}, \"name\": \"Africa\", \"text\": [\"Egypt\", \"Morocco\", \"Algeria\", \"Zambia\", \"Kenya\", \"Cameroon\", \"Nigeria\", \"Ivory Coast\"], \"type\": \"scattergeo\"}], \"name\": \"1984\"}, {\"data\": [{\"locationmode\": \"ISO-3\", \"locations\": [\"GBR\", \"ITA\", \"ESP\", \"NOR\", \"POL\", \"DEU\", \"BGR\", \"FRA\", \"SWE\", \"FIN\", \"HUN\", \"CHE\", \"BEL\", \"LIE\", \"GRC\", \"PRT\", \"SRB\", \"DNK\", \"AUT\", \"DEU\", \"ROU\", \"NLD\"], \"marker\": {\"color\": \"royalblue\", \"size\": [54, 37, 5, 33, 21, 129, 41, 31, 46, 38, 44, 28, 2, 1, 1, 1, 69, 7, 13, 213, 58, 52], \"sizemode\": \"area\"}, \"name\": \"Europe\", \"text\": [\"UK\", \"Italy\", \"Spain\", \"Norway\", \"Poland\", \"Germany\", \"Bulgaria\", \"France\", \"Sweden\", \"Finland\", \"Hungary\", \"Switzerland\", \"Belgium\", \"Liechtenstein\", \"Greece\", \"Portugal\", \"Serbia\", \"Denmark\", \"Austria\", \"Germany\", \"Romania\", \"Netherlands\"], \"type\": \"scattergeo\"}, {\"locationmode\": \"ISO-3\", \"locations\": [\"USA\", \"CRI\", \"JAM\", \"BRA\", \"CAN\", \"COL\", \"MEX\", \"ARG\", \"PER\", \"CHL\", \"SUR\"], \"marker\": {\"color\": \"crimson\", \"size\": [214, 1, 7, 23, 29, 1, 2, 13, 12, 1, 1], \"sizemode\": \"area\"}, \"name\": \"Americas\", \"text\": [\"USA\", \"Costa Rica\", \"Jamaica\", \"Brazil\", \"Canada\", \"Colombia\", \"Mexico\", \"Argentina\", \"Peru\", \"Chile\", \"Suriname\"], \"type\": \"scattergeo\"}, {\"locationmode\": \"ISO-3\", \"locations\": [\"AUS\", \"NZL\"], \"marker\": {\"color\": \"lightseagreen\", \"size\": [35, 24], \"sizemode\": \"area\"}, \"name\": \"Oceania\", \"text\": [\"Australia\", \"New Zealand\"], \"type\": \"scattergeo\"}, {\"locationmode\": \"ISO-3\", \"locations\": [\"JPN\", \"KOR\", \"TUR\", \"CHN\", \"MNG\", \"PAK\", \"THA\", \"PHL\", \"IDN\"], \"marker\": {\"color\": \"orange\", \"size\": [21, 77, 2, 52, 1, 1, 1, 1, 3], \"sizemode\": \"area\"}, \"name\": \"Asia\", \"text\": [\"Japan\", \"South Korea\", \"Turkey\", \"China\", \"Mongolia\", \"Pakistan\", \"Thailand\", \"Philippines\", \"Indonesia\"], \"type\": \"scattergeo\"}, {\"locationmode\": \"ISO-3\", \"locations\": [\"KEN\", \"SEN\", \"DJI\", \"MAR\"], \"marker\": {\"color\": \"lightgrey\", \"size\": [9, 1, 1, 3], \"sizemode\": \"area\"}, \"name\": \"Africa\", \"text\": [\"Kenya\", \"Senegal\", \"Djibouti\", \"Morocco\"], \"type\": \"scattergeo\"}], \"name\": \"1988\"}, {\"data\": [{\"locationmode\": \"ISO-3\", \"locations\": [\"POL\", \"HRV\", \"NOR\", \"NLD\", \"LTU\", \"LUX\", \"CHE\", \"ESP\", \"DNK\", \"SVN\", \"LVA\", \"EST\", \"SWE\", \"IRL\", \"DEU\", \"GRC\", \"GBR\", \"FRA\", \"BGR\", \"BEL\", \"AUT\", \"FIN\", \"ITA\", \"HUN\", \"ROU\"], \"marker\": {\"color\": \"royalblue\", \"size\": [46, 15, 47, 37, 13, 2, 8, 70, 14, 6, 3, 3, 42, 2, 236, 2, 50, 69, 17, 3, 35, 20, 66, 45, 53], \"sizemode\": \"area\"}, \"name\": \"Europe\", \"text\": [\"Poland\", \"Croatia\", \"Norway\", \"Netherlands\", \"Lithuania\", \"Luxembourg\", \"Switzerland\", \"Spain\", \"Denmark\", \"Slovenia\", \"Latvia\", \"Estonia\", \"Sweden\", \"Ireland\", \"Germany\", \"Greece\", \"UK\", \"France\", \"Bulgaria\", \"Belgium\", \"Austria\", \"Finland\", \"Italy\", \"Hungary\", \"Romania\"], \"type\": \"scattergeo\"}, {\"locationmode\": \"ISO-3\", \"locations\": [\"COL\", \"SUR\", \"CAN\", \"ARG\", \"PRI\", \"MEX\", \"CUB\", \"USA\", \"BHS\", \"PER\", \"JAM\", \"BRA\"], \"marker\": {\"color\": \"crimson\", \"size\": [1, 1, 80, 2, 1, 1, 69, 238, 1, 1, 4, 14], \"sizemode\": \"area\"}, \"name\": \"Americas\", \"text\": [\"Colombia\", \"Suriname\", \"Canada\", \"Argentina\", \"Puerto Rico\", \"Mexico\", \"Cuba\", \"USA\", \"Bahamas\", \"Peru\", \"Jamaica\", \"Brazil\"], \"type\": \"scattergeo\"}, {\"locationmode\": \"ISO-3\", \"locations\": [\"AUS\", \"NZL\"], \"marker\": {\"color\": \"lightseagreen\", \"size\": [57, 16], \"sizemode\": \"area\"}, \"name\": \"Oceania\", \"text\": [\"Australia\", \"New Zealand\"], \"type\": \"scattergeo\"}, {\"locationmode\": \"ISO-3\", \"locations\": [\"PRK\", \"QAT\", \"MYS\", \"CHN\", \"KOR\", \"MNG\", \"PAK\", \"ISR\", \"PHL\", \"JPN\", \"IDN\", \"TUR\", \"THA\"], \"marker\": {\"color\": \"orange\", \"size\": [11, 1, 2, 85, 56, 2, 16, 2, 1, 59, 6, 6, 1], \"sizemode\": \"area\"}, \"name\": \"Asia\", \"text\": [\"North Korea\", \"Qatar\", \"Malaysia\", \"China\", \"South Korea\", \"Mongolia\", \"Pakistan\", \"Israel\", \"Philippines\", \"Japan\", \"Indonesia\", \"Turkey\", \"Thailand\"], \"type\": \"scattergeo\"}, {\"locationmode\": \"ISO-3\", \"locations\": [\"NGA\", \"DZA\", \"KEN\", \"ETH\", \"MAR\", \"NAM\", \"ZAF\", \"GHA\"], \"marker\": {\"color\": \"lightgrey\", \"size\": [11, 2, 8, 3, 3, 2, 3, 20], \"sizemode\": \"area\"}, \"name\": \"Africa\", \"text\": [\"Nigeria\", \"Algeria\", \"Kenya\", \"Ethiopia\", \"Morocco\", \"Namibia\", \"South Africa\", \"Ghana\"], \"type\": \"scattergeo\"}], \"name\": \"1992\"}, {\"data\": [{\"locationmode\": \"ISO-3\", \"locations\": [\"FRA\", \"SWE\", \"ITA\", \"AUT\", \"BLR\", \"NLD\", \"CHE\", \"RUS\", \"SVN\", \"GBR\", \"NOR\", \"FIN\", \"UKR\", \"DEU\"], \"marker\": {\"color\": \"royalblue\", \"size\": [11, 24, 32, 12, 2, 4, 16, 36, 3, 3, 30, 30, 2, 40], \"sizemode\": \"area\"}, \"name\": \"Europe\", \"text\": [\"France\", \"Sweden\", \"Italy\", \"Austria\", \"Belarus\", \"Netherlands\", \"Switzerland\", \"Russia\", \"Slovenia\", \"UK\", \"Norway\", \"Finland\", \"Ukraine\", \"Germany\"], \"type\": \"scattergeo\"}, {\"locationmode\": \"ISO-3\", \"locations\": [\"CAN\", \"USA\"], \"marker\": {\"color\": \"crimson\", \"size\": [37, 19], \"sizemode\": \"area\"}, \"name\": \"Americas\", \"text\": [\"Canada\", \"USA\"], \"type\": \"scattergeo\"}, {\"locationmode\": \"ISO-3\", \"locations\": [\"AUS\"], \"marker\": {\"color\": \"lightseagreen\", \"size\": [4], \"sizemode\": \"area\"}, \"name\": \"Oceania\", \"text\": [\"Australia\"], \"type\": \"scattergeo\"}, {\"locationmode\": \"ISO-3\", \"locations\": [\"KOR\", \"KAZ\", \"UZB\", \"CHN\", \"JPN\"], \"marker\": {\"color\": \"orange\", \"size\": [9, 3, 1, 3, 10], \"sizemode\": \"area\"}, \"name\": \"Asia\", \"text\": [\"South Korea\", \"Kazakhstan\", \"Uzbekistan\", \"China\", \"Japan\"], \"type\": \"scattergeo\"}], \"name\": \"1994\"}, {\"data\": [{\"locationmode\": \"ISO-3\", \"locations\": [\"DEU\", \"ROU\", \"MDA\", \"CZE\", \"HUN\", \"NLD\", \"HRV\", \"GRC\", \"SRB\", \"BEL\", \"CHE\", \"BLR\", \"PRT\", \"SVK\", \"ITA\", \"LVA\", \"SVN\", \"FRA\", \"SWE\", \"POL\", \"UKR\", \"FIN\", \"NOR\", \"RUS\", \"BGR\", \"ESP\", \"DNK\", \"IRL\", \"LTU\", \"AUT\", \"GBR\"], \"marker\": {\"color\": \"royalblue\", \"size\": [124, 38, 3, 13, 43, 73, 28, 8, 26, 6, 11, 23, 3, 3, 71, 1, 2, 51, 31, 22, 34, 4, 23, 115, 21, 66, 23, 4, 11, 3, 26], \"sizemode\": \"area\"}, \"name\": \"Europe\", \"text\": [\"Germany\", \"Romania\", \"Moldova\", \"Czech Republic\", \"Hungary\", \"Netherlands\", \"Croatia\", \"Greece\", \"Serbia\", \"Belgium\", \"Switzerland\", \"Belarus\", \"Portugal\", \"Slovakia\", \"Italy\", \"Latvia\", \"Slovenia\", \"France\", \"Sweden\", \"Poland\", \"Ukraine\", \"Finland\", \"Norway\", \"Russia\", \"Bulgaria\", \"Spain\", \"Denmark\", \"Ireland\", \"Lithuania\", \"Austria\", \"UK\"], \"type\": \"scattergeo\"}, {\"locationmode\": \"ISO-3\", \"locations\": [\"ARG\", \"PRI\", \"MEX\", \"BHS\", \"TTO\", \"CUB\", \"BRA\", \"JAM\", \"USA\", \"CAN\", \"CRI\", \"ECU\"], \"marker\": {\"color\": \"crimson\", \"size\": [20, 1, 1, 5, 2, 55, 63, 16, 259, 50, 1, 1], \"sizemode\": \"area\"}, \"name\": \"Americas\", \"text\": [\"Argentina\", \"Puerto Rico\", \"Mexico\", \"Bahamas\", \"Trinidad\", \"Cuba\", \"Brazil\", \"Jamaica\", \"USA\", \"Canada\", \"Costa Rica\", \"Ecuador\"], \"type\": \"scattergeo\"}, {\"locationmode\": \"ISO-3\", \"locations\": [\"NZL\", \"AUS\", \"TON\"], \"marker\": {\"color\": \"lightseagreen\", \"size\": [9, 132, 1], \"sizemode\": \"area\"}, \"name\": \"Oceania\", \"text\": [\"New Zealand\", \"Australia\", \"Tonga\"], \"type\": \"scattergeo\"}, {\"locationmode\": \"ISO-3\", \"locations\": [\"THA\", \"UZB\", \"AZE\", \"CHN\", \"KAZ\", \"PRK\", \"IDN\", \"CHN\", \"IND\", \"ARM\", \"MNG\", \"MYS\", \"KOR\", \"TUR\", \"JPN\", \"SYR\", \"PHL\", \"GEO\", \"ISR\"], \"marker\": {\"color\": \"orange\", \"size\": [2, 2, 1, 106, 11, 5, 6, 1, 1, 2, 1, 3, 66, 6, 42, 1, 1, 2, 1], \"sizemode\": \"area\"}, \"name\": \"Asia\", \"text\": [\"Thailand\", \"Uzbekistan\", \"Azerbaijan\", \"China\", \"Kazakhstan\", \"North Korea\", \"Indonesia\", \"China\", \"India\", \"Armenia\", \"Mongolia\", \"Malaysia\", \"South Korea\", \"Turkey\", \"Japan\", \"Syria\", \"Philippines\", \"Georgia\", \"Israel\"], \"type\": \"scattergeo\"}, {\"locationmode\": \"ISO-3\", \"locations\": [\"BDI\", \"NGA\", \"DZA\", \"ZMB\", \"NAM\", \"MOZ\", \"MAR\", \"UGA\", \"ETH\", \"KEN\", \"TUN\", \"ZAF\"], \"marker\": {\"color\": \"lightgrey\", \"size\": [1, 24, 3, 1, 2, 1, 2, 1, 3, 8, 1, 5], \"sizemode\": \"area\"}, \"name\": \"Africa\", \"text\": [\"Burundi\", \"Nigeria\", \"Algeria\", \"Zambia\", \"Namibia\", \"Mozambique\", \"Morocco\", \"Uganda\", \"Ethiopia\", \"Kenya\", \"Tunisia\", \"South Africa\"], \"type\": \"scattergeo\"}], \"name\": \"1996\"}, {\"data\": [{\"locationmode\": \"ISO-3\", \"locations\": [\"BGR\", \"UKR\", \"DNK\", \"AUT\", \"FIN\", \"SWE\", \"BEL\", \"RUS\", \"FRA\", \"CHE\", \"GBR\", \"DEU\", \"ITA\", \"BLR\", \"CZE\", \"NLD\", \"NOR\"], \"marker\": {\"color\": \"royalblue\", \"size\": [1, 1, 5, 20, 58, 7, 1, 52, 15, 14, 4, 44, 17, 2, 23, 11, 40], \"sizemode\": \"area\"}, \"name\": \"Europe\", \"text\": [\"Bulgaria\", \"Ukraine\", \"Denmark\", \"Austria\", \"Finland\", \"Sweden\", \"Belgium\", \"Russia\", \"France\", \"Switzerland\", \"UK\", \"Germany\", \"Italy\", \"Belarus\", \"Czech Republic\", \"Netherlands\", \"Norway\"], \"type\": \"scattergeo\"}, {\"locationmode\": \"ISO-3\", \"locations\": [\"CAN\", \"USA\"], \"marker\": {\"color\": \"crimson\", \"size\": [49, 34], \"sizemode\": \"area\"}, \"name\": \"Americas\", \"text\": [\"Canada\", \"USA\"], \"type\": \"scattergeo\"}, {\"locationmode\": \"ISO-3\", \"locations\": [\"AUS\"], \"marker\": {\"color\": \"lightseagreen\", \"size\": [1], \"sizemode\": \"area\"}, \"name\": \"Oceania\", \"text\": [\"Australia\"], \"type\": \"scattergeo\"}, {\"locationmode\": \"ISO-3\", \"locations\": [\"JPN\", \"KAZ\", \"KOR\", \"CHN\"], \"marker\": {\"color\": \"orange\", \"size\": [13, 2, 12, 14], \"sizemode\": \"area\"}, \"name\": \"Asia\", \"text\": [\"Japan\", \"Kazakhstan\", \"South Korea\", \"China\"], \"type\": \"scattergeo\"}], \"name\": \"1998\"}, {\"data\": [{\"locationmode\": \"ISO-3\", \"locations\": [\"RUS\", \"PRT\", \"SVN\", \"POL\", \"ROU\", \"NOR\", \"CHE\", \"SRB\", \"FRA\", \"DEU\", \"HUN\", \"HRV\", \"BGR\", \"CZE\", \"ITA\", \"ISL\", \"IRL\", \"DNK\", \"ESP\", \"UKR\", \"EST\", \"FIN\", \"NLD\", \"MKD\", \"SVK\", \"AUT\", \"GRC\", \"LTU\", \"BEL\", \"BLR\", \"LVA\", \"MDA\", \"SWE\", \"GBR\"], \"marker\": {\"color\": \"royalblue\", \"size\": [187, 2, 3, 24, 46, 43, 14, 25, 66, 118, 53, 10, 13, 9, 65, 1, 1, 25, 42, 35, 3, 5, 79, 1, 6, 4, 18, 17, 7, 22, 3, 2, 32, 54], \"sizemode\": \"area\"}, \"name\": \"Europe\", \"text\": [\"Russia\", \"Portugal\", \"Slovenia\", \"Poland\", \"Romania\", \"Norway\", \"Switzerland\", \"Serbia\", \"France\", \"Germany\", \"Hungary\", \"Croatia\", \"Bulgaria\", \"Czech Republic\", \"Italy\", \"Iceland\", \"Ireland\", \"Denmark\", \"Spain\", \"Ukraine\", \"Estonia\", \"Finland\", \"Netherlands\", \"Macedonia\", \"Slovakia\", \"Austria\", \"Greece\", \"Lithuania\", \"Belgium\", \"Belarus\", \"Latvia\", \"Moldova\", \"Sweden\", \"UK\"], \"type\": \"scattergeo\"}, {\"locationmode\": \"ISO-3\", \"locations\": [\"CAN\", \"CHL\", \"COL\", \"CRI\", \"JAM\", \"CUB\", \"URY\", \"USA\", \"MEX\", \"ARG\", \"TTO\", \"BHS\", \"BRB\", \"BRA\"], \"marker\": {\"color\": \"crimson\", \"size\": [31, 17, 1, 2, 23, 65, 1, 242, 6, 20, 2, 11, 1, 48], \"sizemode\": \"area\"}, \"name\": \"Americas\", \"text\": [\"Canada\", \"Chile\", \"Colombia\", \"Costa Rica\", \"Jamaica\", \"Cuba\", \"Uruguay\", \"USA\", \"Mexico\", \"Argentina\", \"Trinidad\", \"Bahamas\", \"Barbados\", \"Brazil\"], \"type\": \"scattergeo\"}, {\"locationmode\": \"ISO-3\", \"locations\": [\"NZL\", \"AUS\"], \"marker\": {\"color\": \"lightseagreen\", \"size\": [4, 183], \"sizemode\": \"area\"}, \"name\": \"Oceania\", \"text\": [\"New Zealand\", \"Australia\"], \"type\": \"scattergeo\"}, {\"locationmode\": \"ISO-3\", \"locations\": [\"PRK\", \"QAT\", \"LKA\", \"CHN\", \"TUR\", \"KAZ\", \"JPN\", \"ISR\", \"THA\", \"IDN\", \"ARM\", \"GEO\", \"AZE\", \"KGZ\", \"IND\", \"KWT\", \"SAU\", \"UZB\", \"KOR\"], \"marker\": {\"color\": \"orange\", \"size\": [4, 1, 1, 79, 5, 7, 44, 1, 3, 8, 1, 6, 3, 1, 1, 1, 2, 4, 73], \"sizemode\": \"area\"}, \"name\": \"Asia\", \"text\": [\"North Korea\", \"Qatar\", \"Sri Lanka\", \"China\", \"Turkey\", \"Kazakhstan\", \"Japan\", \"Israel\", \"Thailand\", \"Indonesia\", \"Armenia\", \"Georgia\", \"Azerbaijan\", \"Kyrgyzstan\", \"India\", \"Kuwait\", \"Saudi Arabia\", \"Uzbekistan\", \"South Korea\"], \"type\": \"scattergeo\"}, {\"locationmode\": \"ISO-3\", \"locations\": [\"ZAF\", \"NGA\", \"KEN\", \"CMR\", \"ETH\", \"DZA\", \"MOZ\", \"MAR\"], \"marker\": {\"color\": \"lightgrey\", \"size\": [5, 8, 7, 18, 8, 5, 1, 5], \"sizemode\": \"area\"}, \"name\": \"Africa\", \"text\": [\"South Africa\", \"Nigeria\", \"Kenya\", \"Cameroon\", \"Ethiopia\", \"Algeria\", \"Mozambique\", \"Morocco\"], \"type\": \"scattergeo\"}], \"name\": \"2000\"}, {\"data\": [{\"locationmode\": \"ISO-3\", \"locations\": [\"FIN\", \"GBR\", \"FRA\", \"CHE\", \"EST\", \"CZE\", \"HRV\", \"BGR\", \"BLR\", \"SVN\", \"AUT\", \"RUS\", \"POL\", \"DEU\", \"ITA\", \"SWE\", \"NLD\", \"NOR\"], \"marker\": {\"color\": \"royalblue\", \"size\": [13, 6, 15, 24, 3, 3, 4, 3, 1, 4, 20, 38, 2, 61, 21, 26, 8, 41], \"sizemode\": \"area\"}, \"name\": \"Europe\", \"text\": [\"Finland\", \"UK\", \"France\", \"Switzerland\", \"Estonia\", \"Czech Republic\", \"Croatia\", \"Bulgaria\", \"Belarus\", \"Slovenia\", \"Austria\", \"Russia\", \"Poland\", \"Germany\", \"Italy\", \"Sweden\", \"Netherlands\", \"Norway\"], \"type\": \"scattergeo\"}, {\"locationmode\": \"ISO-3\", \"locations\": [\"CAN\", \"USA\"], \"marker\": {\"color\": \"crimson\", \"size\": [74, 84], \"sizemode\": \"area\"}, \"name\": \"Americas\", \"text\": [\"Canada\", \"USA\"], \"type\": \"scattergeo\"}, {\"locationmode\": \"ISO-3\", \"locations\": [\"AUS\"], \"marker\": {\"color\": \"lightseagreen\", \"size\": [2], \"sizemode\": \"area\"}, \"name\": \"Oceania\", \"text\": [\"Australia\"], \"type\": \"scattergeo\"}, {\"locationmode\": \"ISO-3\", \"locations\": [\"CHN\", \"JPN\", \"KOR\"], \"marker\": {\"color\": \"orange\", \"size\": [16, 2, 7], \"sizemode\": \"area\"}, \"name\": \"Asia\", \"text\": [\"China\", \"Japan\", \"South Korea\"], \"type\": \"scattergeo\"}], \"name\": \"2002\"}, {\"data\": [{\"locationmode\": \"ISO-3\", \"locations\": [\"SWE\", \"BGR\", \"DEU\", \"NOR\", \"BLR\", \"SRB\", \"RUS\", \"NLD\", \"SVK\", \"AUT\", \"HRV\", \"SVN\", \"LTU\", \"BEL\", \"LVA\", \"ROU\", \"FIN\", \"HUN\", \"UKR\", \"GRC\", \"FRA\", \"POL\", \"EST\", \"CHE\", \"ITA\", \"ESP\", \"DNK\", \"PRT\", \"GBR\", \"CZE\"], \"marker\": {\"color\": \"royalblue\", \"size\": [12, 17, 149, 7, 15, 13, 189, 77, 10, 8, 21, 5, 3, 3, 4, 39, 2, 40, 47, 31, 53, 12, 3, 7, 104, 30, 29, 3, 57, 13], \"sizemode\": \"area\"}, \"name\": \"Europe\", \"text\": [\"Sweden\", \"Bulgaria\", \"Germany\", \"Norway\", \"Belarus\", \"Serbia\", \"Russia\", \"Netherlands\", \"Slovakia\", \"Austria\", \"Croatia\", \"Slovenia\", \"Lithuania\", \"Belgium\", \"Latvia\", \"Romania\", \"Finland\", \"Hungary\", \"Ukraine\", \"Greece\", \"France\", \"Poland\", \"Estonia\", \"Switzerland\", \"Italy\", \"Spain\", \"Denmark\", \"Portugal\", \"UK\", \"Czech Republic\"], \"type\": \"scattergeo\"}, {\"locationmode\": \"ISO-3\", \"locations\": [\"BRA\", \"USA\", \"CAN\", \"CHL\", \"COL\", \"JAM\", \"ARG\", \"MEX\", \"VEN\", \"BHS\", \"CUB\", \"PRY\", \"TTO\", \"DOM\"], \"marker\": {\"color\": \"crimson\", \"size\": [40, 263, 17, 4, 2, 13, 49, 4, 2, 2, 62, 17, 1, 1], \"sizemode\": \"area\"}, \"name\": \"Americas\", \"text\": [\"Brazil\", \"USA\", \"Canada\", \"Chile\", \"Colombia\", \"Jamaica\", \"Argentina\", \"Mexico\", \"Venezuela\", \"Bahamas\", \"Cuba\", \"Paraguay\", \"Trinidad\", \"Dominican Republic\"], \"type\": \"scattergeo\"}, {\"locationmode\": \"ISO-3\", \"locations\": [\"AUS\", \"NZL\"], \"marker\": {\"color\": \"lightseagreen\", \"size\": [157, 6], \"sizemode\": \"area\"}, \"name\": \"Oceania\", \"text\": [\"Australia\", \"New Zealand\"], \"type\": \"scattergeo\"}, {\"locationmode\": \"ISO-3\", \"locations\": [\"SYR\", \"CHN\", \"KAZ\", \"PRK\", \"JPN\", \"KOR\", \"UZB\", \"MNG\", \"AZE\", \"CHN\", \"TUR\", \"ARE\", \"IND\", \"IDN\", \"THA\", \"GEO\", \"ISR\"], \"marker\": {\"color\": \"orange\", \"size\": [1, 94, 8, 5, 93, 52, 5, 1, 5, 2, 11, 1, 1, 5, 8, 4, 2], \"sizemode\": \"area\"}, \"name\": \"Asia\", \"text\": [\"Syria\", \"China\", \"Kazakhstan\", \"North Korea\", \"Japan\", \"South Korea\", \"Uzbekistan\", \"Mongolia\", \"Azerbaijan\", \"China\", \"Turkey\", \"United Arab Emirates\", \"India\", \"Indonesia\", \"Thailand\", \"Georgia\", \"Israel\"], \"type\": \"scattergeo\"}, {\"locationmode\": \"ISO-3\", \"locations\": [\"KEN\", \"CMR\", \"NGA\", \"MAR\", \"ZAF\", \"ETH\", \"ERI\", \"EGY\", \"ZWE\"], \"marker\": {\"color\": \"lightgrey\", \"size\": [7, 1, 8, 3, 10, 7, 1, 5, 3], \"sizemode\": \"area\"}, \"name\": \"Africa\", \"text\": [\"Kenya\", \"Cameroon\", \"Nigeria\", \"Morocco\", \"South Africa\", \"Ethiopia\", \"Eritrea\", \"Egypt\", \"Zimbabwe\"], \"type\": \"scattergeo\"}], \"name\": \"2004\"}, {\"data\": [{\"locationmode\": \"ISO-3\", \"locations\": [\"LVA\", \"CHE\", \"FIN\", \"RUS\", \"AUT\", \"FRA\", \"SVK\", \"GBR\", \"NLD\", \"ITA\", \"DEU\", \"SWE\", \"NOR\", \"POL\", \"UKR\", \"CZE\", \"HRV\", \"EST\", \"BLR\", \"BGR\"], \"marker\": {\"color\": \"royalblue\", \"size\": [1, 21, 41, 41, 30, 15, 1, 1, 13, 25, 54, 64, 23, 2, 3, 27, 3, 3, 1, 1], \"sizemode\": \"area\"}, \"name\": \"Europe\", \"text\": [\"Latvia\", \"Switzerland\", \"Finland\", \"Russia\", \"Austria\", \"France\", \"Slovakia\", \"UK\", \"Netherlands\", \"Italy\", \"Germany\", \"Sweden\", \"Norway\", \"Poland\", \"Ukraine\", \"Czech Republic\", \"Croatia\", \"Estonia\", \"Belarus\", \"Bulgaria\"], \"type\": \"scattergeo\"}, {\"locationmode\": \"ISO-3\", \"locations\": [\"CAN\", \"USA\"], \"marker\": {\"color\": \"crimson\", \"size\": [69, 52], \"sizemode\": \"area\"}, \"name\": \"Americas\", \"text\": [\"Canada\", \"USA\"], \"type\": \"scattergeo\"}, {\"locationmode\": \"ISO-3\", \"locations\": [\"AUS\"], \"marker\": {\"color\": \"lightseagreen\", \"size\": [2], \"sizemode\": \"area\"}, \"name\": \"Oceania\", \"text\": [\"Australia\"], \"type\": \"scattergeo\"}, {\"locationmode\": \"ISO-3\", \"locations\": [\"CHN\", \"JPN\", \"KOR\"], \"marker\": {\"color\": \"orange\", \"size\": [13, 1, 19], \"sizemode\": \"area\"}, \"name\": \"Asia\", \"text\": [\"China\", \"Japan\", \"South Korea\"], \"type\": \"scattergeo\"}], \"name\": \"2006\"}, {\"data\": [{\"locationmode\": \"ISO-3\", \"locations\": [\"CHE\", \"UKR\", \"SVN\", \"SVK\", \"SRB\", \"SWE\", \"LVA\", \"DNK\", \"LTU\", \"CZE\", \"MDA\", \"HRV\", \"NLD\", \"GRC\", \"DEU\", \"IRL\", \"ISL\", \"ITA\", \"GBR\", \"FRA\", \"FIN\", \"EST\", \"ESP\", \"BGR\", \"HUN\", \"POL\", \"BLR\", \"PRT\", \"BEL\", \"RUS\", \"AUT\", \"ROU\", \"NOR\"], \"marker\": {\"color\": \"royalblue\", \"size\": [11, 31, 5, 10, 15, 7, 3, 19, 5, 7, 1, 5, 61, 7, 99, 3, 14, 42, 81, 77, 5, 3, 70, 5, 27, 20, 29, 2, 5, 142, 3, 22, 22], \"sizemode\": \"area\"}, \"name\": \"Europe\", \"text\": [\"Switzerland\", \"Ukraine\", \"Slovenia\", \"Slovakia\", \"Serbia\", \"Sweden\", \"Latvia\", \"Denmark\", \"Lithuania\", \"Czech Republic\", \"Moldova\", \"Croatia\", \"Netherlands\", \"Greece\", \"Germany\", \"Ireland\", \"Iceland\", \"Italy\", \"UK\", \"France\", \"Finland\", \"Estonia\", \"Spain\", \"Bulgaria\", \"Hungary\", \"Poland\", \"Belarus\", \"Portugal\", \"Belgium\", \"Russia\", \"Austria\", \"Romania\", \"Norway\"], \"type\": \"scattergeo\"}, {\"locationmode\": \"ISO-3\", \"locations\": [\"TTO\", \"VEN\", \"USA\", \"DOM\", \"ECU\", \"COL\", \"CHL\", \"MEX\", \"JAM\", \"CAN\", \"CUB\", \"ARG\", \"BHS\", \"PAN\", \"BRA\"], \"marker\": {\"color\": \"crimson\", \"size\": [6, 1, 317, 2, 1, 2, 1, 4, 14, 35, 47, 51, 7, 1, 78], \"sizemode\": \"area\"}, \"name\": \"Americas\", \"text\": [\"Trinidad\", \"Venezuela\", \"USA\", \"Dominican Republic\", \"Ecuador\", \"Colombia\", \"Chile\", \"Mexico\", \"Jamaica\", \"Canada\", \"Cuba\", \"Argentina\", \"Bahamas\", \"Panama\", \"Brazil\"], \"type\": \"scattergeo\"}, {\"locationmode\": \"ISO-3\", \"locations\": [\"AUS\", \"NZL\"], \"marker\": {\"color\": \"lightseagreen\", \"size\": [149, 15], \"sizemode\": \"area\"}, \"name\": \"Oceania\", \"text\": [\"Australia\", \"New Zealand\"], \"type\": \"scattergeo\"}, {\"locationmode\": \"ISO-3\", \"locations\": [\"UZB\", \"THA\", \"TJK\", \"TUR\", \"AFG\", \"MYS\", \"IDN\", \"MNG\", \"CHN\", \"KOR\", \"KGZ\", \"IND\", \"GEO\", \"ISR\", \"JPN\", \"KAZ\", \"AZE\", \"ARM\", \"PRK\"], \"marker\": {\"color\": \"orange\", \"size\": [6, 4, 2, 7, 1, 1, 7, 4, 184, 78, 2, 3, 6, 1, 51, 13, 7, 6, 6], \"sizemode\": \"area\"}, \"name\": \"Asia\", \"text\": [\"Uzbekistan\", \"Thailand\", \"Tajikistan\", \"Turkey\", \"Afghanistan\", \"Malaysia\", \"Indonesia\", \"Mongolia\", \"China\", \"South Korea\", \"Kyrgyzstan\", \"India\", \"Georgia\", \"Israel\", \"Japan\", \"Kazakhstan\", \"Azerbaijan\", \"Armenia\", \"North Korea\"], \"type\": \"scattergeo\"}, {\"locationmode\": \"ISO-3\", \"locations\": [\"TUN\", \"TGO\", \"SDN\", \"ZWE\", \"MAR\", \"CMR\", \"MUS\", \"EGY\", \"ETH\", \"KEN\", \"DZA\", \"ZAF\", \"NGA\"], \"marker\": {\"color\": \"lightgrey\", \"size\": [1, 1, 1, 4, 2, 1, 1, 1, 7, 15, 2, 1, 23], \"sizemode\": \"area\"}, \"name\": \"Africa\", \"text\": [\"Tunisia\", \"Togo\", \"Sudan\", \"Zimbabwe\", \"Morocco\", \"Cameroon\", \"Mauritius\", \"Egypt\", \"Ethiopia\", \"Kenya\", \"Algeria\", \"South Africa\", \"Nigeria\"], \"type\": \"scattergeo\"}], \"name\": \"2008\"}, {\"data\": [{\"locationmode\": \"ISO-3\", \"locations\": [\"GBR\", \"ITA\", \"SWE\", \"AUT\", \"HRV\", \"CHE\", \"NLD\", \"FRA\", \"FIN\", \"NOR\", \"EST\", \"SVN\", \"DEU\", \"RUS\", \"BLR\", \"SVK\", \"CZE\", \"POL\", \"LVA\"], \"marker\": {\"color\": \"royalblue\", \"size\": [1, 5, 18, 26, 3, 12, 11, 14, 47, 39, 1, 3, 54, 25, 3, 3, 9, 8, 3], \"sizemode\": \"area\"}, \"name\": \"Europe\", \"text\": [\"UK\", \"Italy\", \"Sweden\", \"Austria\", \"Croatia\", \"Switzerland\", \"Netherlands\", \"France\", \"Finland\", \"Norway\", \"Estonia\", \"Slovenia\", \"Germany\", \"Russia\", \"Belarus\", \"Slovakia\", \"Czech Republic\", \"Poland\", \"Latvia\"], \"type\": \"scattergeo\"}, {\"locationmode\": \"ISO-3\", \"locations\": [\"CAN\", \"USA\"], \"marker\": {\"color\": \"crimson\", \"size\": [90, 97], \"sizemode\": \"area\"}, \"name\": \"Americas\", \"text\": [\"Canada\", \"USA\"], \"type\": \"scattergeo\"}, {\"locationmode\": \"ISO-3\", \"locations\": [\"AUS\"], \"marker\": {\"color\": \"lightseagreen\", \"size\": [3], \"sizemode\": \"area\"}, \"name\": \"Oceania\", \"text\": [\"Australia\"], \"type\": \"scattergeo\"}, {\"locationmode\": \"ISO-3\", \"locations\": [\"KOR\", \"KAZ\", \"JPN\", \"CHN\"], \"marker\": {\"color\": \"orange\", \"size\": [18, 1, 7, 19], \"sizemode\": \"area\"}, \"name\": \"Asia\", \"text\": [\"South Korea\", \"Kazakhstan\", \"Japan\", \"China\"], \"type\": \"scattergeo\"}], \"name\": \"2010\"}, {\"data\": [{\"locationmode\": \"ISO-3\", \"locations\": [\"DEU\", \"FRA\", \"GBR\", \"GRC\", \"BGR\", \"BLR\", \"HRV\", \"CZE\", \"BEL\", \"DNK\", \"UKR\", \"EST\", \"FIN\", \"ESP\", \"PRT\", \"CHE\", \"SWE\", \"POL\", \"LVA\", \"LTU\", \"HUN\", \"MDA\", \"NOR\", \"SVK\", \"MNE\", \"ITA\", \"NLD\", \"SRB\", \"IRL\", \"SVN\", \"ROU\", \"RUS\"], \"marker\": {\"color\": \"royalblue\", \"size\": [94, 82, 126, 3, 2, 23, 35, 14, 3, 16, 26, 2, 5, 63, 2, 4, 22, 12, 3, 5, 26, 2, 17, 5, 14, 68, 69, 16, 5, 5, 16, 140], \"sizemode\": \"area\"}, \"name\": \"Europe\", \"text\": [\"Germany\", \"France\", \"UK\", \"Greece\", \"Bulgaria\", \"Belarus\", \"Croatia\", \"Czech Republic\", \"Belgium\", \"Denmark\", \"Ukraine\", \"Estonia\", \"Finland\", \"Spain\", \"Portugal\", \"Switzerland\", \"Sweden\", \"Poland\", \"Latvia\", \"Lithuania\", \"Hungary\", \"Moldova\", \"Norway\", \"Slovakia\", \"Montenegro\", \"Italy\", \"Netherlands\", \"Serbia\", \"Ireland\", \"Slovenia\", \"Romania\", \"Russia\"], \"type\": \"scattergeo\"}, {\"locationmode\": \"ISO-3\", \"locations\": [\"GTM\", \"TTO\", \"ARG\", \"CAN\", \"BRA\", \"COL\", \"USA\", \"CUB\", \"DOM\", \"BHS\", \"VEN\", \"GRD\", \"PRI\", \"MEX\", \"JAM\"], \"marker\": {\"color\": \"crimson\", \"size\": [1, 10, 19, 55, 59, 8, 248, 14, 2, 4, 1, 1, 2, 24, 25], \"sizemode\": \"area\"}, \"name\": \"Americas\", \"text\": [\"Guatemala\", \"Trinidad\", \"Argentina\", \"Canada\", \"Brazil\", \"Colombia\", \"USA\", \"Cuba\", \"Dominican Republic\", \"Bahamas\", \"Venezuela\", \"Grenada\", \"Puerto Rico\", \"Mexico\", \"Jamaica\"], \"type\": \"scattergeo\"}, {\"locationmode\": \"ISO-3\", \"locations\": [\"AUS\", \"NZL\"], \"marker\": {\"color\": \"lightseagreen\", \"size\": [114, 27], \"sizemode\": \"area\"}, \"name\": \"Oceania\", \"text\": [\"Australia\", \"New Zealand\"], \"type\": \"scattergeo\"}, {\"locationmode\": \"ISO-3\", \"locations\": [\"ARM\", \"CHN\", \"AFG\", \"GEO\", \"TUR\", \"BHR\", \"CHN\", \"CYP\", \"UZB\", \"AZE\", \"JPN\", \"PRK\", \"KAZ\", \"KOR\", \"SAU\", \"KWT\", \"MYS\", \"MNG\", \"IND\", \"QAT\", \"THA\", \"TJK\", \"IDN\"], \"marker\": {\"color\": \"orange\", \"size\": [3, 1, 1, 7, 5, 1, 125, 1, 3, 10, 84, 6, 13, 61, 4, 1, 2, 5, 6, 2, 3, 1, 2], \"sizemode\": \"area\"}, \"name\": \"Asia\", \"text\": [\"Armenia\", \"China\", \"Afghanistan\", \"Georgia\", \"Turkey\", \"Bahrain\", \"China\", \"Cyprus\", \"Uzbekistan\", \"Azerbaijan\", \"Japan\", \"North Korea\", \"Kazakhstan\", \"South Korea\", \"Saudi Arabia\", \"Kuwait\", \"Malaysia\", \"Mongolia\", \"India\", \"Qatar\", \"Thailand\", \"Tajikistan\", \"Indonesia\"], \"type\": \"scattergeo\"}, {\"locationmode\": \"ISO-3\", \"locations\": [\"TUN\", \"GAB\", \"DZA\", \"BWA\", \"EGY\", \"UGA\", \"ETH\", \"KEN\", \"MAR\", \"ZAF\"], \"marker\": {\"color\": \"lightgrey\", \"size\": [3, 1, 1, 1, 2, 1, 7, 11, 1, 9], \"sizemode\": \"area\"}, \"name\": \"Africa\", \"text\": [\"Tunisia\", \"Gabon\", \"Algeria\", \"Botswana\", \"Egypt\", \"Uganda\", \"Ethiopia\", \"Kenya\", \"Morocco\", \"South Africa\"], \"type\": \"scattergeo\"}], \"name\": \"2012\"}, {\"data\": [{\"locationmode\": \"ISO-3\", \"locations\": [\"NOR\", \"CHE\", \"NLD\", \"BLR\", \"SVN\", \"LVA\", \"DEU\", \"UKR\", \"SVK\", \"HRV\", \"CZE\", \"ITA\", \"RUS\", \"AUT\", \"FRA\", \"POL\", \"GBR\", \"SWE\", \"FIN\"], \"marker\": {\"color\": \"royalblue\", \"size\": [36, 30, 29, 6, 8, 11, 36, 5, 1, 1, 11, 14, 68, 27, 18, 11, 10, 51, 33], \"sizemode\": \"area\"}, \"name\": \"Europe\", \"text\": [\"Norway\", \"Switzerland\", \"Netherlands\", \"Belarus\", \"Slovenia\", \"Latvia\", \"Germany\", \"Ukraine\", \"Slovakia\", \"Croatia\", \"Czech Republic\", \"Italy\", \"Russia\", \"Austria\", \"France\", \"Poland\", \"UK\", \"Sweden\", \"Finland\"], \"type\": \"scattergeo\"}, {\"locationmode\": \"ISO-3\", \"locations\": [\"CAN\", \"USA\"], \"marker\": {\"color\": \"crimson\", \"size\": [86, 64], \"sizemode\": \"area\"}, \"name\": \"Americas\", \"text\": [\"Canada\", \"USA\"], \"type\": \"scattergeo\"}, {\"locationmode\": \"ISO-3\", \"locations\": [\"AUS\"], \"marker\": {\"color\": \"lightseagreen\", \"size\": [3], \"sizemode\": \"area\"}, \"name\": \"Oceania\", \"text\": [\"Australia\"], \"type\": \"scattergeo\"}, {\"locationmode\": \"ISO-3\", \"locations\": [\"KOR\", \"CHN\", \"JPN\", \"KAZ\"], \"marker\": {\"color\": \"orange\", \"size\": [14, 12, 11, 1], \"sizemode\": \"area\"}, \"name\": \"Asia\", \"text\": [\"South Korea\", \"China\", \"Japan\", \"Kazakhstan\"], \"type\": \"scattergeo\"}], \"name\": \"2014\"}, {\"data\": [{\"locationmode\": \"ISO-3\", \"locations\": [\"BEL\", \"AUT\", \"NLD\", \"BLR\", \"POL\", \"SRB\", \"ROU\", \"PRT\", \"NOR\", \"SVN\", \"HUN\", \"FIN\", \"ITA\", \"FRA\", \"IRL\", \"GBR\", \"DEU\", \"GRC\", \"RUS\", \"BGR\", \"CHE\", \"SVK\", \"HRV\", \"LTU\", \"CZE\", \"DNK\", \"UKR\", \"ESP\", \"SWE\", \"EST\"], \"marker\": {\"color\": \"royalblue\", \"size\": [21, 2, 47, 12, 16, 54, 16, 1, 19, 4, 22, 1, 72, 96, 3, 145, 159, 7, 115, 7, 11, 8, 24, 7, 15, 41, 15, 45, 28, 4], \"sizemode\": \"area\"}, \"name\": \"Europe\", \"text\": [\"Belgium\", \"Austria\", \"Netherlands\", \"Belarus\", \"Poland\", \"Serbia\", \"Romania\", \"Portugal\", \"Norway\", \"Slovenia\", \"Hungary\", \"Finland\", \"Italy\", \"France\", \"Ireland\", \"UK\", \"Germany\", \"Greece\", \"Russia\", \"Bulgaria\", \"Switzerland\", \"Slovakia\", \"Croatia\", \"Lithuania\", \"Czech Republic\", \"Denmark\", \"Ukraine\", \"Spain\", \"Sweden\", \"Estonia\"], \"type\": \"scattergeo\"}, {\"locationmode\": \"ISO-3\", \"locations\": [\"VEN\", \"PRI\", \"BRA\", \"USA\", \"ARG\", \"BHS\", \"CAN\", \"JAM\", \"TTO\", \"GRD\", \"MEX\", \"COL\", \"CUB\", \"DOM\"], \"marker\": {\"color\": \"crimson\", \"size\": [3, 1, 50, 264, 22, 6, 69, 30, 1, 1, 5, 8, 11, 1], \"sizemode\": \"area\"}, \"name\": \"Americas\", \"text\": [\"Venezuela\", \"Puerto Rico\", \"Brazil\", \"USA\", \"Argentina\", \"Bahamas\", \"Canada\", \"Jamaica\", \"Trinidad\", \"Grenada\", \"Mexico\", \"Colombia\", \"Cuba\", \"Dominican Republic\"], \"type\": \"scattergeo\"}, {\"locationmode\": \"ISO-3\", \"locations\": [\"AUS\", \"NZL\", \"FJI\"], \"marker\": {\"color\": \"lightseagreen\", \"size\": [82, 36, 13], \"sizemode\": \"area\"}, \"name\": \"Oceania\", \"text\": [\"Australia\", \"New Zealand\", \"Fiji\"], \"type\": \"scattergeo\"}, {\"locationmode\": \"ISO-3\", \"locations\": [\"BHR\", \"QAT\", \"UZB\", \"ARM\", \"PHL\", \"AZE\", \"PRK\", \"TUR\", \"JOR\", \"ISR\", \"GEO\", \"IND\", \"THA\", \"TJK\", \"IDN\", \"JPN\", \"ARE\", \"MNG\", \"CHN\", \"KOR\", \"KAZ\", \"MYS\"], \"marker\": {\"color\": \"orange\", \"size\": [2, 1, 13, 4, 1, 18, 7, 8, 1, 2, 7, 2, 6, 1, 4, 64, 1, 2, 113, 26, 18, 8], \"sizemode\": \"area\"}, \"name\": \"Asia\", \"text\": [\"Bahrain\", \"Qatar\", \"Uzbekistan\", \"Armenia\", \"Philippines\", \"Azerbaijan\", \"North Korea\", \"Turkey\", \"Jordan\", \"Israel\", \"Georgia\", \"India\", \"Thailand\", \"Tajikistan\", \"Indonesia\", \"Japan\", \"United Arab Emirates\", \"Mongolia\", \"China\", \"South Korea\", \"Kazakhstan\", \"Malaysia\"], \"type\": \"scattergeo\"}, {\"locationmode\": \"ISO-3\", \"locations\": [\"ZAF\", \"NER\", \"NGA\", \"DZA\", \"BDI\", \"TUN\", \"ETH\", \"CIV\", \"MAR\", \"EGY\", \"KEN\"], \"marker\": {\"color\": \"lightgrey\", \"size\": [23, 1, 18, 2, 1, 3, 8, 2, 1, 3, 13], \"sizemode\": \"area\"}, \"name\": \"Africa\", \"text\": [\"South Africa\", \"Niger\", \"Nigeria\", \"Algeria\", \"Burundi\", \"Tunisia\", \"Ethiopia\", \"Ivory Coast\", \"Morocco\", \"Egypt\", \"Kenya\"], \"type\": \"scattergeo\"}], \"name\": \"2016\"}]);\n",
       "                        }).then(function(){\n",
       "                            \n",
       "var gd = document.getElementById('61159ea1-0ca8-47aa-a991-9beb11407748');\n",
       "var x = new MutationObserver(function (mutations, observer) {{\n",
       "        var display = window.getComputedStyle(gd).display;\n",
       "        if (!display || display === 'none') {{\n",
       "            console.log([gd, 'removed!']);\n",
       "            Plotly.purge(gd);\n",
       "            observer.disconnect();\n",
       "        }}\n",
       "}});\n",
       "\n",
       "// Listen for the removal of the full notebook cells\n",
       "var notebookContainer = gd.closest('#notebook-container');\n",
       "if (notebookContainer) {{\n",
       "    x.observe(notebookContainer, {childList: true});\n",
       "}}\n",
       "\n",
       "// Listen for the clearing of the current output cell\n",
       "var outputEl = gd.closest('.output');\n",
       "if (outputEl) {{\n",
       "    x.observe(outputEl, {childList: true});\n",
       "}}\n",
       "\n",
       "                        })\n",
       "                };\n",
       "                });\n",
       "            </script>\n",
       "        </div>"
      ]
     },
     "metadata": {},
     "output_type": "display_data"
    }
   ],
   "source": [
    "fig = go.Figure(\n",
    "    data=fig_dict['data'],\n",
    "    frames=fig_dict['frames'],\n",
    "    layout= go.Layout(\n",
    "        title_text = 'Olympic Medals over the Years<br>(Click legend to toggle traces)',\n",
    "        showlegend = True,\n",
    "        \n",
    "        geo = dict(\n",
    "            landcolor = 'rgb(217, 217, 217)',\n",
    "        ),\n",
    "        \n",
    "        sliders=[sliders_dict],\n",
    "        \n",
    "        updatemenus=[\n",
    "            {\n",
    "                \"buttons\": [\n",
    "                    {\n",
    "                        \"args\": [\n",
    "                            None, \n",
    "                            { \n",
    "                                \"frame\": { \"duration\": 500, \"redraw\": True },\n",
    "                                \"fromcurrent\": True, \n",
    "                                \"transition\": {\"duration\": 300, \"easing\": \"quadratic-in-out\"}\n",
    "                            }\n",
    "                        ],\n",
    "                        \"label\": \"Play\",\n",
    "                        \"method\": \"animate\"\n",
    "                    },\n",
    "                    {\n",
    "                        \"args\": [\n",
    "                            [ None ], \n",
    "                            {\n",
    "                                \"frame\": {\"duration\": 0, \"redraw\": True},\n",
    "                                \"mode\": \"immediate\",\n",
    "                                \"transition\": {\"duration\": 0}\n",
    "                            }\n",
    "                        ],\n",
    "                    \"label\": \"Pause\",\n",
    "                    \"method\": \"animate\"\n",
    "                }\n",
    "            ],\n",
    "            \"direction\": \"left\",\n",
    "            \"pad\": {\"r\": 10, \"t\": 87},\n",
    "            \"showactive\": False,\n",
    "            \"type\": \"buttons\",\n",
    "            \"x\": 0.1,\n",
    "            \"xanchor\": \"right\",\n",
    "            \"y\": 0,\n",
    "            \"yanchor\": \"top\"\n",
    "        }\n",
    "    ])\n",
    ")\n",
    "\n",
    "fig.show()"
   ]
  },
  {
   "cell_type": "code",
   "execution_count": null,
   "metadata": {},
   "outputs": [],
   "source": []
  }
 ],
 "metadata": {
  "kernelspec": {
   "display_name": "Python 3",
   "language": "python",
   "name": "python3"
  },
  "language_info": {
   "codemirror_mode": {
    "name": "ipython",
    "version": 3
   },
   "file_extension": ".py",
   "mimetype": "text/x-python",
   "name": "python",
   "nbconvert_exporter": "python",
   "pygments_lexer": "ipython3",
   "version": "3.7.4"
  }
 },
 "nbformat": 4,
 "nbformat_minor": 2
}
